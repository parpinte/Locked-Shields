{
 "cells": [
  {
   "cell_type": "code",
   "id": "initial_id",
   "metadata": {
    "collapsed": true,
    "ExecuteTime": {
     "end_time": "2025-01-09T13:11:09.194403Z",
     "start_time": "2025-01-09T13:11:09.189419Z"
    }
   },
   "source": "# lets start by uploading the different librairies",
   "outputs": [],
   "execution_count": 1
  },
  {
   "metadata": {},
   "cell_type": "markdown",
   "source": "#",
   "id": "1ae8e37d70acef4c"
  },
  {
   "metadata": {},
   "cell_type": "markdown",
   "source": "",
   "id": "851350055d05bd65"
  },
  {
   "metadata": {
    "ExecuteTime": {
     "end_time": "2025-01-10T09:52:33.085414Z",
     "start_time": "2025-01-10T09:52:32.358617Z"
    }
   },
   "cell_type": "code",
   "source": [
    "import pandas as pd\n",
    "import numpy as np\n",
    "from numpy.lib.tests.test__datasource import malicious_files\n",
    "from sklearn.model_selection import train_test_split\n"
   ],
   "id": "33e5b45f1af878fe",
   "outputs": [],
   "execution_count": 1
  },
  {
   "metadata": {
    "ExecuteTime": {
     "end_time": "2025-01-09T13:16:19.533927Z",
     "start_time": "2025-01-09T13:12:23.489103Z"
    }
   },
   "cell_type": "code",
   "source": [
    "\n",
    "data = pd.read_csv('/mnt/LockShieldStorage/project/ls23pr_v1.csv', low_memory=False)"
   ],
   "id": "260d9cb35ad4cebe",
   "outputs": [],
   "execution_count": 5
  },
  {
   "metadata": {
    "ExecuteTime": {
     "end_time": "2025-01-09T13:21:22.658699Z",
     "start_time": "2025-01-09T13:21:22.651397Z"
    }
   },
   "cell_type": "code",
   "source": [
    "data.columns.to_list()\n",
    "# data.columns = data.columns.str.strip()"
   ],
   "id": "af9360912f44f008",
   "outputs": [
    {
     "data": {
      "text/plain": [
       "['Flow ID',\n",
       " 'SrcIP',\n",
       " 'DstIP',\n",
       " 'SrcPort',\n",
       " 'DstPort',\n",
       " 'Protocol',\n",
       " 'mTimestampStart',\n",
       " 'mTimestampLast',\n",
       " 'Flow Duration',\n",
       " 'Flow Bytes/s',\n",
       " 'Flow Packets/s',\n",
       " 'Tot Fwd Pkts',\n",
       " 'Tot Bwd Pkts',\n",
       " 'Total Length of Fwd Packet',\n",
       " 'Total Length of Bwd Packet',\n",
       " 'Fwd Packet Length Min',\n",
       " 'Fwd Packet Length Max',\n",
       " 'Fwd Packet Length Mean',\n",
       " 'Fwd Packet Length Std',\n",
       " 'Bwd Packet Length Min',\n",
       " 'Bwd Packet Length Max',\n",
       " 'Bwd Packet Length Mean',\n",
       " 'Bwd Packet Length Std',\n",
       " 'Flow IAT Mean',\n",
       " 'Flow IAT Min',\n",
       " 'Flow IAT Max',\n",
       " 'Flow IAT Stddev',\n",
       " 'Fwd IAT Min',\n",
       " 'Fwd IAT Max',\n",
       " 'Fwd IAT Mean',\n",
       " 'Fwd IAT Std',\n",
       " 'Fwd IAT Tot',\n",
       " 'Bwd IAT Min',\n",
       " 'Bwd IAT Max',\n",
       " 'Bwd IAT Mean',\n",
       " 'Bwd IAT Std',\n",
       " 'Bwd IAT Tot',\n",
       " 'Fwd PSH flags',\n",
       " 'Bwd PSH flags',\n",
       " 'Fwd URG flags',\n",
       " 'Bwd URG flags',\n",
       " 'Fwd Header Length',\n",
       " 'Bwd Header Length',\n",
       " 'Fwd Packets/s',\n",
       " 'Bwd Packets/s',\n",
       " 'Packet Length Min',\n",
       " 'Packet Length Max',\n",
       " 'Packet Length Mean',\n",
       " 'Packet Length Std',\n",
       " 'Packet Length Variance',\n",
       " 'FIN Flag Cnt',\n",
       " 'SYN Flag Cnt',\n",
       " 'RST Flag Cnt',\n",
       " 'PSH Flag Cnt',\n",
       " 'ACK Flag Cnt',\n",
       " 'URG Flag Cnt',\n",
       " 'CWR Flag Cnt',\n",
       " 'ECE Flag Cnt',\n",
       " 'Down/Up Ratio',\n",
       " 'Average Packet Size',\n",
       " 'Fwd Segment Size Avg',\n",
       " 'Bwd Segment Size Avg',\n",
       " 'Fwd Bytes/Bulk Avg',\n",
       " 'Fwd Packet/Bulk Avg',\n",
       " 'Fwd Bulk Rate Avg',\n",
       " 'Bwd Bytes/Bulk Avg',\n",
       " 'Bwd Packet/Bulk Avg',\n",
       " 'Bwd Bulk Rate Avg',\n",
       " 'Subflow Fwd Packets',\n",
       " 'Subflow Fwd Bytes',\n",
       " 'Subflow Bwd Packets',\n",
       " 'Subflow Bwd Bytes',\n",
       " 'FWD Init Win Bytes',\n",
       " 'Bwd Init Win Bytes',\n",
       " 'Fwd Act Data Pkts',\n",
       " 'Fwd Seg Size Min',\n",
       " 'Active Min',\n",
       " 'Active Mean',\n",
       " 'Active Max',\n",
       " 'Active Std',\n",
       " 'Idle Min',\n",
       " 'Idle Mean',\n",
       " 'Idle Max',\n",
       " 'Idle Std',\n",
       " 'SigID revision',\n",
       " 'Category',\n",
       " 'Severity',\n",
       " 'Anomaly_event',\n",
       " 'L3/L4 Protocol',\n",
       " 'Int/Ext Dst IP',\n",
       " 'Conn_state',\n",
       " 'Service',\n",
       " 'Label_src',\n",
       " 'Label_dst',\n",
       " 'Label',\n",
       " 'External_src',\n",
       " 'External_dst',\n",
       " 'Segment_src',\n",
       " 'Segment_dst',\n",
       " 'Expoid_src',\n",
       " 'Expoid_dst']"
      ]
     },
     "execution_count": 29,
     "metadata": {},
     "output_type": "execute_result"
    }
   ],
   "execution_count": 29
  },
  {
   "metadata": {
    "ExecuteTime": {
     "end_time": "2025-01-09T13:21:22.806111Z",
     "start_time": "2025-01-09T13:21:22.802181Z"
    }
   },
   "cell_type": "code",
   "source": [
    "suricata  =  ['SigID revision', 'Category','Severity', 'Anomaly_event' ]\n",
    "print(suricata)"
   ],
   "id": "238d6f5c4562893a",
   "outputs": [
    {
     "name": "stdout",
     "output_type": "stream",
     "text": [
      "['SigID revision', 'Category', 'Severity', 'Anomaly_event']\n"
     ]
    }
   ],
   "execution_count": 30
  },
  {
   "metadata": {
    "ExecuteTime": {
     "end_time": "2025-01-09T13:21:23.539684Z",
     "start_time": "2025-01-09T13:21:22.969479Z"
    }
   },
   "cell_type": "code",
   "source": "suricata_data = data[suricata]",
   "id": "b9e1fc469ce5ba4",
   "outputs": [],
   "execution_count": 31
  },
  {
   "metadata": {
    "jupyter": {
     "is_executing": true
    }
   },
   "cell_type": "code",
   "source": "data_flow = data.drop(columns=['SigID revision', 'Category','Severity', 'Anomaly_event' ])\n",
   "id": "43b04350780948d9",
   "outputs": [],
   "execution_count": null
  },
  {
   "metadata": {
    "ExecuteTime": {
     "end_time": "2025-01-09T13:26:35.203166Z",
     "start_time": "2025-01-09T13:16:33.796709Z"
    }
   },
   "cell_type": "code",
   "source": [
    "columns_specials = ['Label_src', 'Label_dst']\n",
    "DataFlow = data_flow.drop(columns=columns_specials)"
   ],
   "id": "7c61b4def0d845b9",
   "outputs": [],
   "execution_count": 12
  },
  {
   "metadata": {
    "ExecuteTime": {
     "end_time": "2025-01-09T13:26:35.207641Z",
     "start_time": "2025-01-09T13:16:36.947810Z"
    }
   },
   "cell_type": "code",
   "source": "print(DataFlow[\"Label\"].value_counts())",
   "id": "996c8b54487baeda",
   "outputs": [
    {
     "name": "stdout",
     "output_type": "stream",
     "text": [
      "Label\n",
      "0    14708912\n",
      "1     1644599\n",
      "Name: count, dtype: int64\n"
     ]
    }
   ],
   "execution_count": 13
  },
  {
   "metadata": {
    "ExecuteTime": {
     "end_time": "2025-01-09T13:26:35.209430Z",
     "start_time": "2025-01-09T13:16:46.478049Z"
    }
   },
   "cell_type": "code",
   "source": [
    "# I would like now to check the distribution of the data for the Label = 00\n",
    "# let's separate the 2 datas\n",
    "\n",
    "begnin = DataFlow[DataFlow[\"Label\"] == 0]\n",
    "malictious = DataFlow[DataFlow[\"Label\"] == 1]\n",
    "\n",
    "print(\"Begnin data size : \", begnin.shape)\n",
    "print(\"malicous Data size :\", malictious.shape)\n",
    "\n",
    "# lets keep enough datas for the two types of datas\n",
    "malicious_size = malictious.shape[0]\n",
    "begnin_data  = begnin.sample(n=malicious_size, random_state=142)\n",
    "\n",
    "print(\"Begnin data size : \", begnin_data.shape)\n",
    "print(\"malicous Data size :\", malictious.shape)\n",
    "\n",
    "\n",
    "\n"
   ],
   "id": "1e0a5a4f224c287b",
   "outputs": [
    {
     "name": "stdout",
     "output_type": "stream",
     "text": [
      "Begnin data size :  (14708912, 95)\n",
      "malicous Data size : (1644599, 95)\n",
      "Begnin data size :  (1644599, 95)\n",
      "malicous Data size : (1644599, 95)\n"
     ]
    }
   ],
   "execution_count": 14
  },
  {
   "metadata": {
    "ExecuteTime": {
     "end_time": "2025-01-09T13:26:35.211355Z",
     "start_time": "2025-01-09T13:16:54.440067Z"
    }
   },
   "cell_type": "code",
   "source": [
    "# lets make the two datasets together and shuffle\n",
    "\n",
    "balanced_data = pd.concat([begnin_data, malictious])\n",
    "print(\"size of balanced data : \", balanced_data.shape)\n",
    "\n",
    "balanced_data = balanced_data.sample(frac=1, random_state=42).reset_index(drop=True)\n",
    "\n"
   ],
   "id": "a7ea44680481f647",
   "outputs": [
    {
     "name": "stdout",
     "output_type": "stream",
     "text": [
      "size of balanced data :  (3289198, 95)\n"
     ]
    }
   ],
   "execution_count": 15
  },
  {
   "metadata": {
    "ExecuteTime": {
     "end_time": "2025-01-09T13:26:35.216580Z",
     "start_time": "2025-01-09T13:17:56.880612Z"
    }
   },
   "cell_type": "code",
   "source": "balanced_data.to_csv(\"balanced_data.csv\", index=False)",
   "id": "94fa2776d5cec5d7",
   "outputs": [],
   "execution_count": 16
  },
  {
   "metadata": {
    "ExecuteTime": {
     "end_time": "2025-01-10T09:54:26.625108Z",
     "start_time": "2025-01-10T09:52:42.797834Z"
    }
   },
   "cell_type": "code",
   "source": [
    "# lets load the datas\n",
    "balanced_data = pd.read_csv(\"balanced_data.csv\", low_memory=False)"
   ],
   "id": "77ff8ea2267d691d",
   "outputs": [],
   "execution_count": 2
  },
  {
   "metadata": {
    "ExecuteTime": {
     "end_time": "2025-01-10T09:54:26.852799Z",
     "start_time": "2025-01-10T09:43:53.951350Z"
    }
   },
   "cell_type": "code",
   "source": "balanced_data.head()",
   "id": "7381bf38412dd77e",
   "outputs": [
    {
     "data": {
      "text/plain": [
       "                                             Flow ID  \\\n",
       "0                  10.5.8.2-100.101.1.193-64286-80-6   \n",
       "1                  10.5.8.4-100.101.1.193-53267-80-6   \n",
       "2  2a07:1182:0005:1001:0000:0000:0000:0037-2a00:1...   \n",
       "3                 10.5.12.12-57.70.176.80-51085-80-6   \n",
       "4              100.96.5.31-100.96.5.32-48249-8472-17   \n",
       "\n",
       "                                     SrcIP  \\\n",
       "0                                 10.5.8.2   \n",
       "1                                 10.5.8.4   \n",
       "2  2a07:1182:0005:1001:0000:0000:0000:0037   \n",
       "3                               10.5.12.12   \n",
       "4                              100.96.5.31   \n",
       "\n",
       "                                     DstIP  SrcPort  DstPort  Protocol  \\\n",
       "0                            100.101.1.193    64286       80         6   \n",
       "1                            100.101.1.193    53267       80         6   \n",
       "2  2a00:16e0:0100:0000:c16d:8ed9:e86a:1111    61382      443         6   \n",
       "3                             57.70.176.80    51085       80         6   \n",
       "4                              100.96.5.32    48249     8472        17   \n",
       "\n",
       "    mTimestampStart    mTimestampLast  Flow Duration  Flow Bytes/s  ...  \\\n",
       "0  1678369949284619  1678369949295858          11239  2.467301e+05  ...   \n",
       "1  1678367661716757  1678367661723688           6931  3.432405e+05  ...   \n",
       "2  1678366467408717  1678366467424855          16138  3.139794e+05  ...   \n",
       "3  1678358112170128  1678358112190397          20269  1.502294e+05  ...   \n",
       "4  1678277529708947  1678277529708956              9  2.066667e+07  ...   \n",
       "\n",
       "   Int/Ext Dst IP  Conn_state  Service  Label  External_src  External_dst  \\\n",
       "0               1          SF      NaN      1             0             1   \n",
       "1               1          SF     Http      1             0             1   \n",
       "2               1         OTH      TLS      1             0             1   \n",
       "3               1          SF      NaN      1             0             1   \n",
       "4               0         NaN      NaN      0             0             0   \n",
       "\n",
       "   Segment_src  Segment_dst                        Expoid_src  \\\n",
       "0      baf_int          NaN        dc1.int.baf.05.berylia.org   \n",
       "1      baf_int          NaN      files.int.baf.05.berylia.org   \n",
       "2      baf_int          NaN  ws2-baf02.int.baf.05.berylia.org   \n",
       "3       baf_bg          NaN   ws1-bg02.int.baf.05.berylia.org   \n",
       "4      beg_dmz      beg_dmz   k8s-worker01.beg.05.berylia.org   \n",
       "\n",
       "                        Expoid_dst  \n",
       "0                              NaN  \n",
       "1                              NaN  \n",
       "2                              NaN  \n",
       "3                              NaN  \n",
       "4  k8s-worker02.beg.05.berylia.org  \n",
       "\n",
       "[5 rows x 95 columns]"
      ],
      "text/html": [
       "<div>\n",
       "<style scoped>\n",
       "    .dataframe tbody tr th:only-of-type {\n",
       "        vertical-align: middle;\n",
       "    }\n",
       "\n",
       "    .dataframe tbody tr th {\n",
       "        vertical-align: top;\n",
       "    }\n",
       "\n",
       "    .dataframe thead th {\n",
       "        text-align: right;\n",
       "    }\n",
       "</style>\n",
       "<table border=\"1\" class=\"dataframe\">\n",
       "  <thead>\n",
       "    <tr style=\"text-align: right;\">\n",
       "      <th></th>\n",
       "      <th>Flow ID</th>\n",
       "      <th>SrcIP</th>\n",
       "      <th>DstIP</th>\n",
       "      <th>SrcPort</th>\n",
       "      <th>DstPort</th>\n",
       "      <th>Protocol</th>\n",
       "      <th>mTimestampStart</th>\n",
       "      <th>mTimestampLast</th>\n",
       "      <th>Flow Duration</th>\n",
       "      <th>Flow Bytes/s</th>\n",
       "      <th>...</th>\n",
       "      <th>Int/Ext Dst IP</th>\n",
       "      <th>Conn_state</th>\n",
       "      <th>Service</th>\n",
       "      <th>Label</th>\n",
       "      <th>External_src</th>\n",
       "      <th>External_dst</th>\n",
       "      <th>Segment_src</th>\n",
       "      <th>Segment_dst</th>\n",
       "      <th>Expoid_src</th>\n",
       "      <th>Expoid_dst</th>\n",
       "    </tr>\n",
       "  </thead>\n",
       "  <tbody>\n",
       "    <tr>\n",
       "      <th>0</th>\n",
       "      <td>10.5.8.2-100.101.1.193-64286-80-6</td>\n",
       "      <td>10.5.8.2</td>\n",
       "      <td>100.101.1.193</td>\n",
       "      <td>64286</td>\n",
       "      <td>80</td>\n",
       "      <td>6</td>\n",
       "      <td>1678369949284619</td>\n",
       "      <td>1678369949295858</td>\n",
       "      <td>11239</td>\n",
       "      <td>2.467301e+05</td>\n",
       "      <td>...</td>\n",
       "      <td>1</td>\n",
       "      <td>SF</td>\n",
       "      <td>NaN</td>\n",
       "      <td>1</td>\n",
       "      <td>0</td>\n",
       "      <td>1</td>\n",
       "      <td>baf_int</td>\n",
       "      <td>NaN</td>\n",
       "      <td>dc1.int.baf.05.berylia.org</td>\n",
       "      <td>NaN</td>\n",
       "    </tr>\n",
       "    <tr>\n",
       "      <th>1</th>\n",
       "      <td>10.5.8.4-100.101.1.193-53267-80-6</td>\n",
       "      <td>10.5.8.4</td>\n",
       "      <td>100.101.1.193</td>\n",
       "      <td>53267</td>\n",
       "      <td>80</td>\n",
       "      <td>6</td>\n",
       "      <td>1678367661716757</td>\n",
       "      <td>1678367661723688</td>\n",
       "      <td>6931</td>\n",
       "      <td>3.432405e+05</td>\n",
       "      <td>...</td>\n",
       "      <td>1</td>\n",
       "      <td>SF</td>\n",
       "      <td>Http</td>\n",
       "      <td>1</td>\n",
       "      <td>0</td>\n",
       "      <td>1</td>\n",
       "      <td>baf_int</td>\n",
       "      <td>NaN</td>\n",
       "      <td>files.int.baf.05.berylia.org</td>\n",
       "      <td>NaN</td>\n",
       "    </tr>\n",
       "    <tr>\n",
       "      <th>2</th>\n",
       "      <td>2a07:1182:0005:1001:0000:0000:0000:0037-2a00:1...</td>\n",
       "      <td>2a07:1182:0005:1001:0000:0000:0000:0037</td>\n",
       "      <td>2a00:16e0:0100:0000:c16d:8ed9:e86a:1111</td>\n",
       "      <td>61382</td>\n",
       "      <td>443</td>\n",
       "      <td>6</td>\n",
       "      <td>1678366467408717</td>\n",
       "      <td>1678366467424855</td>\n",
       "      <td>16138</td>\n",
       "      <td>3.139794e+05</td>\n",
       "      <td>...</td>\n",
       "      <td>1</td>\n",
       "      <td>OTH</td>\n",
       "      <td>TLS</td>\n",
       "      <td>1</td>\n",
       "      <td>0</td>\n",
       "      <td>1</td>\n",
       "      <td>baf_int</td>\n",
       "      <td>NaN</td>\n",
       "      <td>ws2-baf02.int.baf.05.berylia.org</td>\n",
       "      <td>NaN</td>\n",
       "    </tr>\n",
       "    <tr>\n",
       "      <th>3</th>\n",
       "      <td>10.5.12.12-57.70.176.80-51085-80-6</td>\n",
       "      <td>10.5.12.12</td>\n",
       "      <td>57.70.176.80</td>\n",
       "      <td>51085</td>\n",
       "      <td>80</td>\n",
       "      <td>6</td>\n",
       "      <td>1678358112170128</td>\n",
       "      <td>1678358112190397</td>\n",
       "      <td>20269</td>\n",
       "      <td>1.502294e+05</td>\n",
       "      <td>...</td>\n",
       "      <td>1</td>\n",
       "      <td>SF</td>\n",
       "      <td>NaN</td>\n",
       "      <td>1</td>\n",
       "      <td>0</td>\n",
       "      <td>1</td>\n",
       "      <td>baf_bg</td>\n",
       "      <td>NaN</td>\n",
       "      <td>ws1-bg02.int.baf.05.berylia.org</td>\n",
       "      <td>NaN</td>\n",
       "    </tr>\n",
       "    <tr>\n",
       "      <th>4</th>\n",
       "      <td>100.96.5.31-100.96.5.32-48249-8472-17</td>\n",
       "      <td>100.96.5.31</td>\n",
       "      <td>100.96.5.32</td>\n",
       "      <td>48249</td>\n",
       "      <td>8472</td>\n",
       "      <td>17</td>\n",
       "      <td>1678277529708947</td>\n",
       "      <td>1678277529708956</td>\n",
       "      <td>9</td>\n",
       "      <td>2.066667e+07</td>\n",
       "      <td>...</td>\n",
       "      <td>0</td>\n",
       "      <td>NaN</td>\n",
       "      <td>NaN</td>\n",
       "      <td>0</td>\n",
       "      <td>0</td>\n",
       "      <td>0</td>\n",
       "      <td>beg_dmz</td>\n",
       "      <td>beg_dmz</td>\n",
       "      <td>k8s-worker01.beg.05.berylia.org</td>\n",
       "      <td>k8s-worker02.beg.05.berylia.org</td>\n",
       "    </tr>\n",
       "  </tbody>\n",
       "</table>\n",
       "<p>5 rows × 95 columns</p>\n",
       "</div>"
      ]
     },
     "execution_count": 80,
     "metadata": {},
     "output_type": "execute_result"
    }
   ],
   "execution_count": 80
  },
  {
   "metadata": {
    "ExecuteTime": {
     "end_time": "2025-01-10T09:55:36.909371Z",
     "start_time": "2025-01-10T09:55:36.253026Z"
    }
   },
   "cell_type": "code",
   "source": [
    "# let's separate the two types of datas X and y\n",
    "data = balanced_data.drop(columns=['Flow ID', 'SrcIP', 'DstIP'] )\n",
    "#y = balanced_data['Label']\n",
    "\n",
    "print(data.shape)\n"
   ],
   "id": "9e9366f87ee3ee57",
   "outputs": [
    {
     "name": "stdout",
     "output_type": "stream",
     "text": [
      "(3289198, 92)\n"
     ]
    }
   ],
   "execution_count": 4
  },
  {
   "metadata": {
    "ExecuteTime": {
     "end_time": "2025-01-10T09:55:46.424777Z",
     "start_time": "2025-01-10T09:55:46.334281Z"
    }
   },
   "cell_type": "code",
   "source": [
    "# let's see where are the caterigolical datas\n",
    "\n",
    "# Check the data types in your features\n",
    "categorical_columns = data.select_dtypes(include=[\"object\", \"category\"]).columns\n",
    "print(\"Categorical columns:\", categorical_columns.tolist())"
   ],
   "id": "c4d0470ece610629",
   "outputs": [
    {
     "name": "stdout",
     "output_type": "stream",
     "text": [
      "Categorical columns: ['Conn_state', 'Service', 'Segment_src', 'Segment_dst', 'Expoid_src', 'Expoid_dst']\n"
     ]
    }
   ],
   "execution_count": 6
  },
  {
   "metadata": {
    "ExecuteTime": {
     "end_time": "2025-01-10T09:56:18.349176Z",
     "start_time": "2025-01-10T09:56:17.908042Z"
    }
   },
   "cell_type": "code",
   "source": [
    "\n",
    "# Check for missing values\n",
    "print(\"Missing values per column:\")\n",
    "print(data.isnull().sum())\n",
    "\n",
    "# Check for infinite values\n",
    "print(\"Infinite values per column:\")\n",
    "print(np.isinf(data).sum())\n"
   ],
   "id": "10f5f8921c2a9b48",
   "outputs": [
    {
     "name": "stdout",
     "output_type": "stream",
     "text": [
      "Missing values per column:\n",
      "SrcPort                  0\n",
      "DstPort                  0\n",
      "Protocol                 0\n",
      "mTimestampStart          0\n",
      "mTimestampLast           0\n",
      "                    ...   \n",
      "External_dst             0\n",
      "Segment_src         453715\n",
      "Segment_dst        2066773\n",
      "Expoid_src          453715\n",
      "Expoid_dst         2066773\n",
      "Length: 92, dtype: int64\n",
      "Infinite values per column:\n"
     ]
    },
    {
     "ename": "TypeError",
     "evalue": "ufunc 'isinf' not supported for the input types, and the inputs could not be safely coerced to any supported types according to the casting rule ''safe''",
     "output_type": "error",
     "traceback": [
      "\u001B[0;31m---------------------------------------------------------------------------\u001B[0m",
      "\u001B[0;31mTypeError\u001B[0m                                 Traceback (most recent call last)",
      "Cell \u001B[0;32mIn[9], line 7\u001B[0m\n\u001B[1;32m      5\u001B[0m \u001B[38;5;66;03m# Check for infinite values\u001B[39;00m\n\u001B[1;32m      6\u001B[0m \u001B[38;5;28mprint\u001B[39m(\u001B[38;5;124m\"\u001B[39m\u001B[38;5;124mInfinite values per column:\u001B[39m\u001B[38;5;124m\"\u001B[39m)\n\u001B[0;32m----> 7\u001B[0m \u001B[38;5;28mprint\u001B[39m(\u001B[43mnp\u001B[49m\u001B[38;5;241;43m.\u001B[39;49m\u001B[43misinf\u001B[49m\u001B[43m(\u001B[49m\u001B[43mdata\u001B[49m\u001B[43m)\u001B[49m\u001B[38;5;241m.\u001B[39msum())\n",
      "File \u001B[0;32m/Library/Frameworks/Python.framework/Versions/3.12/lib/python3.12/site-packages/pandas/core/generic.py:2171\u001B[0m, in \u001B[0;36mNDFrame.__array_ufunc__\u001B[0;34m(self, ufunc, method, *inputs, **kwargs)\u001B[0m\n\u001B[1;32m   2167\u001B[0m \u001B[38;5;129m@final\u001B[39m\n\u001B[1;32m   2168\u001B[0m \u001B[38;5;28;01mdef\u001B[39;00m \u001B[38;5;21m__array_ufunc__\u001B[39m(\n\u001B[1;32m   2169\u001B[0m     \u001B[38;5;28mself\u001B[39m, ufunc: np\u001B[38;5;241m.\u001B[39mufunc, method: \u001B[38;5;28mstr\u001B[39m, \u001B[38;5;241m*\u001B[39minputs: Any, \u001B[38;5;241m*\u001B[39m\u001B[38;5;241m*\u001B[39mkwargs: Any\n\u001B[1;32m   2170\u001B[0m ):\n\u001B[0;32m-> 2171\u001B[0m     \u001B[38;5;28;01mreturn\u001B[39;00m \u001B[43marraylike\u001B[49m\u001B[38;5;241;43m.\u001B[39;49m\u001B[43marray_ufunc\u001B[49m\u001B[43m(\u001B[49m\u001B[38;5;28;43mself\u001B[39;49m\u001B[43m,\u001B[49m\u001B[43m \u001B[49m\u001B[43mufunc\u001B[49m\u001B[43m,\u001B[49m\u001B[43m \u001B[49m\u001B[43mmethod\u001B[49m\u001B[43m,\u001B[49m\u001B[43m \u001B[49m\u001B[38;5;241;43m*\u001B[39;49m\u001B[43minputs\u001B[49m\u001B[43m,\u001B[49m\u001B[43m \u001B[49m\u001B[38;5;241;43m*\u001B[39;49m\u001B[38;5;241;43m*\u001B[39;49m\u001B[43mkwargs\u001B[49m\u001B[43m)\u001B[49m\n",
      "File \u001B[0;32m/Library/Frameworks/Python.framework/Versions/3.12/lib/python3.12/site-packages/pandas/core/arraylike.py:407\u001B[0m, in \u001B[0;36marray_ufunc\u001B[0;34m(self, ufunc, method, *inputs, **kwargs)\u001B[0m\n\u001B[1;32m    402\u001B[0m \u001B[38;5;28;01mif\u001B[39;00m method \u001B[38;5;241m==\u001B[39m \u001B[38;5;124m\"\u001B[39m\u001B[38;5;124m__call__\u001B[39m\u001B[38;5;124m\"\u001B[39m \u001B[38;5;129;01mand\u001B[39;00m \u001B[38;5;129;01mnot\u001B[39;00m kwargs:\n\u001B[1;32m    403\u001B[0m     \u001B[38;5;66;03m# for np.<ufunc>(..) calls\u001B[39;00m\n\u001B[1;32m    404\u001B[0m     \u001B[38;5;66;03m# kwargs cannot necessarily be handled block-by-block, so only\u001B[39;00m\n\u001B[1;32m    405\u001B[0m     \u001B[38;5;66;03m# take this path if there are no kwargs\u001B[39;00m\n\u001B[1;32m    406\u001B[0m     mgr \u001B[38;5;241m=\u001B[39m inputs[\u001B[38;5;241m0\u001B[39m]\u001B[38;5;241m.\u001B[39m_mgr\n\u001B[0;32m--> 407\u001B[0m     result \u001B[38;5;241m=\u001B[39m \u001B[43mmgr\u001B[49m\u001B[38;5;241;43m.\u001B[39;49m\u001B[43mapply\u001B[49m\u001B[43m(\u001B[49m\u001B[38;5;28;43mgetattr\u001B[39;49m\u001B[43m(\u001B[49m\u001B[43mufunc\u001B[49m\u001B[43m,\u001B[49m\u001B[43m \u001B[49m\u001B[43mmethod\u001B[49m\u001B[43m)\u001B[49m\u001B[43m)\u001B[49m\n\u001B[1;32m    408\u001B[0m \u001B[38;5;28;01melse\u001B[39;00m:\n\u001B[1;32m    409\u001B[0m     \u001B[38;5;66;03m# otherwise specific ufunc methods (eg np.<ufunc>.accumulate(..))\u001B[39;00m\n\u001B[1;32m    410\u001B[0m     \u001B[38;5;66;03m# Those can have an axis keyword and thus can't be called block-by-block\u001B[39;00m\n\u001B[1;32m    411\u001B[0m     result \u001B[38;5;241m=\u001B[39m default_array_ufunc(inputs[\u001B[38;5;241m0\u001B[39m], ufunc, method, \u001B[38;5;241m*\u001B[39minputs, \u001B[38;5;241m*\u001B[39m\u001B[38;5;241m*\u001B[39mkwargs)\n",
      "File \u001B[0;32m/Library/Frameworks/Python.framework/Versions/3.12/lib/python3.12/site-packages/pandas/core/internals/managers.py:361\u001B[0m, in \u001B[0;36mBaseBlockManager.apply\u001B[0;34m(self, f, align_keys, **kwargs)\u001B[0m\n\u001B[1;32m    358\u001B[0m             kwargs[k] \u001B[38;5;241m=\u001B[39m obj[b\u001B[38;5;241m.\u001B[39mmgr_locs\u001B[38;5;241m.\u001B[39mindexer]\n\u001B[1;32m    360\u001B[0m \u001B[38;5;28;01mif\u001B[39;00m \u001B[38;5;28mcallable\u001B[39m(f):\n\u001B[0;32m--> 361\u001B[0m     applied \u001B[38;5;241m=\u001B[39m \u001B[43mb\u001B[49m\u001B[38;5;241;43m.\u001B[39;49m\u001B[43mapply\u001B[49m\u001B[43m(\u001B[49m\u001B[43mf\u001B[49m\u001B[43m,\u001B[49m\u001B[43m \u001B[49m\u001B[38;5;241;43m*\u001B[39;49m\u001B[38;5;241;43m*\u001B[39;49m\u001B[43mkwargs\u001B[49m\u001B[43m)\u001B[49m\n\u001B[1;32m    362\u001B[0m \u001B[38;5;28;01melse\u001B[39;00m:\n\u001B[1;32m    363\u001B[0m     applied \u001B[38;5;241m=\u001B[39m \u001B[38;5;28mgetattr\u001B[39m(b, f)(\u001B[38;5;241m*\u001B[39m\u001B[38;5;241m*\u001B[39mkwargs)\n",
      "File \u001B[0;32m/Library/Frameworks/Python.framework/Versions/3.12/lib/python3.12/site-packages/pandas/core/internals/blocks.py:393\u001B[0m, in \u001B[0;36mBlock.apply\u001B[0;34m(self, func, **kwargs)\u001B[0m\n\u001B[1;32m    387\u001B[0m \u001B[38;5;129m@final\u001B[39m\n\u001B[1;32m    388\u001B[0m \u001B[38;5;28;01mdef\u001B[39;00m \u001B[38;5;21mapply\u001B[39m(\u001B[38;5;28mself\u001B[39m, func, \u001B[38;5;241m*\u001B[39m\u001B[38;5;241m*\u001B[39mkwargs) \u001B[38;5;241m-\u001B[39m\u001B[38;5;241m>\u001B[39m \u001B[38;5;28mlist\u001B[39m[Block]:\n\u001B[1;32m    389\u001B[0m \u001B[38;5;250m    \u001B[39m\u001B[38;5;124;03m\"\"\"\u001B[39;00m\n\u001B[1;32m    390\u001B[0m \u001B[38;5;124;03m    apply the function to my values; return a block if we are not\u001B[39;00m\n\u001B[1;32m    391\u001B[0m \u001B[38;5;124;03m    one\u001B[39;00m\n\u001B[1;32m    392\u001B[0m \u001B[38;5;124;03m    \"\"\"\u001B[39;00m\n\u001B[0;32m--> 393\u001B[0m     result \u001B[38;5;241m=\u001B[39m \u001B[43mfunc\u001B[49m\u001B[43m(\u001B[49m\u001B[38;5;28;43mself\u001B[39;49m\u001B[38;5;241;43m.\u001B[39;49m\u001B[43mvalues\u001B[49m\u001B[43m,\u001B[49m\u001B[43m \u001B[49m\u001B[38;5;241;43m*\u001B[39;49m\u001B[38;5;241;43m*\u001B[39;49m\u001B[43mkwargs\u001B[49m\u001B[43m)\u001B[49m\n\u001B[1;32m    395\u001B[0m     result \u001B[38;5;241m=\u001B[39m maybe_coerce_values(result)\n\u001B[1;32m    396\u001B[0m     \u001B[38;5;28;01mreturn\u001B[39;00m \u001B[38;5;28mself\u001B[39m\u001B[38;5;241m.\u001B[39m_split_op_result(result)\n",
      "\u001B[0;31mTypeError\u001B[0m: ufunc 'isinf' not supported for the input types, and the inputs could not be safely coerced to any supported types according to the casting rule ''safe''"
     ]
    }
   ],
   "execution_count": 9
  },
  {
   "metadata": {
    "ExecuteTime": {
     "end_time": "2025-01-10T09:58:44.924634Z",
     "start_time": "2025-01-10T09:58:42.263465Z"
    }
   },
   "cell_type": "code",
   "source": [
    "# Replace infinite values with NaN\n",
    "data.replace([np.inf, -np.inf], np.nan, inplace=True)\n",
    "# replace by means\n",
    "\n",
    "\n",
    "# Fill missing values with column means\n",
    "data_cleaned = data.fillna(data.mean())\n",
    "print(data_cleaned.shape)\n",
    "\n",
    "\n"
   ],
   "id": "872ac6f82a9bd872",
   "outputs": [
    {
     "ename": "TypeError",
     "evalue": "can only concatenate str (not \"int\") to str",
     "output_type": "error",
     "traceback": [
      "\u001B[0;31m---------------------------------------------------------------------------\u001B[0m",
      "\u001B[0;31mTypeError\u001B[0m                                 Traceback (most recent call last)",
      "Cell \u001B[0;32mIn[13], line 7\u001B[0m\n\u001B[1;32m      2\u001B[0m data\u001B[38;5;241m.\u001B[39mreplace([np\u001B[38;5;241m.\u001B[39minf, \u001B[38;5;241m-\u001B[39mnp\u001B[38;5;241m.\u001B[39minf], np\u001B[38;5;241m.\u001B[39mnan, inplace\u001B[38;5;241m=\u001B[39m\u001B[38;5;28;01mTrue\u001B[39;00m)\n\u001B[1;32m      3\u001B[0m \u001B[38;5;66;03m# replace by means\u001B[39;00m\n\u001B[1;32m      4\u001B[0m \n\u001B[1;32m      5\u001B[0m \n\u001B[1;32m      6\u001B[0m \u001B[38;5;66;03m# Fill missing values with column means\u001B[39;00m\n\u001B[0;32m----> 7\u001B[0m data_cleaned \u001B[38;5;241m=\u001B[39m data\u001B[38;5;241m.\u001B[39mfillna(\u001B[43mdata\u001B[49m\u001B[38;5;241;43m.\u001B[39;49m\u001B[43mmean\u001B[49m\u001B[43m(\u001B[49m\u001B[43m)\u001B[49m)\n\u001B[1;32m      8\u001B[0m \u001B[38;5;28mprint\u001B[39m(data_cleaned\u001B[38;5;241m.\u001B[39mshape)\n",
      "File \u001B[0;32m/Library/Frameworks/Python.framework/Versions/3.12/lib/python3.12/site-packages/pandas/core/frame.py:11693\u001B[0m, in \u001B[0;36mDataFrame.mean\u001B[0;34m(self, axis, skipna, numeric_only, **kwargs)\u001B[0m\n\u001B[1;32m  11685\u001B[0m \u001B[38;5;129m@doc\u001B[39m(make_doc(\u001B[38;5;124m\"\u001B[39m\u001B[38;5;124mmean\u001B[39m\u001B[38;5;124m\"\u001B[39m, ndim\u001B[38;5;241m=\u001B[39m\u001B[38;5;241m2\u001B[39m))\n\u001B[1;32m  11686\u001B[0m \u001B[38;5;28;01mdef\u001B[39;00m \u001B[38;5;21mmean\u001B[39m(\n\u001B[1;32m  11687\u001B[0m     \u001B[38;5;28mself\u001B[39m,\n\u001B[0;32m   (...)\u001B[0m\n\u001B[1;32m  11691\u001B[0m     \u001B[38;5;241m*\u001B[39m\u001B[38;5;241m*\u001B[39mkwargs,\n\u001B[1;32m  11692\u001B[0m ):\n\u001B[0;32m> 11693\u001B[0m     result \u001B[38;5;241m=\u001B[39m \u001B[38;5;28;43msuper\u001B[39;49m\u001B[43m(\u001B[49m\u001B[43m)\u001B[49m\u001B[38;5;241;43m.\u001B[39;49m\u001B[43mmean\u001B[49m\u001B[43m(\u001B[49m\u001B[43maxis\u001B[49m\u001B[43m,\u001B[49m\u001B[43m \u001B[49m\u001B[43mskipna\u001B[49m\u001B[43m,\u001B[49m\u001B[43m \u001B[49m\u001B[43mnumeric_only\u001B[49m\u001B[43m,\u001B[49m\u001B[43m \u001B[49m\u001B[38;5;241;43m*\u001B[39;49m\u001B[38;5;241;43m*\u001B[39;49m\u001B[43mkwargs\u001B[49m\u001B[43m)\u001B[49m\n\u001B[1;32m  11694\u001B[0m     \u001B[38;5;28;01mif\u001B[39;00m \u001B[38;5;28misinstance\u001B[39m(result, Series):\n\u001B[1;32m  11695\u001B[0m         result \u001B[38;5;241m=\u001B[39m result\u001B[38;5;241m.\u001B[39m__finalize__(\u001B[38;5;28mself\u001B[39m, method\u001B[38;5;241m=\u001B[39m\u001B[38;5;124m\"\u001B[39m\u001B[38;5;124mmean\u001B[39m\u001B[38;5;124m\"\u001B[39m)\n",
      "File \u001B[0;32m/Library/Frameworks/Python.framework/Versions/3.12/lib/python3.12/site-packages/pandas/core/generic.py:12420\u001B[0m, in \u001B[0;36mNDFrame.mean\u001B[0;34m(self, axis, skipna, numeric_only, **kwargs)\u001B[0m\n\u001B[1;32m  12413\u001B[0m \u001B[38;5;28;01mdef\u001B[39;00m \u001B[38;5;21mmean\u001B[39m(\n\u001B[1;32m  12414\u001B[0m     \u001B[38;5;28mself\u001B[39m,\n\u001B[1;32m  12415\u001B[0m     axis: Axis \u001B[38;5;241m|\u001B[39m \u001B[38;5;28;01mNone\u001B[39;00m \u001B[38;5;241m=\u001B[39m \u001B[38;5;241m0\u001B[39m,\n\u001B[0;32m   (...)\u001B[0m\n\u001B[1;32m  12418\u001B[0m     \u001B[38;5;241m*\u001B[39m\u001B[38;5;241m*\u001B[39mkwargs,\n\u001B[1;32m  12419\u001B[0m ) \u001B[38;5;241m-\u001B[39m\u001B[38;5;241m>\u001B[39m Series \u001B[38;5;241m|\u001B[39m \u001B[38;5;28mfloat\u001B[39m:\n\u001B[0;32m> 12420\u001B[0m     \u001B[38;5;28;01mreturn\u001B[39;00m \u001B[38;5;28;43mself\u001B[39;49m\u001B[38;5;241;43m.\u001B[39;49m\u001B[43m_stat_function\u001B[49m\u001B[43m(\u001B[49m\n\u001B[1;32m  12421\u001B[0m \u001B[43m        \u001B[49m\u001B[38;5;124;43m\"\u001B[39;49m\u001B[38;5;124;43mmean\u001B[39;49m\u001B[38;5;124;43m\"\u001B[39;49m\u001B[43m,\u001B[49m\u001B[43m \u001B[49m\u001B[43mnanops\u001B[49m\u001B[38;5;241;43m.\u001B[39;49m\u001B[43mnanmean\u001B[49m\u001B[43m,\u001B[49m\u001B[43m \u001B[49m\u001B[43maxis\u001B[49m\u001B[43m,\u001B[49m\u001B[43m \u001B[49m\u001B[43mskipna\u001B[49m\u001B[43m,\u001B[49m\u001B[43m \u001B[49m\u001B[43mnumeric_only\u001B[49m\u001B[43m,\u001B[49m\u001B[43m \u001B[49m\u001B[38;5;241;43m*\u001B[39;49m\u001B[38;5;241;43m*\u001B[39;49m\u001B[43mkwargs\u001B[49m\n\u001B[1;32m  12422\u001B[0m \u001B[43m    \u001B[49m\u001B[43m)\u001B[49m\n",
      "File \u001B[0;32m/Library/Frameworks/Python.framework/Versions/3.12/lib/python3.12/site-packages/pandas/core/generic.py:12377\u001B[0m, in \u001B[0;36mNDFrame._stat_function\u001B[0;34m(self, name, func, axis, skipna, numeric_only, **kwargs)\u001B[0m\n\u001B[1;32m  12373\u001B[0m nv\u001B[38;5;241m.\u001B[39mvalidate_func(name, (), kwargs)\n\u001B[1;32m  12375\u001B[0m validate_bool_kwarg(skipna, \u001B[38;5;124m\"\u001B[39m\u001B[38;5;124mskipna\u001B[39m\u001B[38;5;124m\"\u001B[39m, none_allowed\u001B[38;5;241m=\u001B[39m\u001B[38;5;28;01mFalse\u001B[39;00m)\n\u001B[0;32m> 12377\u001B[0m \u001B[38;5;28;01mreturn\u001B[39;00m \u001B[38;5;28;43mself\u001B[39;49m\u001B[38;5;241;43m.\u001B[39;49m\u001B[43m_reduce\u001B[49m\u001B[43m(\u001B[49m\n\u001B[1;32m  12378\u001B[0m \u001B[43m    \u001B[49m\u001B[43mfunc\u001B[49m\u001B[43m,\u001B[49m\u001B[43m \u001B[49m\u001B[43mname\u001B[49m\u001B[38;5;241;43m=\u001B[39;49m\u001B[43mname\u001B[49m\u001B[43m,\u001B[49m\u001B[43m \u001B[49m\u001B[43maxis\u001B[49m\u001B[38;5;241;43m=\u001B[39;49m\u001B[43maxis\u001B[49m\u001B[43m,\u001B[49m\u001B[43m \u001B[49m\u001B[43mskipna\u001B[49m\u001B[38;5;241;43m=\u001B[39;49m\u001B[43mskipna\u001B[49m\u001B[43m,\u001B[49m\u001B[43m \u001B[49m\u001B[43mnumeric_only\u001B[49m\u001B[38;5;241;43m=\u001B[39;49m\u001B[43mnumeric_only\u001B[49m\n\u001B[1;32m  12379\u001B[0m \u001B[43m\u001B[49m\u001B[43m)\u001B[49m\n",
      "File \u001B[0;32m/Library/Frameworks/Python.framework/Versions/3.12/lib/python3.12/site-packages/pandas/core/frame.py:11562\u001B[0m, in \u001B[0;36mDataFrame._reduce\u001B[0;34m(self, op, name, axis, skipna, numeric_only, filter_type, **kwds)\u001B[0m\n\u001B[1;32m  11558\u001B[0m     df \u001B[38;5;241m=\u001B[39m df\u001B[38;5;241m.\u001B[39mT\n\u001B[1;32m  11560\u001B[0m \u001B[38;5;66;03m# After possibly _get_data and transposing, we are now in the\u001B[39;00m\n\u001B[1;32m  11561\u001B[0m \u001B[38;5;66;03m#  simple case where we can use BlockManager.reduce\u001B[39;00m\n\u001B[0;32m> 11562\u001B[0m res \u001B[38;5;241m=\u001B[39m \u001B[43mdf\u001B[49m\u001B[38;5;241;43m.\u001B[39;49m\u001B[43m_mgr\u001B[49m\u001B[38;5;241;43m.\u001B[39;49m\u001B[43mreduce\u001B[49m\u001B[43m(\u001B[49m\u001B[43mblk_func\u001B[49m\u001B[43m)\u001B[49m\n\u001B[1;32m  11563\u001B[0m out \u001B[38;5;241m=\u001B[39m df\u001B[38;5;241m.\u001B[39m_constructor_from_mgr(res, axes\u001B[38;5;241m=\u001B[39mres\u001B[38;5;241m.\u001B[39maxes)\u001B[38;5;241m.\u001B[39miloc[\u001B[38;5;241m0\u001B[39m]\n\u001B[1;32m  11564\u001B[0m \u001B[38;5;28;01mif\u001B[39;00m out_dtype \u001B[38;5;129;01mis\u001B[39;00m \u001B[38;5;129;01mnot\u001B[39;00m \u001B[38;5;28;01mNone\u001B[39;00m \u001B[38;5;129;01mand\u001B[39;00m out\u001B[38;5;241m.\u001B[39mdtype \u001B[38;5;241m!=\u001B[39m \u001B[38;5;124m\"\u001B[39m\u001B[38;5;124mboolean\u001B[39m\u001B[38;5;124m\"\u001B[39m:\n",
      "File \u001B[0;32m/Library/Frameworks/Python.framework/Versions/3.12/lib/python3.12/site-packages/pandas/core/internals/managers.py:1500\u001B[0m, in \u001B[0;36mBlockManager.reduce\u001B[0;34m(self, func)\u001B[0m\n\u001B[1;32m   1498\u001B[0m res_blocks: \u001B[38;5;28mlist\u001B[39m[Block] \u001B[38;5;241m=\u001B[39m []\n\u001B[1;32m   1499\u001B[0m \u001B[38;5;28;01mfor\u001B[39;00m blk \u001B[38;5;129;01min\u001B[39;00m \u001B[38;5;28mself\u001B[39m\u001B[38;5;241m.\u001B[39mblocks:\n\u001B[0;32m-> 1500\u001B[0m     nbs \u001B[38;5;241m=\u001B[39m \u001B[43mblk\u001B[49m\u001B[38;5;241;43m.\u001B[39;49m\u001B[43mreduce\u001B[49m\u001B[43m(\u001B[49m\u001B[43mfunc\u001B[49m\u001B[43m)\u001B[49m\n\u001B[1;32m   1501\u001B[0m     res_blocks\u001B[38;5;241m.\u001B[39mextend(nbs)\n\u001B[1;32m   1503\u001B[0m index \u001B[38;5;241m=\u001B[39m Index([\u001B[38;5;28;01mNone\u001B[39;00m])  \u001B[38;5;66;03m# placeholder\u001B[39;00m\n",
      "File \u001B[0;32m/Library/Frameworks/Python.framework/Versions/3.12/lib/python3.12/site-packages/pandas/core/internals/blocks.py:404\u001B[0m, in \u001B[0;36mBlock.reduce\u001B[0;34m(self, func)\u001B[0m\n\u001B[1;32m    398\u001B[0m \u001B[38;5;129m@final\u001B[39m\n\u001B[1;32m    399\u001B[0m \u001B[38;5;28;01mdef\u001B[39;00m \u001B[38;5;21mreduce\u001B[39m(\u001B[38;5;28mself\u001B[39m, func) \u001B[38;5;241m-\u001B[39m\u001B[38;5;241m>\u001B[39m \u001B[38;5;28mlist\u001B[39m[Block]:\n\u001B[1;32m    400\u001B[0m     \u001B[38;5;66;03m# We will apply the function and reshape the result into a single-row\u001B[39;00m\n\u001B[1;32m    401\u001B[0m     \u001B[38;5;66;03m#  Block with the same mgr_locs; squeezing will be done at a higher level\u001B[39;00m\n\u001B[1;32m    402\u001B[0m     \u001B[38;5;28;01massert\u001B[39;00m \u001B[38;5;28mself\u001B[39m\u001B[38;5;241m.\u001B[39mndim \u001B[38;5;241m==\u001B[39m \u001B[38;5;241m2\u001B[39m\n\u001B[0;32m--> 404\u001B[0m     result \u001B[38;5;241m=\u001B[39m \u001B[43mfunc\u001B[49m\u001B[43m(\u001B[49m\u001B[38;5;28;43mself\u001B[39;49m\u001B[38;5;241;43m.\u001B[39;49m\u001B[43mvalues\u001B[49m\u001B[43m)\u001B[49m\n\u001B[1;32m    406\u001B[0m     \u001B[38;5;28;01mif\u001B[39;00m \u001B[38;5;28mself\u001B[39m\u001B[38;5;241m.\u001B[39mvalues\u001B[38;5;241m.\u001B[39mndim \u001B[38;5;241m==\u001B[39m \u001B[38;5;241m1\u001B[39m:\n\u001B[1;32m    407\u001B[0m         res_values \u001B[38;5;241m=\u001B[39m result\n",
      "File \u001B[0;32m/Library/Frameworks/Python.framework/Versions/3.12/lib/python3.12/site-packages/pandas/core/frame.py:11481\u001B[0m, in \u001B[0;36mDataFrame._reduce.<locals>.blk_func\u001B[0;34m(values, axis)\u001B[0m\n\u001B[1;32m  11479\u001B[0m         \u001B[38;5;28;01mreturn\u001B[39;00m np\u001B[38;5;241m.\u001B[39marray([result])\n\u001B[1;32m  11480\u001B[0m \u001B[38;5;28;01melse\u001B[39;00m:\n\u001B[0;32m> 11481\u001B[0m     \u001B[38;5;28;01mreturn\u001B[39;00m \u001B[43mop\u001B[49m\u001B[43m(\u001B[49m\u001B[43mvalues\u001B[49m\u001B[43m,\u001B[49m\u001B[43m \u001B[49m\u001B[43maxis\u001B[49m\u001B[38;5;241;43m=\u001B[39;49m\u001B[43maxis\u001B[49m\u001B[43m,\u001B[49m\u001B[43m \u001B[49m\u001B[43mskipna\u001B[49m\u001B[38;5;241;43m=\u001B[39;49m\u001B[43mskipna\u001B[49m\u001B[43m,\u001B[49m\u001B[43m \u001B[49m\u001B[38;5;241;43m*\u001B[39;49m\u001B[38;5;241;43m*\u001B[39;49m\u001B[43mkwds\u001B[49m\u001B[43m)\u001B[49m\n",
      "File \u001B[0;32m/Library/Frameworks/Python.framework/Versions/3.12/lib/python3.12/site-packages/pandas/core/nanops.py:147\u001B[0m, in \u001B[0;36mbottleneck_switch.__call__.<locals>.f\u001B[0;34m(values, axis, skipna, **kwds)\u001B[0m\n\u001B[1;32m    145\u001B[0m         result \u001B[38;5;241m=\u001B[39m alt(values, axis\u001B[38;5;241m=\u001B[39maxis, skipna\u001B[38;5;241m=\u001B[39mskipna, \u001B[38;5;241m*\u001B[39m\u001B[38;5;241m*\u001B[39mkwds)\n\u001B[1;32m    146\u001B[0m \u001B[38;5;28;01melse\u001B[39;00m:\n\u001B[0;32m--> 147\u001B[0m     result \u001B[38;5;241m=\u001B[39m \u001B[43malt\u001B[49m\u001B[43m(\u001B[49m\u001B[43mvalues\u001B[49m\u001B[43m,\u001B[49m\u001B[43m \u001B[49m\u001B[43maxis\u001B[49m\u001B[38;5;241;43m=\u001B[39;49m\u001B[43maxis\u001B[49m\u001B[43m,\u001B[49m\u001B[43m \u001B[49m\u001B[43mskipna\u001B[49m\u001B[38;5;241;43m=\u001B[39;49m\u001B[43mskipna\u001B[49m\u001B[43m,\u001B[49m\u001B[43m \u001B[49m\u001B[38;5;241;43m*\u001B[39;49m\u001B[38;5;241;43m*\u001B[39;49m\u001B[43mkwds\u001B[49m\u001B[43m)\u001B[49m\n\u001B[1;32m    149\u001B[0m \u001B[38;5;28;01mreturn\u001B[39;00m result\n",
      "File \u001B[0;32m/Library/Frameworks/Python.framework/Versions/3.12/lib/python3.12/site-packages/pandas/core/nanops.py:404\u001B[0m, in \u001B[0;36m_datetimelike_compat.<locals>.new_func\u001B[0;34m(values, axis, skipna, mask, **kwargs)\u001B[0m\n\u001B[1;32m    401\u001B[0m \u001B[38;5;28;01mif\u001B[39;00m datetimelike \u001B[38;5;129;01mand\u001B[39;00m mask \u001B[38;5;129;01mis\u001B[39;00m \u001B[38;5;28;01mNone\u001B[39;00m:\n\u001B[1;32m    402\u001B[0m     mask \u001B[38;5;241m=\u001B[39m isna(values)\n\u001B[0;32m--> 404\u001B[0m result \u001B[38;5;241m=\u001B[39m \u001B[43mfunc\u001B[49m\u001B[43m(\u001B[49m\u001B[43mvalues\u001B[49m\u001B[43m,\u001B[49m\u001B[43m \u001B[49m\u001B[43maxis\u001B[49m\u001B[38;5;241;43m=\u001B[39;49m\u001B[43maxis\u001B[49m\u001B[43m,\u001B[49m\u001B[43m \u001B[49m\u001B[43mskipna\u001B[49m\u001B[38;5;241;43m=\u001B[39;49m\u001B[43mskipna\u001B[49m\u001B[43m,\u001B[49m\u001B[43m \u001B[49m\u001B[43mmask\u001B[49m\u001B[38;5;241;43m=\u001B[39;49m\u001B[43mmask\u001B[49m\u001B[43m,\u001B[49m\u001B[43m \u001B[49m\u001B[38;5;241;43m*\u001B[39;49m\u001B[38;5;241;43m*\u001B[39;49m\u001B[43mkwargs\u001B[49m\u001B[43m)\u001B[49m\n\u001B[1;32m    406\u001B[0m \u001B[38;5;28;01mif\u001B[39;00m datetimelike:\n\u001B[1;32m    407\u001B[0m     result \u001B[38;5;241m=\u001B[39m _wrap_results(result, orig_values\u001B[38;5;241m.\u001B[39mdtype, fill_value\u001B[38;5;241m=\u001B[39miNaT)\n",
      "File \u001B[0;32m/Library/Frameworks/Python.framework/Versions/3.12/lib/python3.12/site-packages/pandas/core/nanops.py:719\u001B[0m, in \u001B[0;36mnanmean\u001B[0;34m(values, axis, skipna, mask)\u001B[0m\n\u001B[1;32m    716\u001B[0m     dtype_count \u001B[38;5;241m=\u001B[39m dtype\n\u001B[1;32m    718\u001B[0m count \u001B[38;5;241m=\u001B[39m _get_counts(values\u001B[38;5;241m.\u001B[39mshape, mask, axis, dtype\u001B[38;5;241m=\u001B[39mdtype_count)\n\u001B[0;32m--> 719\u001B[0m the_sum \u001B[38;5;241m=\u001B[39m \u001B[43mvalues\u001B[49m\u001B[38;5;241;43m.\u001B[39;49m\u001B[43msum\u001B[49m\u001B[43m(\u001B[49m\u001B[43maxis\u001B[49m\u001B[43m,\u001B[49m\u001B[43m \u001B[49m\u001B[43mdtype\u001B[49m\u001B[38;5;241;43m=\u001B[39;49m\u001B[43mdtype_sum\u001B[49m\u001B[43m)\u001B[49m\n\u001B[1;32m    720\u001B[0m the_sum \u001B[38;5;241m=\u001B[39m _ensure_numeric(the_sum)\n\u001B[1;32m    722\u001B[0m \u001B[38;5;28;01mif\u001B[39;00m axis \u001B[38;5;129;01mis\u001B[39;00m \u001B[38;5;129;01mnot\u001B[39;00m \u001B[38;5;28;01mNone\u001B[39;00m \u001B[38;5;129;01mand\u001B[39;00m \u001B[38;5;28mgetattr\u001B[39m(the_sum, \u001B[38;5;124m\"\u001B[39m\u001B[38;5;124mndim\u001B[39m\u001B[38;5;124m\"\u001B[39m, \u001B[38;5;28;01mFalse\u001B[39;00m):\n",
      "File \u001B[0;32m/Library/Frameworks/Python.framework/Versions/3.12/lib/python3.12/site-packages/numpy/core/_methods.py:49\u001B[0m, in \u001B[0;36m_sum\u001B[0;34m(a, axis, dtype, out, keepdims, initial, where)\u001B[0m\n\u001B[1;32m     47\u001B[0m \u001B[38;5;28;01mdef\u001B[39;00m \u001B[38;5;21m_sum\u001B[39m(a, axis\u001B[38;5;241m=\u001B[39m\u001B[38;5;28;01mNone\u001B[39;00m, dtype\u001B[38;5;241m=\u001B[39m\u001B[38;5;28;01mNone\u001B[39;00m, out\u001B[38;5;241m=\u001B[39m\u001B[38;5;28;01mNone\u001B[39;00m, keepdims\u001B[38;5;241m=\u001B[39m\u001B[38;5;28;01mFalse\u001B[39;00m,\n\u001B[1;32m     48\u001B[0m          initial\u001B[38;5;241m=\u001B[39m_NoValue, where\u001B[38;5;241m=\u001B[39m\u001B[38;5;28;01mTrue\u001B[39;00m):\n\u001B[0;32m---> 49\u001B[0m     \u001B[38;5;28;01mreturn\u001B[39;00m \u001B[43mumr_sum\u001B[49m\u001B[43m(\u001B[49m\u001B[43ma\u001B[49m\u001B[43m,\u001B[49m\u001B[43m \u001B[49m\u001B[43maxis\u001B[49m\u001B[43m,\u001B[49m\u001B[43m \u001B[49m\u001B[43mdtype\u001B[49m\u001B[43m,\u001B[49m\u001B[43m \u001B[49m\u001B[43mout\u001B[49m\u001B[43m,\u001B[49m\u001B[43m \u001B[49m\u001B[43mkeepdims\u001B[49m\u001B[43m,\u001B[49m\u001B[43m \u001B[49m\u001B[43minitial\u001B[49m\u001B[43m,\u001B[49m\u001B[43m \u001B[49m\u001B[43mwhere\u001B[49m\u001B[43m)\u001B[49m\n",
      "\u001B[0;31mTypeError\u001B[0m: can only concatenate str (not \"int\") to str"
     ]
    }
   ],
   "execution_count": 13
  },
  {
   "metadata": {
    "ExecuteTime": {
     "end_time": "2025-01-10T09:43:56.843001Z",
     "start_time": "2025-01-10T09:43:56.646403Z"
    }
   },
   "cell_type": "code",
   "source": "",
   "id": "57789224c9903c10",
   "outputs": [
    {
     "name": "stdout",
     "output_type": "stream",
     "text": [
      "SrcPort            0\n",
      "DstPort            0\n",
      "Protocol           0\n",
      "mTimestampStart    0\n",
      "mTimestampLast     0\n",
      "                  ..\n",
      "External_dst       0\n",
      "Segment_src        0\n",
      "Segment_dst        0\n",
      "Expoid_src         0\n",
      "Expoid_dst         0\n",
      "Length: 91, dtype: int64\n"
     ]
    }
   ],
   "execution_count": 85
  },
  {
   "metadata": {},
   "cell_type": "markdown",
   "source": "",
   "id": "b6dfbb4f583c0802"
  },
  {
   "metadata": {
    "ExecuteTime": {
     "end_time": "2025-01-10T09:43:56.858950Z",
     "start_time": "2025-01-10T09:43:56.856613Z"
    }
   },
   "cell_type": "code",
   "source": "",
   "id": "6c00bc7032abcbd4",
   "outputs": [
    {
     "name": "stdout",
     "output_type": "stream",
     "text": [
      "Columns with missing data:\n",
      " Flow Bytes/s          152\n",
      "Flow IAT Mean      340184\n",
      "Flow IAT Min       340184\n",
      "Flow IAT Max       340184\n",
      "Flow IAT Stddev    340184\n",
      "dtype: int64\n"
     ]
    }
   ],
   "execution_count": 86
  },
  {
   "metadata": {
    "ExecuteTime": {
     "end_time": "2025-01-10T09:43:56.873479Z",
     "start_time": "2025-01-10T09:43:56.872318Z"
    }
   },
   "cell_type": "code",
   "source": "",
   "id": "884666049a2b8826",
   "outputs": [],
   "execution_count": null
  },
  {
   "metadata": {
    "ExecuteTime": {
     "end_time": "2025-01-10T09:44:01.873895Z",
     "start_time": "2025-01-10T09:43:56.886799Z"
    }
   },
   "cell_type": "code",
   "source": "",
   "id": "4bb71472c88ffd08",
   "outputs": [
    {
     "name": "stdout",
     "output_type": "stream",
     "text": [
      "Contains NaN: SrcPort            False\n",
      "DstPort            False\n",
      "Protocol           False\n",
      "mTimestampStart    False\n",
      "mTimestampLast     False\n",
      "                   ...  \n",
      "External_dst       False\n",
      "Segment_src        False\n",
      "Segment_dst        False\n",
      "Expoid_src         False\n",
      "Expoid_dst         False\n",
      "Length: 91, dtype: bool\n",
      "Contains Infinity: SrcPort            False\n",
      "DstPort            False\n",
      "Protocol           False\n",
      "mTimestampStart    False\n",
      "mTimestampLast     False\n",
      "                   ...  \n",
      "External_dst       False\n",
      "Segment_src        False\n",
      "Segment_dst        False\n",
      "Expoid_src         False\n",
      "Expoid_dst         False\n",
      "Length: 91, dtype: bool\n",
      "Max Value: 1678376515702898.0\n",
      "Min Value: -130.0\n"
     ]
    }
   ],
   "execution_count": 87
  },
  {
   "metadata": {
    "ExecuteTime": {
     "end_time": "2025-01-10T09:44:03.036010Z",
     "start_time": "2025-01-10T09:44:01.892859Z"
    }
   },
   "cell_type": "code",
   "source": "",
   "id": "39bc4cb6cf855891",
   "outputs": [],
   "execution_count": 88
  },
  {
   "metadata": {
    "ExecuteTime": {
     "end_time": "2025-01-10T09:44:05.543879Z",
     "start_time": "2025-01-10T09:44:03.056733Z"
    }
   },
   "cell_type": "code",
   "source": "",
   "id": "f750b3cae283d39f",
   "outputs": [
    {
     "name": "stdout",
     "output_type": "stream",
     "text": [
      "Contains NaN: SrcPort            False\n",
      "DstPort            False\n",
      "Protocol           False\n",
      "mTimestampStart    False\n",
      "mTimestampLast     False\n",
      "                   ...  \n",
      "External_dst       False\n",
      "Segment_src        False\n",
      "Segment_dst        False\n",
      "Expoid_src         False\n",
      "Expoid_dst         False\n",
      "Length: 91, dtype: bool\n",
      "Contains Infinity: SrcPort            False\n",
      "DstPort            False\n",
      "Protocol           False\n",
      "mTimestampStart    False\n",
      "mTimestampLast     False\n",
      "                   ...  \n",
      "External_dst       False\n",
      "Segment_src        False\n",
      "Segment_dst        False\n",
      "Expoid_src         False\n",
      "Expoid_dst         False\n",
      "Length: 91, dtype: bool\n",
      "Max Value: 1678376515702898.0\n",
      "Min Value: -130.0\n"
     ]
    }
   ],
   "execution_count": 89
  },
  {
   "metadata": {
    "ExecuteTime": {
     "end_time": "2025-01-10T09:44:07.289868Z",
     "start_time": "2025-01-10T09:44:05.564467Z"
    }
   },
   "cell_type": "code",
   "source": "",
   "id": "b7e1f3ebd950cead",
   "outputs": [],
   "execution_count": 90
  },
  {
   "metadata": {
    "ExecuteTime": {
     "end_time": "2025-01-10T09:44:07.311221Z",
     "start_time": "2025-01-10T09:44:07.309520Z"
    }
   },
   "cell_type": "code",
   "source": "",
   "id": "9c1bbe8a28e57317",
   "outputs": [],
   "execution_count": null
  },
  {
   "metadata": {
    "ExecuteTime": {
     "end_time": "2025-01-10T09:44:07.326264Z",
     "start_time": "2025-01-10T09:44:07.324332Z"
    }
   },
   "cell_type": "code",
   "source": "",
   "id": "c2d85a2c09335760",
   "outputs": [],
   "execution_count": 91
  },
  {
   "metadata": {
    "ExecuteTime": {
     "end_time": "2025-01-10T09:44:07.342999Z",
     "start_time": "2025-01-10T09:44:07.341367Z"
    }
   },
   "cell_type": "code",
   "source": "",
   "id": "18bbc23c2e7bbfa0",
   "outputs": [],
   "execution_count": 92
  },
  {
   "metadata": {
    "ExecuteTime": {
     "end_time": "2025-01-10T09:44:15.377953Z",
     "start_time": "2025-01-10T09:44:07.366693Z"
    }
   },
   "cell_type": "code",
   "source": "",
   "id": "a590a4666472fc77",
   "outputs": [],
   "execution_count": 93
  },
  {
   "metadata": {
    "ExecuteTime": {
     "end_time": "2025-01-10T09:44:15.682232Z",
     "start_time": "2025-01-10T09:44:15.677178Z"
    }
   },
   "cell_type": "code",
   "source": "",
   "id": "c37839d0a70f50fa",
   "outputs": [
    {
     "name": "stdout",
     "output_type": "stream",
     "text": [
      "Training: 80.00%\n",
      "Validation: 10.00%\n",
      "Test: 10.00%\n"
     ]
    }
   ],
   "execution_count": 94
  },
  {
   "metadata": {
    "ExecuteTime": {
     "end_time": "2025-01-10T09:44:18.457888Z",
     "start_time": "2025-01-10T09:44:18.454906Z"
    }
   },
   "cell_type": "code",
   "source": "",
   "id": "691570de771f2f25",
   "outputs": [],
   "execution_count": 95
  },
  {
   "metadata": {
    "ExecuteTime": {
     "end_time": "2025-01-10T09:44:20.403670Z",
     "start_time": "2025-01-10T09:44:19.061792Z"
    }
   },
   "cell_type": "code",
   "source": "",
   "id": "16cd52aee3986d8e",
   "outputs": [],
   "execution_count": 96
  },
  {
   "metadata": {
    "ExecuteTime": {
     "end_time": "2025-01-10T09:46:11.851280Z",
     "start_time": "2025-01-10T09:46:11.846726Z"
    }
   },
   "cell_type": "code",
   "source": "",
   "id": "6c3655bb728a4036",
   "outputs": [],
   "execution_count": 110
  },
  {
   "metadata": {
    "ExecuteTime": {
     "end_time": "2025-01-10T09:46:25.085487Z",
     "start_time": "2025-01-10T09:46:12.734572Z"
    }
   },
   "cell_type": "code",
   "source": "",
   "id": "aba6044767f967bc",
   "outputs": [
    {
     "name": "stdout",
     "output_type": "stream",
     "text": [
      "[0]\ttrain-logloss:0.59874\tvalidation-logloss:0.59872\n",
      "[1]\ttrain-logloss:0.52147\tvalidation-logloss:0.52147\n",
      "[2]\ttrain-logloss:0.45692\tvalidation-logloss:0.45691\n",
      "[3]\ttrain-logloss:0.40229\tvalidation-logloss:0.40228\n",
      "[4]\ttrain-logloss:0.35562\tvalidation-logloss:0.35562\n",
      "[5]\ttrain-logloss:0.31545\tvalidation-logloss:0.31545\n",
      "[6]\ttrain-logloss:0.28047\tvalidation-logloss:0.28049\n",
      "[7]\ttrain-logloss:0.24996\tvalidation-logloss:0.25000\n",
      "[8]\ttrain-logloss:0.22317\tvalidation-logloss:0.22322\n",
      "[9]\ttrain-logloss:0.19957\tvalidation-logloss:0.19963\n",
      "[10]\ttrain-logloss:0.17870\tvalidation-logloss:0.17876\n",
      "[11]\ttrain-logloss:0.16023\tvalidation-logloss:0.16030\n",
      "[12]\ttrain-logloss:0.14387\tvalidation-logloss:0.14395\n",
      "[13]\ttrain-logloss:0.12932\tvalidation-logloss:0.12941\n",
      "[14]\ttrain-logloss:0.11626\tvalidation-logloss:0.11636\n",
      "[15]\ttrain-logloss:0.10463\tvalidation-logloss:0.10474\n",
      "[16]\ttrain-logloss:0.09423\tvalidation-logloss:0.09434\n",
      "[17]\ttrain-logloss:0.08498\tvalidation-logloss:0.08509\n",
      "[18]\ttrain-logloss:0.07662\tvalidation-logloss:0.07673\n",
      "[19]\ttrain-logloss:0.06911\tvalidation-logloss:0.06922\n",
      "[20]\ttrain-logloss:0.06239\tvalidation-logloss:0.06250\n",
      "[21]\ttrain-logloss:0.05631\tvalidation-logloss:0.05643\n",
      "[22]\ttrain-logloss:0.05085\tvalidation-logloss:0.05096\n",
      "[23]\ttrain-logloss:0.04594\tvalidation-logloss:0.04606\n",
      "[24]\ttrain-logloss:0.04151\tvalidation-logloss:0.04163\n",
      "[25]\ttrain-logloss:0.03752\tvalidation-logloss:0.03765\n",
      "[26]\ttrain-logloss:0.03393\tvalidation-logloss:0.03405\n",
      "[27]\ttrain-logloss:0.03071\tvalidation-logloss:0.03083\n",
      "[28]\ttrain-logloss:0.02779\tvalidation-logloss:0.02792\n",
      "[29]\ttrain-logloss:0.02516\tvalidation-logloss:0.02529\n",
      "[30]\ttrain-logloss:0.02279\tvalidation-logloss:0.02291\n",
      "[31]\ttrain-logloss:0.02064\tvalidation-logloss:0.02077\n",
      "[32]\ttrain-logloss:0.01869\tvalidation-logloss:0.01881\n",
      "[33]\ttrain-logloss:0.01694\tvalidation-logloss:0.01706\n",
      "[34]\ttrain-logloss:0.01536\tvalidation-logloss:0.01549\n",
      "[35]\ttrain-logloss:0.01391\tvalidation-logloss:0.01404\n",
      "[36]\ttrain-logloss:0.01261\tvalidation-logloss:0.01272\n",
      "[37]\ttrain-logloss:0.01143\tvalidation-logloss:0.01155\n",
      "[38]\ttrain-logloss:0.01036\tvalidation-logloss:0.01048\n",
      "[39]\ttrain-logloss:0.00939\tvalidation-logloss:0.00951\n",
      "[40]\ttrain-logloss:0.00852\tvalidation-logloss:0.00863\n",
      "[41]\ttrain-logloss:0.00773\tvalidation-logloss:0.00785\n",
      "[42]\ttrain-logloss:0.00702\tvalidation-logloss:0.00713\n",
      "[43]\ttrain-logloss:0.00637\tvalidation-logloss:0.00649\n",
      "[44]\ttrain-logloss:0.00579\tvalidation-logloss:0.00591\n",
      "[45]\ttrain-logloss:0.00526\tvalidation-logloss:0.00538\n",
      "[46]\ttrain-logloss:0.00478\tvalidation-logloss:0.00490\n",
      "[47]\ttrain-logloss:0.00435\tvalidation-logloss:0.00447\n",
      "[48]\ttrain-logloss:0.00396\tvalidation-logloss:0.00408\n",
      "[49]\ttrain-logloss:0.00360\tvalidation-logloss:0.00372\n",
      "[50]\ttrain-logloss:0.00327\tvalidation-logloss:0.00339\n",
      "[51]\ttrain-logloss:0.00298\tvalidation-logloss:0.00310\n",
      "[52]\ttrain-logloss:0.00271\tvalidation-logloss:0.00284\n",
      "[53]\ttrain-logloss:0.00247\tvalidation-logloss:0.00259\n",
      "[54]\ttrain-logloss:0.00225\tvalidation-logloss:0.00237\n",
      "[55]\ttrain-logloss:0.00205\tvalidation-logloss:0.00217\n",
      "[56]\ttrain-logloss:0.00187\tvalidation-logloss:0.00199\n",
      "[57]\ttrain-logloss:0.00170\tvalidation-logloss:0.00183\n",
      "[58]\ttrain-logloss:0.00156\tvalidation-logloss:0.00168\n",
      "[59]\ttrain-logloss:0.00142\tvalidation-logloss:0.00155\n",
      "[60]\ttrain-logloss:0.00130\tvalidation-logloss:0.00143\n",
      "[61]\ttrain-logloss:0.00119\tvalidation-logloss:0.00132\n",
      "[62]\ttrain-logloss:0.00109\tvalidation-logloss:0.00122\n",
      "[63]\ttrain-logloss:0.00100\tvalidation-logloss:0.00112\n",
      "[64]\ttrain-logloss:0.00092\tvalidation-logloss:0.00104\n",
      "[65]\ttrain-logloss:0.00084\tvalidation-logloss:0.00097\n",
      "[66]\ttrain-logloss:0.00078\tvalidation-logloss:0.00090\n",
      "[67]\ttrain-logloss:0.00071\tvalidation-logloss:0.00084\n",
      "[68]\ttrain-logloss:0.00066\tvalidation-logloss:0.00078\n",
      "[69]\ttrain-logloss:0.00060\tvalidation-logloss:0.00073\n",
      "[70]\ttrain-logloss:0.00056\tvalidation-logloss:0.00068\n",
      "[71]\ttrain-logloss:0.00052\tvalidation-logloss:0.00064\n",
      "[72]\ttrain-logloss:0.00048\tvalidation-logloss:0.00060\n",
      "[73]\ttrain-logloss:0.00044\tvalidation-logloss:0.00057\n",
      "[74]\ttrain-logloss:0.00041\tvalidation-logloss:0.00053\n",
      "[75]\ttrain-logloss:0.00038\tvalidation-logloss:0.00051\n",
      "[76]\ttrain-logloss:0.00035\tvalidation-logloss:0.00048\n",
      "[77]\ttrain-logloss:0.00033\tvalidation-logloss:0.00046\n",
      "[78]\ttrain-logloss:0.00031\tvalidation-logloss:0.00043\n",
      "[79]\ttrain-logloss:0.00029\tvalidation-logloss:0.00042\n",
      "[80]\ttrain-logloss:0.00027\tvalidation-logloss:0.00040\n",
      "[81]\ttrain-logloss:0.00025\tvalidation-logloss:0.00038\n",
      "[82]\ttrain-logloss:0.00024\tvalidation-logloss:0.00037\n",
      "[83]\ttrain-logloss:0.00022\tvalidation-logloss:0.00035\n",
      "[84]\ttrain-logloss:0.00021\tvalidation-logloss:0.00034\n",
      "[85]\ttrain-logloss:0.00020\tvalidation-logloss:0.00033\n",
      "[86]\ttrain-logloss:0.00018\tvalidation-logloss:0.00032\n",
      "[87]\ttrain-logloss:0.00017\tvalidation-logloss:0.00031\n",
      "[88]\ttrain-logloss:0.00017\tvalidation-logloss:0.00030\n",
      "[89]\ttrain-logloss:0.00016\tvalidation-logloss:0.00029\n",
      "[90]\ttrain-logloss:0.00015\tvalidation-logloss:0.00028\n",
      "[91]\ttrain-logloss:0.00014\tvalidation-logloss:0.00028\n",
      "[92]\ttrain-logloss:0.00014\tvalidation-logloss:0.00027\n",
      "[93]\ttrain-logloss:0.00013\tvalidation-logloss:0.00026\n",
      "[94]\ttrain-logloss:0.00012\tvalidation-logloss:0.00026\n",
      "[95]\ttrain-logloss:0.00012\tvalidation-logloss:0.00025\n",
      "[96]\ttrain-logloss:0.00011\tvalidation-logloss:0.00025\n",
      "[97]\ttrain-logloss:0.00011\tvalidation-logloss:0.00024\n",
      "[98]\ttrain-logloss:0.00011\tvalidation-logloss:0.00024\n",
      "[99]\ttrain-logloss:0.00010\tvalidation-logloss:0.00023\n"
     ]
    }
   ],
   "execution_count": 111
  },
  {
   "metadata": {
    "ExecuteTime": {
     "end_time": "2025-01-10T09:46:34.231401Z",
     "start_time": "2025-01-10T09:46:34.229454Z"
    }
   },
   "cell_type": "code",
   "source": "",
   "id": "7f2c0417ab8e0e82",
   "outputs": [],
   "execution_count": 112
  },
  {
   "metadata": {
    "ExecuteTime": {
     "end_time": "2025-01-10T09:46:35.593567Z",
     "start_time": "2025-01-10T09:46:35.200144Z"
    }
   },
   "cell_type": "code",
   "source": "",
   "id": "8e1ce24ce3b14ee",
   "outputs": [
    {
     "name": "stdout",
     "output_type": "stream",
     "text": [
      "Test Accuracy: 1.00\n"
     ]
    }
   ],
   "execution_count": 113
  },
  {
   "metadata": {
    "ExecuteTime": {
     "end_time": "2025-01-10T09:46:36.997295Z",
     "start_time": "2025-01-10T09:46:36.693262Z"
    }
   },
   "cell_type": "code",
   "source": "",
   "id": "ca9be7385a96e791",
   "outputs": [
    {
     "name": "stdout",
     "output_type": "stream",
     "text": [
      "Classification Report:\n",
      "              precision    recall  f1-score   support\n",
      "\n",
      "           0       1.00      1.00      1.00    164875\n",
      "           1       1.00      1.00      1.00    164045\n",
      "\n",
      "    accuracy                           1.00    328920\n",
      "   macro avg       1.00      1.00      1.00    328920\n",
      "weighted avg       1.00      1.00      1.00    328920\n",
      "\n"
     ]
    }
   ],
   "execution_count": 114
  },
  {
   "metadata": {
    "ExecuteTime": {
     "end_time": "2025-01-10T09:46:37.209557Z",
     "start_time": "2025-01-10T09:46:37.081867Z"
    }
   },
   "cell_type": "code",
   "source": "",
   "id": "835d97332ae1c65f",
   "outputs": [
    {
     "data": {
      "text/plain": [
       "<sklearn.metrics._plot.confusion_matrix.ConfusionMatrixDisplay at 0x34ea35850>"
      ]
     },
     "execution_count": 115,
     "metadata": {},
     "output_type": "execute_result"
    },
    {
     "data": {
      "text/plain": [
       "<Figure size 640x480 with 2 Axes>"
      ],
      "image/png": "[encoded data removed]"
     },
     "metadata": {},
     "output_type": "display_data"
    }
   ],
   "execution_count": 115
  },
  {
   "metadata": {
    "ExecuteTime": {
     "end_time": "2025-01-10T09:46:37.690249Z",
     "start_time": "2025-01-10T09:46:37.562447Z"
    }
   },
   "cell_type": "code",
   "source": "",
   "id": "b49a9cde5fefcafc",
   "outputs": [
    {
     "data": {
      "text/plain": [
       "<Figure size 640x480 with 1 Axes>"
      ],
      "image/png": "[encoded data removed]"
     },
     "metadata": {},
     "output_type": "display_data"
    }
   ],
   "execution_count": 116
  },
  {
   "metadata": {
    "ExecuteTime": {
     "end_time": "2025-01-10T08:34:57.013468Z",
     "start_time": "2025-01-10T08:34:57.010021Z"
    }
   },
   "cell_type": "code",
   "source": "",
   "id": "24f4a2f116360d12",
   "outputs": [],
   "execution_count": null
  },
  {
   "metadata": {
    "ExecuteTime": {
     "end_time": "2025-01-10T09:47:06.494073Z",
     "start_time": "2025-01-10T09:47:06.490760Z"
    }
   },
   "cell_type": "code",
   "source": "",
   "id": "15185f979486d1cd",
   "outputs": [],
   "execution_count": null
  },
  {
   "metadata": {
    "ExecuteTime": {
     "end_time": "2025-01-10T09:47:06.748504Z",
     "start_time": "2025-01-10T09:47:06.747032Z"
    }
   },
   "cell_type": "code",
   "source": "",
   "id": "8bb861f3f98c01f5",
   "outputs": [],
   "execution_count": null
  },
  {
   "metadata": {
    "ExecuteTime": {
     "end_time": "2025-01-10T09:48:34.601694Z",
     "start_time": "2025-01-10T09:48:34.592902Z"
    }
   },
   "cell_type": "code",
   "source": [
    "# debuging\n",
    "X.head()"
   ],
   "id": "94c1b808c2b52361",
   "outputs": [
    {
     "data": {
      "text/plain": [
       "   SrcPort  DstPort  Protocol   mTimestampStart    mTimestampLast  \\\n",
       "0    64286       80         6  1678369949284619  1678369949295858   \n",
       "1    53267       80         6  1678367661716757  1678367661723688   \n",
       "2    61382      443         6  1678366467408717  1678366467424855   \n",
       "3    51085       80         6  1678358112170128  1678358112190397   \n",
       "4    48249     8472        17  1678277529708947  1678277529708956   \n",
       "\n",
       "   Flow Duration  Flow Bytes/s  Flow Packets/s  Tot Fwd Pkts  Tot Bwd Pkts  \\\n",
       "0          11239  2.467301e+05     1512.590088            12             5   \n",
       "1           6931  3.432405e+05     3029.865820            16             5   \n",
       "2          16138  3.139794e+05     2292.725245            29             8   \n",
       "3          20269  1.502294e+05      937.392077            14             5   \n",
       "4              9  2.066667e+07   333333.333333             3             0   \n",
       "\n",
       "   ...  L3/L4 Protocol  Int/Ext Dst IP  Conn_state  Service  External_src  \\\n",
       "0  ...               0               1           8       25             0   \n",
       "1  ...               0               1           8        3             0   \n",
       "2  ...               0               1           0       20             0   \n",
       "3  ...               0               1           8       25             0   \n",
       "4  ...               1               0          11       25             0   \n",
       "\n",
       "   External_dst  Segment_src  Segment_dst  Expoid_src  Expoid_dst  \n",
       "0             1            6           20          32         152  \n",
       "1             1            6           20          38         152  \n",
       "2             1            6           20         130         152  \n",
       "3             1            4           20         124         152  \n",
       "4             0           10           10          72          69  \n",
       "\n",
       "[5 rows x 91 columns]"
      ],
      "text/html": [
       "<div>\n",
       "<style scoped>\n",
       "    .dataframe tbody tr th:only-of-type {\n",
       "        vertical-align: middle;\n",
       "    }\n",
       "\n",
       "    .dataframe tbody tr th {\n",
       "        vertical-align: top;\n",
       "    }\n",
       "\n",
       "    .dataframe thead th {\n",
       "        text-align: right;\n",
       "    }\n",
       "</style>\n",
       "<table border=\"1\" class=\"dataframe\">\n",
       "  <thead>\n",
       "    <tr style=\"text-align: right;\">\n",
       "      <th></th>\n",
       "      <th>SrcPort</th>\n",
       "      <th>DstPort</th>\n",
       "      <th>Protocol</th>\n",
       "      <th>mTimestampStart</th>\n",
       "      <th>mTimestampLast</th>\n",
       "      <th>Flow Duration</th>\n",
       "      <th>Flow Bytes/s</th>\n",
       "      <th>Flow Packets/s</th>\n",
       "      <th>Tot Fwd Pkts</th>\n",
       "      <th>Tot Bwd Pkts</th>\n",
       "      <th>...</th>\n",
       "      <th>L3/L4 Protocol</th>\n",
       "      <th>Int/Ext Dst IP</th>\n",
       "      <th>Conn_state</th>\n",
       "      <th>Service</th>\n",
       "      <th>External_src</th>\n",
       "      <th>External_dst</th>\n",
       "      <th>Segment_src</th>\n",
       "      <th>Segment_dst</th>\n",
       "      <th>Expoid_src</th>\n",
       "      <th>Expoid_dst</th>\n",
       "    </tr>\n",
       "  </thead>\n",
       "  <tbody>\n",
       "    <tr>\n",
       "      <th>0</th>\n",
       "      <td>64286</td>\n",
       "      <td>80</td>\n",
       "      <td>6</td>\n",
       "      <td>1678369949284619</td>\n",
       "      <td>1678369949295858</td>\n",
       "      <td>11239</td>\n",
       "      <td>2.467301e+05</td>\n",
       "      <td>1512.590088</td>\n",
       "      <td>12</td>\n",
       "      <td>5</td>\n",
       "      <td>...</td>\n",
       "      <td>0</td>\n",
       "      <td>1</td>\n",
       "      <td>8</td>\n",
       "      <td>25</td>\n",
       "      <td>0</td>\n",
       "      <td>1</td>\n",
       "      <td>6</td>\n",
       "      <td>20</td>\n",
       "      <td>32</td>\n",
       "      <td>152</td>\n",
       "    </tr>\n",
       "    <tr>\n",
       "      <th>1</th>\n",
       "      <td>53267</td>\n",
       "      <td>80</td>\n",
       "      <td>6</td>\n",
       "      <td>1678367661716757</td>\n",
       "      <td>1678367661723688</td>\n",
       "      <td>6931</td>\n",
       "      <td>3.432405e+05</td>\n",
       "      <td>3029.865820</td>\n",
       "      <td>16</td>\n",
       "      <td>5</td>\n",
       "      <td>...</td>\n",
       "      <td>0</td>\n",
       "      <td>1</td>\n",
       "      <td>8</td>\n",
       "      <td>3</td>\n",
       "      <td>0</td>\n",
       "      <td>1</td>\n",
       "      <td>6</td>\n",
       "      <td>20</td>\n",
       "      <td>38</td>\n",
       "      <td>152</td>\n",
       "    </tr>\n",
       "    <tr>\n",
       "      <th>2</th>\n",
       "      <td>61382</td>\n",
       "      <td>443</td>\n",
       "      <td>6</td>\n",
       "      <td>1678366467408717</td>\n",
       "      <td>1678366467424855</td>\n",
       "      <td>16138</td>\n",
       "      <td>3.139794e+05</td>\n",
       "      <td>2292.725245</td>\n",
       "      <td>29</td>\n",
       "      <td>8</td>\n",
       "      <td>...</td>\n",
       "      <td>0</td>\n",
       "      <td>1</td>\n",
       "      <td>0</td>\n",
       "      <td>20</td>\n",
       "      <td>0</td>\n",
       "      <td>1</td>\n",
       "      <td>6</td>\n",
       "      <td>20</td>\n",
       "      <td>130</td>\n",
       "      <td>152</td>\n",
       "    </tr>\n",
       "    <tr>\n",
       "      <th>3</th>\n",
       "      <td>51085</td>\n",
       "      <td>80</td>\n",
       "      <td>6</td>\n",
       "      <td>1678358112170128</td>\n",
       "      <td>1678358112190397</td>\n",
       "      <td>20269</td>\n",
       "      <td>1.502294e+05</td>\n",
       "      <td>937.392077</td>\n",
       "      <td>14</td>\n",
       "      <td>5</td>\n",
       "      <td>...</td>\n",
       "      <td>0</td>\n",
       "      <td>1</td>\n",
       "      <td>8</td>\n",
       "      <td>25</td>\n",
       "      <td>0</td>\n",
       "      <td>1</td>\n",
       "      <td>4</td>\n",
       "      <td>20</td>\n",
       "      <td>124</td>\n",
       "      <td>152</td>\n",
       "    </tr>\n",
       "    <tr>\n",
       "      <th>4</th>\n",
       "      <td>48249</td>\n",
       "      <td>8472</td>\n",
       "      <td>17</td>\n",
       "      <td>1678277529708947</td>\n",
       "      <td>1678277529708956</td>\n",
       "      <td>9</td>\n",
       "      <td>2.066667e+07</td>\n",
       "      <td>333333.333333</td>\n",
       "      <td>3</td>\n",
       "      <td>0</td>\n",
       "      <td>...</td>\n",
       "      <td>1</td>\n",
       "      <td>0</td>\n",
       "      <td>11</td>\n",
       "      <td>25</td>\n",
       "      <td>0</td>\n",
       "      <td>0</td>\n",
       "      <td>10</td>\n",
       "      <td>10</td>\n",
       "      <td>72</td>\n",
       "      <td>69</td>\n",
       "    </tr>\n",
       "  </tbody>\n",
       "</table>\n",
       "<p>5 rows × 91 columns</p>\n",
       "</div>"
      ]
     },
     "execution_count": 121,
     "metadata": {},
     "output_type": "execute_result"
    }
   ],
   "execution_count": 121
  },
  {
   "metadata": {
    "ExecuteTime": {
     "end_time": "2025-01-10T09:49:01.681978Z",
     "start_time": "2025-01-10T09:49:01.569358Z"
    }
   },
   "cell_type": "code",
   "source": [
    "import matplotlib.pyplot as plt\n",
    "\n",
    "# Visualization 1: Distribution of `Flow Duration` and `Flow Bytes/s`\n",
    "plt.figure(figsize=(10, 6))\n",
    "plt.scatter(range(len(X.head())), X.head()['Flow Duration'], label=\"Flow Duration\", s=100, color='tomato', alpha=0.7)\n",
    "plt.scatter(range(len(X.head())), X.head()['Flow Bytes/s'], label=\"Flow Bytes/s\", s=100, color='blue', alpha=0.7)\n",
    "plt.plot(range(len(X.head())), X.head()['Flow Duration'], color='tomato', alpha=0.5, linestyle='--')\n",
    "plt.plot(range(len(X.head())), X.head()['Flow Bytes/s'], color='blue', alpha=0.5, linestyle='--')\n",
    "plt.title(\"Comparison of Flow Duration and Flow Bytes/s\", fontsize=16, fontweight='bold')\n",
    "plt.xlabel(\"Index of Observations\", fontsize=13)\n",
    "plt.ylabel(\"Value\", fontsize=13)\n",
    "plt.legend()\n",
    "plt.grid(alpha=0.4)\n",
    "plt.tight_layout()\n",
    "plt.show()\n"
   ],
   "id": "cab5ed69b618c036",
   "outputs": [
    {
     "data": {
      "text/plain": [
       "<Figure size 1000x600 with 1 Axes>"
      ],
      "image/png": "[encoded data removed]"
     },
     "metadata": {},
     "output_type": "display_data"
    }
   ],
   "execution_count": 122
  },
  {
   "metadata": {
    "ExecuteTime": {
     "end_time": "2025-01-10T09:49:21.650944Z",
     "start_time": "2025-01-10T09:49:21.531096Z"
    }
   },
   "cell_type": "code",
   "source": [
    "import matplotlib.pyplot as plt\n",
    "\n",
    "# Visualization 2: Protocol Usage with Flow Packets/s\n",
    "fig, ax1 = plt.subplots(figsize=(10, 6))\n",
    "ax2 = ax1.twinx()\n",
    "\n",
    "ax1.bar(X.head().index, X.head()['Protocol'], color='skyblue', label=\"Protocol\", alpha=0.8, width=0.3, align='edge')\n",
    "ax2.plot(X.head().index, X.head()['Flow Packets/s'], color='salmon', label=\"Flow Packets/s\", marker='o')\n",
    "\n",
    "ax1.set_xlabel('Observation Index', fontsize=13)\n",
    "ax1.set_ylabel('Protocol', color='blue', fontsize=13)\n",
    "ax2.set_ylabel('Flow Packets/s', color='red', fontsize=13)\n",
    "ax1.tick_params(axis='y', labelcolor='blue')\n",
    "ax2.tick_params(axis='y', labelcolor='red')\n",
    "fig.suptitle(\"Protocol vs Flow Packets/s\", fontsize=16, fontweight='bold')\n",
    "lines1, labels1 = ax1.get_legend_handles_labels()\n",
    "lines2, labels2 = ax2.get_legend_handles_labels()\n",
    "ax1.legend(lines1 + lines2, labels1 + labels2, loc='upper center')\n",
    "plt.grid(alpha=0.4)\n",
    "plt.tight_layout()\n",
    "plt.show()\n"
   ],
   "id": "a1d35aa890f5bdf4",
   "outputs": [
    {
     "data": {
      "text/plain": [
       "<Figure size 1000x600 with 2 Axes>"
      ],
      "image/png": "[encoded data removed]"
     },
     "metadata": {},
     "output_type": "display_data"
    }
   ],
   "execution_count": 123
  },
  {
   "metadata": {
    "ExecuteTime": {
     "end_time": "2025-01-10T09:49:35.314190Z",
     "start_time": "2025-01-10T09:49:35.241780Z"
    }
   },
   "cell_type": "code",
   "source": [
    "import matplotlib.pyplot as plt\n",
    "\n",
    "# Visualization 3: Total Forward and Backward Packets\n",
    "plt.figure(figsize=(10, 6))\n",
    "indices = range(len(X.head()))\n",
    "plt.bar(indices, X.head()['Tot Fwd Pkts'], color='mediumslateblue', alpha=0.8, width=0.4, label='Tot Fwd Pkts',\n",
    "        align='center')\n",
    "plt.bar(indices, X.head()['Tot Bwd Pkts'], color='darkorange', alpha=0.8, width=0.4, label='Tot Bwd Pkts', align='edge')\n",
    "plt.title(\"Total Forward and Backward Packets\", fontsize=16, fontweight='bold')\n",
    "plt.xlabel(\"Observation Index\", fontsize=13)\n",
    "plt.ylabel(\"Total Packets\", fontsize=13)\n",
    "plt.xticks(indices, [f'Obs {i}' for i in indices])\n",
    "plt.legend()\n",
    "plt.grid(alpha=0.4)\n",
    "plt.tight_layout()\n",
    "plt.show()\n"
   ],
   "id": "50439678895067b6",
   "outputs": [
    {
     "data": {
      "text/plain": [
       "<Figure size 1000x600 with 1 Axes>"
      ],
      "image/png": "[encoded data removed]"
     },
     "metadata": {},
     "output_type": "display_data"
    }
   ],
   "execution_count": 124
  },
  {
   "metadata": {
    "ExecuteTime": {
     "end_time": "2025-01-10T09:47:07.540397Z",
     "start_time": "2025-01-10T09:47:07.538705Z"
    }
   },
   "cell_type": "code",
   "source": "",
   "id": "7c70aacd7e0bf240",
   "outputs": [],
   "execution_count": null
  },
  {
   "metadata": {
    "ExecuteTime": {
     "end_time": "2025-01-10T09:47:07.657774Z",
     "start_time": "2025-01-10T09:47:07.656205Z"
    }
   },
   "cell_type": "code",
   "source": "",
   "id": "b571043f908cb699",
   "outputs": [],
   "execution_count": null
  },
  {
   "metadata": {},
   "cell_type": "code",
   "outputs": [],
   "execution_count": null,
   "source": "",
   "id": "c4d36fd2cf665365"
  }
 ],
 "metadata": {
  "kernelspec": {
   "display_name": "Python 3",
   "language": "python",
   "name": "python3"
  },
  "language_info": {
   "codemirror_mode": {
    "name": "ipython",
    "version": 2
   },
   "file_extension": ".py",
   "mimetype": "text/x-python",
   "name": "python",
   "nbconvert_exporter": "python",
   "pygments_lexer": "ipython2",
   "version": "2.7.6"
  }
 },
 "nbformat": 4,
 "nbformat_minor": 5
}
