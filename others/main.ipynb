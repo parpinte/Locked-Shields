{
 "cells": [
  {
   "cell_type": "code",
   "id": "initial_id",
   "metadata": {
    "collapsed": true,
    "ExecuteTime": {
     "end_time": "2025-01-09T13:11:09.194403Z",
     "start_time": "2025-01-09T13:11:09.189419Z"
    }
   },
   "source": "# lets start by uploading the different librairies",
   "outputs": [],
   "execution_count": 1
  },
  {
   "metadata": {},
   "cell_type": "markdown",
   "source": "#",
   "id": "1ae8e37d70acef4c"
  },
  {
   "metadata": {},
   "cell_type": "markdown",
   "source": "",
   "id": "851350055d05bd65"
  },
  {
   "metadata": {
    "ExecuteTime": {
     "end_time": "2025-01-15T12:13:24.367638Z",
     "start_time": "2025-01-15T12:13:23.844847Z"
    }
   },
   "cell_type": "code",
   "source": [
    "import pandas as pd\n",
    "import numpy as np\n",
    "from numpy.lib.tests.test__datasource import malicious_files\n",
    "from sklearn.model_selection import train_test_split\n"
   ],
   "id": "33e5b45f1af878fe",
   "outputs": [],
   "execution_count": 1
  },
  {
   "metadata": {
    "ExecuteTime": {
     "end_time": "2025-01-09T13:16:19.533927Z",
     "start_time": "2025-01-09T13:12:23.489103Z"
    }
   },
   "cell_type": "code",
   "source": [
    "\n",
    "data = pd.read_csv('/mnt/LockShieldStorage/project/ls23pr_v1.csv', low_memory=False)"
   ],
   "id": "260d9cb35ad4cebe",
   "outputs": [],
   "execution_count": 5
  },
  {
   "metadata": {
    "ExecuteTime": {
     "end_time": "2025-01-09T13:21:22.658699Z",
     "start_time": "2025-01-09T13:21:22.651397Z"
    }
   },
   "cell_type": "code",
   "source": [
    "data.columns.to_list()\n",
    "# data.columns = data.columns.str.strip()"
   ],
   "id": "af9360912f44f008",
   "outputs": [
    {
     "data": {
      "text/plain": [
       "['Flow ID',\n",
       " 'SrcIP',\n",
       " 'DstIP',\n",
       " 'SrcPort',\n",
       " 'DstPort',\n",
       " 'Protocol',\n",
       " 'mTimestampStart',\n",
       " 'mTimestampLast',\n",
       " 'Flow Duration',\n",
       " 'Flow Bytes/s',\n",
       " 'Flow Packets/s',\n",
       " 'Tot Fwd Pkts',\n",
       " 'Tot Bwd Pkts',\n",
       " 'Total Length of Fwd Packet',\n",
       " 'Total Length of Bwd Packet',\n",
       " 'Fwd Packet Length Min',\n",
       " 'Fwd Packet Length Max',\n",
       " 'Fwd Packet Length Mean',\n",
       " 'Fwd Packet Length Std',\n",
       " 'Bwd Packet Length Min',\n",
       " 'Bwd Packet Length Max',\n",
       " 'Bwd Packet Length Mean',\n",
       " 'Bwd Packet Length Std',\n",
       " 'Flow IAT Mean',\n",
       " 'Flow IAT Min',\n",
       " 'Flow IAT Max',\n",
       " 'Flow IAT Stddev',\n",
       " 'Fwd IAT Min',\n",
       " 'Fwd IAT Max',\n",
       " 'Fwd IAT Mean',\n",
       " 'Fwd IAT Std',\n",
       " 'Fwd IAT Tot',\n",
       " 'Bwd IAT Min',\n",
       " 'Bwd IAT Max',\n",
       " 'Bwd IAT Mean',\n",
       " 'Bwd IAT Std',\n",
       " 'Bwd IAT Tot',\n",
       " 'Fwd PSH flags',\n",
       " 'Bwd PSH flags',\n",
       " 'Fwd URG flags',\n",
       " 'Bwd URG flags',\n",
       " 'Fwd Header Length',\n",
       " 'Bwd Header Length',\n",
       " 'Fwd Packets/s',\n",
       " 'Bwd Packets/s',\n",
       " 'Packet Length Min',\n",
       " 'Packet Length Max',\n",
       " 'Packet Length Mean',\n",
       " 'Packet Length Std',\n",
       " 'Packet Length Variance',\n",
       " 'FIN Flag Cnt',\n",
       " 'SYN Flag Cnt',\n",
       " 'RST Flag Cnt',\n",
       " 'PSH Flag Cnt',\n",
       " 'ACK Flag Cnt',\n",
       " 'URG Flag Cnt',\n",
       " 'CWR Flag Cnt',\n",
       " 'ECE Flag Cnt',\n",
       " 'Down/Up Ratio',\n",
       " 'Average Packet Size',\n",
       " 'Fwd Segment Size Avg',\n",
       " 'Bwd Segment Size Avg',\n",
       " 'Fwd Bytes/Bulk Avg',\n",
       " 'Fwd Packet/Bulk Avg',\n",
       " 'Fwd Bulk Rate Avg',\n",
       " 'Bwd Bytes/Bulk Avg',\n",
       " 'Bwd Packet/Bulk Avg',\n",
       " 'Bwd Bulk Rate Avg',\n",
       " 'Subflow Fwd Packets',\n",
       " 'Subflow Fwd Bytes',\n",
       " 'Subflow Bwd Packets',\n",
       " 'Subflow Bwd Bytes',\n",
       " 'FWD Init Win Bytes',\n",
       " 'Bwd Init Win Bytes',\n",
       " 'Fwd Act Data Pkts',\n",
       " 'Fwd Seg Size Min',\n",
       " 'Active Min',\n",
       " 'Active Mean',\n",
       " 'Active Max',\n",
       " 'Active Std',\n",
       " 'Idle Min',\n",
       " 'Idle Mean',\n",
       " 'Idle Max',\n",
       " 'Idle Std',\n",
       " 'SigID revision',\n",
       " 'Category',\n",
       " 'Severity',\n",
       " 'Anomaly_event',\n",
       " 'L3/L4 Protocol',\n",
       " 'Int/Ext Dst IP',\n",
       " 'Conn_state',\n",
       " 'Service',\n",
       " 'Label_src',\n",
       " 'Label_dst',\n",
       " 'Label',\n",
       " 'External_src',\n",
       " 'External_dst',\n",
       " 'Segment_src',\n",
       " 'Segment_dst',\n",
       " 'Expoid_src',\n",
       " 'Expoid_dst']"
      ]
     },
     "execution_count": 29,
     "metadata": {},
     "output_type": "execute_result"
    }
   ],
   "execution_count": 29
  },
  {
   "metadata": {
    "ExecuteTime": {
     "end_time": "2025-01-09T13:21:22.806111Z",
     "start_time": "2025-01-09T13:21:22.802181Z"
    }
   },
   "cell_type": "code",
   "source": [
    "suricata  =  ['SigID revision', 'Category','Severity', 'Anomaly_event' ]\n",
    "print(suricata)"
   ],
   "id": "238d6f5c4562893a",
   "outputs": [
    {
     "name": "stdout",
     "output_type": "stream",
     "text": [
      "['SigID revision', 'Category', 'Severity', 'Anomaly_event']\n"
     ]
    }
   ],
   "execution_count": 30
  },
  {
   "metadata": {
    "ExecuteTime": {
     "end_time": "2025-01-09T13:21:23.539684Z",
     "start_time": "2025-01-09T13:21:22.969479Z"
    }
   },
   "cell_type": "code",
   "source": "suricata_data = data[suricata]",
   "id": "b9e1fc469ce5ba4",
   "outputs": [],
   "execution_count": 31
  },
  {
   "metadata": {
    "jupyter": {
     "is_executing": true
    }
   },
   "cell_type": "code",
   "source": "data_flow = data.drop(columns=['SigID revision', 'Category','Severity', 'Anomaly_event' ])\n",
   "id": "43b04350780948d9",
   "outputs": [],
   "execution_count": null
  },
  {
   "metadata": {
    "ExecuteTime": {
     "end_time": "2025-01-09T13:26:35.203166Z",
     "start_time": "2025-01-09T13:16:33.796709Z"
    }
   },
   "cell_type": "code",
   "source": [
    "columns_specials = ['Label_src', 'Label_dst']\n",
    "DataFlow = data_flow.drop(columns=columns_specials)"
   ],
   "id": "7c61b4def0d845b9",
   "outputs": [],
   "execution_count": 12
  },
  {
   "metadata": {
    "ExecuteTime": {
     "end_time": "2025-01-09T13:26:35.207641Z",
     "start_time": "2025-01-09T13:16:36.947810Z"
    }
   },
   "cell_type": "code",
   "source": "print(DataFlow[\"Label\"].value_counts())",
   "id": "996c8b54487baeda",
   "outputs": [
    {
     "name": "stdout",
     "output_type": "stream",
     "text": [
      "Label\n",
      "0    14708912\n",
      "1     1644599\n",
      "Name: count, dtype: int64\n"
     ]
    }
   ],
   "execution_count": 13
  },
  {
   "metadata": {
    "ExecuteTime": {
     "end_time": "2025-01-09T13:26:35.209430Z",
     "start_time": "2025-01-09T13:16:46.478049Z"
    }
   },
   "cell_type": "code",
   "source": [
    "# I would like now to check the distribution of the data for the Label = 00\n",
    "# let's separate the 2 datas\n",
    "\n",
    "begnin = DataFlow[DataFlow[\"Label\"] == 0]\n",
    "malictious = DataFlow[DataFlow[\"Label\"] == 1]\n",
    "\n",
    "print(\"Begnin data size : \", begnin.shape)\n",
    "print(\"malicous Data size :\", malictious.shape)\n",
    "\n",
    "# lets keep enough datas for the two types of datas\n",
    "malicious_size = malictious.shape[0]\n",
    "begnin_data  = begnin.sample(n=malicious_size, random_state=142)\n",
    "\n",
    "print(\"Begnin data size : \", begnin_data.shape)\n",
    "print(\"malicous Data size :\", malictious.shape)\n",
    "\n",
    "\n",
    "\n"
   ],
   "id": "1e0a5a4f224c287b",
   "outputs": [
    {
     "name": "stdout",
     "output_type": "stream",
     "text": [
      "Begnin data size :  (14708912, 95)\n",
      "malicous Data size : (1644599, 95)\n",
      "Begnin data size :  (1644599, 95)\n",
      "malicous Data size : (1644599, 95)\n"
     ]
    }
   ],
   "execution_count": 14
  },
  {
   "metadata": {
    "ExecuteTime": {
     "end_time": "2025-01-09T13:26:35.211355Z",
     "start_time": "2025-01-09T13:16:54.440067Z"
    }
   },
   "cell_type": "code",
   "source": [
    "# lets make the two datasets together and shuffle\n",
    "\n",
    "balanced_data = pd.concat([begnin_data, malictious])\n",
    "print(\"size of balanced data : \", balanced_data.shape)\n",
    "\n",
    "balanced_data = balanced_data.sample(frac=1, random_state=42).reset_index(drop=True)\n",
    "\n"
   ],
   "id": "a7ea44680481f647",
   "outputs": [
    {
     "name": "stdout",
     "output_type": "stream",
     "text": [
      "size of balanced data :  (3289198, 95)\n"
     ]
    }
   ],
   "execution_count": 15
  },
  {
   "metadata": {
    "ExecuteTime": {
     "end_time": "2025-01-09T13:26:35.216580Z",
     "start_time": "2025-01-09T13:17:56.880612Z"
    }
   },
   "cell_type": "code",
   "source": "balanced_data.to_csv(\"balanced_data.csv\", index=False)",
   "id": "94fa2776d5cec5d7",
   "outputs": [],
   "execution_count": 16
  },
  {
   "metadata": {
    "ExecuteTime": {
     "end_time": "2025-01-10T13:32:57.228828Z",
     "start_time": "2025-01-10T13:31:08.737782Z"
    }
   },
   "cell_type": "code",
   "source": [
    "# lets load the datas\n",
    "balanced_data = pd.read_csv(\"balanced_data.csv\", low_memory=False)\n"
   ],
   "id": "77ff8ea2267d691d",
   "outputs": [],
   "execution_count": 45
  },
  {
   "metadata": {
    "ExecuteTime": {
     "end_time": "2025-01-10T13:32:57.319366Z",
     "start_time": "2025-01-10T13:32:57.312364Z"
    }
   },
   "cell_type": "code",
   "source": "balanced_data.head()",
   "id": "7381bf38412dd77e",
   "outputs": [
    {
     "data": {
      "text/plain": [
       "                                                                                       Flow ID  \\\n",
       "0                                                            10.5.8.2-100.101.1.193-64286-80-6   \n",
       "1                                                            10.5.8.4-100.101.1.193-53267-80-6   \n",
       "2  2a07:1182:0005:1001:0000:0000:0000:0037-2a00:16e0:0100:0000:c16d:8ed9:e86a:1111-61382-443-6   \n",
       "3                                                           10.5.12.12-57.70.176.80-51085-80-6   \n",
       "4                                                        100.96.5.31-100.96.5.32-48249-8472-17   \n",
       "\n",
       "                                     SrcIP  \\\n",
       "0                                 10.5.8.2   \n",
       "1                                 10.5.8.4   \n",
       "2  2a07:1182:0005:1001:0000:0000:0000:0037   \n",
       "3                               10.5.12.12   \n",
       "4                              100.96.5.31   \n",
       "\n",
       "                                     DstIP  SrcPort  DstPort  Protocol  \\\n",
       "0                            100.101.1.193    64286       80         6   \n",
       "1                            100.101.1.193    53267       80         6   \n",
       "2  2a00:16e0:0100:0000:c16d:8ed9:e86a:1111    61382      443         6   \n",
       "3                             57.70.176.80    51085       80         6   \n",
       "4                              100.96.5.32    48249     8472        17   \n",
       "\n",
       "    mTimestampStart    mTimestampLast  Flow Duration  Flow Bytes/s  ...  \\\n",
       "0  1678369949284619  1678369949295858          11239  2.467301e+05  ...   \n",
       "1  1678367661716757  1678367661723688           6931  3.432405e+05  ...   \n",
       "2  1678366467408717  1678366467424855          16138  3.139794e+05  ...   \n",
       "3  1678358112170128  1678358112190397          20269  1.502294e+05  ...   \n",
       "4  1678277529708947  1678277529708956              9  2.066667e+07  ...   \n",
       "\n",
       "   Int/Ext Dst IP  Conn_state  Service  Label  External_src  External_dst  \\\n",
       "0               1          SF      NaN      1             0             1   \n",
       "1               1          SF     Http      1             0             1   \n",
       "2               1         OTH      TLS      1             0             1   \n",
       "3               1          SF      NaN      1             0             1   \n",
       "4               0         NaN      NaN      0             0             0   \n",
       "\n",
       "   Segment_src  Segment_dst                        Expoid_src  \\\n",
       "0      baf_int          NaN        dc1.int.baf.05.berylia.org   \n",
       "1      baf_int          NaN      files.int.baf.05.berylia.org   \n",
       "2      baf_int          NaN  ws2-baf02.int.baf.05.berylia.org   \n",
       "3       baf_bg          NaN   ws1-bg02.int.baf.05.berylia.org   \n",
       "4      beg_dmz      beg_dmz   k8s-worker01.beg.05.berylia.org   \n",
       "\n",
       "                        Expoid_dst  \n",
       "0                              NaN  \n",
       "1                              NaN  \n",
       "2                              NaN  \n",
       "3                              NaN  \n",
       "4  k8s-worker02.beg.05.berylia.org  \n",
       "\n",
       "[5 rows x 95 columns]"
      ],
      "text/html": [
       "<div>\n",
       "<style scoped>\n",
       "    .dataframe tbody tr th:only-of-type {\n",
       "        vertical-align: middle;\n",
       "    }\n",
       "\n",
       "    .dataframe tbody tr th {\n",
       "        vertical-align: top;\n",
       "    }\n",
       "\n",
       "    .dataframe thead th {\n",
       "        text-align: right;\n",
       "    }\n",
       "</style>\n",
       "<table border=\"1\" class=\"dataframe\">\n",
       "  <thead>\n",
       "    <tr style=\"text-align: right;\">\n",
       "      <th></th>\n",
       "      <th>Flow ID</th>\n",
       "      <th>SrcIP</th>\n",
       "      <th>DstIP</th>\n",
       "      <th>SrcPort</th>\n",
       "      <th>DstPort</th>\n",
       "      <th>Protocol</th>\n",
       "      <th>mTimestampStart</th>\n",
       "      <th>mTimestampLast</th>\n",
       "      <th>Flow Duration</th>\n",
       "      <th>Flow Bytes/s</th>\n",
       "      <th>...</th>\n",
       "      <th>Int/Ext Dst IP</th>\n",
       "      <th>Conn_state</th>\n",
       "      <th>Service</th>\n",
       "      <th>Label</th>\n",
       "      <th>External_src</th>\n",
       "      <th>External_dst</th>\n",
       "      <th>Segment_src</th>\n",
       "      <th>Segment_dst</th>\n",
       "      <th>Expoid_src</th>\n",
       "      <th>Expoid_dst</th>\n",
       "    </tr>\n",
       "  </thead>\n",
       "  <tbody>\n",
       "    <tr>\n",
       "      <th>0</th>\n",
       "      <td>10.5.8.2-100.101.1.193-64286-80-6</td>\n",
       "      <td>10.5.8.2</td>\n",
       "      <td>100.101.1.193</td>\n",
       "      <td>64286</td>\n",
       "      <td>80</td>\n",
       "      <td>6</td>\n",
       "      <td>1678369949284619</td>\n",
       "      <td>1678369949295858</td>\n",
       "      <td>11239</td>\n",
       "      <td>2.467301e+05</td>\n",
       "      <td>...</td>\n",
       "      <td>1</td>\n",
       "      <td>SF</td>\n",
       "      <td>NaN</td>\n",
       "      <td>1</td>\n",
       "      <td>0</td>\n",
       "      <td>1</td>\n",
       "      <td>baf_int</td>\n",
       "      <td>NaN</td>\n",
       "      <td>dc1.int.baf.05.berylia.org</td>\n",
       "      <td>NaN</td>\n",
       "    </tr>\n",
       "    <tr>\n",
       "      <th>1</th>\n",
       "      <td>10.5.8.4-100.101.1.193-53267-80-6</td>\n",
       "      <td>10.5.8.4</td>\n",
       "      <td>100.101.1.193</td>\n",
       "      <td>53267</td>\n",
       "      <td>80</td>\n",
       "      <td>6</td>\n",
       "      <td>1678367661716757</td>\n",
       "      <td>1678367661723688</td>\n",
       "      <td>6931</td>\n",
       "      <td>3.432405e+05</td>\n",
       "      <td>...</td>\n",
       "      <td>1</td>\n",
       "      <td>SF</td>\n",
       "      <td>Http</td>\n",
       "      <td>1</td>\n",
       "      <td>0</td>\n",
       "      <td>1</td>\n",
       "      <td>baf_int</td>\n",
       "      <td>NaN</td>\n",
       "      <td>files.int.baf.05.berylia.org</td>\n",
       "      <td>NaN</td>\n",
       "    </tr>\n",
       "    <tr>\n",
       "      <th>2</th>\n",
       "      <td>2a07:1182:0005:1001:0000:0000:0000:0037-2a00:16e0:0100:0000:c16d:8ed9:e86a:1111-61382-443-6</td>\n",
       "      <td>2a07:1182:0005:1001:0000:0000:0000:0037</td>\n",
       "      <td>2a00:16e0:0100:0000:c16d:8ed9:e86a:1111</td>\n",
       "      <td>61382</td>\n",
       "      <td>443</td>\n",
       "      <td>6</td>\n",
       "      <td>1678366467408717</td>\n",
       "      <td>1678366467424855</td>\n",
       "      <td>16138</td>\n",
       "      <td>3.139794e+05</td>\n",
       "      <td>...</td>\n",
       "      <td>1</td>\n",
       "      <td>OTH</td>\n",
       "      <td>TLS</td>\n",
       "      <td>1</td>\n",
       "      <td>0</td>\n",
       "      <td>1</td>\n",
       "      <td>baf_int</td>\n",
       "      <td>NaN</td>\n",
       "      <td>ws2-baf02.int.baf.05.berylia.org</td>\n",
       "      <td>NaN</td>\n",
       "    </tr>\n",
       "    <tr>\n",
       "      <th>3</th>\n",
       "      <td>10.5.12.12-57.70.176.80-51085-80-6</td>\n",
       "      <td>10.5.12.12</td>\n",
       "      <td>57.70.176.80</td>\n",
       "      <td>51085</td>\n",
       "      <td>80</td>\n",
       "      <td>6</td>\n",
       "      <td>1678358112170128</td>\n",
       "      <td>1678358112190397</td>\n",
       "      <td>20269</td>\n",
       "      <td>1.502294e+05</td>\n",
       "      <td>...</td>\n",
       "      <td>1</td>\n",
       "      <td>SF</td>\n",
       "      <td>NaN</td>\n",
       "      <td>1</td>\n",
       "      <td>0</td>\n",
       "      <td>1</td>\n",
       "      <td>baf_bg</td>\n",
       "      <td>NaN</td>\n",
       "      <td>ws1-bg02.int.baf.05.berylia.org</td>\n",
       "      <td>NaN</td>\n",
       "    </tr>\n",
       "    <tr>\n",
       "      <th>4</th>\n",
       "      <td>100.96.5.31-100.96.5.32-48249-8472-17</td>\n",
       "      <td>100.96.5.31</td>\n",
       "      <td>100.96.5.32</td>\n",
       "      <td>48249</td>\n",
       "      <td>8472</td>\n",
       "      <td>17</td>\n",
       "      <td>1678277529708947</td>\n",
       "      <td>1678277529708956</td>\n",
       "      <td>9</td>\n",
       "      <td>2.066667e+07</td>\n",
       "      <td>...</td>\n",
       "      <td>0</td>\n",
       "      <td>NaN</td>\n",
       "      <td>NaN</td>\n",
       "      <td>0</td>\n",
       "      <td>0</td>\n",
       "      <td>0</td>\n",
       "      <td>beg_dmz</td>\n",
       "      <td>beg_dmz</td>\n",
       "      <td>k8s-worker01.beg.05.berylia.org</td>\n",
       "      <td>k8s-worker02.beg.05.berylia.org</td>\n",
       "    </tr>\n",
       "  </tbody>\n",
       "</table>\n",
       "<p>5 rows × 95 columns</p>\n",
       "</div>"
      ]
     },
     "execution_count": 46,
     "metadata": {},
     "output_type": "execute_result"
    }
   ],
   "execution_count": 46
  },
  {
   "metadata": {
    "ExecuteTime": {
     "end_time": "2025-01-10T14:11:33.048976Z",
     "start_time": "2025-01-10T14:11:28.070227Z"
    }
   },
   "cell_type": "code",
   "source": [
    "# let's separate the two types of datas X and y\n",
    "X = balanced_data.drop(columns=['Label'])\n",
    "X = X.drop(columns=['Flow ID', 'SrcIP', 'DstIP','External_src', 'External_dst','Conn_state', 'Segment_src', 'Segment_dst', 'Expoid_src', 'Expoid_dst','mTimestampStart','mTimestampLast'])\n",
    "y = balanced_data['Label']\n",
    "\n",
    "print(X.shape)\n",
    "print(y.shape)"
   ],
   "id": "9e9366f87ee3ee57",
   "outputs": [
    {
     "name": "stdout",
     "output_type": "stream",
     "text": [
      "(3289198, 82)\n",
      "(3289198,)\n"
     ]
    }
   ],
   "execution_count": 99
  },
  {
   "metadata": {
    "ExecuteTime": {
     "end_time": "2025-01-10T14:11:36.333337Z",
     "start_time": "2025-01-10T14:11:36.325919Z"
    }
   },
   "cell_type": "code",
   "source": "X.head()",
   "id": "6ef905fe8258d6e",
   "outputs": [
    {
     "data": {
      "text/plain": [
       "   SrcPort  DstPort  Protocol  Flow Duration  Flow Bytes/s  Flow Packets/s  \\\n",
       "0    64286       80         6          11239  2.467301e+05     1512.590088   \n",
       "1    53267       80         6           6931  3.432405e+05     3029.865820   \n",
       "2    61382      443         6          16138  3.139794e+05     2292.725245   \n",
       "3    51085       80         6          20269  1.502294e+05      937.392077   \n",
       "4    48249     8472        17              9  2.066667e+07   333333.333333   \n",
       "\n",
       "   Tot Fwd Pkts  Tot Bwd Pkts  Total Length of Fwd Packet  \\\n",
       "0            12             5                      1468.0   \n",
       "1            16             5                      1324.0   \n",
       "2            29             8                      2565.0   \n",
       "3            14             5                      1602.0   \n",
       "4             3             0                       186.0   \n",
       "\n",
       "   Total Length of Bwd Packet  ...  Active Mean  Active Max  Active Std  \\\n",
       "0                      1305.0  ...          0.0         0.0         0.0   \n",
       "1                      1055.0  ...          0.0         0.0         0.0   \n",
       "2                      2502.0  ...          0.0         0.0         0.0   \n",
       "3                      1443.0  ...          0.0         0.0         0.0   \n",
       "4                         0.0  ...          0.0         0.0         0.0   \n",
       "\n",
       "   Idle Min  Idle Mean  Idle Max  Idle Std  L3/L4 Protocol  Int/Ext Dst IP  \\\n",
       "0       0.0        0.0       0.0       0.0               0               1   \n",
       "1       0.0        0.0       0.0       0.0               0               1   \n",
       "2       0.0        0.0       0.0       0.0               0               1   \n",
       "3       0.0        0.0       0.0       0.0               0               1   \n",
       "4       0.0        0.0       0.0       0.0               1               0   \n",
       "\n",
       "   Service  \n",
       "0      NaN  \n",
       "1     Http  \n",
       "2      TLS  \n",
       "3      NaN  \n",
       "4      NaN  \n",
       "\n",
       "[5 rows x 82 columns]"
      ],
      "text/html": [
       "<div>\n",
       "<style scoped>\n",
       "    .dataframe tbody tr th:only-of-type {\n",
       "        vertical-align: middle;\n",
       "    }\n",
       "\n",
       "    .dataframe tbody tr th {\n",
       "        vertical-align: top;\n",
       "    }\n",
       "\n",
       "    .dataframe thead th {\n",
       "        text-align: right;\n",
       "    }\n",
       "</style>\n",
       "<table border=\"1\" class=\"dataframe\">\n",
       "  <thead>\n",
       "    <tr style=\"text-align: right;\">\n",
       "      <th></th>\n",
       "      <th>SrcPort</th>\n",
       "      <th>DstPort</th>\n",
       "      <th>Protocol</th>\n",
       "      <th>Flow Duration</th>\n",
       "      <th>Flow Bytes/s</th>\n",
       "      <th>Flow Packets/s</th>\n",
       "      <th>Tot Fwd Pkts</th>\n",
       "      <th>Tot Bwd Pkts</th>\n",
       "      <th>Total Length of Fwd Packet</th>\n",
       "      <th>Total Length of Bwd Packet</th>\n",
       "      <th>...</th>\n",
       "      <th>Active Mean</th>\n",
       "      <th>Active Max</th>\n",
       "      <th>Active Std</th>\n",
       "      <th>Idle Min</th>\n",
       "      <th>Idle Mean</th>\n",
       "      <th>Idle Max</th>\n",
       "      <th>Idle Std</th>\n",
       "      <th>L3/L4 Protocol</th>\n",
       "      <th>Int/Ext Dst IP</th>\n",
       "      <th>Service</th>\n",
       "    </tr>\n",
       "  </thead>\n",
       "  <tbody>\n",
       "    <tr>\n",
       "      <th>0</th>\n",
       "      <td>64286</td>\n",
       "      <td>80</td>\n",
       "      <td>6</td>\n",
       "      <td>11239</td>\n",
       "      <td>2.467301e+05</td>\n",
       "      <td>1512.590088</td>\n",
       "      <td>12</td>\n",
       "      <td>5</td>\n",
       "      <td>1468.0</td>\n",
       "      <td>1305.0</td>\n",
       "      <td>...</td>\n",
       "      <td>0.0</td>\n",
       "      <td>0.0</td>\n",
       "      <td>0.0</td>\n",
       "      <td>0.0</td>\n",
       "      <td>0.0</td>\n",
       "      <td>0.0</td>\n",
       "      <td>0.0</td>\n",
       "      <td>0</td>\n",
       "      <td>1</td>\n",
       "      <td>NaN</td>\n",
       "    </tr>\n",
       "    <tr>\n",
       "      <th>1</th>\n",
       "      <td>53267</td>\n",
       "      <td>80</td>\n",
       "      <td>6</td>\n",
       "      <td>6931</td>\n",
       "      <td>3.432405e+05</td>\n",
       "      <td>3029.865820</td>\n",
       "      <td>16</td>\n",
       "      <td>5</td>\n",
       "      <td>1324.0</td>\n",
       "      <td>1055.0</td>\n",
       "      <td>...</td>\n",
       "      <td>0.0</td>\n",
       "      <td>0.0</td>\n",
       "      <td>0.0</td>\n",
       "      <td>0.0</td>\n",
       "      <td>0.0</td>\n",
       "      <td>0.0</td>\n",
       "      <td>0.0</td>\n",
       "      <td>0</td>\n",
       "      <td>1</td>\n",
       "      <td>Http</td>\n",
       "    </tr>\n",
       "    <tr>\n",
       "      <th>2</th>\n",
       "      <td>61382</td>\n",
       "      <td>443</td>\n",
       "      <td>6</td>\n",
       "      <td>16138</td>\n",
       "      <td>3.139794e+05</td>\n",
       "      <td>2292.725245</td>\n",
       "      <td>29</td>\n",
       "      <td>8</td>\n",
       "      <td>2565.0</td>\n",
       "      <td>2502.0</td>\n",
       "      <td>...</td>\n",
       "      <td>0.0</td>\n",
       "      <td>0.0</td>\n",
       "      <td>0.0</td>\n",
       "      <td>0.0</td>\n",
       "      <td>0.0</td>\n",
       "      <td>0.0</td>\n",
       "      <td>0.0</td>\n",
       "      <td>0</td>\n",
       "      <td>1</td>\n",
       "      <td>TLS</td>\n",
       "    </tr>\n",
       "    <tr>\n",
       "      <th>3</th>\n",
       "      <td>51085</td>\n",
       "      <td>80</td>\n",
       "      <td>6</td>\n",
       "      <td>20269</td>\n",
       "      <td>1.502294e+05</td>\n",
       "      <td>937.392077</td>\n",
       "      <td>14</td>\n",
       "      <td>5</td>\n",
       "      <td>1602.0</td>\n",
       "      <td>1443.0</td>\n",
       "      <td>...</td>\n",
       "      <td>0.0</td>\n",
       "      <td>0.0</td>\n",
       "      <td>0.0</td>\n",
       "      <td>0.0</td>\n",
       "      <td>0.0</td>\n",
       "      <td>0.0</td>\n",
       "      <td>0.0</td>\n",
       "      <td>0</td>\n",
       "      <td>1</td>\n",
       "      <td>NaN</td>\n",
       "    </tr>\n",
       "    <tr>\n",
       "      <th>4</th>\n",
       "      <td>48249</td>\n",
       "      <td>8472</td>\n",
       "      <td>17</td>\n",
       "      <td>9</td>\n",
       "      <td>2.066667e+07</td>\n",
       "      <td>333333.333333</td>\n",
       "      <td>3</td>\n",
       "      <td>0</td>\n",
       "      <td>186.0</td>\n",
       "      <td>0.0</td>\n",
       "      <td>...</td>\n",
       "      <td>0.0</td>\n",
       "      <td>0.0</td>\n",
       "      <td>0.0</td>\n",
       "      <td>0.0</td>\n",
       "      <td>0.0</td>\n",
       "      <td>0.0</td>\n",
       "      <td>0.0</td>\n",
       "      <td>1</td>\n",
       "      <td>0</td>\n",
       "      <td>NaN</td>\n",
       "    </tr>\n",
       "  </tbody>\n",
       "</table>\n",
       "<p>5 rows × 82 columns</p>\n",
       "</div>"
      ]
     },
     "execution_count": 100,
     "metadata": {},
     "output_type": "execute_result"
    }
   ],
   "execution_count": 100
  },
  {
   "metadata": {
    "ExecuteTime": {
     "end_time": "2025-01-10T14:11:36.751351Z",
     "start_time": "2025-01-10T14:11:36.639484Z"
    }
   },
   "cell_type": "code",
   "source": [
    "# let's see where are the caterigolical datas\n",
    "\n",
    "# Check the data types in your features\n",
    "categorical_columns = X.select_dtypes(include=[\"object\", \"category\"]).columns\n",
    "print(\"Categorical columns:\", categorical_columns.tolist())\n",
    "\n",
    "# I will now replace the unknown values in the categorical data by a placeholder category\n",
    "\n",
    "X[categorical_columns] = X[categorical_columns].fillna('Unknown')\n"
   ],
   "id": "c4d0470ece610629",
   "outputs": [
    {
     "name": "stdout",
     "output_type": "stream",
     "text": [
      "Categorical columns: ['Service']\n"
     ]
    }
   ],
   "execution_count": 101
  },
  {
   "metadata": {
    "ExecuteTime": {
     "end_time": "2025-01-10T14:11:37.446496Z",
     "start_time": "2025-01-10T14:11:37.444331Z"
    }
   },
   "cell_type": "code",
   "source": "from sklearn.preprocessing import LabelEncoder",
   "id": "10f5f8921c2a9b48",
   "outputs": [],
   "execution_count": 102
  },
  {
   "metadata": {
    "ExecuteTime": {
     "end_time": "2025-01-10T14:11:37.840512Z",
     "start_time": "2025-01-10T14:11:37.663270Z"
    }
   },
   "cell_type": "code",
   "source": [
    "label_encoder = {}\n",
    "for col in categorical_columns:\n",
    "    le = LabelEncoder()\n",
    "    X[col] = le.fit_transform(X[col])\n",
    "    label_encoder[col] = le"
   ],
   "id": "872ac6f82a9bd872",
   "outputs": [],
   "execution_count": 103
  },
  {
   "metadata": {
    "ExecuteTime": {
     "end_time": "2025-01-10T14:11:38.102924Z",
     "start_time": "2025-01-10T14:11:37.870767Z"
    }
   },
   "cell_type": "code",
   "source": [
    "# trying to find if we have missing values in the dataset\n",
    "missing_values = X.isnull().sum()\n",
    "print(missing_values)\n"
   ],
   "id": "57789224c9903c10",
   "outputs": [
    {
     "name": "stdout",
     "output_type": "stream",
     "text": [
      "SrcPort             0\n",
      "DstPort             0\n",
      "Protocol            0\n",
      "Flow Duration       0\n",
      "Flow Bytes/s      152\n",
      "                 ... \n",
      "Idle Max            0\n",
      "Idle Std            0\n",
      "L3/L4 Protocol      0\n",
      "Int/Ext Dst IP      0\n",
      "Service             0\n",
      "Length: 82, dtype: int64\n"
     ]
    }
   ],
   "execution_count": 104
  },
  {
   "metadata": {},
   "cell_type": "markdown",
   "source": "",
   "id": "b6dfbb4f583c0802"
  },
  {
   "metadata": {
    "ExecuteTime": {
     "end_time": "2025-01-10T14:11:38.381103Z",
     "start_time": "2025-01-10T14:11:38.378001Z"
    }
   },
   "cell_type": "code",
   "source": [
    "\n",
    "missing_columns = missing_values[missing_values > 0]\n",
    "print(\"Columns with missing data:\\n\", missing_columns)"
   ],
   "id": "6c00bc7032abcbd4",
   "outputs": [
    {
     "name": "stdout",
     "output_type": "stream",
     "text": [
      "Columns with missing data:\n",
      " Flow Bytes/s          152\n",
      "Flow IAT Mean      340184\n",
      "Flow IAT Min       340184\n",
      "Flow IAT Max       340184\n",
      "Flow IAT Stddev    340184\n",
      "dtype: int64\n"
     ]
    }
   ],
   "execution_count": 105
  },
  {
   "metadata": {
    "ExecuteTime": {
     "end_time": "2025-01-10T14:11:38.609360Z",
     "start_time": "2025-01-10T14:11:38.607643Z"
    }
   },
   "cell_type": "code",
   "source": "",
   "id": "884666049a2b8826",
   "outputs": [],
   "execution_count": null
  },
  {
   "metadata": {
    "ExecuteTime": {
     "end_time": "2025-01-10T14:11:44.049125Z",
     "start_time": "2025-01-10T14:11:39.003312Z"
    }
   },
   "cell_type": "code",
   "source": [
    "\n",
    "\n",
    "print(\"Contains NaN:\", np.isnan(X).any())\n",
    "print(\"Contains Infinity:\", np.isinf(X).any())\n",
    "print(\"Max Value:\", np.max(X))\n",
    "print(\"Min Value:\", np.min(X))\n"
   ],
   "id": "4bb71472c88ffd08",
   "outputs": [
    {
     "name": "stdout",
     "output_type": "stream",
     "text": [
      "Contains NaN: SrcPort           False\n",
      "DstPort           False\n",
      "Protocol          False\n",
      "Flow Duration     False\n",
      "Flow Bytes/s       True\n",
      "                  ...  \n",
      "Idle Max          False\n",
      "Idle Std          False\n",
      "L3/L4 Protocol    False\n",
      "Int/Ext Dst IP    False\n",
      "Service           False\n",
      "Length: 82, dtype: bool\n",
      "Contains Infinity: SrcPort           False\n",
      "DstPort           False\n",
      "Protocol          False\n",
      "Flow Duration     False\n",
      "Flow Bytes/s       True\n",
      "                  ...  \n",
      "Idle Max          False\n",
      "Idle Std          False\n",
      "L3/L4 Protocol    False\n",
      "Int/Ext Dst IP    False\n",
      "Service           False\n",
      "Length: 82, dtype: bool\n",
      "Max Value: inf\n",
      "Min Value: -130.0\n"
     ]
    }
   ],
   "execution_count": 106
  },
  {
   "metadata": {
    "ExecuteTime": {
     "end_time": "2025-01-10T14:11:44.598167Z",
     "start_time": "2025-01-10T14:11:44.058895Z"
    }
   },
   "cell_type": "code",
   "source": [
    "# we figure out that we have infinite values so we need to treat these data\n",
    "# what if we replace these datas by nan and then by the mean\n",
    "\n",
    "X.replace([np.inf, -np.inf], np.nan, inplace=True)"
   ],
   "id": "39bc4cb6cf855891",
   "outputs": [],
   "execution_count": 107
  },
  {
   "metadata": {
    "ExecuteTime": {
     "end_time": "2025-01-10T14:11:48.922503Z",
     "start_time": "2025-01-10T14:11:44.616400Z"
    }
   },
   "cell_type": "code",
   "source": [
    "\n",
    "print(\"Contains NaN:\", np.isnan(X).any())\n",
    "print(\"Contains Infinity:\", np.isinf(X).any())\n",
    "print(\"Max Value:\", np.max(X))\n",
    "print(\"Min Value:\", np.min(X))\n"
   ],
   "id": "f750b3cae283d39f",
   "outputs": [
    {
     "name": "stdout",
     "output_type": "stream",
     "text": [
      "Contains NaN: SrcPort           False\n",
      "DstPort           False\n",
      "Protocol          False\n",
      "Flow Duration     False\n",
      "Flow Bytes/s       True\n",
      "                  ...  \n",
      "Idle Max          False\n",
      "Idle Std          False\n",
      "L3/L4 Protocol    False\n",
      "Int/Ext Dst IP    False\n",
      "Service           False\n",
      "Length: 82, dtype: bool\n",
      "Contains Infinity: SrcPort           False\n",
      "DstPort           False\n",
      "Protocol          False\n",
      "Flow Duration     False\n",
      "Flow Bytes/s      False\n",
      "                  ...  \n",
      "Idle Max          False\n",
      "Idle Std          False\n",
      "L3/L4 Protocol    False\n",
      "Int/Ext Dst IP    False\n",
      "Service           False\n",
      "Length: 82, dtype: bool\n",
      "Max Value: 1518000000.0\n",
      "Min Value: -130.0\n"
     ]
    }
   ],
   "execution_count": 108
  },
  {
   "metadata": {
    "ExecuteTime": {
     "end_time": "2025-01-10T14:11:50.486404Z",
     "start_time": "2025-01-10T14:11:48.943733Z"
    }
   },
   "cell_type": "code",
   "source": [
    "# let's fill the datas with the mean directly\n",
    "X = X.fillna(X.mean())\n"
   ],
   "id": "b7e1f3ebd950cead",
   "outputs": [],
   "execution_count": 109
  },
  {
   "metadata": {
    "ExecuteTime": {
     "end_time": "2025-01-10T14:11:50.508583Z",
     "start_time": "2025-01-10T14:11:50.507012Z"
    }
   },
   "cell_type": "code",
   "source": "",
   "id": "9c1bbe8a28e57317",
   "outputs": [],
   "execution_count": null
  },
  {
   "metadata": {
    "ExecuteTime": {
     "end_time": "2025-01-10T14:11:52.762936Z",
     "start_time": "2025-01-10T14:11:50.522539Z"
    }
   },
   "cell_type": "code",
   "source": [
    "# now that we have already numerilzed everything, let's normalize the data to range [0, 1]\n",
    "from sklearn.preprocessing import MinMaxScaler\n",
    "\n",
    "scaler = MinMaxScaler()\n",
    "X_normalized = scaler.fit_transform(X)"
   ],
   "id": "c2d85a2c09335760",
   "outputs": [],
   "execution_count": 110
  },
  {
   "metadata": {
    "ExecuteTime": {
     "end_time": "2025-01-10T14:11:52.789632Z",
     "start_time": "2025-01-10T14:11:52.786031Z"
    }
   },
   "cell_type": "code",
   "source": "X_normalized",
   "id": "819f373cfbd85146",
   "outputs": [
    {
     "data": {
      "text/plain": [
       "array([[0.98094148, 0.001221  , 0.04545455, ..., 0.        , 1.        ,\n",
       "        0.84      ],\n",
       "       [0.81280232, 0.001221  , 0.04545455, ..., 0.        , 1.        ,\n",
       "        0.12      ],\n",
       "       [0.93662928, 0.00676129, 0.04545455, ..., 0.        , 1.        ,\n",
       "        0.8       ],\n",
       "       ...,\n",
       "       [0.54099336, 0.001221  , 0.04545455, ..., 0.        , 1.        ,\n",
       "        0.12      ],\n",
       "       [0.88839551, 0.001221  , 0.04545455, ..., 0.        , 1.        ,\n",
       "        0.84      ],\n",
       "       [0.62343786, 0.001221  , 0.04545455, ..., 0.        , 1.        ,\n",
       "        0.12      ]])"
      ]
     },
     "execution_count": 111,
     "metadata": {},
     "output_type": "execute_result"
    }
   ],
   "execution_count": 111
  },
  {
   "metadata": {
    "ExecuteTime": {
     "end_time": "2025-01-10T14:11:56.130961Z",
     "start_time": "2025-01-10T14:11:52.825189Z"
    }
   },
   "cell_type": "code",
   "source": [
    "# apply the scaler to the features\n",
    "from sklearn.preprocessing import MinMaxScaler\n",
    "\n",
    "Scaler = MinMaxScaler()\n",
    "\n",
    "X_scaled = Scaler.fit_transform(X)\n",
    "# convert back to a dataframe to preserve column names"
   ],
   "id": "18bbc23c2e7bbfa0",
   "outputs": [],
   "execution_count": 112
  },
  {
   "metadata": {
    "ExecuteTime": {
     "end_time": "2025-01-10T14:11:58.529681Z",
     "start_time": "2025-01-10T14:11:56.160640Z"
    }
   },
   "cell_type": "code",
   "source": [
    "# let's devide our datatset into 80 10 10\n",
    "X_train, X_temp, y_train, y_temp = train_test_split(X_normalized, y, test_size=0.3, random_state=42)\n",
    "X_val, X_test, y_val, y_test = train_test_split(X_temp, y_temp, test_size=0.5, random_state=42)"
   ],
   "id": "a590a4666472fc77",
   "outputs": [],
   "execution_count": 113
  },
  {
   "metadata": {
    "ExecuteTime": {
     "end_time": "2025-01-10T14:11:58.543916Z",
     "start_time": "2025-01-10T14:11:58.541384Z"
    }
   },
   "cell_type": "code",
   "source": [
    "# Check proportions\n",
    "total_samples = len(X_scaled)\n",
    "print(f\"Training: {len(X_train) / total_samples:.2%}\")\n",
    "print(f\"Validation: {len(X_val) / total_samples:.2%}\")\n",
    "print(f\"Test: {len(X_test) / total_samples:.2%}\")"
   ],
   "id": "c37839d0a70f50fa",
   "outputs": [
    {
     "name": "stdout",
     "output_type": "stream",
     "text": [
      "Training: 70.00%\n",
      "Validation: 15.00%\n",
      "Test: 15.00%\n"
     ]
    }
   ],
   "execution_count": 114
  },
  {
   "metadata": {
    "ExecuteTime": {
     "end_time": "2025-01-10T14:11:58.828521Z",
     "start_time": "2025-01-10T14:11:58.826718Z"
    }
   },
   "cell_type": "code",
   "source": [
    "# now we will apply XGBoost on the dataset\n",
    "import xgboost as xgb"
   ],
   "id": "691570de771f2f25",
   "outputs": [],
   "execution_count": 115
  },
  {
   "metadata": {
    "ExecuteTime": {
     "end_time": "2025-01-10T14:12:00.002656Z",
     "start_time": "2025-01-10T14:11:58.843017Z"
    }
   },
   "cell_type": "code",
   "source": [
    "# Convert data to DMatrix for XGBoost\n",
    "dtrain = xgb.DMatrix(X_train, label=y_train)\n",
    "dval = xgb.DMatrix(X_val, label=y_val)\n",
    "dtest = xgb.DMatrix(X_test, label=y_test)\n",
    "\n",
    "\n"
   ],
   "id": "16cd52aee3986d8e",
   "outputs": [],
   "execution_count": 116
  },
  {
   "metadata": {
    "ExecuteTime": {
     "end_time": "2025-01-10T14:12:00.036198Z",
     "start_time": "2025-01-10T14:12:00.034025Z"
    }
   },
   "cell_type": "code",
   "source": [
    "# define the different parameters\n",
    "\n",
    "# Define XGBoost parameters\n",
    "params = {\n",
    "    'objective': 'binary:logistic',  # For binary classification\n",
    "    'eval_metric': 'logloss',       # Use log loss for evaluation\n",
    "    'learning_rate': 0.1,           # Learning rate\n",
    "    'max_depth': 8,                 # Maximum depth of trees\n",
    "    'subsample': 0.8,               # Subsample ratio\n",
    "    'colsample_bytree': 0.8         # Feature subsample ratio\n",
    "}"
   ],
   "id": "6c3655bb728a4036",
   "outputs": [],
   "execution_count": 117
  },
  {
   "metadata": {
    "ExecuteTime": {
     "end_time": "2025-01-10T14:12:23.683329Z",
     "start_time": "2025-01-10T14:12:00.054555Z"
    }
   },
   "cell_type": "code",
   "source": [
    "# Train the model\n",
    "evals = [(dtrain, 'train'), (dval, 'validation')]\n",
    "xgb_model = xgb.train(params, dtrain, num_boost_round=200, evals=evals, early_stopping_rounds=10)\n"
   ],
   "id": "aba6044767f967bc",
   "outputs": [
    {
     "name": "stdout",
     "output_type": "stream",
     "text": [
      "[0]\ttrain-logloss:0.59926\tvalidation-logloss:0.59929\n",
      "[1]\ttrain-logloss:0.52207\tvalidation-logloss:0.52212\n",
      "[2]\ttrain-logloss:0.45783\tvalidation-logloss:0.45788\n",
      "[3]\ttrain-logloss:0.40330\tvalidation-logloss:0.40336\n",
      "[4]\ttrain-logloss:0.35652\tvalidation-logloss:0.35659\n",
      "[5]\ttrain-logloss:0.31646\tvalidation-logloss:0.31654\n",
      "[6]\ttrain-logloss:0.28156\tvalidation-logloss:0.28165\n",
      "[7]\ttrain-logloss:0.25116\tvalidation-logloss:0.25125\n",
      "[8]\ttrain-logloss:0.22446\tvalidation-logloss:0.22456\n",
      "[9]\ttrain-logloss:0.20090\tvalidation-logloss:0.20100\n",
      "[10]\ttrain-logloss:0.18014\tvalidation-logloss:0.18026\n",
      "[11]\ttrain-logloss:0.16178\tvalidation-logloss:0.16189\n",
      "[12]\ttrain-logloss:0.14550\tvalidation-logloss:0.14562\n",
      "[13]\ttrain-logloss:0.13078\tvalidation-logloss:0.13090\n",
      "[14]\ttrain-logloss:0.11790\tvalidation-logloss:0.11802\n",
      "[15]\ttrain-logloss:0.10641\tvalidation-logloss:0.10653\n",
      "[16]\ttrain-logloss:0.09604\tvalidation-logloss:0.09617\n",
      "[17]\ttrain-logloss:0.08666\tvalidation-logloss:0.08679\n",
      "[18]\ttrain-logloss:0.07843\tvalidation-logloss:0.07856\n",
      "[19]\ttrain-logloss:0.07091\tvalidation-logloss:0.07104\n",
      "[20]\ttrain-logloss:0.06408\tvalidation-logloss:0.06421\n",
      "[21]\ttrain-logloss:0.05803\tvalidation-logloss:0.05816\n",
      "[22]\ttrain-logloss:0.05251\tvalidation-logloss:0.05263\n",
      "[23]\ttrain-logloss:0.04752\tvalidation-logloss:0.04763\n",
      "[24]\ttrain-logloss:0.04304\tvalidation-logloss:0.04314\n",
      "[25]\ttrain-logloss:0.03899\tvalidation-logloss:0.03909\n",
      "[26]\ttrain-logloss:0.03544\tvalidation-logloss:0.03554\n",
      "[27]\ttrain-logloss:0.03219\tvalidation-logloss:0.03230\n",
      "[28]\ttrain-logloss:0.02921\tvalidation-logloss:0.02930\n",
      "[29]\ttrain-logloss:0.02648\tvalidation-logloss:0.02657\n",
      "[30]\ttrain-logloss:0.02403\tvalidation-logloss:0.02412\n",
      "[31]\ttrain-logloss:0.02188\tvalidation-logloss:0.02196\n",
      "[32]\ttrain-logloss:0.01988\tvalidation-logloss:0.01996\n",
      "[33]\ttrain-logloss:0.01808\tvalidation-logloss:0.01815\n",
      "[34]\ttrain-logloss:0.01645\tvalidation-logloss:0.01652\n",
      "[35]\ttrain-logloss:0.01498\tvalidation-logloss:0.01504\n",
      "[36]\ttrain-logloss:0.01364\tvalidation-logloss:0.01370\n",
      "[37]\ttrain-logloss:0.01240\tvalidation-logloss:0.01246\n",
      "[38]\ttrain-logloss:0.01131\tvalidation-logloss:0.01137\n",
      "[39]\ttrain-logloss:0.01033\tvalidation-logloss:0.01038\n",
      "[40]\ttrain-logloss:0.00943\tvalidation-logloss:0.00949\n",
      "[41]\ttrain-logloss:0.00860\tvalidation-logloss:0.00866\n",
      "[42]\ttrain-logloss:0.00787\tvalidation-logloss:0.00793\n",
      "[43]\ttrain-logloss:0.00722\tvalidation-logloss:0.00727\n",
      "[44]\ttrain-logloss:0.00661\tvalidation-logloss:0.00667\n",
      "[45]\ttrain-logloss:0.00606\tvalidation-logloss:0.00612\n",
      "[46]\ttrain-logloss:0.00555\tvalidation-logloss:0.00561\n",
      "[47]\ttrain-logloss:0.00511\tvalidation-logloss:0.00516\n",
      "[48]\ttrain-logloss:0.00470\tvalidation-logloss:0.00476\n",
      "[49]\ttrain-logloss:0.00434\tvalidation-logloss:0.00440\n",
      "[50]\ttrain-logloss:0.00399\tvalidation-logloss:0.00405\n",
      "[51]\ttrain-logloss:0.00367\tvalidation-logloss:0.00373\n",
      "[52]\ttrain-logloss:0.00338\tvalidation-logloss:0.00344\n",
      "[53]\ttrain-logloss:0.00313\tvalidation-logloss:0.00319\n",
      "[54]\ttrain-logloss:0.00290\tvalidation-logloss:0.00296\n",
      "[55]\ttrain-logloss:0.00269\tvalidation-logloss:0.00275\n",
      "[56]\ttrain-logloss:0.00250\tvalidation-logloss:0.00256\n",
      "[57]\ttrain-logloss:0.00232\tvalidation-logloss:0.00239\n",
      "[58]\ttrain-logloss:0.00216\tvalidation-logloss:0.00223\n",
      "[59]\ttrain-logloss:0.00202\tvalidation-logloss:0.00209\n",
      "[60]\ttrain-logloss:0.00189\tvalidation-logloss:0.00196\n",
      "[61]\ttrain-logloss:0.00177\tvalidation-logloss:0.00184\n",
      "[62]\ttrain-logloss:0.00166\tvalidation-logloss:0.00173\n",
      "[63]\ttrain-logloss:0.00156\tvalidation-logloss:0.00163\n",
      "[64]\ttrain-logloss:0.00147\tvalidation-logloss:0.00154\n",
      "[65]\ttrain-logloss:0.00138\tvalidation-logloss:0.00146\n",
      "[66]\ttrain-logloss:0.00131\tvalidation-logloss:0.00138\n",
      "[67]\ttrain-logloss:0.00124\tvalidation-logloss:0.00131\n",
      "[68]\ttrain-logloss:0.00118\tvalidation-logloss:0.00125\n",
      "[69]\ttrain-logloss:0.00112\tvalidation-logloss:0.00120\n",
      "[70]\ttrain-logloss:0.00107\tvalidation-logloss:0.00114\n",
      "[71]\ttrain-logloss:0.00101\tvalidation-logloss:0.00109\n",
      "[72]\ttrain-logloss:0.00096\tvalidation-logloss:0.00105\n",
      "[73]\ttrain-logloss:0.00092\tvalidation-logloss:0.00100\n",
      "[74]\ttrain-logloss:0.00088\tvalidation-logloss:0.00096\n",
      "[75]\ttrain-logloss:0.00084\tvalidation-logloss:0.00092\n",
      "[76]\ttrain-logloss:0.00081\tvalidation-logloss:0.00089\n",
      "[77]\ttrain-logloss:0.00078\tvalidation-logloss:0.00087\n",
      "[78]\ttrain-logloss:0.00075\tvalidation-logloss:0.00083\n",
      "[79]\ttrain-logloss:0.00072\tvalidation-logloss:0.00081\n",
      "[80]\ttrain-logloss:0.00070\tvalidation-logloss:0.00079\n",
      "[81]\ttrain-logloss:0.00068\tvalidation-logloss:0.00076\n",
      "[82]\ttrain-logloss:0.00066\tvalidation-logloss:0.00075\n",
      "[83]\ttrain-logloss:0.00064\tvalidation-logloss:0.00073\n",
      "[84]\ttrain-logloss:0.00062\tvalidation-logloss:0.00071\n",
      "[85]\ttrain-logloss:0.00061\tvalidation-logloss:0.00069\n",
      "[86]\ttrain-logloss:0.00059\tvalidation-logloss:0.00067\n",
      "[87]\ttrain-logloss:0.00057\tvalidation-logloss:0.00066\n",
      "[88]\ttrain-logloss:0.00055\tvalidation-logloss:0.00064\n",
      "[89]\ttrain-logloss:0.00054\tvalidation-logloss:0.00063\n",
      "[90]\ttrain-logloss:0.00053\tvalidation-logloss:0.00062\n",
      "[91]\ttrain-logloss:0.00051\tvalidation-logloss:0.00060\n",
      "[92]\ttrain-logloss:0.00050\tvalidation-logloss:0.00059\n",
      "[93]\ttrain-logloss:0.00048\tvalidation-logloss:0.00057\n",
      "[94]\ttrain-logloss:0.00047\tvalidation-logloss:0.00056\n",
      "[95]\ttrain-logloss:0.00045\tvalidation-logloss:0.00054\n",
      "[96]\ttrain-logloss:0.00044\tvalidation-logloss:0.00053\n",
      "[97]\ttrain-logloss:0.00043\tvalidation-logloss:0.00052\n",
      "[98]\ttrain-logloss:0.00042\tvalidation-logloss:0.00051\n",
      "[99]\ttrain-logloss:0.00041\tvalidation-logloss:0.00051\n",
      "[100]\ttrain-logloss:0.00040\tvalidation-logloss:0.00050\n",
      "[101]\ttrain-logloss:0.00040\tvalidation-logloss:0.00049\n",
      "[102]\ttrain-logloss:0.00039\tvalidation-logloss:0.00049\n",
      "[103]\ttrain-logloss:0.00038\tvalidation-logloss:0.00048\n",
      "[104]\ttrain-logloss:0.00037\tvalidation-logloss:0.00047\n",
      "[105]\ttrain-logloss:0.00037\tvalidation-logloss:0.00047\n",
      "[106]\ttrain-logloss:0.00036\tvalidation-logloss:0.00046\n",
      "[107]\ttrain-logloss:0.00036\tvalidation-logloss:0.00046\n",
      "[108]\ttrain-logloss:0.00035\tvalidation-logloss:0.00046\n",
      "[109]\ttrain-logloss:0.00035\tvalidation-logloss:0.00045\n",
      "[110]\ttrain-logloss:0.00034\tvalidation-logloss:0.00045\n",
      "[111]\ttrain-logloss:0.00034\tvalidation-logloss:0.00044\n",
      "[112]\ttrain-logloss:0.00033\tvalidation-logloss:0.00044\n",
      "[113]\ttrain-logloss:0.00032\tvalidation-logloss:0.00043\n",
      "[114]\ttrain-logloss:0.00032\tvalidation-logloss:0.00042\n",
      "[115]\ttrain-logloss:0.00031\tvalidation-logloss:0.00042\n",
      "[116]\ttrain-logloss:0.00031\tvalidation-logloss:0.00042\n",
      "[117]\ttrain-logloss:0.00030\tvalidation-logloss:0.00041\n",
      "[118]\ttrain-logloss:0.00029\tvalidation-logloss:0.00041\n",
      "[119]\ttrain-logloss:0.00028\tvalidation-logloss:0.00040\n",
      "[120]\ttrain-logloss:0.00028\tvalidation-logloss:0.00040\n",
      "[121]\ttrain-logloss:0.00027\tvalidation-logloss:0.00039\n",
      "[122]\ttrain-logloss:0.00027\tvalidation-logloss:0.00039\n",
      "[123]\ttrain-logloss:0.00026\tvalidation-logloss:0.00038\n",
      "[124]\ttrain-logloss:0.00025\tvalidation-logloss:0.00038\n",
      "[125]\ttrain-logloss:0.00025\tvalidation-logloss:0.00037\n",
      "[126]\ttrain-logloss:0.00025\tvalidation-logloss:0.00037\n",
      "[127]\ttrain-logloss:0.00024\tvalidation-logloss:0.00037\n",
      "[128]\ttrain-logloss:0.00024\tvalidation-logloss:0.00037\n",
      "[129]\ttrain-logloss:0.00024\tvalidation-logloss:0.00036\n",
      "[130]\ttrain-logloss:0.00023\tvalidation-logloss:0.00036\n",
      "[131]\ttrain-logloss:0.00022\tvalidation-logloss:0.00035\n",
      "[132]\ttrain-logloss:0.00022\tvalidation-logloss:0.00035\n",
      "[133]\ttrain-logloss:0.00021\tvalidation-logloss:0.00035\n",
      "[134]\ttrain-logloss:0.00021\tvalidation-logloss:0.00034\n",
      "[135]\ttrain-logloss:0.00020\tvalidation-logloss:0.00034\n",
      "[136]\ttrain-logloss:0.00020\tvalidation-logloss:0.00034\n",
      "[137]\ttrain-logloss:0.00020\tvalidation-logloss:0.00034\n",
      "[138]\ttrain-logloss:0.00020\tvalidation-logloss:0.00033\n",
      "[139]\ttrain-logloss:0.00019\tvalidation-logloss:0.00033\n",
      "[140]\ttrain-logloss:0.00019\tvalidation-logloss:0.00033\n",
      "[141]\ttrain-logloss:0.00018\tvalidation-logloss:0.00032\n",
      "[142]\ttrain-logloss:0.00018\tvalidation-logloss:0.00032\n",
      "[143]\ttrain-logloss:0.00018\tvalidation-logloss:0.00032\n",
      "[144]\ttrain-logloss:0.00018\tvalidation-logloss:0.00032\n",
      "[145]\ttrain-logloss:0.00017\tvalidation-logloss:0.00032\n",
      "[146]\ttrain-logloss:0.00017\tvalidation-logloss:0.00031\n",
      "[147]\ttrain-logloss:0.00017\tvalidation-logloss:0.00031\n",
      "[148]\ttrain-logloss:0.00017\tvalidation-logloss:0.00031\n",
      "[149]\ttrain-logloss:0.00016\tvalidation-logloss:0.00031\n",
      "[150]\ttrain-logloss:0.00016\tvalidation-logloss:0.00031\n",
      "[151]\ttrain-logloss:0.00016\tvalidation-logloss:0.00030\n",
      "[152]\ttrain-logloss:0.00016\tvalidation-logloss:0.00030\n",
      "[153]\ttrain-logloss:0.00015\tvalidation-logloss:0.00030\n",
      "[154]\ttrain-logloss:0.00015\tvalidation-logloss:0.00030\n",
      "[155]\ttrain-logloss:0.00015\tvalidation-logloss:0.00030\n",
      "[156]\ttrain-logloss:0.00015\tvalidation-logloss:0.00029\n",
      "[157]\ttrain-logloss:0.00014\tvalidation-logloss:0.00029\n",
      "[158]\ttrain-logloss:0.00014\tvalidation-logloss:0.00029\n",
      "[159]\ttrain-logloss:0.00014\tvalidation-logloss:0.00029\n",
      "[160]\ttrain-logloss:0.00014\tvalidation-logloss:0.00029\n",
      "[161]\ttrain-logloss:0.00013\tvalidation-logloss:0.00028\n",
      "[162]\ttrain-logloss:0.00013\tvalidation-logloss:0.00028\n",
      "[163]\ttrain-logloss:0.00013\tvalidation-logloss:0.00028\n",
      "[164]\ttrain-logloss:0.00013\tvalidation-logloss:0.00028\n",
      "[165]\ttrain-logloss:0.00013\tvalidation-logloss:0.00028\n",
      "[166]\ttrain-logloss:0.00013\tvalidation-logloss:0.00028\n",
      "[167]\ttrain-logloss:0.00012\tvalidation-logloss:0.00028\n",
      "[168]\ttrain-logloss:0.00012\tvalidation-logloss:0.00027\n",
      "[169]\ttrain-logloss:0.00012\tvalidation-logloss:0.00027\n",
      "[170]\ttrain-logloss:0.00012\tvalidation-logloss:0.00027\n",
      "[171]\ttrain-logloss:0.00012\tvalidation-logloss:0.00027\n",
      "[172]\ttrain-logloss:0.00011\tvalidation-logloss:0.00027\n",
      "[173]\ttrain-logloss:0.00011\tvalidation-logloss:0.00027\n",
      "[174]\ttrain-logloss:0.00011\tvalidation-logloss:0.00027\n",
      "[175]\ttrain-logloss:0.00011\tvalidation-logloss:0.00027\n",
      "[176]\ttrain-logloss:0.00011\tvalidation-logloss:0.00027\n",
      "[177]\ttrain-logloss:0.00011\tvalidation-logloss:0.00026\n",
      "[178]\ttrain-logloss:0.00010\tvalidation-logloss:0.00026\n",
      "[179]\ttrain-logloss:0.00010\tvalidation-logloss:0.00026\n",
      "[180]\ttrain-logloss:0.00010\tvalidation-logloss:0.00026\n",
      "[181]\ttrain-logloss:0.00010\tvalidation-logloss:0.00026\n",
      "[182]\ttrain-logloss:0.00010\tvalidation-logloss:0.00026\n",
      "[183]\ttrain-logloss:0.00010\tvalidation-logloss:0.00026\n",
      "[184]\ttrain-logloss:0.00010\tvalidation-logloss:0.00026\n",
      "[185]\ttrain-logloss:0.00010\tvalidation-logloss:0.00026\n",
      "[186]\ttrain-logloss:0.00010\tvalidation-logloss:0.00026\n",
      "[187]\ttrain-logloss:0.00009\tvalidation-logloss:0.00026\n",
      "[188]\ttrain-logloss:0.00009\tvalidation-logloss:0.00025\n",
      "[189]\ttrain-logloss:0.00009\tvalidation-logloss:0.00025\n",
      "[190]\ttrain-logloss:0.00009\tvalidation-logloss:0.00025\n",
      "[191]\ttrain-logloss:0.00009\tvalidation-logloss:0.00025\n",
      "[192]\ttrain-logloss:0.00009\tvalidation-logloss:0.00025\n",
      "[193]\ttrain-logloss:0.00009\tvalidation-logloss:0.00025\n",
      "[194]\ttrain-logloss:0.00009\tvalidation-logloss:0.00025\n",
      "[195]\ttrain-logloss:0.00009\tvalidation-logloss:0.00025\n",
      "[196]\ttrain-logloss:0.00008\tvalidation-logloss:0.00025\n",
      "[197]\ttrain-logloss:0.00008\tvalidation-logloss:0.00025\n",
      "[198]\ttrain-logloss:0.00008\tvalidation-logloss:0.00025\n",
      "[199]\ttrain-logloss:0.00008\tvalidation-logloss:0.00025\n"
     ]
    }
   ],
   "execution_count": 118
  },
  {
   "metadata": {
    "ExecuteTime": {
     "end_time": "2025-01-10T14:12:23.704953Z",
     "start_time": "2025-01-10T14:12:23.703565Z"
    }
   },
   "cell_type": "code",
   "source": "from sklearn.metrics import accuracy_score",
   "id": "7f2c0417ab8e0e82",
   "outputs": [],
   "execution_count": 119
  },
  {
   "metadata": {
    "ExecuteTime": {
     "end_time": "2025-01-10T14:12:24.448052Z",
     "start_time": "2025-01-10T14:12:23.719543Z"
    }
   },
   "cell_type": "code",
   "source": [
    "# Predict on the test set\n",
    "y_pred_proba = xgb_model.predict(dtest)\n",
    "y_pred = [1 if prob > 0.5 else 0 for prob in y_pred_proba]\n",
    "\n",
    "# Evaluate the model\n",
    "accuracy = accuracy_score(y_test, y_pred)\n",
    "print(f\"Test Accuracy: {accuracy:.6f}\")"
   ],
   "id": "8e1ce24ce3b14ee",
   "outputs": [
    {
     "name": "stdout",
     "output_type": "stream",
     "text": [
      "Test Accuracy: 0.999893\n"
     ]
    }
   ],
   "execution_count": 120
  },
  {
   "metadata": {
    "ExecuteTime": {
     "end_time": "2025-01-10T14:12:24.900674Z",
     "start_time": "2025-01-10T14:12:24.465125Z"
    }
   },
   "cell_type": "code",
   "source": [
    "# lets do further tests\n",
    "\n",
    "from sklearn.metrics import classification_report\n",
    "# Generate a classification report\n",
    "report = classification_report(y_test, y_pred)\n",
    "print(\"Classification Report:\")\n",
    "print(report)\n"
   ],
   "id": "ca9be7385a96e791",
   "outputs": [
    {
     "name": "stdout",
     "output_type": "stream",
     "text": [
      "Classification Report:\n",
      "              precision    recall  f1-score   support\n",
      "\n",
      "           0       1.00      1.00      1.00    246865\n",
      "           1       1.00      1.00      1.00    246515\n",
      "\n",
      "    accuracy                           1.00    493380\n",
      "   macro avg       1.00      1.00      1.00    493380\n",
      "weighted avg       1.00      1.00      1.00    493380\n",
      "\n"
     ]
    }
   ],
   "execution_count": 121
  },
  {
   "metadata": {
    "ExecuteTime": {
     "end_time": "2025-01-10T14:12:25.062514Z",
     "start_time": "2025-01-10T14:12:24.914490Z"
    }
   },
   "cell_type": "code",
   "source": [
    "from sklearn.metrics import confusion_matrix, ConfusionMatrixDisplay\n",
    "\n",
    "# Generate the confusion matrix\n",
    "cm = confusion_matrix(y_test, y_pred)\n",
    "\n",
    "# Display the confusion matrix\n",
    "disp = ConfusionMatrixDisplay(confusion_matrix=cm, display_labels=[0, 1])\n",
    "disp.plot(cmap='Blues')"
   ],
   "id": "835d97332ae1c65f",
   "outputs": [
    {
     "data": {
      "text/plain": [
       "<sklearn.metrics._plot.confusion_matrix.ConfusionMatrixDisplay at 0x164133890>"
      ]
     },
     "execution_count": 122,
     "metadata": {},
     "output_type": "execute_result"
    },
    {
     "data": {
      "text/plain": [
       "<Figure size 640x480 with 2 Axes>"
      ],
      "image/png": "[encoded data removed]"
     },
     "metadata": {},
     "output_type": "display_data"
    }
   ],
   "execution_count": 122
  },
  {
   "metadata": {
    "ExecuteTime": {
     "end_time": "2025-01-10T14:12:25.371454Z",
     "start_time": "2025-01-10T14:12:25.097822Z"
    }
   },
   "cell_type": "code",
   "source": [
    "from sklearn.metrics import roc_curve, roc_auc_score\n",
    "import matplotlib.pyplot as plt\n",
    "\n",
    "# Calculate ROC curve\n",
    "fpr, tpr, thresholds = roc_curve(y_test, y_pred_proba)\n",
    "auc = roc_auc_score(y_test, y_pred_proba)\n",
    "\n",
    "# Plot the ROC curve\n",
    "plt.plot(fpr, tpr, label=f\"AUC = {auc:.2f}\")\n",
    "plt.plot([0, 1], [0, 1], linestyle='--', color='gray')  # Reference line\n",
    "plt.title(\"ROC Curve\")\n",
    "plt.xlabel(\"False Positive Rate\")\n",
    "plt.ylabel(\"True Positive Rate\")\n",
    "plt.legend()\n",
    "plt.show()\n"
   ],
   "id": "b49a9cde5fefcafc",
   "outputs": [
    {
     "data": {
      "text/plain": [
       "<Figure size 640x480 with 1 Axes>"
      ],
      "image/png": "[encoded data removed]"
     },
     "metadata": {},
     "output_type": "display_data"
    }
   ],
   "execution_count": 123
  },
  {
   "metadata": {
    "ExecuteTime": {
     "end_time": "2025-01-10T14:12:30.579413Z",
     "start_time": "2025-01-10T14:12:30.578066Z"
    }
   },
   "cell_type": "code",
   "source": "",
   "id": "24f4a2f116360d12",
   "outputs": [],
   "execution_count": null
  },
  {
   "metadata": {},
   "cell_type": "markdown",
   "source": [
    "### tips\n",
    "- replace missing values with 'unknown'\n",
    "- replace with mode ( most frequest value )\n",
    "- replace based on probabilities\n",
    "- individual handling per variable"
   ],
   "id": "809cd3168b7b21f"
  },
  {
   "metadata": {
    "ExecuteTime": {
     "end_time": "2025-01-10T14:12:31.646205Z",
     "start_time": "2025-01-10T14:12:31.644672Z"
    }
   },
   "cell_type": "code",
   "source": "# since we have a good precisions lets study the dataset in details and try to figure out if the features are correlated or not",
   "id": "15185f979486d1cd",
   "outputs": [],
   "execution_count": 124
  },
  {
   "metadata": {
    "ExecuteTime": {
     "end_time": "2025-01-10T14:12:32.182986Z",
     "start_time": "2025-01-10T14:12:32.181120Z"
    }
   },
   "cell_type": "code",
   "source": "from xgboost import XGBClassifier, XGBRegressor",
   "id": "21bb4d8666df1f2d",
   "outputs": [],
   "execution_count": 125
  },
  {
   "metadata": {
    "ExecuteTime": {
     "end_time": "2025-01-10T14:12:33.447110Z",
     "start_time": "2025-01-10T14:12:33.445206Z"
    }
   },
   "cell_type": "code",
   "source": "model = XGBClassifier(param=params)",
   "id": "d5c05373f6f0f427",
   "outputs": [],
   "execution_count": 126
  },
  {
   "metadata": {
    "ExecuteTime": {
     "end_time": "2025-01-10T14:12:43.830308Z",
     "start_time": "2025-01-10T14:12:34.527678Z"
    }
   },
   "cell_type": "code",
   "source": "model.fit(X_train, y_train)",
   "id": "32302f46f0b954e9",
   "outputs": [
    {
     "name": "stderr",
     "output_type": "stream",
     "text": [
      "/Library/Frameworks/Python.framework/Versions/3.12/lib/python3.12/site-packages/xgboost/core.py:158: UserWarning: [15:12:37] WARNING: /Users/runner/work/xgboost/xgboost/src/learner.cc:740: \n",
      "Parameters: { \"param\" } are not used.\n",
      "\n",
      "  warnings.warn(smsg, UserWarning)\n"
     ]
    },
    {
     "data": {
      "text/plain": [
       "XGBClassifier(base_score=None, booster=None, callbacks=None,\n",
       "              colsample_bylevel=None, colsample_bynode=None,\n",
       "              colsample_bytree=None, device=None, early_stopping_rounds=None,\n",
       "              enable_categorical=False, eval_metric=None, feature_types=None,\n",
       "              gamma=None, grow_policy=None, importance_type=None,\n",
       "              interaction_constraints=None, learning_rate=None, max_bin=None,\n",
       "              max_cat_thresho...one, max_cat_to_onehot=None,\n",
       "              max_delta_step=None, max_depth=None, max_leaves=None,\n",
       "              min_child_weight=None, missing=nan, monotone_constraints=None,\n",
       "              multi_strategy=None, n_estimators=None, n_jobs=None,\n",
       "              num_parallel_tree=None,\n",
       "              param={'colsample_bytree': 0.8, 'eval_metric': 'logloss',\n",
       "                     'learning_rate': 0.1, 'max_depth': 8,\n",
       "                     'objective': 'binary:logistic', 'subsample': 0.8}, ...)"
      ],
      "text/html": [
       "<style>#sk-container-id-3 {\n",
       "  /* Definition of color scheme common for light and dark mode */\n",
       "  --sklearn-color-text: black;\n",
       "  --sklearn-color-line: gray;\n",
       "  /* Definition of color scheme for unfitted estimators */\n",
       "  --sklearn-color-unfitted-level-0: #fff5e6;\n",
       "  --sklearn-color-unfitted-level-1: #f6e4d2;\n",
       "  --sklearn-color-unfitted-level-2: #ffe0b3;\n",
       "  --sklearn-color-unfitted-level-3: chocolate;\n",
       "  /* Definition of color scheme for fitted estimators */\n",
       "  --sklearn-color-fitted-level-0: #f0f8ff;\n",
       "  --sklearn-color-fitted-level-1: #d4ebff;\n",
       "  --sklearn-color-fitted-level-2: #b3dbfd;\n",
       "  --sklearn-color-fitted-level-3: cornflowerblue;\n",
       "\n",
       "  /* Specific color for light theme */\n",
       "  --sklearn-color-text-on-default-background: var(--sg-text-color, var(--theme-code-foreground, var(--jp-content-font-color1, black)));\n",
       "  --sklearn-color-background: var(--sg-background-color, var(--theme-background, var(--jp-layout-color0, white)));\n",
       "  --sklearn-color-border-box: var(--sg-text-color, var(--theme-code-foreground, var(--jp-content-font-color1, black)));\n",
       "  --sklearn-color-icon: #696969;\n",
       "\n",
       "  @media (prefers-color-scheme: dark) {\n",
       "    /* Redefinition of color scheme for dark theme */\n",
       "    --sklearn-color-text-on-default-background: var(--sg-text-color, var(--theme-code-foreground, var(--jp-content-font-color1, white)));\n",
       "    --sklearn-color-background: var(--sg-background-color, var(--theme-background, var(--jp-layout-color0, #111)));\n",
       "    --sklearn-color-border-box: var(--sg-text-color, var(--theme-code-foreground, var(--jp-content-font-color1, white)));\n",
       "    --sklearn-color-icon: #878787;\n",
       "  }\n",
       "}\n",
       "\n",
       "#sk-container-id-3 {\n",
       "  color: var(--sklearn-color-text);\n",
       "}\n",
       "\n",
       "#sk-container-id-3 pre {\n",
       "  padding: 0;\n",
       "}\n",
       "\n",
       "#sk-container-id-3 input.sk-hidden--visually {\n",
       "  border: 0;\n",
       "  clip: rect(1px 1px 1px 1px);\n",
       "  clip: rect(1px, 1px, 1px, 1px);\n",
       "  height: 1px;\n",
       "  margin: -1px;\n",
       "  overflow: hidden;\n",
       "  padding: 0;\n",
       "  position: absolute;\n",
       "  width: 1px;\n",
       "}\n",
       "\n",
       "#sk-container-id-3 div.sk-dashed-wrapped {\n",
       "  border: 1px dashed var(--sklearn-color-line);\n",
       "  margin: 0 0.4em 0.5em 0.4em;\n",
       "  box-sizing: border-box;\n",
       "  padding-bottom: 0.4em;\n",
       "  background-color: var(--sklearn-color-background);\n",
       "}\n",
       "\n",
       "#sk-container-id-3 div.sk-container {\n",
       "  /* jupyter's `normalize.less` sets `[hidden] { display: none; }`\n",
       "     but bootstrap.min.css set `[hidden] { display: none !important; }`\n",
       "     so we also need the `!important` here to be able to override the\n",
       "     default hidden behavior on the sphinx rendered scikit-learn.org.\n",
       "     See: https://github.com/scikit-learn/scikit-learn/issues/21755 */\n",
       "  display: inline-block !important;\n",
       "  position: relative;\n",
       "}\n",
       "\n",
       "#sk-container-id-3 div.sk-text-repr-fallback {\n",
       "  display: none;\n",
       "}\n",
       "\n",
       "div.sk-parallel-item,\n",
       "div.sk-serial,\n",
       "div.sk-item {\n",
       "  /* draw centered vertical line to link estimators */\n",
       "  background-image: linear-gradient(var(--sklearn-color-text-on-default-background), var(--sklearn-color-text-on-default-background));\n",
       "  background-size: 2px 100%;\n",
       "  background-repeat: no-repeat;\n",
       "  background-position: center center;\n",
       "}\n",
       "\n",
       "/* Parallel-specific style estimator block */\n",
       "\n",
       "#sk-container-id-3 div.sk-parallel-item::after {\n",
       "  content: \"\";\n",
       "  width: 100%;\n",
       "  border-bottom: 2px solid var(--sklearn-color-text-on-default-background);\n",
       "  flex-grow: 1;\n",
       "}\n",
       "\n",
       "#sk-container-id-3 div.sk-parallel {\n",
       "  display: flex;\n",
       "  align-items: stretch;\n",
       "  justify-content: center;\n",
       "  background-color: var(--sklearn-color-background);\n",
       "  position: relative;\n",
       "}\n",
       "\n",
       "#sk-container-id-3 div.sk-parallel-item {\n",
       "  display: flex;\n",
       "  flex-direction: column;\n",
       "}\n",
       "\n",
       "#sk-container-id-3 div.sk-parallel-item:first-child::after {\n",
       "  align-self: flex-end;\n",
       "  width: 50%;\n",
       "}\n",
       "\n",
       "#sk-container-id-3 div.sk-parallel-item:last-child::after {\n",
       "  align-self: flex-start;\n",
       "  width: 50%;\n",
       "}\n",
       "\n",
       "#sk-container-id-3 div.sk-parallel-item:only-child::after {\n",
       "  width: 0;\n",
       "}\n",
       "\n",
       "/* Serial-specific style estimator block */\n",
       "\n",
       "#sk-container-id-3 div.sk-serial {\n",
       "  display: flex;\n",
       "  flex-direction: column;\n",
       "  align-items: center;\n",
       "  background-color: var(--sklearn-color-background);\n",
       "  padding-right: 1em;\n",
       "  padding-left: 1em;\n",
       "}\n",
       "\n",
       "\n",
       "/* Toggleable style: style used for estimator/Pipeline/ColumnTransformer box that is\n",
       "clickable and can be expanded/collapsed.\n",
       "- Pipeline and ColumnTransformer use this feature and define the default style\n",
       "- Estimators will overwrite some part of the style using the `sk-estimator` class\n",
       "*/\n",
       "\n",
       "/* Pipeline and ColumnTransformer style (default) */\n",
       "\n",
       "#sk-container-id-3 div.sk-toggleable {\n",
       "  /* Default theme specific background. It is overwritten whether we have a\n",
       "  specific estimator or a Pipeline/ColumnTransformer */\n",
       "  background-color: var(--sklearn-color-background);\n",
       "}\n",
       "\n",
       "/* Toggleable label */\n",
       "#sk-container-id-3 label.sk-toggleable__label {\n",
       "  cursor: pointer;\n",
       "  display: block;\n",
       "  width: 100%;\n",
       "  margin-bottom: 0;\n",
       "  padding: 0.5em;\n",
       "  box-sizing: border-box;\n",
       "  text-align: center;\n",
       "}\n",
       "\n",
       "#sk-container-id-3 label.sk-toggleable__label-arrow:before {\n",
       "  /* Arrow on the left of the label */\n",
       "  content: \"▸\";\n",
       "  float: left;\n",
       "  margin-right: 0.25em;\n",
       "  color: var(--sklearn-color-icon);\n",
       "}\n",
       "\n",
       "#sk-container-id-3 label.sk-toggleable__label-arrow:hover:before {\n",
       "  color: var(--sklearn-color-text);\n",
       "}\n",
       "\n",
       "/* Toggleable content - dropdown */\n",
       "\n",
       "#sk-container-id-3 div.sk-toggleable__content {\n",
       "  max-height: 0;\n",
       "  max-width: 0;\n",
       "  overflow: hidden;\n",
       "  text-align: left;\n",
       "  /* unfitted */\n",
       "  background-color: var(--sklearn-color-unfitted-level-0);\n",
       "}\n",
       "\n",
       "#sk-container-id-3 div.sk-toggleable__content.fitted {\n",
       "  /* fitted */\n",
       "  background-color: var(--sklearn-color-fitted-level-0);\n",
       "}\n",
       "\n",
       "#sk-container-id-3 div.sk-toggleable__content pre {\n",
       "  margin: 0.2em;\n",
       "  border-radius: 0.25em;\n",
       "  color: var(--sklearn-color-text);\n",
       "  /* unfitted */\n",
       "  background-color: var(--sklearn-color-unfitted-level-0);\n",
       "}\n",
       "\n",
       "#sk-container-id-3 div.sk-toggleable__content.fitted pre {\n",
       "  /* unfitted */\n",
       "  background-color: var(--sklearn-color-fitted-level-0);\n",
       "}\n",
       "\n",
       "#sk-container-id-3 input.sk-toggleable__control:checked~div.sk-toggleable__content {\n",
       "  /* Expand drop-down */\n",
       "  max-height: 200px;\n",
       "  max-width: 100%;\n",
       "  overflow: auto;\n",
       "}\n",
       "\n",
       "#sk-container-id-3 input.sk-toggleable__control:checked~label.sk-toggleable__label-arrow:before {\n",
       "  content: \"▾\";\n",
       "}\n",
       "\n",
       "/* Pipeline/ColumnTransformer-specific style */\n",
       "\n",
       "#sk-container-id-3 div.sk-label input.sk-toggleable__control:checked~label.sk-toggleable__label {\n",
       "  color: var(--sklearn-color-text);\n",
       "  background-color: var(--sklearn-color-unfitted-level-2);\n",
       "}\n",
       "\n",
       "#sk-container-id-3 div.sk-label.fitted input.sk-toggleable__control:checked~label.sk-toggleable__label {\n",
       "  background-color: var(--sklearn-color-fitted-level-2);\n",
       "}\n",
       "\n",
       "/* Estimator-specific style */\n",
       "\n",
       "/* Colorize estimator box */\n",
       "#sk-container-id-3 div.sk-estimator input.sk-toggleable__control:checked~label.sk-toggleable__label {\n",
       "  /* unfitted */\n",
       "  background-color: var(--sklearn-color-unfitted-level-2);\n",
       "}\n",
       "\n",
       "#sk-container-id-3 div.sk-estimator.fitted input.sk-toggleable__control:checked~label.sk-toggleable__label {\n",
       "  /* fitted */\n",
       "  background-color: var(--sklearn-color-fitted-level-2);\n",
       "}\n",
       "\n",
       "#sk-container-id-3 div.sk-label label.sk-toggleable__label,\n",
       "#sk-container-id-3 div.sk-label label {\n",
       "  /* The background is the default theme color */\n",
       "  color: var(--sklearn-color-text-on-default-background);\n",
       "}\n",
       "\n",
       "/* On hover, darken the color of the background */\n",
       "#sk-container-id-3 div.sk-label:hover label.sk-toggleable__label {\n",
       "  color: var(--sklearn-color-text);\n",
       "  background-color: var(--sklearn-color-unfitted-level-2);\n",
       "}\n",
       "\n",
       "/* Label box, darken color on hover, fitted */\n",
       "#sk-container-id-3 div.sk-label.fitted:hover label.sk-toggleable__label.fitted {\n",
       "  color: var(--sklearn-color-text);\n",
       "  background-color: var(--sklearn-color-fitted-level-2);\n",
       "}\n",
       "\n",
       "/* Estimator label */\n",
       "\n",
       "#sk-container-id-3 div.sk-label label {\n",
       "  font-family: monospace;\n",
       "  font-weight: bold;\n",
       "  display: inline-block;\n",
       "  line-height: 1.2em;\n",
       "}\n",
       "\n",
       "#sk-container-id-3 div.sk-label-container {\n",
       "  text-align: center;\n",
       "}\n",
       "\n",
       "/* Estimator-specific */\n",
       "#sk-container-id-3 div.sk-estimator {\n",
       "  font-family: monospace;\n",
       "  border: 1px dotted var(--sklearn-color-border-box);\n",
       "  border-radius: 0.25em;\n",
       "  box-sizing: border-box;\n",
       "  margin-bottom: 0.5em;\n",
       "  /* unfitted */\n",
       "  background-color: var(--sklearn-color-unfitted-level-0);\n",
       "}\n",
       "\n",
       "#sk-container-id-3 div.sk-estimator.fitted {\n",
       "  /* fitted */\n",
       "  background-color: var(--sklearn-color-fitted-level-0);\n",
       "}\n",
       "\n",
       "/* on hover */\n",
       "#sk-container-id-3 div.sk-estimator:hover {\n",
       "  /* unfitted */\n",
       "  background-color: var(--sklearn-color-unfitted-level-2);\n",
       "}\n",
       "\n",
       "#sk-container-id-3 div.sk-estimator.fitted:hover {\n",
       "  /* fitted */\n",
       "  background-color: var(--sklearn-color-fitted-level-2);\n",
       "}\n",
       "\n",
       "/* Specification for estimator info (e.g. \"i\" and \"?\") */\n",
       "\n",
       "/* Common style for \"i\" and \"?\" */\n",
       "\n",
       ".sk-estimator-doc-link,\n",
       "a:link.sk-estimator-doc-link,\n",
       "a:visited.sk-estimator-doc-link {\n",
       "  float: right;\n",
       "  font-size: smaller;\n",
       "  line-height: 1em;\n",
       "  font-family: monospace;\n",
       "  background-color: var(--sklearn-color-background);\n",
       "  border-radius: 1em;\n",
       "  height: 1em;\n",
       "  width: 1em;\n",
       "  text-decoration: none !important;\n",
       "  margin-left: 1ex;\n",
       "  /* unfitted */\n",
       "  border: var(--sklearn-color-unfitted-level-1) 1pt solid;\n",
       "  color: var(--sklearn-color-unfitted-level-1);\n",
       "}\n",
       "\n",
       ".sk-estimator-doc-link.fitted,\n",
       "a:link.sk-estimator-doc-link.fitted,\n",
       "a:visited.sk-estimator-doc-link.fitted {\n",
       "  /* fitted */\n",
       "  border: var(--sklearn-color-fitted-level-1) 1pt solid;\n",
       "  color: var(--sklearn-color-fitted-level-1);\n",
       "}\n",
       "\n",
       "/* On hover */\n",
       "div.sk-estimator:hover .sk-estimator-doc-link:hover,\n",
       ".sk-estimator-doc-link:hover,\n",
       "div.sk-label-container:hover .sk-estimator-doc-link:hover,\n",
       ".sk-estimator-doc-link:hover {\n",
       "  /* unfitted */\n",
       "  background-color: var(--sklearn-color-unfitted-level-3);\n",
       "  color: var(--sklearn-color-background);\n",
       "  text-decoration: none;\n",
       "}\n",
       "\n",
       "div.sk-estimator.fitted:hover .sk-estimator-doc-link.fitted:hover,\n",
       ".sk-estimator-doc-link.fitted:hover,\n",
       "div.sk-label-container:hover .sk-estimator-doc-link.fitted:hover,\n",
       ".sk-estimator-doc-link.fitted:hover {\n",
       "  /* fitted */\n",
       "  background-color: var(--sklearn-color-fitted-level-3);\n",
       "  color: var(--sklearn-color-background);\n",
       "  text-decoration: none;\n",
       "}\n",
       "\n",
       "/* Span, style for the box shown on hovering the info icon */\n",
       ".sk-estimator-doc-link span {\n",
       "  display: none;\n",
       "  z-index: 9999;\n",
       "  position: relative;\n",
       "  font-weight: normal;\n",
       "  right: .2ex;\n",
       "  padding: .5ex;\n",
       "  margin: .5ex;\n",
       "  width: min-content;\n",
       "  min-width: 20ex;\n",
       "  max-width: 50ex;\n",
       "  color: var(--sklearn-color-text);\n",
       "  box-shadow: 2pt 2pt 4pt #999;\n",
       "  /* unfitted */\n",
       "  background: var(--sklearn-color-unfitted-level-0);\n",
       "  border: .5pt solid var(--sklearn-color-unfitted-level-3);\n",
       "}\n",
       "\n",
       ".sk-estimator-doc-link.fitted span {\n",
       "  /* fitted */\n",
       "  background: var(--sklearn-color-fitted-level-0);\n",
       "  border: var(--sklearn-color-fitted-level-3);\n",
       "}\n",
       "\n",
       ".sk-estimator-doc-link:hover span {\n",
       "  display: block;\n",
       "}\n",
       "\n",
       "/* \"?\"-specific style due to the `<a>` HTML tag */\n",
       "\n",
       "#sk-container-id-3 a.estimator_doc_link {\n",
       "  float: right;\n",
       "  font-size: 1rem;\n",
       "  line-height: 1em;\n",
       "  font-family: monospace;\n",
       "  background-color: var(--sklearn-color-background);\n",
       "  border-radius: 1rem;\n",
       "  height: 1rem;\n",
       "  width: 1rem;\n",
       "  text-decoration: none;\n",
       "  /* unfitted */\n",
       "  color: var(--sklearn-color-unfitted-level-1);\n",
       "  border: var(--sklearn-color-unfitted-level-1) 1pt solid;\n",
       "}\n",
       "\n",
       "#sk-container-id-3 a.estimator_doc_link.fitted {\n",
       "  /* fitted */\n",
       "  border: var(--sklearn-color-fitted-level-1) 1pt solid;\n",
       "  color: var(--sklearn-color-fitted-level-1);\n",
       "}\n",
       "\n",
       "/* On hover */\n",
       "#sk-container-id-3 a.estimator_doc_link:hover {\n",
       "  /* unfitted */\n",
       "  background-color: var(--sklearn-color-unfitted-level-3);\n",
       "  color: var(--sklearn-color-background);\n",
       "  text-decoration: none;\n",
       "}\n",
       "\n",
       "#sk-container-id-3 a.estimator_doc_link.fitted:hover {\n",
       "  /* fitted */\n",
       "  background-color: var(--sklearn-color-fitted-level-3);\n",
       "}\n",
       "</style><div id=\"sk-container-id-3\" class=\"sk-top-container\"><div class=\"sk-text-repr-fallback\"><pre>XGBClassifier(base_score=None, booster=None, callbacks=None,\n",
       "              colsample_bylevel=None, colsample_bynode=None,\n",
       "              colsample_bytree=None, device=None, early_stopping_rounds=None,\n",
       "              enable_categorical=False, eval_metric=None, feature_types=None,\n",
       "              gamma=None, grow_policy=None, importance_type=None,\n",
       "              interaction_constraints=None, learning_rate=None, max_bin=None,\n",
       "              max_cat_thresho...one, max_cat_to_onehot=None,\n",
       "              max_delta_step=None, max_depth=None, max_leaves=None,\n",
       "              min_child_weight=None, missing=nan, monotone_constraints=None,\n",
       "              multi_strategy=None, n_estimators=None, n_jobs=None,\n",
       "              num_parallel_tree=None,\n",
       "              param={&#x27;colsample_bytree&#x27;: 0.8, &#x27;eval_metric&#x27;: &#x27;logloss&#x27;,\n",
       "                     &#x27;learning_rate&#x27;: 0.1, &#x27;max_depth&#x27;: 8,\n",
       "                     &#x27;objective&#x27;: &#x27;binary:logistic&#x27;, &#x27;subsample&#x27;: 0.8}, ...)</pre><b>In a Jupyter environment, please rerun this cell to show the HTML representation or trust the notebook. <br />On GitHub, the HTML representation is unable to render, please try loading this page with nbviewer.org.</b></div><div class=\"sk-container\" hidden><div class=\"sk-item\"><div class=\"sk-estimator fitted sk-toggleable\"><input class=\"sk-toggleable__control sk-hidden--visually\" id=\"sk-estimator-id-3\" type=\"checkbox\" checked><label for=\"sk-estimator-id-3\" class=\"sk-toggleable__label fitted sk-toggleable__label-arrow fitted\">&nbsp;XGBClassifier<span class=\"sk-estimator-doc-link fitted\">i<span>Fitted</span></span></label><div class=\"sk-toggleable__content fitted\"><pre>XGBClassifier(base_score=None, booster=None, callbacks=None,\n",
       "              colsample_bylevel=None, colsample_bynode=None,\n",
       "              colsample_bytree=None, device=None, early_stopping_rounds=None,\n",
       "              enable_categorical=False, eval_metric=None, feature_types=None,\n",
       "              gamma=None, grow_policy=None, importance_type=None,\n",
       "              interaction_constraints=None, learning_rate=None, max_bin=None,\n",
       "              max_cat_thresho...one, max_cat_to_onehot=None,\n",
       "              max_delta_step=None, max_depth=None, max_leaves=None,\n",
       "              min_child_weight=None, missing=nan, monotone_constraints=None,\n",
       "              multi_strategy=None, n_estimators=None, n_jobs=None,\n",
       "              num_parallel_tree=None,\n",
       "              param={&#x27;colsample_bytree&#x27;: 0.8, &#x27;eval_metric&#x27;: &#x27;logloss&#x27;,\n",
       "                     &#x27;learning_rate&#x27;: 0.1, &#x27;max_depth&#x27;: 8,\n",
       "                     &#x27;objective&#x27;: &#x27;binary:logistic&#x27;, &#x27;subsample&#x27;: 0.8}, ...)</pre></div> </div></div></div></div>"
      ]
     },
     "execution_count": 127,
     "metadata": {},
     "output_type": "execute_result"
    }
   ],
   "execution_count": 127
  },
  {
   "metadata": {
    "ExecuteTime": {
     "end_time": "2025-01-10T14:12:43.841132Z",
     "start_time": "2025-01-10T14:12:43.838529Z"
    }
   },
   "cell_type": "code",
   "source": [
    "importance = model.get_booster().get_score(importance_type='weight')\n",
    "\n"
   ],
   "id": "e1b99646740cfc41",
   "outputs": [],
   "execution_count": 128
  },
  {
   "metadata": {
    "ExecuteTime": {
     "end_time": "2025-01-10T14:12:45.413698Z",
     "start_time": "2025-01-10T14:12:45.410122Z"
    }
   },
   "cell_type": "code",
   "source": [
    "import pandas as pd\n",
    "\n",
    "importance_df = pd.DataFrame({\n",
    "    'Feature': importance.keys(),\n",
    "    'Importance': importance.values()\n",
    "}).sort_values(by='Importance', ascending=False)\n",
    "print(importance_df)\n"
   ],
   "id": "a5453c17ac201b32",
   "outputs": [
    {
     "name": "stdout",
     "output_type": "stream",
     "text": [
      "   Feature  Importance\n",
      "55     f67       150.0\n",
      "0       f0       138.0\n",
      "56     f68       133.0\n",
      "11     f11       133.0\n",
      "1       f1       124.0\n",
      "..     ...         ...\n",
      "44     f48        10.0\n",
      "53     f65         8.0\n",
      "67     f79         5.0\n",
      "62     f74         3.0\n",
      "32     f32         2.0\n",
      "\n",
      "[70 rows x 2 columns]\n"
     ]
    }
   ],
   "execution_count": 129
  },
  {
   "metadata": {
    "ExecuteTime": {
     "end_time": "2025-01-10T14:12:46.786847Z",
     "start_time": "2025-01-10T14:12:46.702031Z"
    }
   },
   "cell_type": "code",
   "source": [
    "from xgboost import plot_importance\n",
    "import matplotlib.pyplot as plt\n",
    "\n",
    "# Plot the feature importance\n",
    "plt.figure(figsize=(10, 8))\n",
    "plot_importance(model, importance_type='weight', max_num_features=20)  # Change max_num_features as needed\n",
    "plt.title('Feature Importance')\n",
    "plt.show()\n"
   ],
   "id": "4ce0e5821f0de281",
   "outputs": [
    {
     "data": {
      "text/plain": [
       "<Figure size 1000x800 with 0 Axes>"
      ]
     },
     "metadata": {},
     "output_type": "display_data"
    },
    {
     "data": {
      "text/plain": [
       "<Figure size 640x480 with 1 Axes>"
      ],
      "image/png": "[encoded data removed]"
     },
     "metadata": {},
     "output_type": "display_data"
    }
   ],
   "execution_count": 130
  },
  {
   "metadata": {
    "ExecuteTime": {
     "end_time": "2025-01-10T14:12:50.675547Z",
     "start_time": "2025-01-10T14:12:50.673378Z"
    }
   },
   "cell_type": "code",
   "source": "len(importance_df)",
   "id": "45b5dd81433942f9",
   "outputs": [
    {
     "data": {
      "text/plain": [
       "70"
      ]
     },
     "execution_count": 131,
     "metadata": {},
     "output_type": "execute_result"
    }
   ],
   "execution_count": 131
  },
  {
   "metadata": {
    "ExecuteTime": {
     "end_time": "2025-01-10T14:12:52.950668Z",
     "start_time": "2025-01-10T14:12:52.948374Z"
    }
   },
   "cell_type": "code",
   "source": [
    "# Extract all feature indices from the importance dictionary\n",
    "used_features = [int(f[1:]) for f in importance.keys()]\n",
    "print(used_features)\n",
    "print(len(used_features))\n",
    "\n",
    "\n",
    "\n"
   ],
   "id": "69426e8dc759c697",
   "outputs": [
    {
     "name": "stdout",
     "output_type": "stream",
     "text": [
      "[0, 1, 2, 3, 4, 5, 6, 7, 8, 9, 10, 11, 12, 13, 14, 15, 16, 17, 18, 19, 20, 21, 22, 23, 24, 25, 26, 27, 28, 29, 30, 31, 32, 36, 37, 38, 39, 40, 41, 42, 43, 45, 46, 47, 48, 49, 53, 54, 60, 61, 62, 63, 64, 65, 66, 67, 68, 69, 70, 71, 72, 73, 74, 75, 76, 77, 78, 79, 80, 81]\n",
      "70\n"
     ]
    }
   ],
   "execution_count": 132
  },
  {
   "metadata": {
    "ExecuteTime": {
     "end_time": "2025-01-10T14:12:53.784563Z",
     "start_time": "2025-01-10T14:12:53.782565Z"
    }
   },
   "cell_type": "code",
   "source": [
    "# Map these indices back to the original feature names\n",
    "feature_mapping = {f\"f{idx}\": X.columns[idx] for idx in used_features}\n"
   ],
   "id": "1366002139e453d6",
   "outputs": [],
   "execution_count": 133
  },
  {
   "metadata": {
    "ExecuteTime": {
     "end_time": "2025-01-10T14:12:54.443977Z",
     "start_time": "2025-01-10T14:12:54.441152Z"
    }
   },
   "cell_type": "code",
   "source": [
    "# Print the mapping\n",
    "for feature, original_name in feature_mapping.items():\n",
    "    print(f\"{feature} -> {original_name}\")\n"
   ],
   "id": "b3079247d79c526c",
   "outputs": [
    {
     "name": "stdout",
     "output_type": "stream",
     "text": [
      "f0 -> SrcPort\n",
      "f1 -> DstPort\n",
      "f2 -> Protocol\n",
      "f3 -> Flow Duration\n",
      "f4 -> Flow Bytes/s\n",
      "f5 -> Flow Packets/s\n",
      "f6 -> Tot Fwd Pkts\n",
      "f7 -> Tot Bwd Pkts\n",
      "f8 -> Total Length of Fwd Packet\n",
      "f9 -> Total Length of Bwd Packet\n",
      "f10 -> Fwd Packet Length Min\n",
      "f11 -> Fwd Packet Length Max\n",
      "f12 -> Fwd Packet Length Mean\n",
      "f13 -> Fwd Packet Length Std\n",
      "f14 -> Bwd Packet Length Min\n",
      "f15 -> Bwd Packet Length Max\n",
      "f16 -> Bwd Packet Length Mean\n",
      "f17 -> Bwd Packet Length Std\n",
      "f18 -> Flow IAT Mean\n",
      "f19 -> Flow IAT Min\n",
      "f20 -> Flow IAT Max\n",
      "f21 -> Flow IAT Stddev\n",
      "f22 -> Fwd IAT Min\n",
      "f23 -> Fwd IAT Max\n",
      "f24 -> Fwd IAT Mean\n",
      "f25 -> Fwd IAT Std\n",
      "f26 -> Fwd IAT Tot\n",
      "f27 -> Bwd IAT Min\n",
      "f28 -> Bwd IAT Max\n",
      "f29 -> Bwd IAT Mean\n",
      "f30 -> Bwd IAT Std\n",
      "f31 -> Bwd IAT Tot\n",
      "f32 -> Fwd PSH flags\n",
      "f36 -> Fwd Header Length\n",
      "f37 -> Bwd Header Length\n",
      "f38 -> Fwd Packets/s\n",
      "f39 -> Bwd Packets/s\n",
      "f40 -> Packet Length Min\n",
      "f41 -> Packet Length Max\n",
      "f42 -> Packet Length Mean\n",
      "f43 -> Packet Length Std\n",
      "f45 -> FIN Flag Cnt\n",
      "f46 -> SYN Flag Cnt\n",
      "f47 -> RST Flag Cnt\n",
      "f48 -> PSH Flag Cnt\n",
      "f49 -> ACK Flag Cnt\n",
      "f53 -> Down/Up Ratio\n",
      "f54 -> Average Packet Size\n",
      "f60 -> Bwd Bytes/Bulk Avg\n",
      "f61 -> Bwd Packet/Bulk Avg\n",
      "f62 -> Bwd Bulk Rate Avg\n",
      "f63 -> Subflow Fwd Packets\n",
      "f64 -> Subflow Fwd Bytes\n",
      "f65 -> Subflow Bwd Packets\n",
      "f66 -> Subflow Bwd Bytes\n",
      "f67 -> FWD Init Win Bytes\n",
      "f68 -> Bwd Init Win Bytes\n",
      "f69 -> Fwd Act Data Pkts\n",
      "f70 -> Fwd Seg Size Min\n",
      "f71 -> Active Min\n",
      "f72 -> Active Mean\n",
      "f73 -> Active Max\n",
      "f74 -> Active Std\n",
      "f75 -> Idle Min\n",
      "f76 -> Idle Mean\n",
      "f77 -> Idle Max\n",
      "f78 -> Idle Std\n",
      "f79 -> L3/L4 Protocol\n",
      "f80 -> Int/Ext Dst IP\n",
      "f81 -> Service\n"
     ]
    }
   ],
   "execution_count": 134
  },
  {
   "metadata": {
    "ExecuteTime": {
     "end_time": "2025-01-10T13:44:06.101345Z",
     "start_time": "2025-01-10T13:44:06.091356Z"
    }
   },
   "cell_type": "code",
   "source": [
    "mean_importance = importance_df['Importance'].mean()\n",
    "important_features = importance_df[importance_df['Importance'] > mean_importance]\n",
    "\n",
    "\n",
    "\n",
    "\n",
    "print(important_features)\n"
   ],
   "id": "8c13f6e4e9e07c67",
   "outputs": [
    {
     "name": "stdout",
     "output_type": "stream",
     "text": [
      "   Feature  Importance  Cumulative_Importance\n",
      "57     f69       133.0                  133.0\n",
      "58     f70       127.0                  260.0\n",
      "1       f1       117.0                  377.0\n",
      "3       f3       115.0                  492.0\n",
      "0       f0       106.0                  598.0\n",
      "13     f13        94.0                  692.0\n",
      "36     f39        73.0                  765.0\n",
      "59     f71        66.0                  831.0\n",
      "14     f14        65.0                  896.0\n",
      "15     f15        64.0                  960.0\n",
      "18     f18        60.0                 1020.0\n",
      "4       f4        60.0                 1080.0\n",
      "12     f12        57.0                 1137.0\n",
      "71     f83        56.0                 1193.0\n",
      "10     f10        56.0                 1249.0\n",
      "5       f5        55.0                 1304.0\n",
      "8       f8        54.0                 1358.0\n",
      "9       f9        51.0                 1409.0\n",
      "42     f45        51.0                 1460.0\n",
      "17     f17        49.0                 1509.0\n",
      "38     f41        48.0                 1557.0\n",
      "40     f43        47.0                 1604.0\n",
      "70     f82        46.0                 1650.0\n",
      "6       f6        43.0                 1693.0\n",
      "48     f55        43.0                 1736.0\n",
      "52     f64        42.0                 1778.0\n",
      "35     f38        41.0                 1819.0\n"
     ]
    }
   ],
   "execution_count": 98
  },
  {
   "metadata": {
    "ExecuteTime": {
     "end_time": "2025-01-10T14:22:59.450383Z",
     "start_time": "2025-01-10T14:22:59.330983Z"
    }
   },
   "cell_type": "code",
   "source": [
    "import matplotlib.pyplot as plt\n",
    "import pandas as pd\n",
    "import seaborn as sns\n",
    "\n",
    "# Step 1: Extract feature importance with original feature names\n",
    "importance = model.get_booster().get_score(importance_type='weight')\n",
    "feature_mapping = {f\"f{idx}\": X.columns[idx] for idx in range(len(X.columns))}\n",
    "importance_with_names = {feature_mapping[f]: importance[f] for f in importance.keys()}\n",
    "\n",
    "# Step 2: Convert to DataFrame for easier sorting and visualization\n",
    "importance_df = pd.DataFrame({\n",
    "    'Feature': importance_with_names.keys(),\n",
    "    'Importance': importance_with_names.values()\n",
    "}).sort_values(by='Importance', ascending=False)\n",
    "\n",
    "# Step 3: Plot using matplotlib or seaborn\n",
    "plt.figure(figsize=(12, 8))\n",
    "sns.barplot(x='Importance', y='Feature', data=importance_df.head(20))  # Plot top 20 features\n",
    "plt.title('Feature Importance with Feature Names')\n",
    "plt.xlabel('Importance')\n",
    "plt.ylabel('Feature')\n",
    "plt.show()\n"
   ],
   "id": "ffd46780133c8f09",
   "outputs": [
    {
     "data": {
      "text/plain": [
       "<Figure size 1200x800 with 1 Axes>"
      ],
      "image/png": "[encoded data removed]"
     },
     "metadata": {},
     "output_type": "display_data"
    }
   ],
   "execution_count": 137
  },
  {
   "metadata": {
    "ExecuteTime": {
     "end_time": "2025-01-15T14:12:35.865318Z",
     "start_time": "2025-01-15T14:12:35.861562Z"
    }
   },
   "cell_type": "code",
   "source": "",
   "id": "e9820c59327a9562",
   "outputs": [],
   "execution_count": null
  },
  {
   "metadata": {
    "ExecuteTime": {
     "end_time": "2025-01-15T14:12:35.974762Z",
     "start_time": "2025-01-15T14:12:35.972900Z"
    }
   },
   "cell_type": "code",
   "source": "",
   "id": "7779e90a588b3d8a",
   "outputs": [],
   "execution_count": null
  },
  {
   "metadata": {
    "ExecuteTime": {
     "end_time": "2025-01-15T14:12:36.214002Z",
     "start_time": "2025-01-15T14:12:36.212306Z"
    }
   },
   "cell_type": "code",
   "source": "",
   "id": "460758f071a475ad",
   "outputs": [],
   "execution_count": null
  },
  {
   "metadata": {
    "ExecuteTime": {
     "end_time": "2025-01-15T14:12:36.343132Z",
     "start_time": "2025-01-15T14:12:36.341417Z"
    }
   },
   "cell_type": "code",
   "source": "",
   "id": "fb1d9c811964b08a",
   "outputs": [],
   "execution_count": null
  },
  {
   "metadata": {
    "ExecuteTime": {
     "end_time": "2025-01-15T14:12:36.457427Z",
     "start_time": "2025-01-15T14:12:36.455691Z"
    }
   },
   "cell_type": "code",
   "source": "",
   "id": "c40ed8757573c410",
   "outputs": [],
   "execution_count": null
  },
  {
   "metadata": {},
   "cell_type": "code",
   "outputs": [],
   "execution_count": null,
   "source": [
    "# batch file doc :\n",
    "\n",
    "#!/bin/bash\n",
    "#SBATCH --job-name=testCluster          # Job name\n",
    "#SBATCH --output=my_job_%j.out     # Output file\n",
    "#SBATCH --error=my_job_%j.err      # Error file        #\n",
    "#SBATCH -n 80                # Number of tasks\n",
    "#SBATCH --cpus-per-task=2          # CPUs per task\n",
    "#SBATCH --time=02:00:00            # Time limit\n",
    "#SBATCH -N 1\n"
   ],
   "id": "1df4df0d59713e17"
  }
 ],
 "metadata": {
  "kernelspec": {
   "display_name": "Python 3",
   "language": "python",
   "name": "python3"
  },
  "language_info": {
   "codemirror_mode": {
    "name": "ipython",
    "version": 2
   },
   "file_extension": ".py",
   "mimetype": "text/x-python",
   "name": "python",
   "nbconvert_exporter": "python",
   "pygments_lexer": "ipython2",
   "version": "2.7.6"
  }
 },
 "nbformat": 4,
 "nbformat_minor": 5
}
