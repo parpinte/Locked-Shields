{
 "cells": [
  {
   "cell_type": "code",
   "id": "initial_id",
   "metadata": {
    "collapsed": true,
    "ExecuteTime": {
     "end_time": "2025-01-21T15:56:57.238788Z",
     "start_time": "2025-01-21T15:56:57.081418Z"
    }
   },
   "source": [
    "from processor import Processor\n",
    "from splitter import DataSplitter\n",
    "from mlmodel import MLModel\n",
    "from sklearn.ensemble import RandomForestClassifier\n",
    "from xgboost import XGBClassifier\n",
    "\n"
   ],
   "outputs": [],
   "execution_count": 1
  },
  {
   "metadata": {
    "ExecuteTime": {
     "end_time": "2025-01-21T16:00:32.363344Z",
     "start_time": "2025-01-21T16:00:32.350627Z"
    }
   },
   "cell_type": "code",
   "source": [
    "# load the datas\n",
    "Processor = Processor(filepath=\"../data/balanced_data.csv\")\n",
    "Processor.load_data()\n",
    "Processor.show_features()"
   ],
   "id": "5fb611d3d31a06fe",
   "outputs": [
    {
     "ename": "TypeError",
     "evalue": "'Processor' object is not callable",
     "output_type": "error",
     "traceback": [
      "\u001B[0;31m---------------------------------------------------------------------------\u001B[0m",
      "\u001B[0;31mTypeError\u001B[0m                                 Traceback (most recent call last)",
      "Cell \u001B[0;32mIn[22], line 2\u001B[0m\n\u001B[1;32m      1\u001B[0m \u001B[38;5;66;03m# load the datas\u001B[39;00m\n\u001B[0;32m----> 2\u001B[0m Processor \u001B[38;5;241m=\u001B[39m \u001B[43mProcessor\u001B[49m\u001B[43m(\u001B[49m\u001B[43mfilepath\u001B[49m\u001B[38;5;241;43m=\u001B[39;49m\u001B[38;5;124;43m\"\u001B[39;49m\u001B[38;5;124;43m../data/balanced_data.csv\u001B[39;49m\u001B[38;5;124;43m\"\u001B[39;49m\u001B[43m)\u001B[49m\n\u001B[1;32m      3\u001B[0m Processor\u001B[38;5;241m.\u001B[39mload_data()\n\u001B[1;32m      4\u001B[0m Processor\u001B[38;5;241m.\u001B[39mshow_features()\n",
      "\u001B[0;31mTypeError\u001B[0m: 'Processor' object is not callable"
     ]
    }
   ],
   "execution_count": 22
  },
  {
   "metadata": {
    "ExecuteTime": {
     "end_time": "2025-01-21T16:00:32.466917Z",
     "start_time": "2025-01-21T16:00:32.464700Z"
    }
   },
   "cell_type": "code",
   "source": [
    "# columns to drop\n",
    "\n",
    "columns_to_drop = ['Flow ID', 'SrcIP', 'DstIP', 'External_src', 'External_dst', 'Conn_state', 'Segment_src','Segment_dst', 'Expoid_src', 'Expoid_dst', 'mTimestampStart', 'mTimestampLast']\n",
    "\n",
    "columns_to_drop_y = ['FIN Flag Cnt', 'FWD Init Win Bytes', 'RST Flag Cnt', 'SYN Flag Cnt', 'Fwd Packet Length Std', 'Fwd Packet Length Max', 'Bwd Packet Length Std', 'Bwd Packet Length Max', 'Packet Length Max', 'L3/L4 Protocol']"
   ],
   "id": "4a0f613229c61c05",
   "outputs": [],
   "execution_count": 23
  },
  {
   "metadata": {
    "ExecuteTime": {
     "end_time": "2025-01-21T16:00:32.621293Z",
     "start_time": "2025-01-21T16:00:32.618977Z"
    }
   },
   "cell_type": "code",
   "source": [
    "Processor.drop_features(columns_to_drop = columns_to_drop)\n",
    "Processor.show_features()"
   ],
   "id": "1f74725fe3bf4624",
   "outputs": [
    {
     "name": "stdout",
     "output_type": "stream",
     "text": [
      "Warning: The following columns were not found in the dataset and were ignored: Segment_src, SrcIP, mTimestampStart, Expoid_src, External_dst, External_src, mTimestampLast, Expoid_dst, Conn_state, DstIP, Flow ID, Segment_dst\n",
      "Features in the dataset:\n",
      "1. SrcPort\n",
      "2. DstPort\n",
      "3. Protocol\n",
      "4. Flow Duration\n",
      "5. Flow Bytes/s\n",
      "6. Flow Packets/s\n",
      "7. Tot Fwd Pkts\n",
      "8. Tot Bwd Pkts\n",
      "9. Total Length of Fwd Packet\n",
      "10. Total Length of Bwd Packet\n",
      "11. Fwd Packet Length Min\n",
      "12. Fwd Packet Length Mean\n",
      "13. Bwd Packet Length Min\n",
      "14. Bwd Packet Length Mean\n",
      "15. Flow IAT Mean\n",
      "16. Flow IAT Min\n",
      "17. Flow IAT Max\n",
      "18. Fwd IAT Min\n",
      "19. Bwd IAT Min\n",
      "20. Bwd IAT Mean\n",
      "21. Bwd IAT Std\n",
      "22. Fwd PSH flags\n",
      "23. Bwd PSH flags\n",
      "24. Fwd URG flags\n",
      "25. Bwd URG flags\n",
      "26. Fwd Header Length\n",
      "27. Packet Length Mean\n",
      "28. Packet Length Variance\n",
      "29. PSH Flag Cnt\n",
      "30. ACK Flag Cnt\n",
      "31. URG Flag Cnt\n",
      "32. CWR Flag Cnt\n",
      "33. Down/Up Ratio\n",
      "34. Fwd Bytes/Bulk Avg\n",
      "35. Fwd Packet/Bulk Avg\n",
      "36. Fwd Bulk Rate Avg\n",
      "37. Bwd Bytes/Bulk Avg\n",
      "38. Bwd Packet/Bulk Avg\n",
      "39. Bwd Bulk Rate Avg\n",
      "40. Subflow Fwd Packets\n",
      "41. Subflow Fwd Bytes\n",
      "42. Subflow Bwd Packets\n",
      "43. Bwd Init Win Bytes\n",
      "44. Fwd Act Data Pkts\n",
      "45. Fwd Seg Size Min\n",
      "46. Active Min\n",
      "47. Active Mean\n",
      "48. Active Max\n",
      "49. Active Std\n",
      "50. Idle Std\n",
      "51. Int/Ext Dst IP\n",
      "52. Service\n",
      "\n",
      "Total features: 52\n"
     ]
    }
   ],
   "execution_count": 24
  },
  {
   "metadata": {
    "ExecuteTime": {
     "end_time": "2025-01-21T16:00:32.741590Z",
     "start_time": "2025-01-21T16:00:32.739373Z"
    }
   },
   "cell_type": "code",
   "source": [
    "Processor.drop_features(columns_to_drop = columns_to_drop_y)\n",
    "Processor.show_features()"
   ],
   "id": "2442ea132f24da84",
   "outputs": [
    {
     "name": "stdout",
     "output_type": "stream",
     "text": [
      "Warning: The following columns were not found in the dataset and were ignored: Bwd Packet Length Std, Bwd Packet Length Max, Fwd Packet Length Std, FWD Init Win Bytes, FIN Flag Cnt, SYN Flag Cnt, L3/L4 Protocol, Packet Length Max, Fwd Packet Length Max, RST Flag Cnt\n",
      "Features in the dataset:\n",
      "1. SrcPort\n",
      "2. DstPort\n",
      "3. Protocol\n",
      "4. Flow Duration\n",
      "5. Flow Bytes/s\n",
      "6. Flow Packets/s\n",
      "7. Tot Fwd Pkts\n",
      "8. Tot Bwd Pkts\n",
      "9. Total Length of Fwd Packet\n",
      "10. Total Length of Bwd Packet\n",
      "11. Fwd Packet Length Min\n",
      "12. Fwd Packet Length Mean\n",
      "13. Bwd Packet Length Min\n",
      "14. Bwd Packet Length Mean\n",
      "15. Flow IAT Mean\n",
      "16. Flow IAT Min\n",
      "17. Flow IAT Max\n",
      "18. Fwd IAT Min\n",
      "19. Bwd IAT Min\n",
      "20. Bwd IAT Mean\n",
      "21. Bwd IAT Std\n",
      "22. Fwd PSH flags\n",
      "23. Bwd PSH flags\n",
      "24. Fwd URG flags\n",
      "25. Bwd URG flags\n",
      "26. Fwd Header Length\n",
      "27. Packet Length Mean\n",
      "28. Packet Length Variance\n",
      "29. PSH Flag Cnt\n",
      "30. ACK Flag Cnt\n",
      "31. URG Flag Cnt\n",
      "32. CWR Flag Cnt\n",
      "33. Down/Up Ratio\n",
      "34. Fwd Bytes/Bulk Avg\n",
      "35. Fwd Packet/Bulk Avg\n",
      "36. Fwd Bulk Rate Avg\n",
      "37. Bwd Bytes/Bulk Avg\n",
      "38. Bwd Packet/Bulk Avg\n",
      "39. Bwd Bulk Rate Avg\n",
      "40. Subflow Fwd Packets\n",
      "41. Subflow Fwd Bytes\n",
      "42. Subflow Bwd Packets\n",
      "43. Bwd Init Win Bytes\n",
      "44. Fwd Act Data Pkts\n",
      "45. Fwd Seg Size Min\n",
      "46. Active Min\n",
      "47. Active Mean\n",
      "48. Active Max\n",
      "49. Active Std\n",
      "50. Idle Std\n",
      "51. Int/Ext Dst IP\n",
      "52. Service\n",
      "\n",
      "Total features: 52\n"
     ]
    }
   ],
   "execution_count": 25
  },
  {
   "metadata": {
    "ExecuteTime": {
     "end_time": "2025-01-21T16:00:32.871154Z",
     "start_time": "2025-01-21T16:00:32.862225Z"
    }
   },
   "cell_type": "code",
   "source": [
    "# extract the target\n",
    "Processor.extract_target(target_column='Label')\n",
    "print(Processor.y.value_counts())\n",
    "Processor.show_features()"
   ],
   "id": "d35e19b39a13aac5",
   "outputs": [
    {
     "name": "stdout",
     "output_type": "stream",
     "text": [
      "Error: Column 'Label' not found in the dataset.\n",
      "Label\n",
      "0    909248\n",
      "1    861946\n",
      "Name: count, dtype: int64\n",
      "Features in the dataset:\n",
      "1. SrcPort\n",
      "2. DstPort\n",
      "3. Protocol\n",
      "4. Flow Duration\n",
      "5. Flow Bytes/s\n",
      "6. Flow Packets/s\n",
      "7. Tot Fwd Pkts\n",
      "8. Tot Bwd Pkts\n",
      "9. Total Length of Fwd Packet\n",
      "10. Total Length of Bwd Packet\n",
      "11. Fwd Packet Length Min\n",
      "12. Fwd Packet Length Mean\n",
      "13. Bwd Packet Length Min\n",
      "14. Bwd Packet Length Mean\n",
      "15. Flow IAT Mean\n",
      "16. Flow IAT Min\n",
      "17. Flow IAT Max\n",
      "18. Fwd IAT Min\n",
      "19. Bwd IAT Min\n",
      "20. Bwd IAT Mean\n",
      "21. Bwd IAT Std\n",
      "22. Fwd PSH flags\n",
      "23. Bwd PSH flags\n",
      "24. Fwd URG flags\n",
      "25. Bwd URG flags\n",
      "26. Fwd Header Length\n",
      "27. Packet Length Mean\n",
      "28. Packet Length Variance\n",
      "29. PSH Flag Cnt\n",
      "30. ACK Flag Cnt\n",
      "31. URG Flag Cnt\n",
      "32. CWR Flag Cnt\n",
      "33. Down/Up Ratio\n",
      "34. Fwd Bytes/Bulk Avg\n",
      "35. Fwd Packet/Bulk Avg\n",
      "36. Fwd Bulk Rate Avg\n",
      "37. Bwd Bytes/Bulk Avg\n",
      "38. Bwd Packet/Bulk Avg\n",
      "39. Bwd Bulk Rate Avg\n",
      "40. Subflow Fwd Packets\n",
      "41. Subflow Fwd Bytes\n",
      "42. Subflow Bwd Packets\n",
      "43. Bwd Init Win Bytes\n",
      "44. Fwd Act Data Pkts\n",
      "45. Fwd Seg Size Min\n",
      "46. Active Min\n",
      "47. Active Mean\n",
      "48. Active Max\n",
      "49. Active Std\n",
      "50. Idle Std\n",
      "51. Int/Ext Dst IP\n",
      "52. Service\n",
      "\n",
      "Total features: 52\n"
     ]
    }
   ],
   "execution_count": 26
  },
  {
   "metadata": {
    "ExecuteTime": {
     "end_time": "2025-01-21T16:00:32.985654Z",
     "start_time": "2025-01-21T16:00:32.983766Z"
    }
   },
   "cell_type": "code",
   "source": [
    "# solve and encode categorical datas\n",
    "Processor.detect_categorical(handle_nan=\"drop\")\n",
    "Processor.encode_categorical(method=\"label\")"
   ],
   "id": "659a17dfbaa4c463",
   "outputs": [
    {
     "name": "stdout",
     "output_type": "stream",
     "text": [
      "No categorical features detected.\n",
      "No categorical features to encode.\n"
     ]
    }
   ],
   "execution_count": 27
  },
  {
   "metadata": {
    "ExecuteTime": {
     "end_time": "2025-01-21T16:00:34.955877Z",
     "start_time": "2025-01-21T16:00:33.125918Z"
    }
   },
   "cell_type": "code",
   "source": [
    "# drop duplicated lines in the code\n",
    "Processor.handle_duplicates()\n",
    "print(Processor.y.value_counts())"
   ],
   "id": "6a3745f9ad93cd1a",
   "outputs": [
    {
     "name": "stdout",
     "output_type": "stream",
     "text": [
      "No duplicate rows found in the dataset.\n",
      "Label\n",
      "0    909248\n",
      "1    861946\n",
      "Name: count, dtype: int64\n"
     ]
    }
   ],
   "execution_count": 28
  },
  {
   "metadata": {
    "ExecuteTime": {
     "end_time": "2025-01-21T16:00:35.063505Z",
     "start_time": "2025-01-21T16:00:34.958996Z"
    }
   },
   "cell_type": "code",
   "source": [
    "# detect numerical issues and treat the datas and drop them\n",
    "num_issue_features = Processor.detect_missing_numerical()\n",
    "Processor.handle_missing_values(num_issue_features, method=\"drop\", custom_value=None)\n",
    "print(Processor.y.value_counts())"
   ],
   "id": "9ca60ab7a96ddfad",
   "outputs": [
    {
     "name": "stdout",
     "output_type": "stream",
     "text": [
      "Missing values for numerical features:\n",
      "No missing values detected in numerical features.\n",
      "No features provided for handling missing values.\n",
      "Label\n",
      "0    909248\n",
      "1    861946\n",
      "Name: count, dtype: int64\n"
     ]
    }
   ],
   "execution_count": 29
  },
  {
   "metadata": {
    "ExecuteTime": {
     "end_time": "2025-01-21T16:01:49.366462Z",
     "start_time": "2025-01-21T16:01:44.414221Z"
    }
   },
   "cell_type": "code",
   "source": [
    "# study the features that are hoghly correelated to the target :\n",
    "\n",
    "correlated_features_to_target = Processor.find_correlated_features(threshold=0.7)\n",
    "print(correlated_features_to_target)"
   ],
   "id": "9936c0c95934502b",
   "outputs": [
    {
     "name": "stdout",
     "output_type": "stream",
     "text": [
      "Features highly correlated with the target (threshold: 0.7):\n",
      "[]\n"
     ]
    }
   ],
   "execution_count": 33
  },
  {
   "metadata": {
    "ExecuteTime": {
     "end_time": "2025-01-21T16:01:57.982091Z",
     "start_time": "2025-01-21T16:01:53.224721Z"
    }
   },
   "cell_type": "code",
   "source": [
    "import matplotlib.pyplot as plt\n",
    "correlated_features, fig = Processor.study_correlation(threshold=0.95)\n",
    "Processor.drop_highly_correlated(correlated_features=correlated_features)\n",
    "Processor.show_features()\n"
   ],
   "id": "3a9f1a0ab203cda3",
   "outputs": [
    {
     "ename": "ValueError",
     "evalue": "zero-size array to reduction operation fmin which has no identity",
     "output_type": "error",
     "traceback": [
      "\u001B[0;31m---------------------------------------------------------------------------\u001B[0m",
      "\u001B[0;31mValueError\u001B[0m                                Traceback (most recent call last)",
      "Cell \u001B[0;32mIn[34], line 2\u001B[0m\n\u001B[1;32m      1\u001B[0m \u001B[38;5;28;01mimport\u001B[39;00m \u001B[38;5;21;01mmatplotlib\u001B[39;00m\u001B[38;5;21;01m.\u001B[39;00m\u001B[38;5;21;01mpyplot\u001B[39;00m \u001B[38;5;28;01mas\u001B[39;00m \u001B[38;5;21;01mplt\u001B[39;00m\n\u001B[0;32m----> 2\u001B[0m correlated_features, fig \u001B[38;5;241m=\u001B[39m \u001B[43mProcessor\u001B[49m\u001B[38;5;241;43m.\u001B[39;49m\u001B[43mstudy_correlation\u001B[49m\u001B[43m(\u001B[49m\u001B[43mthreshold\u001B[49m\u001B[38;5;241;43m=\u001B[39;49m\u001B[38;5;241;43m0.95\u001B[39;49m\u001B[43m)\u001B[49m\n\u001B[1;32m      3\u001B[0m Processor\u001B[38;5;241m.\u001B[39mdrop_highly_correlated(correlated_features\u001B[38;5;241m=\u001B[39mcorrelated_features)\n\u001B[1;32m      4\u001B[0m Processor\u001B[38;5;241m.\u001B[39mshow_features()\n",
      "File \u001B[0;32m~/Documents/Locked-Shields/scripts/processor.py:294\u001B[0m, in \u001B[0;36mProcessor.study_correlation\u001B[0;34m(self, threshold)\u001B[0m\n\u001B[1;32m    292\u001B[0m \u001B[38;5;66;03m# Plot the filtered heatmap\u001B[39;00m\n\u001B[1;32m    293\u001B[0m plt\u001B[38;5;241m.\u001B[39mfigure(figsize\u001B[38;5;241m=\u001B[39m(\u001B[38;5;241m10\u001B[39m, \u001B[38;5;241m8\u001B[39m))\n\u001B[0;32m--> 294\u001B[0m \u001B[43msns\u001B[49m\u001B[38;5;241;43m.\u001B[39;49m\u001B[43mheatmap\u001B[49m\u001B[43m(\u001B[49m\u001B[43mfiltered_correlation_matrix\u001B[49m\u001B[43m,\u001B[49m\u001B[43m \u001B[49m\u001B[43mannot\u001B[49m\u001B[38;5;241;43m=\u001B[39;49m\u001B[38;5;28;43;01mTrue\u001B[39;49;00m\u001B[43m,\u001B[49m\u001B[43m \u001B[49m\u001B[43mfmt\u001B[49m\u001B[38;5;241;43m=\u001B[39;49m\u001B[38;5;124;43m\"\u001B[39;49m\u001B[38;5;124;43m.2f\u001B[39;49m\u001B[38;5;124;43m\"\u001B[39;49m\u001B[43m,\u001B[49m\u001B[43m \u001B[49m\u001B[43mcmap\u001B[49m\u001B[38;5;241;43m=\u001B[39;49m\u001B[38;5;124;43m\"\u001B[39;49m\u001B[38;5;124;43mcoolwarm\u001B[39;49m\u001B[38;5;124;43m\"\u001B[39;49m\u001B[43m,\u001B[49m\u001B[43m \u001B[49m\u001B[43mcbar\u001B[49m\u001B[38;5;241;43m=\u001B[39;49m\u001B[38;5;28;43;01mTrue\u001B[39;49;00m\u001B[43m)\u001B[49m\n\u001B[1;32m    295\u001B[0m plt\u001B[38;5;241m.\u001B[39mtitle(\u001B[38;5;124mf\u001B[39m\u001B[38;5;124m\"\u001B[39m\u001B[38;5;124mFiltered Correlation Matrix (Threshold > \u001B[39m\u001B[38;5;132;01m{\u001B[39;00mthreshold\u001B[38;5;132;01m}\u001B[39;00m\u001B[38;5;124m)\u001B[39m\u001B[38;5;124m\"\u001B[39m)\n\u001B[1;32m    296\u001B[0m plt\u001B[38;5;241m.\u001B[39mtight_layout()\n",
      "File \u001B[0;32m/Library/Frameworks/Python.framework/Versions/3.12/lib/python3.12/site-packages/seaborn/matrix.py:446\u001B[0m, in \u001B[0;36mheatmap\u001B[0;34m(data, vmin, vmax, cmap, center, robust, annot, fmt, annot_kws, linewidths, linecolor, cbar, cbar_kws, cbar_ax, square, xticklabels, yticklabels, mask, ax, **kwargs)\u001B[0m\n\u001B[1;32m    365\u001B[0m \u001B[38;5;250m\u001B[39m\u001B[38;5;124;03m\"\"\"Plot rectangular data as a color-encoded matrix.\u001B[39;00m\n\u001B[1;32m    366\u001B[0m \n\u001B[1;32m    367\u001B[0m \u001B[38;5;124;03mThis is an Axes-level function and will draw the heatmap into the\u001B[39;00m\n\u001B[0;32m   (...)\u001B[0m\n\u001B[1;32m    443\u001B[0m \n\u001B[1;32m    444\u001B[0m \u001B[38;5;124;03m\"\"\"\u001B[39;00m\n\u001B[1;32m    445\u001B[0m \u001B[38;5;66;03m# Initialize the plotter object\u001B[39;00m\n\u001B[0;32m--> 446\u001B[0m plotter \u001B[38;5;241m=\u001B[39m \u001B[43m_HeatMapper\u001B[49m\u001B[43m(\u001B[49m\u001B[43mdata\u001B[49m\u001B[43m,\u001B[49m\u001B[43m \u001B[49m\u001B[43mvmin\u001B[49m\u001B[43m,\u001B[49m\u001B[43m \u001B[49m\u001B[43mvmax\u001B[49m\u001B[43m,\u001B[49m\u001B[43m \u001B[49m\u001B[43mcmap\u001B[49m\u001B[43m,\u001B[49m\u001B[43m \u001B[49m\u001B[43mcenter\u001B[49m\u001B[43m,\u001B[49m\u001B[43m \u001B[49m\u001B[43mrobust\u001B[49m\u001B[43m,\u001B[49m\u001B[43m \u001B[49m\u001B[43mannot\u001B[49m\u001B[43m,\u001B[49m\u001B[43m \u001B[49m\u001B[43mfmt\u001B[49m\u001B[43m,\u001B[49m\n\u001B[1;32m    447\u001B[0m \u001B[43m                      \u001B[49m\u001B[43mannot_kws\u001B[49m\u001B[43m,\u001B[49m\u001B[43m \u001B[49m\u001B[43mcbar\u001B[49m\u001B[43m,\u001B[49m\u001B[43m \u001B[49m\u001B[43mcbar_kws\u001B[49m\u001B[43m,\u001B[49m\u001B[43m \u001B[49m\u001B[43mxticklabels\u001B[49m\u001B[43m,\u001B[49m\n\u001B[1;32m    448\u001B[0m \u001B[43m                      \u001B[49m\u001B[43myticklabels\u001B[49m\u001B[43m,\u001B[49m\u001B[43m \u001B[49m\u001B[43mmask\u001B[49m\u001B[43m)\u001B[49m\n\u001B[1;32m    450\u001B[0m \u001B[38;5;66;03m# Add the pcolormesh kwargs here\u001B[39;00m\n\u001B[1;32m    451\u001B[0m kwargs[\u001B[38;5;124m\"\u001B[39m\u001B[38;5;124mlinewidths\u001B[39m\u001B[38;5;124m\"\u001B[39m] \u001B[38;5;241m=\u001B[39m linewidths\n",
      "File \u001B[0;32m/Library/Frameworks/Python.framework/Versions/3.12/lib/python3.12/site-packages/seaborn/matrix.py:163\u001B[0m, in \u001B[0;36m_HeatMapper.__init__\u001B[0;34m(self, data, vmin, vmax, cmap, center, robust, annot, fmt, annot_kws, cbar, cbar_kws, xticklabels, yticklabels, mask)\u001B[0m\n\u001B[1;32m    160\u001B[0m \u001B[38;5;28mself\u001B[39m\u001B[38;5;241m.\u001B[39mylabel \u001B[38;5;241m=\u001B[39m ylabel \u001B[38;5;28;01mif\u001B[39;00m ylabel \u001B[38;5;129;01mis\u001B[39;00m \u001B[38;5;129;01mnot\u001B[39;00m \u001B[38;5;28;01mNone\u001B[39;00m \u001B[38;5;28;01melse\u001B[39;00m \u001B[38;5;124m\"\u001B[39m\u001B[38;5;124m\"\u001B[39m\n\u001B[1;32m    162\u001B[0m \u001B[38;5;66;03m# Determine good default values for the colormapping\u001B[39;00m\n\u001B[0;32m--> 163\u001B[0m \u001B[38;5;28;43mself\u001B[39;49m\u001B[38;5;241;43m.\u001B[39;49m\u001B[43m_determine_cmap_params\u001B[49m\u001B[43m(\u001B[49m\u001B[43mplot_data\u001B[49m\u001B[43m,\u001B[49m\u001B[43m \u001B[49m\u001B[43mvmin\u001B[49m\u001B[43m,\u001B[49m\u001B[43m \u001B[49m\u001B[43mvmax\u001B[49m\u001B[43m,\u001B[49m\n\u001B[1;32m    164\u001B[0m \u001B[43m                            \u001B[49m\u001B[43mcmap\u001B[49m\u001B[43m,\u001B[49m\u001B[43m \u001B[49m\u001B[43mcenter\u001B[49m\u001B[43m,\u001B[49m\u001B[43m \u001B[49m\u001B[43mrobust\u001B[49m\u001B[43m)\u001B[49m\n\u001B[1;32m    166\u001B[0m \u001B[38;5;66;03m# Sort out the annotations\u001B[39;00m\n\u001B[1;32m    167\u001B[0m \u001B[38;5;28;01mif\u001B[39;00m annot \u001B[38;5;129;01mis\u001B[39;00m \u001B[38;5;28;01mNone\u001B[39;00m \u001B[38;5;129;01mor\u001B[39;00m annot \u001B[38;5;129;01mis\u001B[39;00m \u001B[38;5;28;01mFalse\u001B[39;00m:\n",
      "File \u001B[0;32m/Library/Frameworks/Python.framework/Versions/3.12/lib/python3.12/site-packages/seaborn/matrix.py:202\u001B[0m, in \u001B[0;36m_HeatMapper._determine_cmap_params\u001B[0;34m(self, plot_data, vmin, vmax, cmap, center, robust)\u001B[0m\n\u001B[1;32m    200\u001B[0m         vmin \u001B[38;5;241m=\u001B[39m np\u001B[38;5;241m.\u001B[39mnanpercentile(calc_data, \u001B[38;5;241m2\u001B[39m)\n\u001B[1;32m    201\u001B[0m     \u001B[38;5;28;01melse\u001B[39;00m:\n\u001B[0;32m--> 202\u001B[0m         vmin \u001B[38;5;241m=\u001B[39m \u001B[43mnp\u001B[49m\u001B[38;5;241;43m.\u001B[39;49m\u001B[43mnanmin\u001B[49m\u001B[43m(\u001B[49m\u001B[43mcalc_data\u001B[49m\u001B[43m)\u001B[49m\n\u001B[1;32m    203\u001B[0m \u001B[38;5;28;01mif\u001B[39;00m vmax \u001B[38;5;129;01mis\u001B[39;00m \u001B[38;5;28;01mNone\u001B[39;00m:\n\u001B[1;32m    204\u001B[0m     \u001B[38;5;28;01mif\u001B[39;00m robust:\n",
      "File \u001B[0;32m/Library/Frameworks/Python.framework/Versions/3.12/lib/python3.12/site-packages/numpy/lib/nanfunctions.py:343\u001B[0m, in \u001B[0;36mnanmin\u001B[0;34m(a, axis, out, keepdims, initial, where)\u001B[0m\n\u001B[1;32m    338\u001B[0m     kwargs[\u001B[38;5;124m'\u001B[39m\u001B[38;5;124mwhere\u001B[39m\u001B[38;5;124m'\u001B[39m] \u001B[38;5;241m=\u001B[39m where\n\u001B[1;32m    340\u001B[0m \u001B[38;5;28;01mif\u001B[39;00m \u001B[38;5;28mtype\u001B[39m(a) \u001B[38;5;129;01mis\u001B[39;00m np\u001B[38;5;241m.\u001B[39mndarray \u001B[38;5;129;01mand\u001B[39;00m a\u001B[38;5;241m.\u001B[39mdtype \u001B[38;5;241m!=\u001B[39m np\u001B[38;5;241m.\u001B[39mobject_:\n\u001B[1;32m    341\u001B[0m     \u001B[38;5;66;03m# Fast, but not safe for subclasses of ndarray, or object arrays,\u001B[39;00m\n\u001B[1;32m    342\u001B[0m     \u001B[38;5;66;03m# which do not implement isnan (gh-9009), or fmin correctly (gh-8975)\u001B[39;00m\n\u001B[0;32m--> 343\u001B[0m     res \u001B[38;5;241m=\u001B[39m \u001B[43mnp\u001B[49m\u001B[38;5;241;43m.\u001B[39;49m\u001B[43mfmin\u001B[49m\u001B[38;5;241;43m.\u001B[39;49m\u001B[43mreduce\u001B[49m\u001B[43m(\u001B[49m\u001B[43ma\u001B[49m\u001B[43m,\u001B[49m\u001B[43m \u001B[49m\u001B[43maxis\u001B[49m\u001B[38;5;241;43m=\u001B[39;49m\u001B[43maxis\u001B[49m\u001B[43m,\u001B[49m\u001B[43m \u001B[49m\u001B[43mout\u001B[49m\u001B[38;5;241;43m=\u001B[39;49m\u001B[43mout\u001B[49m\u001B[43m,\u001B[49m\u001B[43m \u001B[49m\u001B[38;5;241;43m*\u001B[39;49m\u001B[38;5;241;43m*\u001B[39;49m\u001B[43mkwargs\u001B[49m\u001B[43m)\u001B[49m\n\u001B[1;32m    344\u001B[0m     \u001B[38;5;28;01mif\u001B[39;00m np\u001B[38;5;241m.\u001B[39misnan(res)\u001B[38;5;241m.\u001B[39many():\n\u001B[1;32m    345\u001B[0m         warnings\u001B[38;5;241m.\u001B[39mwarn(\u001B[38;5;124m\"\u001B[39m\u001B[38;5;124mAll-NaN slice encountered\u001B[39m\u001B[38;5;124m\"\u001B[39m, \u001B[38;5;167;01mRuntimeWarning\u001B[39;00m,\n\u001B[1;32m    346\u001B[0m                       stacklevel\u001B[38;5;241m=\u001B[39m\u001B[38;5;241m2\u001B[39m)\n",
      "\u001B[0;31mValueError\u001B[0m: zero-size array to reduction operation fmin which has no identity"
     ]
    },
    {
     "data": {
      "text/plain": [
       "<Figure size 1000x800 with 0 Axes>"
      ]
     },
     "metadata": {},
     "output_type": "display_data"
    }
   ],
   "execution_count": 34
  },
  {
   "metadata": {
    "ExecuteTime": {
     "end_time": "2025-01-21T16:02:01.185416Z",
     "start_time": "2025-01-21T16:01:59.972728Z"
    }
   },
   "cell_type": "code",
   "source": [
    "# rescale the data\n",
    "\n",
    "Processor.rescale_data(method=\"normalise\")\n",
    "Processor.summarize_feature_distribution(top_categories=1)"
   ],
   "id": "31cd3158f61bc82a",
   "outputs": [
    {
     "name": "stdout",
     "output_type": "stream",
     "text": [
      "Invalid method 'normalise'. Use 'standardize' or 'normalize'.\n",
      "Summary of Feature Distribution:\n",
      "\n",
      "Numerical Features:\n",
      "  - SrcPort:\n",
      "    Mean: 50727.99, Std: 13434.30, Min: 0.00, Max: 65535.00\n",
      "  - DstPort:\n",
      "    Mean: 466.09, Std: 3428.44, Min: 0.00, Max: 65520.00\n",
      "  - Protocol:\n",
      "    Mean: 10.59, Std: 7.82, Min: 1.00, Max: 132.00\n",
      "  - Flow Duration:\n",
      "    Mean: 3560526.39, Std: 16369738.56, Min: 1.00, Max: 119999999.00\n",
      "  - Flow Bytes/s:\n",
      "    Mean: 746488.08, Std: 8225827.34, Min: 0.00, Max: 1518000000.00\n",
      "  - Flow Packets/s:\n",
      "    Mean: 8120.37, Std: 88277.36, Min: 0.02, Max: 4000000.00\n",
      "  - Tot Fwd Pkts:\n",
      "    Mean: 17.64, Std: 82.91, Min: 1.00, Max: 79306.00\n",
      "  - Tot Bwd Pkts:\n",
      "    Mean: 7.92, Std: 59.37, Min: 0.00, Max: 48299.00\n",
      "  - Total Length of Fwd Packet:\n",
      "    Mean: 1702.83, Std: 8194.75, Min: 0.00, Max: 4410230.00\n",
      "  - Total Length of Bwd Packet:\n",
      "    Mean: 2243.56, Std: 46846.36, Min: 0.00, Max: 40558556.00\n",
      "  - Fwd Packet Length Min:\n",
      "    Mean: 28.97, Std: 21.78, Min: 0.00, Max: 1240.00\n",
      "  - Fwd Packet Length Mean:\n",
      "    Mean: 80.10, Std: 40.50, Min: 0.00, Max: 1303.57\n",
      "  - Bwd Packet Length Min:\n",
      "    Mean: 54.57, Std: 94.78, Min: 0.00, Max: 1250.00\n",
      "  - Bwd Packet Length Mean:\n",
      "    Mean: 205.52, Std: 129.56, Min: 0.00, Max: 1417.39\n",
      "  - Flow IAT Mean:\n",
      "    Mean: 242773.72, Std: 1626562.54, Min: 0.33, Max: 82499585.00\n",
      "  - Flow IAT Min:\n",
      "    Mean: 1087.55, Std: 217461.39, Min: -130.00, Max: 82499585.00\n",
      "  - Flow IAT Max:\n",
      "    Mean: 2172567.11, Std: 10640786.42, Min: 1.00, Max: 119999683.00\n",
      "  - Fwd IAT Min:\n",
      "    Mean: 30956.20, Std: 1573375.16, Min: -127.00, Max: 119923586.00\n",
      "  - Bwd IAT Min:\n",
      "    Mean: 343039.00, Std: 5252366.05, Min: -15.00, Max: 119999339.00\n",
      "  - Bwd IAT Mean:\n",
      "    Mean: 713285.09, Std: 5849614.38, Min: 0.00, Max: 119999339.00\n",
      "  - Bwd IAT Std:\n",
      "    Mean: 678363.28, Std: 4285359.71, Min: 0.00, Max: 84852581.81\n",
      "  - Fwd PSH flags:\n",
      "    Mean: 0.00, Std: 0.04, Min: 0.00, Max: 1.00\n",
      "  - Bwd PSH flags:\n",
      "    Mean: 0.00, Std: 0.00, Min: 0.00, Max: 0.00\n",
      "  - Fwd URG flags:\n",
      "    Mean: 0.00, Std: 0.00, Min: 0.00, Max: 0.00\n",
      "  - Bwd URG flags:\n",
      "    Mean: 0.00, Std: 0.00, Min: 0.00, Max: 0.00\n",
      "  - Fwd Header Length:\n",
      "    Mean: 364.61, Std: 2294.02, Min: 8.00, Max: 1586120.00\n",
      "  - Packet Length Mean:\n",
      "    Mean: 113.17, Std: 58.29, Min: 0.00, Max: 1276.76\n",
      "  - Packet Length Variance:\n",
      "    Mean: 47588.49, Std: 45904.75, Min: 0.00, Max: 539328.00\n",
      "  - PSH Flag Cnt:\n",
      "    Mean: 5.59, Std: 17.99, Min: 0.00, Max: 8150.00\n",
      "  - ACK Flag Cnt:\n",
      "    Mean: 16.80, Std: 75.41, Min: 0.00, Max: 79364.00\n",
      "  - URG Flag Cnt:\n",
      "    Mean: 0.00, Std: 0.00, Min: 0.00, Max: 0.00\n",
      "  - CWR Flag Cnt:\n",
      "    Mean: 0.40, Std: 0.80, Min: 0.00, Max: 4.00\n",
      "  - Down/Up Ratio:\n",
      "    Mean: 0.27, Std: 0.47, Min: 0.00, Max: 59.00\n",
      "  - Fwd Bytes/Bulk Avg:\n",
      "    Mean: 0.00, Std: 0.00, Min: 0.00, Max: 0.00\n",
      "  - Fwd Packet/Bulk Avg:\n",
      "    Mean: 0.00, Std: 0.00, Min: 0.00, Max: 0.00\n",
      "  - Fwd Bulk Rate Avg:\n",
      "    Mean: 0.00, Std: 0.00, Min: 0.00, Max: 0.00\n",
      "  - Bwd Bytes/Bulk Avg:\n",
      "    Mean: 3410.94, Std: 41973.30, Min: 0.00, Max: 40580342.00\n",
      "  - Bwd Packet/Bulk Avg:\n",
      "    Mean: 20.29, Std: 78.63, Min: 0.00, Max: 79364.00\n",
      "  - Bwd Bulk Rate Avg:\n",
      "    Mean: 446310.65, Std: 4452188.07, Min: 0.00, Max: 1156000000.00\n",
      "  - Subflow Fwd Packets:\n",
      "    Mean: 1.89, Std: 70.63, Min: 0.00, Max: 79306.00\n",
      "  - Subflow Fwd Bytes:\n",
      "    Mean: 174.95, Std: 4097.13, Min: 0.00, Max: 4410230.00\n",
      "  - Subflow Bwd Packets:\n",
      "    Mean: 1.10, Std: 33.24, Min: 0.00, Max: 33304.00\n",
      "  - Bwd Init Win Bytes:\n",
      "    Mean: 103.38, Std: 933.11, Min: 0.00, Max: 65535.00\n",
      "  - Fwd Act Data Pkts:\n",
      "    Mean: 15.00, Std: 72.46, Min: 0.00, Max: 79305.00\n",
      "  - Fwd Seg Size Min:\n",
      "    Mean: 16.31, Std: 6.79, Min: 8.00, Max: 40.00\n",
      "  - Active Min:\n",
      "    Mean: 38453.05, Std: 636713.39, Min: 0.00, Max: 100601181.00\n",
      "  - Active Mean:\n",
      "    Mean: 78506.86, Std: 807468.82, Min: 0.00, Max: 100601181.00\n",
      "  - Active Max:\n",
      "    Mean: 125578.98, Std: 1232365.90, Min: 0.00, Max: 100601181.00\n",
      "  - Active Std:\n",
      "    Mean: 55000.33, Std: 656501.41, Min: 0.00, Max: 63925840.77\n",
      "  - Idle Std:\n",
      "    Mean: 85669.18, Std: 1291204.59, Min: 0.00, Max: 69392024.38\n",
      "  - Int/Ext Dst IP:\n",
      "    Mean: 0.76, Std: 0.43, Min: 0.00, Max: 1.00\n",
      "  - Service:\n",
      "    Mean: 9.82, Std: 8.65, Min: 0.00, Max: 24.00\n",
      "\n",
      "Categorical Features:\n"
     ]
    },
    {
     "data": {
      "text/plain": [
       "{'numerical': {'SrcPort': {'mean': 50727.992431094506,\n",
       "   'std': 13434.296366772722,\n",
       "   'min': 0.0,\n",
       "   'max': 65535.0},\n",
       "  'DstPort': {'mean': 466.09242352898667,\n",
       "   'std': 3428.4385649610667,\n",
       "   'min': 0.0,\n",
       "   'max': 65520.0},\n",
       "  'Protocol': {'mean': 10.589778985249499,\n",
       "   'std': 7.8227001638943685,\n",
       "   'min': 1.0,\n",
       "   'max': 132.0},\n",
       "  'Flow Duration': {'mean': 3560526.3932782067,\n",
       "   'std': 16369738.561610283,\n",
       "   'min': 1.0,\n",
       "   'max': 119999999.0},\n",
       "  'Flow Bytes/s': {'mean': 746488.0833554476,\n",
       "   'std': 8225827.342644974,\n",
       "   'min': 0.0,\n",
       "   'max': 1518000000.0},\n",
       "  'Flow Packets/s': {'mean': 8120.373806945003,\n",
       "   'std': 88277.36242200453,\n",
       "   'min': 0.0242425461897778,\n",
       "   'max': 4000000.0},\n",
       "  'Tot Fwd Pkts': {'mean': 17.643200010840147,\n",
       "   'std': 82.91298339215028,\n",
       "   'min': 1.0,\n",
       "   'max': 79306.0},\n",
       "  'Tot Bwd Pkts': {'mean': 7.915484131043804,\n",
       "   'std': 59.37472110895401,\n",
       "   'min': 0.0,\n",
       "   'max': 48299.0},\n",
       "  'Total Length of Fwd Packet': {'mean': 1702.8258508102444,\n",
       "   'std': 8194.745548331714,\n",
       "   'min': 0.0,\n",
       "   'max': 4410230.0},\n",
       "  'Total Length of Bwd Packet': {'mean': 2243.5637750579554,\n",
       "   'std': 46846.363394059714,\n",
       "   'min': 0.0,\n",
       "   'max': 40558556.0},\n",
       "  'Fwd Packet Length Min': {'mean': 28.96647176989082,\n",
       "   'std': 21.775911831111387,\n",
       "   'min': 0.0,\n",
       "   'max': 1240.0},\n",
       "  'Fwd Packet Length Mean': {'mean': 80.09530722319414,\n",
       "   'std': 40.501245340742635,\n",
       "   'min': 0.0,\n",
       "   'max': 1303.5701754385973},\n",
       "  'Bwd Packet Length Min': {'mean': 54.57036722120784,\n",
       "   'std': 94.78212443382571,\n",
       "   'min': 0.0,\n",
       "   'max': 1250.0},\n",
       "  'Bwd Packet Length Mean': {'mean': 205.52132363204694,\n",
       "   'std': 129.56464353351092,\n",
       "   'min': 0.0,\n",
       "   'max': 1417.3924528301898},\n",
       "  'Flow IAT Mean': {'mean': 242773.7204969766,\n",
       "   'std': 1626562.5386277407,\n",
       "   'min': 0.3333333333333333,\n",
       "   'max': 82499585.0},\n",
       "  'Flow IAT Min': {'mean': 1087.553163572144,\n",
       "   'std': 217461.39346961342,\n",
       "   'min': -130.0,\n",
       "   'max': 82499585.0},\n",
       "  'Flow IAT Max': {'mean': 2172567.1111256024,\n",
       "   'std': 10640786.415448444,\n",
       "   'min': 1.0,\n",
       "   'max': 119999683.0},\n",
       "  'Fwd IAT Min': {'mean': 30956.202459470842,\n",
       "   'std': 1573375.1567130939,\n",
       "   'min': -127.0,\n",
       "   'max': 119923586.0},\n",
       "  'Bwd IAT Min': {'mean': 343039.0033158423,\n",
       "   'std': 5252366.054960306,\n",
       "   'min': -15.0,\n",
       "   'max': 119999339.0},\n",
       "  'Bwd IAT Mean': {'mean': 713285.0859550117,\n",
       "   'std': 5849614.382161771,\n",
       "   'min': 0.0,\n",
       "   'max': 119999339.0},\n",
       "  'Bwd IAT Std': {'mean': 678363.2837747321,\n",
       "   'std': 4285359.709856037,\n",
       "   'min': 0.0,\n",
       "   'max': 84852581.81136148},\n",
       "  'Fwd PSH flags': {'mean': 0.0013425971406858877,\n",
       "   'std': 0.0366168722121994,\n",
       "   'min': 0.0,\n",
       "   'max': 1.0},\n",
       "  'Bwd PSH flags': {'mean': 0.0, 'std': 0.0, 'min': 0.0, 'max': 0.0},\n",
       "  'Fwd URG flags': {'mean': 0.0, 'std': 0.0, 'min': 0.0, 'max': 0.0},\n",
       "  'Bwd URG flags': {'mean': 0.0, 'std': 0.0, 'min': 0.0, 'max': 0.0},\n",
       "  'Fwd Header Length': {'mean': 364.6115219450834,\n",
       "   'std': 2294.0235933757444,\n",
       "   'min': 8.0,\n",
       "   'max': 1586120.0},\n",
       "  'Packet Length Mean': {'mean': 113.16754924038018,\n",
       "   'std': 58.28613014641854,\n",
       "   'min': 0.0,\n",
       "   'max': 1276.7576687116568},\n",
       "  'Packet Length Variance': {'mean': 47588.49015021708,\n",
       "   'std': 45904.75323772191,\n",
       "   'min': 0.0,\n",
       "   'max': 539328.0},\n",
       "  'PSH Flag Cnt': {'mean': 5.587780333492548,\n",
       "   'std': 17.993327753813404,\n",
       "   'min': 0.0,\n",
       "   'max': 8150.0},\n",
       "  'ACK Flag Cnt': {'mean': 16.796970292356455,\n",
       "   'std': 75.40745732184658,\n",
       "   'min': 0.0,\n",
       "   'max': 79364.0},\n",
       "  'URG Flag Cnt': {'mean': 0.0, 'std': 0.0, 'min': 0.0, 'max': 0.0},\n",
       "  'CWR Flag Cnt': {'mean': 0.40120054607231054,\n",
       "   'std': 0.8008914752450613,\n",
       "   'min': 0.0,\n",
       "   'max': 4.0},\n",
       "  'Down/Up Ratio': {'mean': 0.2703402337632128,\n",
       "   'std': 0.4739254175296657,\n",
       "   'min': 0.0,\n",
       "   'max': 59.0},\n",
       "  'Fwd Bytes/Bulk Avg': {'mean': 0.0, 'std': 0.0, 'min': 0.0, 'max': 0.0},\n",
       "  'Fwd Packet/Bulk Avg': {'mean': 0.0, 'std': 0.0, 'min': 0.0, 'max': 0.0},\n",
       "  'Fwd Bulk Rate Avg': {'mean': 0.0, 'std': 0.0, 'min': 0.0, 'max': 0.0},\n",
       "  'Bwd Bytes/Bulk Avg': {'mean': 3410.9439541913534,\n",
       "   'std': 41973.29940061112,\n",
       "   'min': 0.0,\n",
       "   'max': 40580342.0},\n",
       "  'Bwd Packet/Bulk Avg': {'mean': 20.2910985470818,\n",
       "   'std': 78.62741076985198,\n",
       "   'min': 0.0,\n",
       "   'max': 79364.0},\n",
       "  'Bwd Bulk Rate Avg': {'mean': 446310.64800411474,\n",
       "   'std': 4452188.066622173,\n",
       "   'min': 0.0,\n",
       "   'max': 1156000000.0},\n",
       "  'Subflow Fwd Packets': {'mean': 1.8944785269146125,\n",
       "   'std': 70.63430046672647,\n",
       "   'min': 0.0,\n",
       "   'max': 79306.0},\n",
       "  'Subflow Fwd Bytes': {'mean': 174.9499540987605,\n",
       "   'std': 4097.134571750313,\n",
       "   'min': 0.0,\n",
       "   'max': 4410230.0},\n",
       "  'Subflow Bwd Packets': {'mean': 1.0976826931437211,\n",
       "   'std': 33.23728164367401,\n",
       "   'min': 0.0,\n",
       "   'max': 33304.0},\n",
       "  'Bwd Init Win Bytes': {'mean': 103.37913068811208,\n",
       "   'std': 933.114835718001,\n",
       "   'min': 0.0,\n",
       "   'max': 65535.0},\n",
       "  'Fwd Act Data Pkts': {'mean': 15.004775309762794,\n",
       "   'std': 72.45755521044855,\n",
       "   'min': 0.0,\n",
       "   'max': 79305.0},\n",
       "  'Fwd Seg Size Min': {'mean': 16.311529962274037,\n",
       "   'std': 6.7905546240255745,\n",
       "   'min': 8.0,\n",
       "   'max': 40.0},\n",
       "  'Active Min': {'mean': 38453.04681474756,\n",
       "   'std': 636713.3872716213,\n",
       "   'min': 0.0,\n",
       "   'max': 100601181.0},\n",
       "  'Active Mean': {'mean': 78506.85941465398,\n",
       "   'std': 807468.8206563916,\n",
       "   'min': 0.0,\n",
       "   'max': 100601181.0},\n",
       "  'Active Max': {'mean': 125578.97811081112,\n",
       "   'std': 1232365.9002297753,\n",
       "   'min': 0.0,\n",
       "   'max': 100601181.0},\n",
       "  'Active Std': {'mean': 55000.33048308287,\n",
       "   'std': 656501.4112427654,\n",
       "   'min': 0.0,\n",
       "   'max': 63925840.76785256},\n",
       "  'Idle Std': {'mean': 85669.18444352892,\n",
       "   'std': 1291204.5903100397,\n",
       "   'min': 0.0,\n",
       "   'max': 69392024.38090476},\n",
       "  'Int/Ext Dst IP': {'mean': 0.7551403177743375,\n",
       "   'std': 0.4300040960745082,\n",
       "   'min': 0.0,\n",
       "   'max': 1.0},\n",
       "  'Service': {'mean': 9.823546714814977,\n",
       "   'std': 8.649251681380766,\n",
       "   'min': 0.0,\n",
       "   'max': 24.0}},\n",
       " 'categorical': {}}"
      ]
     },
     "execution_count": 35,
     "metadata": {},
     "output_type": "execute_result"
    }
   ],
   "execution_count": 35
  },
  {
   "metadata": {
    "ExecuteTime": {
     "end_time": "2025-01-21T16:02:06.807080Z",
     "start_time": "2025-01-21T16:02:06.486710Z"
    }
   },
   "cell_type": "code",
   "source": [
    "    # Initialize DataSplitter\n",
    "splitter = DataSplitter()\n",
    "splitter.set_data(Processor.data, Processor.y)\n",
    "splitter.random_split(test_size=0.2)"
   ],
   "id": "21cf8979f2ad7544",
   "outputs": [
    {
     "name": "stdout",
     "output_type": "stream",
     "text": [
      "Data set successfully:\n",
      "- Features: (1771194, 52)\n",
      "- Target: (1771194,)\n",
      "Random split completed:\n",
      "- Train: 1416955\n",
      "- Test: 354239\n"
     ]
    }
   ],
   "execution_count": 36
  },
  {
   "metadata": {
    "ExecuteTime": {
     "end_time": "2025-01-21T16:02:08.724978Z",
     "start_time": "2025-01-21T16:02:08.722040Z"
    }
   },
   "cell_type": "code",
   "source": [
    "\"\"\"splitter = DataSplitter()\n",
    "splitter.load_from_csv(X_path = \"../data/test_1/processed_data.csv\",y_path = \"../data/test_1/processed_target.csv\")\n",
    "splitter.random_split(test_size=0.2)\"\"\""
   ],
   "id": "a3698547c10e111e",
   "outputs": [
    {
     "data": {
      "text/plain": [
       "'splitter = DataSplitter()\\nsplitter.load_from_csv(X_path = \"../data/test_1/processed_data.csv\",y_path = \"../data/test_1/processed_target.csv\")\\nsplitter.random_split(test_size=0.2)'"
      ]
     },
     "execution_count": 37,
     "metadata": {},
     "output_type": "execute_result"
    }
   ],
   "execution_count": 37
  },
  {
   "metadata": {
    "ExecuteTime": {
     "end_time": "2025-01-21T16:02:09.179915Z",
     "start_time": "2025-01-21T16:02:09.177587Z"
    }
   },
   "cell_type": "code",
   "source": [
    "from xgboost import XGBClassifier, XGBRegressor\n",
    "\n",
    "model = XGBClassifier(n_estimators=150, max_depth=8, learning_rate=0.5, random_state=10)\n"
   ],
   "id": "955477bfbaa0f533",
   "outputs": [],
   "execution_count": 38
  },
  {
   "metadata": {
    "ExecuteTime": {
     "end_time": "2025-01-21T16:02:10.447423Z",
     "start_time": "2025-01-21T16:02:10.444079Z"
    }
   },
   "cell_type": "code",
   "source": [
    "X_train, y_train = splitter.splits[\"train\"]\n",
    "X_test, y_test = splitter.splits[\"test\"]"
   ],
   "id": "8400f525fd1d8268",
   "outputs": [],
   "execution_count": 39
  },
  {
   "metadata": {
    "ExecuteTime": {
     "end_time": "2025-01-21T16:02:11.642557Z",
     "start_time": "2025-01-21T16:02:11.639691Z"
    }
   },
   "cell_type": "code",
   "source": [
    "print(X_train.shape)\n",
    "print(y_train.shape)\n"
   ],
   "id": "3321706978f9e9ce",
   "outputs": [
    {
     "name": "stdout",
     "output_type": "stream",
     "text": [
      "(1416955, 52)\n",
      "(1416955,)\n"
     ]
    }
   ],
   "execution_count": 40
  },
  {
   "metadata": {
    "ExecuteTime": {
     "end_time": "2025-01-21T16:02:28.942288Z",
     "start_time": "2025-01-21T16:02:23.877892Z"
    }
   },
   "cell_type": "code",
   "source": [
    "\n",
    "model.fit(X_train, y_train)"
   ],
   "id": "c34af410beb128d5",
   "outputs": [
    {
     "data": {
      "text/plain": [
       "XGBClassifier(base_score=None, booster=None, callbacks=None,\n",
       "              colsample_bylevel=None, colsample_bynode=None,\n",
       "              colsample_bytree=None, device=None, early_stopping_rounds=None,\n",
       "              enable_categorical=False, eval_metric=None, feature_types=None,\n",
       "              gamma=None, grow_policy=None, importance_type=None,\n",
       "              interaction_constraints=None, learning_rate=0.5, max_bin=None,\n",
       "              max_cat_threshold=None, max_cat_to_onehot=None,\n",
       "              max_delta_step=None, max_depth=8, max_leaves=None,\n",
       "              min_child_weight=None, missing=nan, monotone_constraints=None,\n",
       "              multi_strategy=None, n_estimators=150, n_jobs=None,\n",
       "              num_parallel_tree=None, random_state=10, ...)"
      ],
      "text/html": [
       "<style>#sk-container-id-2 {\n",
       "  /* Definition of color scheme common for light and dark mode */\n",
       "  --sklearn-color-text: black;\n",
       "  --sklearn-color-line: gray;\n",
       "  /* Definition of color scheme for unfitted estimators */\n",
       "  --sklearn-color-unfitted-level-0: #fff5e6;\n",
       "  --sklearn-color-unfitted-level-1: #f6e4d2;\n",
       "  --sklearn-color-unfitted-level-2: #ffe0b3;\n",
       "  --sklearn-color-unfitted-level-3: chocolate;\n",
       "  /* Definition of color scheme for fitted estimators */\n",
       "  --sklearn-color-fitted-level-0: #f0f8ff;\n",
       "  --sklearn-color-fitted-level-1: #d4ebff;\n",
       "  --sklearn-color-fitted-level-2: #b3dbfd;\n",
       "  --sklearn-color-fitted-level-3: cornflowerblue;\n",
       "\n",
       "  /* Specific color for light theme */\n",
       "  --sklearn-color-text-on-default-background: var(--sg-text-color, var(--theme-code-foreground, var(--jp-content-font-color1, black)));\n",
       "  --sklearn-color-background: var(--sg-background-color, var(--theme-background, var(--jp-layout-color0, white)));\n",
       "  --sklearn-color-border-box: var(--sg-text-color, var(--theme-code-foreground, var(--jp-content-font-color1, black)));\n",
       "  --sklearn-color-icon: #696969;\n",
       "\n",
       "  @media (prefers-color-scheme: dark) {\n",
       "    /* Redefinition of color scheme for dark theme */\n",
       "    --sklearn-color-text-on-default-background: var(--sg-text-color, var(--theme-code-foreground, var(--jp-content-font-color1, white)));\n",
       "    --sklearn-color-background: var(--sg-background-color, var(--theme-background, var(--jp-layout-color0, #111)));\n",
       "    --sklearn-color-border-box: var(--sg-text-color, var(--theme-code-foreground, var(--jp-content-font-color1, white)));\n",
       "    --sklearn-color-icon: #878787;\n",
       "  }\n",
       "}\n",
       "\n",
       "#sk-container-id-2 {\n",
       "  color: var(--sklearn-color-text);\n",
       "}\n",
       "\n",
       "#sk-container-id-2 pre {\n",
       "  padding: 0;\n",
       "}\n",
       "\n",
       "#sk-container-id-2 input.sk-hidden--visually {\n",
       "  border: 0;\n",
       "  clip: rect(1px 1px 1px 1px);\n",
       "  clip: rect(1px, 1px, 1px, 1px);\n",
       "  height: 1px;\n",
       "  margin: -1px;\n",
       "  overflow: hidden;\n",
       "  padding: 0;\n",
       "  position: absolute;\n",
       "  width: 1px;\n",
       "}\n",
       "\n",
       "#sk-container-id-2 div.sk-dashed-wrapped {\n",
       "  border: 1px dashed var(--sklearn-color-line);\n",
       "  margin: 0 0.4em 0.5em 0.4em;\n",
       "  box-sizing: border-box;\n",
       "  padding-bottom: 0.4em;\n",
       "  background-color: var(--sklearn-color-background);\n",
       "}\n",
       "\n",
       "#sk-container-id-2 div.sk-container {\n",
       "  /* jupyter's `normalize.less` sets `[hidden] { display: none; }`\n",
       "     but bootstrap.min.css set `[hidden] { display: none !important; }`\n",
       "     so we also need the `!important` here to be able to override the\n",
       "     default hidden behavior on the sphinx rendered scikit-learn.org.\n",
       "     See: https://github.com/scikit-learn/scikit-learn/issues/21755 */\n",
       "  display: inline-block !important;\n",
       "  position: relative;\n",
       "}\n",
       "\n",
       "#sk-container-id-2 div.sk-text-repr-fallback {\n",
       "  display: none;\n",
       "}\n",
       "\n",
       "div.sk-parallel-item,\n",
       "div.sk-serial,\n",
       "div.sk-item {\n",
       "  /* draw centered vertical line to link estimators */\n",
       "  background-image: linear-gradient(var(--sklearn-color-text-on-default-background), var(--sklearn-color-text-on-default-background));\n",
       "  background-size: 2px 100%;\n",
       "  background-repeat: no-repeat;\n",
       "  background-position: center center;\n",
       "}\n",
       "\n",
       "/* Parallel-specific style estimator block */\n",
       "\n",
       "#sk-container-id-2 div.sk-parallel-item::after {\n",
       "  content: \"\";\n",
       "  width: 100%;\n",
       "  border-bottom: 2px solid var(--sklearn-color-text-on-default-background);\n",
       "  flex-grow: 1;\n",
       "}\n",
       "\n",
       "#sk-container-id-2 div.sk-parallel {\n",
       "  display: flex;\n",
       "  align-items: stretch;\n",
       "  justify-content: center;\n",
       "  background-color: var(--sklearn-color-background);\n",
       "  position: relative;\n",
       "}\n",
       "\n",
       "#sk-container-id-2 div.sk-parallel-item {\n",
       "  display: flex;\n",
       "  flex-direction: column;\n",
       "}\n",
       "\n",
       "#sk-container-id-2 div.sk-parallel-item:first-child::after {\n",
       "  align-self: flex-end;\n",
       "  width: 50%;\n",
       "}\n",
       "\n",
       "#sk-container-id-2 div.sk-parallel-item:last-child::after {\n",
       "  align-self: flex-start;\n",
       "  width: 50%;\n",
       "}\n",
       "\n",
       "#sk-container-id-2 div.sk-parallel-item:only-child::after {\n",
       "  width: 0;\n",
       "}\n",
       "\n",
       "/* Serial-specific style estimator block */\n",
       "\n",
       "#sk-container-id-2 div.sk-serial {\n",
       "  display: flex;\n",
       "  flex-direction: column;\n",
       "  align-items: center;\n",
       "  background-color: var(--sklearn-color-background);\n",
       "  padding-right: 1em;\n",
       "  padding-left: 1em;\n",
       "}\n",
       "\n",
       "\n",
       "/* Toggleable style: style used for estimator/Pipeline/ColumnTransformer box that is\n",
       "clickable and can be expanded/collapsed.\n",
       "- Pipeline and ColumnTransformer use this feature and define the default style\n",
       "- Estimators will overwrite some part of the style using the `sk-estimator` class\n",
       "*/\n",
       "\n",
       "/* Pipeline and ColumnTransformer style (default) */\n",
       "\n",
       "#sk-container-id-2 div.sk-toggleable {\n",
       "  /* Default theme specific background. It is overwritten whether we have a\n",
       "  specific estimator or a Pipeline/ColumnTransformer */\n",
       "  background-color: var(--sklearn-color-background);\n",
       "}\n",
       "\n",
       "/* Toggleable label */\n",
       "#sk-container-id-2 label.sk-toggleable__label {\n",
       "  cursor: pointer;\n",
       "  display: block;\n",
       "  width: 100%;\n",
       "  margin-bottom: 0;\n",
       "  padding: 0.5em;\n",
       "  box-sizing: border-box;\n",
       "  text-align: center;\n",
       "}\n",
       "\n",
       "#sk-container-id-2 label.sk-toggleable__label-arrow:before {\n",
       "  /* Arrow on the left of the label */\n",
       "  content: \"▸\";\n",
       "  float: left;\n",
       "  margin-right: 0.25em;\n",
       "  color: var(--sklearn-color-icon);\n",
       "}\n",
       "\n",
       "#sk-container-id-2 label.sk-toggleable__label-arrow:hover:before {\n",
       "  color: var(--sklearn-color-text);\n",
       "}\n",
       "\n",
       "/* Toggleable content - dropdown */\n",
       "\n",
       "#sk-container-id-2 div.sk-toggleable__content {\n",
       "  max-height: 0;\n",
       "  max-width: 0;\n",
       "  overflow: hidden;\n",
       "  text-align: left;\n",
       "  /* unfitted */\n",
       "  background-color: var(--sklearn-color-unfitted-level-0);\n",
       "}\n",
       "\n",
       "#sk-container-id-2 div.sk-toggleable__content.fitted {\n",
       "  /* fitted */\n",
       "  background-color: var(--sklearn-color-fitted-level-0);\n",
       "}\n",
       "\n",
       "#sk-container-id-2 div.sk-toggleable__content pre {\n",
       "  margin: 0.2em;\n",
       "  border-radius: 0.25em;\n",
       "  color: var(--sklearn-color-text);\n",
       "  /* unfitted */\n",
       "  background-color: var(--sklearn-color-unfitted-level-0);\n",
       "}\n",
       "\n",
       "#sk-container-id-2 div.sk-toggleable__content.fitted pre {\n",
       "  /* unfitted */\n",
       "  background-color: var(--sklearn-color-fitted-level-0);\n",
       "}\n",
       "\n",
       "#sk-container-id-2 input.sk-toggleable__control:checked~div.sk-toggleable__content {\n",
       "  /* Expand drop-down */\n",
       "  max-height: 200px;\n",
       "  max-width: 100%;\n",
       "  overflow: auto;\n",
       "}\n",
       "\n",
       "#sk-container-id-2 input.sk-toggleable__control:checked~label.sk-toggleable__label-arrow:before {\n",
       "  content: \"▾\";\n",
       "}\n",
       "\n",
       "/* Pipeline/ColumnTransformer-specific style */\n",
       "\n",
       "#sk-container-id-2 div.sk-label input.sk-toggleable__control:checked~label.sk-toggleable__label {\n",
       "  color: var(--sklearn-color-text);\n",
       "  background-color: var(--sklearn-color-unfitted-level-2);\n",
       "}\n",
       "\n",
       "#sk-container-id-2 div.sk-label.fitted input.sk-toggleable__control:checked~label.sk-toggleable__label {\n",
       "  background-color: var(--sklearn-color-fitted-level-2);\n",
       "}\n",
       "\n",
       "/* Estimator-specific style */\n",
       "\n",
       "/* Colorize estimator box */\n",
       "#sk-container-id-2 div.sk-estimator input.sk-toggleable__control:checked~label.sk-toggleable__label {\n",
       "  /* unfitted */\n",
       "  background-color: var(--sklearn-color-unfitted-level-2);\n",
       "}\n",
       "\n",
       "#sk-container-id-2 div.sk-estimator.fitted input.sk-toggleable__control:checked~label.sk-toggleable__label {\n",
       "  /* fitted */\n",
       "  background-color: var(--sklearn-color-fitted-level-2);\n",
       "}\n",
       "\n",
       "#sk-container-id-2 div.sk-label label.sk-toggleable__label,\n",
       "#sk-container-id-2 div.sk-label label {\n",
       "  /* The background is the default theme color */\n",
       "  color: var(--sklearn-color-text-on-default-background);\n",
       "}\n",
       "\n",
       "/* On hover, darken the color of the background */\n",
       "#sk-container-id-2 div.sk-label:hover label.sk-toggleable__label {\n",
       "  color: var(--sklearn-color-text);\n",
       "  background-color: var(--sklearn-color-unfitted-level-2);\n",
       "}\n",
       "\n",
       "/* Label box, darken color on hover, fitted */\n",
       "#sk-container-id-2 div.sk-label.fitted:hover label.sk-toggleable__label.fitted {\n",
       "  color: var(--sklearn-color-text);\n",
       "  background-color: var(--sklearn-color-fitted-level-2);\n",
       "}\n",
       "\n",
       "/* Estimator label */\n",
       "\n",
       "#sk-container-id-2 div.sk-label label {\n",
       "  font-family: monospace;\n",
       "  font-weight: bold;\n",
       "  display: inline-block;\n",
       "  line-height: 1.2em;\n",
       "}\n",
       "\n",
       "#sk-container-id-2 div.sk-label-container {\n",
       "  text-align: center;\n",
       "}\n",
       "\n",
       "/* Estimator-specific */\n",
       "#sk-container-id-2 div.sk-estimator {\n",
       "  font-family: monospace;\n",
       "  border: 1px dotted var(--sklearn-color-border-box);\n",
       "  border-radius: 0.25em;\n",
       "  box-sizing: border-box;\n",
       "  margin-bottom: 0.5em;\n",
       "  /* unfitted */\n",
       "  background-color: var(--sklearn-color-unfitted-level-0);\n",
       "}\n",
       "\n",
       "#sk-container-id-2 div.sk-estimator.fitted {\n",
       "  /* fitted */\n",
       "  background-color: var(--sklearn-color-fitted-level-0);\n",
       "}\n",
       "\n",
       "/* on hover */\n",
       "#sk-container-id-2 div.sk-estimator:hover {\n",
       "  /* unfitted */\n",
       "  background-color: var(--sklearn-color-unfitted-level-2);\n",
       "}\n",
       "\n",
       "#sk-container-id-2 div.sk-estimator.fitted:hover {\n",
       "  /* fitted */\n",
       "  background-color: var(--sklearn-color-fitted-level-2);\n",
       "}\n",
       "\n",
       "/* Specification for estimator info (e.g. \"i\" and \"?\") */\n",
       "\n",
       "/* Common style for \"i\" and \"?\" */\n",
       "\n",
       ".sk-estimator-doc-link,\n",
       "a:link.sk-estimator-doc-link,\n",
       "a:visited.sk-estimator-doc-link {\n",
       "  float: right;\n",
       "  font-size: smaller;\n",
       "  line-height: 1em;\n",
       "  font-family: monospace;\n",
       "  background-color: var(--sklearn-color-background);\n",
       "  border-radius: 1em;\n",
       "  height: 1em;\n",
       "  width: 1em;\n",
       "  text-decoration: none !important;\n",
       "  margin-left: 1ex;\n",
       "  /* unfitted */\n",
       "  border: var(--sklearn-color-unfitted-level-1) 1pt solid;\n",
       "  color: var(--sklearn-color-unfitted-level-1);\n",
       "}\n",
       "\n",
       ".sk-estimator-doc-link.fitted,\n",
       "a:link.sk-estimator-doc-link.fitted,\n",
       "a:visited.sk-estimator-doc-link.fitted {\n",
       "  /* fitted */\n",
       "  border: var(--sklearn-color-fitted-level-1) 1pt solid;\n",
       "  color: var(--sklearn-color-fitted-level-1);\n",
       "}\n",
       "\n",
       "/* On hover */\n",
       "div.sk-estimator:hover .sk-estimator-doc-link:hover,\n",
       ".sk-estimator-doc-link:hover,\n",
       "div.sk-label-container:hover .sk-estimator-doc-link:hover,\n",
       ".sk-estimator-doc-link:hover {\n",
       "  /* unfitted */\n",
       "  background-color: var(--sklearn-color-unfitted-level-3);\n",
       "  color: var(--sklearn-color-background);\n",
       "  text-decoration: none;\n",
       "}\n",
       "\n",
       "div.sk-estimator.fitted:hover .sk-estimator-doc-link.fitted:hover,\n",
       ".sk-estimator-doc-link.fitted:hover,\n",
       "div.sk-label-container:hover .sk-estimator-doc-link.fitted:hover,\n",
       ".sk-estimator-doc-link.fitted:hover {\n",
       "  /* fitted */\n",
       "  background-color: var(--sklearn-color-fitted-level-3);\n",
       "  color: var(--sklearn-color-background);\n",
       "  text-decoration: none;\n",
       "}\n",
       "\n",
       "/* Span, style for the box shown on hovering the info icon */\n",
       ".sk-estimator-doc-link span {\n",
       "  display: none;\n",
       "  z-index: 9999;\n",
       "  position: relative;\n",
       "  font-weight: normal;\n",
       "  right: .2ex;\n",
       "  padding: .5ex;\n",
       "  margin: .5ex;\n",
       "  width: min-content;\n",
       "  min-width: 20ex;\n",
       "  max-width: 50ex;\n",
       "  color: var(--sklearn-color-text);\n",
       "  box-shadow: 2pt 2pt 4pt #999;\n",
       "  /* unfitted */\n",
       "  background: var(--sklearn-color-unfitted-level-0);\n",
       "  border: .5pt solid var(--sklearn-color-unfitted-level-3);\n",
       "}\n",
       "\n",
       ".sk-estimator-doc-link.fitted span {\n",
       "  /* fitted */\n",
       "  background: var(--sklearn-color-fitted-level-0);\n",
       "  border: var(--sklearn-color-fitted-level-3);\n",
       "}\n",
       "\n",
       ".sk-estimator-doc-link:hover span {\n",
       "  display: block;\n",
       "}\n",
       "\n",
       "/* \"?\"-specific style due to the `<a>` HTML tag */\n",
       "\n",
       "#sk-container-id-2 a.estimator_doc_link {\n",
       "  float: right;\n",
       "  font-size: 1rem;\n",
       "  line-height: 1em;\n",
       "  font-family: monospace;\n",
       "  background-color: var(--sklearn-color-background);\n",
       "  border-radius: 1rem;\n",
       "  height: 1rem;\n",
       "  width: 1rem;\n",
       "  text-decoration: none;\n",
       "  /* unfitted */\n",
       "  color: var(--sklearn-color-unfitted-level-1);\n",
       "  border: var(--sklearn-color-unfitted-level-1) 1pt solid;\n",
       "}\n",
       "\n",
       "#sk-container-id-2 a.estimator_doc_link.fitted {\n",
       "  /* fitted */\n",
       "  border: var(--sklearn-color-fitted-level-1) 1pt solid;\n",
       "  color: var(--sklearn-color-fitted-level-1);\n",
       "}\n",
       "\n",
       "/* On hover */\n",
       "#sk-container-id-2 a.estimator_doc_link:hover {\n",
       "  /* unfitted */\n",
       "  background-color: var(--sklearn-color-unfitted-level-3);\n",
       "  color: var(--sklearn-color-background);\n",
       "  text-decoration: none;\n",
       "}\n",
       "\n",
       "#sk-container-id-2 a.estimator_doc_link.fitted:hover {\n",
       "  /* fitted */\n",
       "  background-color: var(--sklearn-color-fitted-level-3);\n",
       "}\n",
       "</style><div id=\"sk-container-id-2\" class=\"sk-top-container\"><div class=\"sk-text-repr-fallback\"><pre>XGBClassifier(base_score=None, booster=None, callbacks=None,\n",
       "              colsample_bylevel=None, colsample_bynode=None,\n",
       "              colsample_bytree=None, device=None, early_stopping_rounds=None,\n",
       "              enable_categorical=False, eval_metric=None, feature_types=None,\n",
       "              gamma=None, grow_policy=None, importance_type=None,\n",
       "              interaction_constraints=None, learning_rate=0.5, max_bin=None,\n",
       "              max_cat_threshold=None, max_cat_to_onehot=None,\n",
       "              max_delta_step=None, max_depth=8, max_leaves=None,\n",
       "              min_child_weight=None, missing=nan, monotone_constraints=None,\n",
       "              multi_strategy=None, n_estimators=150, n_jobs=None,\n",
       "              num_parallel_tree=None, random_state=10, ...)</pre><b>In a Jupyter environment, please rerun this cell to show the HTML representation or trust the notebook. <br />On GitHub, the HTML representation is unable to render, please try loading this page with nbviewer.org.</b></div><div class=\"sk-container\" hidden><div class=\"sk-item\"><div class=\"sk-estimator fitted sk-toggleable\"><input class=\"sk-toggleable__control sk-hidden--visually\" id=\"sk-estimator-id-2\" type=\"checkbox\" checked><label for=\"sk-estimator-id-2\" class=\"sk-toggleable__label fitted sk-toggleable__label-arrow fitted\">&nbsp;XGBClassifier<span class=\"sk-estimator-doc-link fitted\">i<span>Fitted</span></span></label><div class=\"sk-toggleable__content fitted\"><pre>XGBClassifier(base_score=None, booster=None, callbacks=None,\n",
       "              colsample_bylevel=None, colsample_bynode=None,\n",
       "              colsample_bytree=None, device=None, early_stopping_rounds=None,\n",
       "              enable_categorical=False, eval_metric=None, feature_types=None,\n",
       "              gamma=None, grow_policy=None, importance_type=None,\n",
       "              interaction_constraints=None, learning_rate=0.5, max_bin=None,\n",
       "              max_cat_threshold=None, max_cat_to_onehot=None,\n",
       "              max_delta_step=None, max_depth=8, max_leaves=None,\n",
       "              min_child_weight=None, missing=nan, monotone_constraints=None,\n",
       "              multi_strategy=None, n_estimators=150, n_jobs=None,\n",
       "              num_parallel_tree=None, random_state=10, ...)</pre></div> </div></div></div></div>"
      ]
     },
     "execution_count": 42,
     "metadata": {},
     "output_type": "execute_result"
    }
   ],
   "execution_count": 42
  },
  {
   "metadata": {
    "ExecuteTime": {
     "end_time": "2025-01-21T16:02:29.184092Z",
     "start_time": "2025-01-21T16:02:28.946279Z"
    }
   },
   "cell_type": "code",
   "source": "y_pred = model.predict(X_test)",
   "id": "583e087a12121a89",
   "outputs": [],
   "execution_count": 43
  },
  {
   "metadata": {
    "ExecuteTime": {
     "end_time": "2025-01-21T16:02:30.632401Z",
     "start_time": "2025-01-21T16:02:30.629446Z"
    }
   },
   "cell_type": "code",
   "source": "print(y_pred)",
   "id": "3ff84f762c750252",
   "outputs": [
    {
     "name": "stdout",
     "output_type": "stream",
     "text": [
      "[0 0 0 ... 0 0 1]\n"
     ]
    }
   ],
   "execution_count": 44
  },
  {
   "metadata": {
    "ExecuteTime": {
     "end_time": "2025-01-21T16:02:32.572152Z",
     "start_time": "2025-01-21T16:02:32.255005Z"
    }
   },
   "cell_type": "code",
   "source": [
    "from sklearn.metrics import accuracy_score, classification_report\n",
    "print(\"Accuracy:\", accuracy_score(y_test, y_pred))\n",
    "print(classification_report(y_test, y_pred))"
   ],
   "id": "c91bd8a38ba01f03",
   "outputs": [
    {
     "name": "stdout",
     "output_type": "stream",
     "text": [
      "Accuracy: 0.9998842589325286\n",
      "              precision    recall  f1-score   support\n",
      "\n",
      "           0       1.00      1.00      1.00    181792\n",
      "           1       1.00      1.00      1.00    172447\n",
      "\n",
      "    accuracy                           1.00    354239\n",
      "   macro avg       1.00      1.00      1.00    354239\n",
      "weighted avg       1.00      1.00      1.00    354239\n",
      "\n"
     ]
    }
   ],
   "execution_count": 45
  },
  {
   "metadata": {
    "ExecuteTime": {
     "end_time": "2025-01-21T16:02:35.186046Z",
     "start_time": "2025-01-21T16:02:35.080998Z"
    }
   },
   "cell_type": "code",
   "source": [
    "from sklearn.metrics import confusion_matrix, ConfusionMatrixDisplay\n",
    "\n",
    "# Generate confusion matrix\n",
    "cm = confusion_matrix(y_test, y_pred)\n",
    "\n",
    "# Plot confusion matrix\n",
    "disp = ConfusionMatrixDisplay(confusion_matrix=cm, display_labels=model.classes_)\n",
    "disp.plot()  # Change the colormap as desired\n"
   ],
   "id": "c5c164d47a8af48b",
   "outputs": [
    {
     "data": {
      "text/plain": [
       "<sklearn.metrics._plot.confusion_matrix.ConfusionMatrixDisplay at 0x169f06d80>"
      ]
     },
     "execution_count": 46,
     "metadata": {},
     "output_type": "execute_result"
    },
    {
     "data": {
      "text/plain": [
       "<Figure size 640x480 with 2 Axes>"
      ],
      "image/png": "[encoded data removed]"
     },
     "metadata": {},
     "output_type": "display_data"
    }
   ],
   "execution_count": 46
  },
  {
   "metadata": {
    "ExecuteTime": {
     "end_time": "2025-01-21T16:02:42.108272Z",
     "start_time": "2025-01-21T16:02:41.798943Z"
    }
   },
   "cell_type": "code",
   "source": [
    "from sklearn.metrics import roc_curve, auc\n",
    "import matplotlib.pyplot as plt\n",
    "\n",
    "# Get predicted probabilities (for ROC curve, probabilities are required)\n",
    "y_pred_proba = model.predict_proba(X_test)[:, 1]\n",
    "print(y_pred_proba)\n",
    "# Compute ROC curve and AUC\n",
    "fpr, tpr, thresholds = roc_curve(y_test, y_pred_proba)\n",
    "roc_auc = auc(fpr, tpr)\n",
    "\n",
    "# Plot ROC curve\n",
    "plt.figure()\n",
    "plt.plot(fpr, tpr, label=f'ROC Curve (AUC = {roc_auc:.2f})')\n",
    "plt.plot([0, 1], [0, 1], 'k--', label='Random Guess')\n",
    "plt.xlabel('False Positive Rate')\n",
    "plt.ylabel('True Positive Rate')\n",
    "plt.title('Receiver Operating Characteristic')\n",
    "plt.legend(loc='lower right')\n",
    "plt.show()"
   ],
   "id": "45e59f2029d9ba41",
   "outputs": [
    {
     "name": "stdout",
     "output_type": "stream",
     "text": [
      "[1.7869748e-08 1.6326617e-07 3.6096992e-08 ... 1.7797671e-08 1.9615527e-06\n",
      " 1.0000000e+00]\n"
     ]
    },
    {
     "data": {
      "text/plain": [
       "<Figure size 640x480 with 1 Axes>"
      ],
      "image/png": "[encoded data removed]"
     },
     "metadata": {},
     "output_type": "display_data"
    }
   ],
   "execution_count": 47
  },
  {
   "metadata": {
    "ExecuteTime": {
     "end_time": "2025-01-21T16:02:43.328265Z",
     "start_time": "2025-01-21T16:02:43.325394Z"
    }
   },
   "cell_type": "code",
   "source": [
    "# let's test another ml algorithm\n",
    "from sklearn.ensemble import RandomForestClassifier\n",
    "model = RandomForestClassifier()\n",
    "\n"
   ],
   "id": "bcbcf6947aedc056",
   "outputs": [],
   "execution_count": 48
  },
  {
   "metadata": {
    "ExecuteTime": {
     "end_time": "2025-01-21T16:02:44.151805Z",
     "start_time": "2025-01-21T16:02:44.149845Z"
    }
   },
   "cell_type": "code",
   "source": "\n",
   "id": "d12c0eeee4a0c58",
   "outputs": [],
   "execution_count": 48
  },
  {
   "metadata": {
    "ExecuteTime": {
     "end_time": "2025-01-21T16:02:44.524511Z",
     "start_time": "2025-01-21T16:02:44.523183Z"
    }
   },
   "cell_type": "code",
   "source": "",
   "id": "56ff087b681466d",
   "outputs": [],
   "execution_count": null
  },
  {
   "metadata": {
    "ExecuteTime": {
     "end_time": "2025-01-21T16:02:47.612750Z",
     "start_time": "2025-01-21T16:02:45.559187Z"
    }
   },
   "cell_type": "code",
   "source": [
    "leakage_info = splitter.check_data_leakage(X_train, X_test)\n",
    "print(\"Leakage Info:\", leakage_info)"
   ],
   "id": "6393dae3af3bb11d",
   "outputs": [
    {
     "name": "stdout",
     "output_type": "stream",
     "text": [
      "Leakage Info: {'overlap_in_features': 0}\n"
     ]
    }
   ],
   "execution_count": 49
  },
  {
   "metadata": {
    "ExecuteTime": {
     "end_time": "2025-01-21T16:00:46.459051Z",
     "start_time": "2025-01-21T16:00:46.457648Z"
    }
   },
   "cell_type": "code",
   "source": "",
   "id": "8b5c7a140b818320",
   "outputs": [],
   "execution_count": null
  },
  {
   "metadata": {
    "ExecuteTime": {
     "end_time": "2025-01-21T15:53:36.707561Z",
     "start_time": "2025-01-21T14:43:19.264156Z"
    }
   },
   "cell_type": "code",
   "source": "",
   "id": "cf411b93c368393d",
   "outputs": [],
   "execution_count": null
  },
  {
   "metadata": {
    "ExecuteTime": {
     "end_time": "2025-01-21T14:43:19.309444Z",
     "start_time": "2025-01-21T14:43:19.308354Z"
    }
   },
   "cell_type": "code",
   "source": "",
   "id": "479f8faacc70f91a",
   "outputs": [],
   "execution_count": null
  },
  {
   "metadata": {},
   "cell_type": "code",
   "outputs": [],
   "execution_count": null,
   "source": "",
   "id": "656bc0da6c4528d8"
  }
 ],
 "metadata": {
  "kernelspec": {
   "display_name": "Python 3",
   "language": "python",
   "name": "python3"
  },
  "language_info": {
   "codemirror_mode": {
    "name": "ipython",
    "version": 2
   },
   "file_extension": ".py",
   "mimetype": "text/x-python",
   "name": "python",
   "nbconvert_exporter": "python",
   "pygments_lexer": "ipython2",
   "version": "2.7.6"
  }
 },
 "nbformat": 4,
 "nbformat_minor": 5
}
