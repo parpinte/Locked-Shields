{
 "cells": [
  {
   "cell_type": "code",
   "id": "initial_id",
   "metadata": {
    "collapsed": true,
    "ExecuteTime": {
     "end_time": "2025-01-22T13:51:57.547544Z",
     "start_time": "2025-01-22T13:51:57.544950Z"
    }
   },
   "source": [
    "from processor import Processor\n",
    "from splitter import DataSplitter\n",
    "from mlmodel import MLModel\n",
    "from sklearn.ensemble import RandomForestClassifier\n",
    "from xgboost import XGBClassifier\n",
    "\n"
   ],
   "outputs": [],
   "execution_count": 62
  },
  {
   "metadata": {
    "ExecuteTime": {
     "end_time": "2025-01-22T13:53:59.639701Z",
     "start_time": "2025-01-22T13:51:57.721497Z"
    }
   },
   "cell_type": "code",
   "source": [
    "# load the datas\n",
    "Processor = Processor(filepath=\"../data/balanced_data.csv\")\n",
    "Processor.load_data()\n",
    "Processor.show_features()"
   ],
   "id": "5fb611d3d31a06fe",
   "outputs": [
    {
     "name": "stdout",
     "output_type": "stream",
     "text": [
      "Dataset loaded successfully.\n",
      "Features in the dataset:\n",
      "1. Flow ID\n",
      "2. SrcIP\n",
      "3. DstIP\n",
      "4. SrcPort\n",
      "5. DstPort\n",
      "6. Protocol\n",
      "7. mTimestampStart\n",
      "8. mTimestampLast\n",
      "9. Flow Duration\n",
      "10. Flow Bytes/s\n",
      "11. Flow Packets/s\n",
      "12. Tot Fwd Pkts\n",
      "13. Tot Bwd Pkts\n",
      "14. Total Length of Fwd Packet\n",
      "15. Total Length of Bwd Packet\n",
      "16. Fwd Packet Length Min\n",
      "17. Fwd Packet Length Max\n",
      "18. Fwd Packet Length Mean\n",
      "19. Fwd Packet Length Std\n",
      "20. Bwd Packet Length Min\n",
      "21. Bwd Packet Length Max\n",
      "22. Bwd Packet Length Mean\n",
      "23. Bwd Packet Length Std\n",
      "24. Flow IAT Mean\n",
      "25. Flow IAT Min\n",
      "26. Flow IAT Max\n",
      "27. Flow IAT Stddev\n",
      "28. Fwd IAT Min\n",
      "29. Fwd IAT Max\n",
      "30. Fwd IAT Mean\n",
      "31. Fwd IAT Std\n",
      "32. Fwd IAT Tot\n",
      "33. Bwd IAT Min\n",
      "34. Bwd IAT Max\n",
      "35. Bwd IAT Mean\n",
      "36. Bwd IAT Std\n",
      "37. Bwd IAT Tot\n",
      "38. Fwd PSH flags\n",
      "39. Bwd PSH flags\n",
      "40. Fwd URG flags\n",
      "41. Bwd URG flags\n",
      "42. Fwd Header Length\n",
      "43. Bwd Header Length\n",
      "44. Fwd Packets/s\n",
      "45. Bwd Packets/s\n",
      "46. Packet Length Min\n",
      "47. Packet Length Max\n",
      "48. Packet Length Mean\n",
      "49. Packet Length Std\n",
      "50. Packet Length Variance\n",
      "51. FIN Flag Cnt\n",
      "52. SYN Flag Cnt\n",
      "53. RST Flag Cnt\n",
      "54. PSH Flag Cnt\n",
      "55. ACK Flag Cnt\n",
      "56. URG Flag Cnt\n",
      "57. CWR Flag Cnt\n",
      "58. ECE Flag Cnt\n",
      "59. Down/Up Ratio\n",
      "60. Average Packet Size\n",
      "61. Fwd Segment Size Avg\n",
      "62. Bwd Segment Size Avg\n",
      "63. Fwd Bytes/Bulk Avg\n",
      "64. Fwd Packet/Bulk Avg\n",
      "65. Fwd Bulk Rate Avg\n",
      "66. Bwd Bytes/Bulk Avg\n",
      "67. Bwd Packet/Bulk Avg\n",
      "68. Bwd Bulk Rate Avg\n",
      "69. Subflow Fwd Packets\n",
      "70. Subflow Fwd Bytes\n",
      "71. Subflow Bwd Packets\n",
      "72. Subflow Bwd Bytes\n",
      "73. FWD Init Win Bytes\n",
      "74. Bwd Init Win Bytes\n",
      "75. Fwd Act Data Pkts\n",
      "76. Fwd Seg Size Min\n",
      "77. Active Min\n",
      "78. Active Mean\n",
      "79. Active Max\n",
      "80. Active Std\n",
      "81. Idle Min\n",
      "82. Idle Mean\n",
      "83. Idle Max\n",
      "84. Idle Std\n",
      "85. L3/L4 Protocol\n",
      "86. Int/Ext Dst IP\n",
      "87. Conn_state\n",
      "88. Service\n",
      "89. Label\n",
      "90. External_src\n",
      "91. External_dst\n",
      "92. Segment_src\n",
      "93. Segment_dst\n",
      "94. Expoid_src\n",
      "95. Expoid_dst\n",
      "\n",
      "Total features: 95\n"
     ]
    }
   ],
   "execution_count": 63
  },
  {
   "metadata": {
    "ExecuteTime": {
     "end_time": "2025-01-22T13:53:59.743445Z",
     "start_time": "2025-01-22T13:53:59.740879Z"
    }
   },
   "cell_type": "code",
   "source": [
    "# columns to drop\n",
    "\n",
    "columns_to_drop = ['Flow ID', 'SrcIP', 'DstIP', 'External_src', 'External_dst', 'Conn_state', 'Segment_src','Segment_dst','Expoid_src', 'Expoid_dst', 'mTimestampStart', 'mTimestampLast','SrcPort']\n"
   ],
   "id": "4a0f613229c61c05",
   "outputs": [],
   "execution_count": 64
  },
  {
   "metadata": {
    "ExecuteTime": {
     "end_time": "2025-01-22T13:30:56.109796Z",
     "start_time": "2025-01-22T13:30:55.624127Z"
    }
   },
   "cell_type": "code",
   "source": [
    "Processor.drop_features(columns_to_drop = columns_to_drop)\n",
    "Processor.show_features()"
   ],
   "id": "1f74725fe3bf4624",
   "outputs": [
    {
     "name": "stdout",
     "output_type": "stream",
     "text": [
      "Successfully dropped the following columns: SrcIP, Segment_src, DstIP, SrcPort, External_dst, mTimestampLast, mTimestampStart, Flow ID, Expoid_src, External_src, Conn_state, Segment_dst, Expoid_dst\n",
      "Features in the dataset:\n",
      "1. DstPort\n",
      "2. Protocol\n",
      "3. Flow Duration\n",
      "4. Flow Bytes/s\n",
      "5. Flow Packets/s\n",
      "6. Tot Fwd Pkts\n",
      "7. Tot Bwd Pkts\n",
      "8. Total Length of Fwd Packet\n",
      "9. Total Length of Bwd Packet\n",
      "10. Fwd Packet Length Min\n",
      "11. Fwd Packet Length Max\n",
      "12. Fwd Packet Length Mean\n",
      "13. Fwd Packet Length Std\n",
      "14. Bwd Packet Length Min\n",
      "15. Bwd Packet Length Max\n",
      "16. Bwd Packet Length Mean\n",
      "17. Bwd Packet Length Std\n",
      "18. Flow IAT Mean\n",
      "19. Flow IAT Min\n",
      "20. Flow IAT Max\n",
      "21. Flow IAT Stddev\n",
      "22. Fwd IAT Min\n",
      "23. Fwd IAT Max\n",
      "24. Fwd IAT Mean\n",
      "25. Fwd IAT Std\n",
      "26. Fwd IAT Tot\n",
      "27. Bwd IAT Min\n",
      "28. Bwd IAT Max\n",
      "29. Bwd IAT Mean\n",
      "30. Bwd IAT Std\n",
      "31. Bwd IAT Tot\n",
      "32. Fwd PSH flags\n",
      "33. Bwd PSH flags\n",
      "34. Fwd URG flags\n",
      "35. Bwd URG flags\n",
      "36. Fwd Header Length\n",
      "37. Bwd Header Length\n",
      "38. Fwd Packets/s\n",
      "39. Bwd Packets/s\n",
      "40. Packet Length Min\n",
      "41. Packet Length Max\n",
      "42. Packet Length Mean\n",
      "43. Packet Length Std\n",
      "44. Packet Length Variance\n",
      "45. FIN Flag Cnt\n",
      "46. SYN Flag Cnt\n",
      "47. RST Flag Cnt\n",
      "48. PSH Flag Cnt\n",
      "49. ACK Flag Cnt\n",
      "50. URG Flag Cnt\n",
      "51. CWR Flag Cnt\n",
      "52. ECE Flag Cnt\n",
      "53. Down/Up Ratio\n",
      "54. Average Packet Size\n",
      "55. Fwd Segment Size Avg\n",
      "56. Bwd Segment Size Avg\n",
      "57. Fwd Bytes/Bulk Avg\n",
      "58. Fwd Packet/Bulk Avg\n",
      "59. Fwd Bulk Rate Avg\n",
      "60. Bwd Bytes/Bulk Avg\n",
      "61. Bwd Packet/Bulk Avg\n",
      "62. Bwd Bulk Rate Avg\n",
      "63. Subflow Fwd Packets\n",
      "64. Subflow Fwd Bytes\n",
      "65. Subflow Bwd Packets\n",
      "66. Subflow Bwd Bytes\n",
      "67. FWD Init Win Bytes\n",
      "68. Bwd Init Win Bytes\n",
      "69. Fwd Act Data Pkts\n",
      "70. Fwd Seg Size Min\n",
      "71. Active Min\n",
      "72. Active Mean\n",
      "73. Active Max\n",
      "74. Active Std\n",
      "75. Idle Min\n",
      "76. Idle Mean\n",
      "77. Idle Max\n",
      "78. Idle Std\n",
      "79. L3/L4 Protocol\n",
      "80. Int/Ext Dst IP\n",
      "81. Service\n",
      "82. Label\n",
      "\n",
      "Total features: 82\n"
     ]
    }
   ],
   "execution_count": 44
  },
  {
   "metadata": {
    "ExecuteTime": {
     "end_time": "2025-01-22T13:30:56.114205Z",
     "start_time": "2025-01-22T13:30:56.113006Z"
    }
   },
   "cell_type": "code",
   "source": "",
   "id": "2442ea132f24da84",
   "outputs": [],
   "execution_count": null
  },
  {
   "metadata": {
    "ExecuteTime": {
     "end_time": "2025-01-22T13:30:56.346015Z",
     "start_time": "2025-01-22T13:30:56.130659Z"
    }
   },
   "cell_type": "code",
   "source": [
    "# extract the target\n",
    "Processor.extract_target(target_column='Label')\n",
    "print(Processor.y.value_counts())\n",
    "Processor.show_features()"
   ],
   "id": "d35e19b39a13aac5",
   "outputs": [
    {
     "name": "stdout",
     "output_type": "stream",
     "text": [
      "Target column 'Label' extracted successfully and stored in self.y.\n",
      "Label\n",
      "1    1644599\n",
      "0    1644599\n",
      "Name: count, dtype: int64\n",
      "Features in the dataset:\n",
      "1. DstPort\n",
      "2. Protocol\n",
      "3. Flow Duration\n",
      "4. Flow Bytes/s\n",
      "5. Flow Packets/s\n",
      "6. Tot Fwd Pkts\n",
      "7. Tot Bwd Pkts\n",
      "8. Total Length of Fwd Packet\n",
      "9. Total Length of Bwd Packet\n",
      "10. Fwd Packet Length Min\n",
      "11. Fwd Packet Length Max\n",
      "12. Fwd Packet Length Mean\n",
      "13. Fwd Packet Length Std\n",
      "14. Bwd Packet Length Min\n",
      "15. Bwd Packet Length Max\n",
      "16. Bwd Packet Length Mean\n",
      "17. Bwd Packet Length Std\n",
      "18. Flow IAT Mean\n",
      "19. Flow IAT Min\n",
      "20. Flow IAT Max\n",
      "21. Flow IAT Stddev\n",
      "22. Fwd IAT Min\n",
      "23. Fwd IAT Max\n",
      "24. Fwd IAT Mean\n",
      "25. Fwd IAT Std\n",
      "26. Fwd IAT Tot\n",
      "27. Bwd IAT Min\n",
      "28. Bwd IAT Max\n",
      "29. Bwd IAT Mean\n",
      "30. Bwd IAT Std\n",
      "31. Bwd IAT Tot\n",
      "32. Fwd PSH flags\n",
      "33. Bwd PSH flags\n",
      "34. Fwd URG flags\n",
      "35. Bwd URG flags\n",
      "36. Fwd Header Length\n",
      "37. Bwd Header Length\n",
      "38. Fwd Packets/s\n",
      "39. Bwd Packets/s\n",
      "40. Packet Length Min\n",
      "41. Packet Length Max\n",
      "42. Packet Length Mean\n",
      "43. Packet Length Std\n",
      "44. Packet Length Variance\n",
      "45. FIN Flag Cnt\n",
      "46. SYN Flag Cnt\n",
      "47. RST Flag Cnt\n",
      "48. PSH Flag Cnt\n",
      "49. ACK Flag Cnt\n",
      "50. URG Flag Cnt\n",
      "51. CWR Flag Cnt\n",
      "52. ECE Flag Cnt\n",
      "53. Down/Up Ratio\n",
      "54. Average Packet Size\n",
      "55. Fwd Segment Size Avg\n",
      "56. Bwd Segment Size Avg\n",
      "57. Fwd Bytes/Bulk Avg\n",
      "58. Fwd Packet/Bulk Avg\n",
      "59. Fwd Bulk Rate Avg\n",
      "60. Bwd Bytes/Bulk Avg\n",
      "61. Bwd Packet/Bulk Avg\n",
      "62. Bwd Bulk Rate Avg\n",
      "63. Subflow Fwd Packets\n",
      "64. Subflow Fwd Bytes\n",
      "65. Subflow Bwd Packets\n",
      "66. Subflow Bwd Bytes\n",
      "67. FWD Init Win Bytes\n",
      "68. Bwd Init Win Bytes\n",
      "69. Fwd Act Data Pkts\n",
      "70. Fwd Seg Size Min\n",
      "71. Active Min\n",
      "72. Active Mean\n",
      "73. Active Max\n",
      "74. Active Std\n",
      "75. Idle Min\n",
      "76. Idle Mean\n",
      "77. Idle Max\n",
      "78. Idle Std\n",
      "79. L3/L4 Protocol\n",
      "80. Int/Ext Dst IP\n",
      "81. Service\n",
      "\n",
      "Total features: 81\n"
     ]
    }
   ],
   "execution_count": 45
  },
  {
   "metadata": {
    "ExecuteTime": {
     "end_time": "2025-01-22T13:30:56.864715Z",
     "start_time": "2025-01-22T13:30:56.363451Z"
    }
   },
   "cell_type": "code",
   "source": [
    "# solve and encode categorical datas\n",
    "Processor.detect_categorical(handle_nan=\"drop\")\n",
    "Processor.encode_categorical(method=\"label\")"
   ],
   "id": "659a17dfbaa4c463",
   "outputs": [
    {
     "name": "stdout",
     "output_type": "stream",
     "text": [
      "Categorical Features and their NaN Information:\n",
      "- Service:\n",
      "  NaN Count: 1384681\n",
      "  Percentage of NaNs: 42.10%\n",
      "  Action: Dropped rows with NaN in 'Service'.\n",
      "\n",
      "Categorical NaN handling completed.\n",
      "Encoding categorical features using label encoding.\n",
      "Feature 'Service' encoded using Label Encoding.\n",
      "Categorical encoding completed.\n"
     ]
    }
   ],
   "execution_count": 46
  },
  {
   "metadata": {
    "ExecuteTime": {
     "end_time": "2025-01-22T13:31:00.133983Z",
     "start_time": "2025-01-22T13:30:56.880549Z"
    }
   },
   "cell_type": "code",
   "source": [
    "# drop duplicated lines in the code\n",
    "Processor.handle_duplicates()\n",
    "print(Processor.y.value_counts())"
   ],
   "id": "6a3745f9ad93cd1a",
   "outputs": [
    {
     "name": "stdout",
     "output_type": "stream",
     "text": [
      "Found 159712 duplicate rows in the dataset.\n",
      "Duplicate rows have been removed.\n",
      "Label\n",
      "0    882855\n",
      "1    861950\n",
      "Name: count, dtype: int64\n"
     ]
    }
   ],
   "execution_count": 47
  },
  {
   "metadata": {
    "ExecuteTime": {
     "end_time": "2025-01-22T13:31:01.134016Z",
     "start_time": "2025-01-22T13:31:00.150087Z"
    }
   },
   "cell_type": "code",
   "source": [
    "# detect numerical issues and treat the datas and drop them\n",
    "num_issue_features = Processor.detect_missing_numerical()\n",
    "Processor.handle_missing_values(num_issue_features, method=\"drop\", custom_value=None)\n",
    "print(Processor.y.value_counts())"
   ],
   "id": "9ca60ab7a96ddfad",
   "outputs": [
    {
     "name": "stdout",
     "output_type": "stream",
     "text": [
      "Missing values for numerical features:\n",
      "- Flow Bytes/s:\n",
      "  NaN Count: 1 (0.00%)\n",
      "  Inf Count: 331 (0.02%)\n",
      "- Flow Packets/s:\n",
      "  NaN Count: 0 (0.00%)\n",
      "  Inf Count: 332 (0.02%)\n",
      "- Flow IAT Mean:\n",
      "  NaN Count: 150 (0.01%)\n",
      "  Inf Count: 0 (0.00%)\n",
      "- Flow IAT Min:\n",
      "  NaN Count: 150 (0.01%)\n",
      "  Inf Count: 0 (0.00%)\n",
      "- Flow IAT Max:\n",
      "  NaN Count: 150 (0.01%)\n",
      "  Inf Count: 0 (0.00%)\n",
      "- Flow IAT Stddev:\n",
      "  NaN Count: 150 (0.01%)\n",
      "  Inf Count: 0 (0.00%)\n",
      "Dropping rows with missing values in 'Flow Bytes/s'.\n",
      "Dropping rows with missing values in 'Flow Packets/s'.\n",
      "Dropping rows with missing values in 'Flow IAT Mean'.\n",
      "Dropping rows with missing values in 'Flow IAT Min'.\n",
      "Dropping rows with missing values in 'Flow IAT Max'.\n",
      "Dropping rows with missing values in 'Flow IAT Stddev'.\n",
      "Missing value handling completed.\n",
      "Label\n",
      "0    882527\n",
      "1    861946\n",
      "Name: count, dtype: int64\n"
     ]
    }
   ],
   "execution_count": 48
  },
  {
   "metadata": {
    "ExecuteTime": {
     "end_time": "2025-01-22T13:31:01.151110Z",
     "start_time": "2025-01-22T13:31:01.149048Z"
    }
   },
   "cell_type": "code",
   "source": "Processor.show_features()",
   "id": "9936c0c95934502b",
   "outputs": [
    {
     "name": "stdout",
     "output_type": "stream",
     "text": [
      "Features in the dataset:\n",
      "1. DstPort\n",
      "2. Protocol\n",
      "3. Flow Duration\n",
      "4. Flow Bytes/s\n",
      "5. Flow Packets/s\n",
      "6. Tot Fwd Pkts\n",
      "7. Tot Bwd Pkts\n",
      "8. Total Length of Fwd Packet\n",
      "9. Total Length of Bwd Packet\n",
      "10. Fwd Packet Length Min\n",
      "11. Fwd Packet Length Max\n",
      "12. Fwd Packet Length Mean\n",
      "13. Fwd Packet Length Std\n",
      "14. Bwd Packet Length Min\n",
      "15. Bwd Packet Length Max\n",
      "16. Bwd Packet Length Mean\n",
      "17. Bwd Packet Length Std\n",
      "18. Flow IAT Mean\n",
      "19. Flow IAT Min\n",
      "20. Flow IAT Max\n",
      "21. Flow IAT Stddev\n",
      "22. Fwd IAT Min\n",
      "23. Fwd IAT Max\n",
      "24. Fwd IAT Mean\n",
      "25. Fwd IAT Std\n",
      "26. Fwd IAT Tot\n",
      "27. Bwd IAT Min\n",
      "28. Bwd IAT Max\n",
      "29. Bwd IAT Mean\n",
      "30. Bwd IAT Std\n",
      "31. Bwd IAT Tot\n",
      "32. Fwd PSH flags\n",
      "33. Bwd PSH flags\n",
      "34. Fwd URG flags\n",
      "35. Bwd URG flags\n",
      "36. Fwd Header Length\n",
      "37. Bwd Header Length\n",
      "38. Fwd Packets/s\n",
      "39. Bwd Packets/s\n",
      "40. Packet Length Min\n",
      "41. Packet Length Max\n",
      "42. Packet Length Mean\n",
      "43. Packet Length Std\n",
      "44. Packet Length Variance\n",
      "45. FIN Flag Cnt\n",
      "46. SYN Flag Cnt\n",
      "47. RST Flag Cnt\n",
      "48. PSH Flag Cnt\n",
      "49. ACK Flag Cnt\n",
      "50. URG Flag Cnt\n",
      "51. CWR Flag Cnt\n",
      "52. ECE Flag Cnt\n",
      "53. Down/Up Ratio\n",
      "54. Average Packet Size\n",
      "55. Fwd Segment Size Avg\n",
      "56. Bwd Segment Size Avg\n",
      "57. Fwd Bytes/Bulk Avg\n",
      "58. Fwd Packet/Bulk Avg\n",
      "59. Fwd Bulk Rate Avg\n",
      "60. Bwd Bytes/Bulk Avg\n",
      "61. Bwd Packet/Bulk Avg\n",
      "62. Bwd Bulk Rate Avg\n",
      "63. Subflow Fwd Packets\n",
      "64. Subflow Fwd Bytes\n",
      "65. Subflow Bwd Packets\n",
      "66. Subflow Bwd Bytes\n",
      "67. FWD Init Win Bytes\n",
      "68. Bwd Init Win Bytes\n",
      "69. Fwd Act Data Pkts\n",
      "70. Fwd Seg Size Min\n",
      "71. Active Min\n",
      "72. Active Mean\n",
      "73. Active Max\n",
      "74. Active Std\n",
      "75. Idle Min\n",
      "76. Idle Mean\n",
      "77. Idle Max\n",
      "78. Idle Std\n",
      "79. L3/L4 Protocol\n",
      "80. Int/Ext Dst IP\n",
      "81. Service\n",
      "\n",
      "Total features: 81\n"
     ]
    }
   ],
   "execution_count": 49
  },
  {
   "metadata": {
    "ExecuteTime": {
     "end_time": "2025-01-22T13:31:02.167323Z",
     "start_time": "2025-01-22T13:31:01.166957Z"
    }
   },
   "cell_type": "code",
   "source": "Processor.rescale_data(method=\"standardize\")",
   "id": "3a9f1a0ab203cda3",
   "outputs": [
    {
     "name": "stdout",
     "output_type": "stream",
     "text": [
      "Applying standardization (mean=0, std=1).\n",
      "Rescaling completed using standardize.\n"
     ]
    }
   ],
   "execution_count": 50
  },
  {
   "metadata": {
    "ExecuteTime": {
     "end_time": "2025-01-22T13:31:02.184759Z",
     "start_time": "2025-01-22T13:31:02.183130Z"
    }
   },
   "cell_type": "code",
   "source": "Processor.show_features()",
   "id": "31cd3158f61bc82a",
   "outputs": [
    {
     "name": "stdout",
     "output_type": "stream",
     "text": [
      "Features in the dataset:\n",
      "1. DstPort\n",
      "2. Protocol\n",
      "3. Flow Duration\n",
      "4. Flow Bytes/s\n",
      "5. Flow Packets/s\n",
      "6. Tot Fwd Pkts\n",
      "7. Tot Bwd Pkts\n",
      "8. Total Length of Fwd Packet\n",
      "9. Total Length of Bwd Packet\n",
      "10. Fwd Packet Length Min\n",
      "11. Fwd Packet Length Max\n",
      "12. Fwd Packet Length Mean\n",
      "13. Fwd Packet Length Std\n",
      "14. Bwd Packet Length Min\n",
      "15. Bwd Packet Length Max\n",
      "16. Bwd Packet Length Mean\n",
      "17. Bwd Packet Length Std\n",
      "18. Flow IAT Mean\n",
      "19. Flow IAT Min\n",
      "20. Flow IAT Max\n",
      "21. Flow IAT Stddev\n",
      "22. Fwd IAT Min\n",
      "23. Fwd IAT Max\n",
      "24. Fwd IAT Mean\n",
      "25. Fwd IAT Std\n",
      "26. Fwd IAT Tot\n",
      "27. Bwd IAT Min\n",
      "28. Bwd IAT Max\n",
      "29. Bwd IAT Mean\n",
      "30. Bwd IAT Std\n",
      "31. Bwd IAT Tot\n",
      "32. Fwd PSH flags\n",
      "33. Bwd PSH flags\n",
      "34. Fwd URG flags\n",
      "35. Bwd URG flags\n",
      "36. Fwd Header Length\n",
      "37. Bwd Header Length\n",
      "38. Fwd Packets/s\n",
      "39. Bwd Packets/s\n",
      "40. Packet Length Min\n",
      "41. Packet Length Max\n",
      "42. Packet Length Mean\n",
      "43. Packet Length Std\n",
      "44. Packet Length Variance\n",
      "45. FIN Flag Cnt\n",
      "46. SYN Flag Cnt\n",
      "47. RST Flag Cnt\n",
      "48. PSH Flag Cnt\n",
      "49. ACK Flag Cnt\n",
      "50. URG Flag Cnt\n",
      "51. CWR Flag Cnt\n",
      "52. ECE Flag Cnt\n",
      "53. Down/Up Ratio\n",
      "54. Average Packet Size\n",
      "55. Fwd Segment Size Avg\n",
      "56. Bwd Segment Size Avg\n",
      "57. Fwd Bytes/Bulk Avg\n",
      "58. Fwd Packet/Bulk Avg\n",
      "59. Fwd Bulk Rate Avg\n",
      "60. Bwd Bytes/Bulk Avg\n",
      "61. Bwd Packet/Bulk Avg\n",
      "62. Bwd Bulk Rate Avg\n",
      "63. Subflow Fwd Packets\n",
      "64. Subflow Fwd Bytes\n",
      "65. Subflow Bwd Packets\n",
      "66. Subflow Bwd Bytes\n",
      "67. FWD Init Win Bytes\n",
      "68. Bwd Init Win Bytes\n",
      "69. Fwd Act Data Pkts\n",
      "70. Fwd Seg Size Min\n",
      "71. Active Min\n",
      "72. Active Mean\n",
      "73. Active Max\n",
      "74. Active Std\n",
      "75. Idle Min\n",
      "76. Idle Mean\n",
      "77. Idle Max\n",
      "78. Idle Std\n",
      "79. L3/L4 Protocol\n",
      "80. Int/Ext Dst IP\n",
      "81. Service\n",
      "\n",
      "Total features: 81\n"
     ]
    }
   ],
   "execution_count": 51
  },
  {
   "metadata": {
    "ExecuteTime": {
     "end_time": "2025-01-22T13:31:03.050090Z",
     "start_time": "2025-01-22T13:31:02.201448Z"
    }
   },
   "cell_type": "code",
   "source": [
    "    # Initialize DataSplitter\n",
    "splitter = DataSplitter()\n",
    "splitter.set_data(Processor.data, Processor.y)\n",
    "splitter.random_split(test_size=0.2)"
   ],
   "id": "21cf8979f2ad7544",
   "outputs": [
    {
     "name": "stdout",
     "output_type": "stream",
     "text": [
      "Data set successfully:\n",
      "- Features: (1744473, 81)\n",
      "- Target: (1744473,)\n",
      "Random split completed:\n",
      "- Train: 1395578\n",
      "- Test: 348895\n"
     ]
    }
   ],
   "execution_count": 52
  },
  {
   "metadata": {
    "ExecuteTime": {
     "end_time": "2025-01-22T13:31:03.067049Z",
     "start_time": "2025-01-22T13:31:03.065888Z"
    }
   },
   "cell_type": "code",
   "source": "",
   "id": "a3698547c10e111e",
   "outputs": [],
   "execution_count": null
  },
  {
   "metadata": {
    "ExecuteTime": {
     "end_time": "2025-01-22T13:31:03.084412Z",
     "start_time": "2025-01-22T13:31:03.083255Z"
    }
   },
   "cell_type": "code",
   "source": "",
   "id": "955477bfbaa0f533",
   "outputs": [],
   "execution_count": null
  },
  {
   "metadata": {
    "ExecuteTime": {
     "end_time": "2025-01-22T13:31:03.132858Z",
     "start_time": "2025-01-22T13:31:03.099582Z"
    }
   },
   "cell_type": "code",
   "source": [
    "X_train, y_train = splitter.splits[\"train\"]\n",
    "X_test, y_test = splitter.splits[\"test\"]"
   ],
   "id": "8400f525fd1d8268",
   "outputs": [],
   "execution_count": 53
  },
  {
   "metadata": {
    "ExecuteTime": {
     "end_time": "2025-01-22T13:31:03.149255Z",
     "start_time": "2025-01-22T13:31:03.147759Z"
    }
   },
   "cell_type": "code",
   "source": [
    "print(X_train.shape)\n",
    "print(y_train.shape)\n"
   ],
   "id": "3321706978f9e9ce",
   "outputs": [
    {
     "name": "stdout",
     "output_type": "stream",
     "text": [
      "(1395578, 81)\n",
      "(1395578,)\n"
     ]
    }
   ],
   "execution_count": 54
  },
  {
   "metadata": {
    "ExecuteTime": {
     "end_time": "2025-01-22T13:31:03.166451Z",
     "start_time": "2025-01-22T13:31:03.165133Z"
    }
   },
   "cell_type": "code",
   "source": "",
   "id": "c34af410beb128d5",
   "outputs": [],
   "execution_count": null
  },
  {
   "metadata": {
    "ExecuteTime": {
     "end_time": "2025-01-22T13:31:03.186603Z",
     "start_time": "2025-01-22T13:31:03.185229Z"
    }
   },
   "cell_type": "code",
   "source": "",
   "id": "583e087a12121a89",
   "outputs": [],
   "execution_count": null
  },
  {
   "metadata": {},
   "cell_type": "markdown",
   "source": "## Importance Analysis",
   "id": "cc1b452f3c594929"
  },
  {
   "metadata": {
    "ExecuteTime": {
     "end_time": "2025-01-22T13:31:03.205505Z",
     "start_time": "2025-01-22T13:31:03.203229Z"
    }
   },
   "cell_type": "code",
   "source": [
    "from sklearn.ensemble import RandomForestClassifier\n",
    "import pandas as pd\n"
   ],
   "id": "3ff84f762c750252",
   "outputs": [],
   "execution_count": 55
  },
  {
   "metadata": {
    "ExecuteTime": {
     "end_time": "2025-01-22T13:35:35.476318Z",
     "start_time": "2025-01-22T13:31:03.220591Z"
    }
   },
   "cell_type": "code",
   "source": [
    "\n",
    "\n",
    "model = RandomForestClassifier()\n",
    "model.fit(X_train, y_train)\n",
    "feature_importances = pd.DataFrame({'Feature': X_train.columns, 'Importance': model.feature_importances_})\n",
    "print(feature_importances.sort_values(by='Importance', ascending=False))\n"
   ],
   "id": "c91bd8a38ba01f03",
   "outputs": [
    {
     "name": "stdout",
     "output_type": "stream",
     "text": [
      "                  Feature  Importance\n",
      "66     FWD Init Win Bytes    0.133152\n",
      "12  Fwd Packet Length Std    0.089626\n",
      "10  Fwd Packet Length Max    0.083194\n",
      "47           PSH Flag Cnt    0.078602\n",
      "44           FIN Flag Cnt    0.062954\n",
      "..                    ...         ...\n",
      "34          Bwd URG flags    0.000000\n",
      "32          Bwd PSH flags    0.000000\n",
      "58      Fwd Bulk Rate Avg    0.000000\n",
      "57    Fwd Packet/Bulk Avg    0.000000\n",
      "49           URG Flag Cnt    0.000000\n",
      "\n",
      "[81 rows x 2 columns]\n"
     ]
    }
   ],
   "execution_count": 56
  },
  {
   "metadata": {
    "ExecuteTime": {
     "end_time": "2025-01-22T13:35:35.673574Z",
     "start_time": "2025-01-22T13:35:35.672069Z"
    }
   },
   "cell_type": "code",
   "source": "",
   "id": "c5c164d47a8af48b",
   "outputs": [],
   "execution_count": null
  },
  {
   "metadata": {
    "ExecuteTime": {
     "end_time": "2025-01-22T13:35:35.793503Z",
     "start_time": "2025-01-22T13:35:35.790585Z"
    }
   },
   "cell_type": "code",
   "source": "",
   "id": "45e59f2029d9ba41",
   "outputs": [],
   "execution_count": null
  },
  {
   "metadata": {
    "ExecuteTime": {
     "end_time": "2025-01-22T13:35:36.043233Z",
     "start_time": "2025-01-22T13:35:36.042163Z"
    }
   },
   "cell_type": "code",
   "source": "",
   "id": "bcbcf6947aedc056",
   "outputs": [],
   "execution_count": null
  },
  {
   "metadata": {
    "ExecuteTime": {
     "end_time": "2025-01-22T13:35:36.061855Z",
     "start_time": "2025-01-22T13:35:36.060807Z"
    }
   },
   "cell_type": "code",
   "source": "",
   "id": "d12c0eeee4a0c58",
   "outputs": [],
   "execution_count": null
  },
  {
   "metadata": {},
   "cell_type": "markdown",
   "source": "## Permutation Importance",
   "id": "7b4d5ba22e87cb0d"
  },
  {
   "metadata": {
    "ExecuteTime": {
     "end_time": "2025-01-22T13:43:02.930749Z",
     "start_time": "2025-01-22T13:35:36.109629Z"
    }
   },
   "cell_type": "code",
   "source": [
    "from sklearn.inspection import permutation_importance\n",
    "\n",
    "perm_importance = permutation_importance(model, X_test, y_test)\n",
    "sorted_idx = perm_importance.importances_mean.argsort()\n",
    "print(X_test.columns[sorted_idx])\n",
    "# the print of this cell show the features in order of their impact on the model performance\n"
   ],
   "id": "56ff087b681466d",
   "outputs": [
    {
     "name": "stdout",
     "output_type": "stream",
     "text": [
      "Index(['Packet Length Max', 'Flow IAT Mean', 'Fwd IAT Tot',\n",
      "       'Fwd Segment Size Avg', 'Flow Packets/s', 'Fwd IAT Mean',\n",
      "       'Bwd Packet Length Max', 'Flow Duration', 'Average Packet Size',\n",
      "       'Bwd IAT Mean', 'Subflow Fwd Packets', 'Bwd Bytes/Bulk Avg',\n",
      "       'Packet Length Variance', 'Fwd PSH flags', 'Fwd IAT Std', 'Bwd IAT Min',\n",
      "       'PSH Flag Cnt', 'Flow Bytes/s', 'Fwd Packet Length Max',\n",
      "       'Flow IAT Stddev', 'Bwd Segment Size Avg', 'Fwd IAT Min',\n",
      "       'Flow IAT Min', 'Fwd Packet Length Min', 'Fwd Packets/s',\n",
      "       'Bwd Packets/s', 'ACK Flag Cnt', 'ECE Flag Cnt', 'SYN Flag Cnt',\n",
      "       'Subflow Fwd Bytes', 'CWR Flag Cnt', 'Subflow Bwd Bytes',\n",
      "       'Fwd Bytes/Bulk Avg', 'Fwd Packet/Bulk Avg', 'Active Min',\n",
      "       'Fwd Bulk Rate Avg', 'Active Mean', 'URG Flag Cnt', 'Bwd PSH flags',\n",
      "       'Active Std', 'Idle Std', 'Bwd URG flags', 'Fwd URG flags', 'Idle Max',\n",
      "       'Idle Mean', 'Idle Min', 'Active Max', 'Tot Fwd Pkts', 'Bwd IAT Tot',\n",
      "       'Packet Length Std', 'Bwd IAT Std', 'Bwd Packet Length Min',\n",
      "       'Fwd Packet Length Mean', 'Packet Length Min', 'Packet Length Mean',\n",
      "       'Bwd Packet Length Mean', 'Bwd IAT Max', 'Flow IAT Max',\n",
      "       'Bwd Packet/Bulk Avg', 'RST Flag Cnt', 'Fwd Header Length',\n",
      "       'Subflow Bwd Packets', 'Fwd IAT Max', 'L3/L4 Protocol',\n",
      "       'Bwd Bulk Rate Avg', 'Service', 'Protocol', 'FIN Flag Cnt',\n",
      "       'Bwd Packet Length Std', 'Total Length of Fwd Packet',\n",
      "       'Total Length of Bwd Packet', 'Fwd Seg Size Min', 'Fwd Act Data Pkts',\n",
      "       'Int/Ext Dst IP', 'DstPort', 'Tot Bwd Pkts', 'Down/Up Ratio',\n",
      "       'Bwd Header Length', 'Fwd Packet Length Std', 'FWD Init Win Bytes',\n",
      "       'Bwd Init Win Bytes'],\n",
      "      dtype='object')\n"
     ]
    }
   ],
   "execution_count": 57
  },
  {
   "metadata": {
    "ExecuteTime": {
     "end_time": "2025-01-22T13:43:02.955612Z",
     "start_time": "2025-01-22T13:43:02.953229Z"
    }
   },
   "cell_type": "code",
   "source": [
    "# since we have the features with their importances / let's focus on the first 5 features :\n",
    "# 'Flow Duration', 'Bwd Packets/s', 'Flow Packets/s', 'Fwd Packets/s', 'Fwd Segment Size Avg', 'Packet Length Mean', 'Packet Length Max'\n",
    "# we need to make sure that these features are not derived from the target\n",
    "# I would like now to be able to study the correlation between the top features and the target\n"
   ],
   "id": "6393dae3af3bb11d",
   "outputs": [],
   "execution_count": 58
  },
  {
   "metadata": {
    "ExecuteTime": {
     "end_time": "2025-01-22T13:43:12.313296Z",
     "start_time": "2025-01-22T13:43:03.029263Z"
    }
   },
   "cell_type": "code",
   "source": [
    "# I need to check for multicolinearity\n",
    "# Compute correlation matrix\n",
    "correlation_matrix = X_train.corr()\n",
    "\n",
    "# Highlight features with high correlation\n",
    "high_corr_pairs = correlation_matrix.unstack().sort_values(ascending=False)\n",
    "corr_list = high_corr_pairs[(high_corr_pairs > 0.99) & (high_corr_pairs < 1)]\n",
    "print(corr_list)\n"
   ],
   "id": "8b5c7a140b818320",
   "outputs": [
    {
     "name": "stdout",
     "output_type": "stream",
     "text": [
      "Fwd Segment Size Avg    Fwd Packet Length Mean    1.000000\n",
      "Fwd Packet Length Mean  Fwd Segment Size Avg      1.000000\n",
      "Flow Duration           Fwd IAT Tot               0.999569\n",
      "Fwd IAT Tot             Flow Duration             0.999569\n",
      "CWR Flag Cnt            ECE Flag Cnt              0.999543\n",
      "ECE Flag Cnt            CWR Flag Cnt              0.999543\n",
      "Idle Min                Idle Mean                 0.995827\n",
      "Idle Mean               Idle Min                  0.995827\n",
      "                        Idle Max                  0.995802\n",
      "Idle Max                Idle Mean                 0.995802\n",
      "Flow IAT Max            Idle Max                  0.995573\n",
      "Idle Max                Flow IAT Max              0.995573\n",
      "Flow IAT Max            Fwd IAT Max               0.992883\n",
      "Fwd IAT Max             Flow IAT Max              0.992883\n",
      "Packet Length Max       Bwd Packet Length Max     0.991630\n",
      "Bwd Packet Length Max   Packet Length Max         0.991630\n",
      "Flow IAT Max            Idle Mean                 0.991400\n",
      "Idle Mean               Flow IAT Max              0.991400\n",
      "FWD Init Win Bytes      SYN Flag Cnt              0.990926\n",
      "SYN Flag Cnt            FWD Init Win Bytes        0.990926\n",
      "dtype: float64\n"
     ]
    }
   ],
   "execution_count": 59
  },
  {
   "metadata": {
    "ExecuteTime": {
     "end_time": "2025-01-22T13:43:12.379476Z",
     "start_time": "2025-01-22T13:43:12.377693Z"
    }
   },
   "cell_type": "code",
   "source": [
    "redundant_features = [\n",
    "    'Fwd Packet Length Mean', 'Fwd IAT Tot', 'ECE Flag Cnt', 'Idle Min',\n",
    "    'Idle Max', 'Fwd IAT Max', 'Packet Length Max', 'SYN Flag Cnt'\n",
    "]\n",
    "\n"
   ],
   "id": "cf411b93c368393d",
   "outputs": [],
   "execution_count": 60
  },
  {
   "metadata": {
    "ExecuteTime": {
     "end_time": "2025-01-22T12:40:44.977101Z",
     "start_time": "2025-01-22T12:40:44.743392Z"
    }
   },
   "cell_type": "code",
   "source": [
    "X_train_reduced = X_train.drop(columns=redundant_features)\n",
    "X_test_reduced = X_test.drop(columns=redundant_features)"
   ],
   "id": "479f8faacc70f91a",
   "outputs": [],
   "execution_count": 26
  },
  {
   "metadata": {
    "ExecuteTime": {
     "end_time": "2025-01-22T12:45:15.352913Z",
     "start_time": "2025-01-22T12:41:22.974069Z"
    }
   },
   "cell_type": "code",
   "source": [
    "model = RandomForestClassifier()\n",
    "model.fit(X_train_reduced, y_train)\n"
   ],
   "id": "656bc0da6c4528d8",
   "outputs": [
    {
     "data": {
      "text/plain": [
       "RandomForestClassifier()"
      ],
      "text/html": [
       "<style>#sk-container-id-1 {\n",
       "  /* Definition of color scheme common for light and dark mode */\n",
       "  --sklearn-color-text: black;\n",
       "  --sklearn-color-line: gray;\n",
       "  /* Definition of color scheme for unfitted estimators */\n",
       "  --sklearn-color-unfitted-level-0: #fff5e6;\n",
       "  --sklearn-color-unfitted-level-1: #f6e4d2;\n",
       "  --sklearn-color-unfitted-level-2: #ffe0b3;\n",
       "  --sklearn-color-unfitted-level-3: chocolate;\n",
       "  /* Definition of color scheme for fitted estimators */\n",
       "  --sklearn-color-fitted-level-0: #f0f8ff;\n",
       "  --sklearn-color-fitted-level-1: #d4ebff;\n",
       "  --sklearn-color-fitted-level-2: #b3dbfd;\n",
       "  --sklearn-color-fitted-level-3: cornflowerblue;\n",
       "\n",
       "  /* Specific color for light theme */\n",
       "  --sklearn-color-text-on-default-background: var(--sg-text-color, var(--theme-code-foreground, var(--jp-content-font-color1, black)));\n",
       "  --sklearn-color-background: var(--sg-background-color, var(--theme-background, var(--jp-layout-color0, white)));\n",
       "  --sklearn-color-border-box: var(--sg-text-color, var(--theme-code-foreground, var(--jp-content-font-color1, black)));\n",
       "  --sklearn-color-icon: #696969;\n",
       "\n",
       "  @media (prefers-color-scheme: dark) {\n",
       "    /* Redefinition of color scheme for dark theme */\n",
       "    --sklearn-color-text-on-default-background: var(--sg-text-color, var(--theme-code-foreground, var(--jp-content-font-color1, white)));\n",
       "    --sklearn-color-background: var(--sg-background-color, var(--theme-background, var(--jp-layout-color0, #111)));\n",
       "    --sklearn-color-border-box: var(--sg-text-color, var(--theme-code-foreground, var(--jp-content-font-color1, white)));\n",
       "    --sklearn-color-icon: #878787;\n",
       "  }\n",
       "}\n",
       "\n",
       "#sk-container-id-1 {\n",
       "  color: var(--sklearn-color-text);\n",
       "}\n",
       "\n",
       "#sk-container-id-1 pre {\n",
       "  padding: 0;\n",
       "}\n",
       "\n",
       "#sk-container-id-1 input.sk-hidden--visually {\n",
       "  border: 0;\n",
       "  clip: rect(1px 1px 1px 1px);\n",
       "  clip: rect(1px, 1px, 1px, 1px);\n",
       "  height: 1px;\n",
       "  margin: -1px;\n",
       "  overflow: hidden;\n",
       "  padding: 0;\n",
       "  position: absolute;\n",
       "  width: 1px;\n",
       "}\n",
       "\n",
       "#sk-container-id-1 div.sk-dashed-wrapped {\n",
       "  border: 1px dashed var(--sklearn-color-line);\n",
       "  margin: 0 0.4em 0.5em 0.4em;\n",
       "  box-sizing: border-box;\n",
       "  padding-bottom: 0.4em;\n",
       "  background-color: var(--sklearn-color-background);\n",
       "}\n",
       "\n",
       "#sk-container-id-1 div.sk-container {\n",
       "  /* jupyter's `normalize.less` sets `[hidden] { display: none; }`\n",
       "     but bootstrap.min.css set `[hidden] { display: none !important; }`\n",
       "     so we also need the `!important` here to be able to override the\n",
       "     default hidden behavior on the sphinx rendered scikit-learn.org.\n",
       "     See: https://github.com/scikit-learn/scikit-learn/issues/21755 */\n",
       "  display: inline-block !important;\n",
       "  position: relative;\n",
       "}\n",
       "\n",
       "#sk-container-id-1 div.sk-text-repr-fallback {\n",
       "  display: none;\n",
       "}\n",
       "\n",
       "div.sk-parallel-item,\n",
       "div.sk-serial,\n",
       "div.sk-item {\n",
       "  /* draw centered vertical line to link estimators */\n",
       "  background-image: linear-gradient(var(--sklearn-color-text-on-default-background), var(--sklearn-color-text-on-default-background));\n",
       "  background-size: 2px 100%;\n",
       "  background-repeat: no-repeat;\n",
       "  background-position: center center;\n",
       "}\n",
       "\n",
       "/* Parallel-specific style estimator block */\n",
       "\n",
       "#sk-container-id-1 div.sk-parallel-item::after {\n",
       "  content: \"\";\n",
       "  width: 100%;\n",
       "  border-bottom: 2px solid var(--sklearn-color-text-on-default-background);\n",
       "  flex-grow: 1;\n",
       "}\n",
       "\n",
       "#sk-container-id-1 div.sk-parallel {\n",
       "  display: flex;\n",
       "  align-items: stretch;\n",
       "  justify-content: center;\n",
       "  background-color: var(--sklearn-color-background);\n",
       "  position: relative;\n",
       "}\n",
       "\n",
       "#sk-container-id-1 div.sk-parallel-item {\n",
       "  display: flex;\n",
       "  flex-direction: column;\n",
       "}\n",
       "\n",
       "#sk-container-id-1 div.sk-parallel-item:first-child::after {\n",
       "  align-self: flex-end;\n",
       "  width: 50%;\n",
       "}\n",
       "\n",
       "#sk-container-id-1 div.sk-parallel-item:last-child::after {\n",
       "  align-self: flex-start;\n",
       "  width: 50%;\n",
       "}\n",
       "\n",
       "#sk-container-id-1 div.sk-parallel-item:only-child::after {\n",
       "  width: 0;\n",
       "}\n",
       "\n",
       "/* Serial-specific style estimator block */\n",
       "\n",
       "#sk-container-id-1 div.sk-serial {\n",
       "  display: flex;\n",
       "  flex-direction: column;\n",
       "  align-items: center;\n",
       "  background-color: var(--sklearn-color-background);\n",
       "  padding-right: 1em;\n",
       "  padding-left: 1em;\n",
       "}\n",
       "\n",
       "\n",
       "/* Toggleable style: style used for estimator/Pipeline/ColumnTransformer box that is\n",
       "clickable and can be expanded/collapsed.\n",
       "- Pipeline and ColumnTransformer use this feature and define the default style\n",
       "- Estimators will overwrite some part of the style using the `sk-estimator` class\n",
       "*/\n",
       "\n",
       "/* Pipeline and ColumnTransformer style (default) */\n",
       "\n",
       "#sk-container-id-1 div.sk-toggleable {\n",
       "  /* Default theme specific background. It is overwritten whether we have a\n",
       "  specific estimator or a Pipeline/ColumnTransformer */\n",
       "  background-color: var(--sklearn-color-background);\n",
       "}\n",
       "\n",
       "/* Toggleable label */\n",
       "#sk-container-id-1 label.sk-toggleable__label {\n",
       "  cursor: pointer;\n",
       "  display: block;\n",
       "  width: 100%;\n",
       "  margin-bottom: 0;\n",
       "  padding: 0.5em;\n",
       "  box-sizing: border-box;\n",
       "  text-align: center;\n",
       "}\n",
       "\n",
       "#sk-container-id-1 label.sk-toggleable__label-arrow:before {\n",
       "  /* Arrow on the left of the label */\n",
       "  content: \"▸\";\n",
       "  float: left;\n",
       "  margin-right: 0.25em;\n",
       "  color: var(--sklearn-color-icon);\n",
       "}\n",
       "\n",
       "#sk-container-id-1 label.sk-toggleable__label-arrow:hover:before {\n",
       "  color: var(--sklearn-color-text);\n",
       "}\n",
       "\n",
       "/* Toggleable content - dropdown */\n",
       "\n",
       "#sk-container-id-1 div.sk-toggleable__content {\n",
       "  max-height: 0;\n",
       "  max-width: 0;\n",
       "  overflow: hidden;\n",
       "  text-align: left;\n",
       "  /* unfitted */\n",
       "  background-color: var(--sklearn-color-unfitted-level-0);\n",
       "}\n",
       "\n",
       "#sk-container-id-1 div.sk-toggleable__content.fitted {\n",
       "  /* fitted */\n",
       "  background-color: var(--sklearn-color-fitted-level-0);\n",
       "}\n",
       "\n",
       "#sk-container-id-1 div.sk-toggleable__content pre {\n",
       "  margin: 0.2em;\n",
       "  border-radius: 0.25em;\n",
       "  color: var(--sklearn-color-text);\n",
       "  /* unfitted */\n",
       "  background-color: var(--sklearn-color-unfitted-level-0);\n",
       "}\n",
       "\n",
       "#sk-container-id-1 div.sk-toggleable__content.fitted pre {\n",
       "  /* unfitted */\n",
       "  background-color: var(--sklearn-color-fitted-level-0);\n",
       "}\n",
       "\n",
       "#sk-container-id-1 input.sk-toggleable__control:checked~div.sk-toggleable__content {\n",
       "  /* Expand drop-down */\n",
       "  max-height: 200px;\n",
       "  max-width: 100%;\n",
       "  overflow: auto;\n",
       "}\n",
       "\n",
       "#sk-container-id-1 input.sk-toggleable__control:checked~label.sk-toggleable__label-arrow:before {\n",
       "  content: \"▾\";\n",
       "}\n",
       "\n",
       "/* Pipeline/ColumnTransformer-specific style */\n",
       "\n",
       "#sk-container-id-1 div.sk-label input.sk-toggleable__control:checked~label.sk-toggleable__label {\n",
       "  color: var(--sklearn-color-text);\n",
       "  background-color: var(--sklearn-color-unfitted-level-2);\n",
       "}\n",
       "\n",
       "#sk-container-id-1 div.sk-label.fitted input.sk-toggleable__control:checked~label.sk-toggleable__label {\n",
       "  background-color: var(--sklearn-color-fitted-level-2);\n",
       "}\n",
       "\n",
       "/* Estimator-specific style */\n",
       "\n",
       "/* Colorize estimator box */\n",
       "#sk-container-id-1 div.sk-estimator input.sk-toggleable__control:checked~label.sk-toggleable__label {\n",
       "  /* unfitted */\n",
       "  background-color: var(--sklearn-color-unfitted-level-2);\n",
       "}\n",
       "\n",
       "#sk-container-id-1 div.sk-estimator.fitted input.sk-toggleable__control:checked~label.sk-toggleable__label {\n",
       "  /* fitted */\n",
       "  background-color: var(--sklearn-color-fitted-level-2);\n",
       "}\n",
       "\n",
       "#sk-container-id-1 div.sk-label label.sk-toggleable__label,\n",
       "#sk-container-id-1 div.sk-label label {\n",
       "  /* The background is the default theme color */\n",
       "  color: var(--sklearn-color-text-on-default-background);\n",
       "}\n",
       "\n",
       "/* On hover, darken the color of the background */\n",
       "#sk-container-id-1 div.sk-label:hover label.sk-toggleable__label {\n",
       "  color: var(--sklearn-color-text);\n",
       "  background-color: var(--sklearn-color-unfitted-level-2);\n",
       "}\n",
       "\n",
       "/* Label box, darken color on hover, fitted */\n",
       "#sk-container-id-1 div.sk-label.fitted:hover label.sk-toggleable__label.fitted {\n",
       "  color: var(--sklearn-color-text);\n",
       "  background-color: var(--sklearn-color-fitted-level-2);\n",
       "}\n",
       "\n",
       "/* Estimator label */\n",
       "\n",
       "#sk-container-id-1 div.sk-label label {\n",
       "  font-family: monospace;\n",
       "  font-weight: bold;\n",
       "  display: inline-block;\n",
       "  line-height: 1.2em;\n",
       "}\n",
       "\n",
       "#sk-container-id-1 div.sk-label-container {\n",
       "  text-align: center;\n",
       "}\n",
       "\n",
       "/* Estimator-specific */\n",
       "#sk-container-id-1 div.sk-estimator {\n",
       "  font-family: monospace;\n",
       "  border: 1px dotted var(--sklearn-color-border-box);\n",
       "  border-radius: 0.25em;\n",
       "  box-sizing: border-box;\n",
       "  margin-bottom: 0.5em;\n",
       "  /* unfitted */\n",
       "  background-color: var(--sklearn-color-unfitted-level-0);\n",
       "}\n",
       "\n",
       "#sk-container-id-1 div.sk-estimator.fitted {\n",
       "  /* fitted */\n",
       "  background-color: var(--sklearn-color-fitted-level-0);\n",
       "}\n",
       "\n",
       "/* on hover */\n",
       "#sk-container-id-1 div.sk-estimator:hover {\n",
       "  /* unfitted */\n",
       "  background-color: var(--sklearn-color-unfitted-level-2);\n",
       "}\n",
       "\n",
       "#sk-container-id-1 div.sk-estimator.fitted:hover {\n",
       "  /* fitted */\n",
       "  background-color: var(--sklearn-color-fitted-level-2);\n",
       "}\n",
       "\n",
       "/* Specification for estimator info (e.g. \"i\" and \"?\") */\n",
       "\n",
       "/* Common style for \"i\" and \"?\" */\n",
       "\n",
       ".sk-estimator-doc-link,\n",
       "a:link.sk-estimator-doc-link,\n",
       "a:visited.sk-estimator-doc-link {\n",
       "  float: right;\n",
       "  font-size: smaller;\n",
       "  line-height: 1em;\n",
       "  font-family: monospace;\n",
       "  background-color: var(--sklearn-color-background);\n",
       "  border-radius: 1em;\n",
       "  height: 1em;\n",
       "  width: 1em;\n",
       "  text-decoration: none !important;\n",
       "  margin-left: 1ex;\n",
       "  /* unfitted */\n",
       "  border: var(--sklearn-color-unfitted-level-1) 1pt solid;\n",
       "  color: var(--sklearn-color-unfitted-level-1);\n",
       "}\n",
       "\n",
       ".sk-estimator-doc-link.fitted,\n",
       "a:link.sk-estimator-doc-link.fitted,\n",
       "a:visited.sk-estimator-doc-link.fitted {\n",
       "  /* fitted */\n",
       "  border: var(--sklearn-color-fitted-level-1) 1pt solid;\n",
       "  color: var(--sklearn-color-fitted-level-1);\n",
       "}\n",
       "\n",
       "/* On hover */\n",
       "div.sk-estimator:hover .sk-estimator-doc-link:hover,\n",
       ".sk-estimator-doc-link:hover,\n",
       "div.sk-label-container:hover .sk-estimator-doc-link:hover,\n",
       ".sk-estimator-doc-link:hover {\n",
       "  /* unfitted */\n",
       "  background-color: var(--sklearn-color-unfitted-level-3);\n",
       "  color: var(--sklearn-color-background);\n",
       "  text-decoration: none;\n",
       "}\n",
       "\n",
       "div.sk-estimator.fitted:hover .sk-estimator-doc-link.fitted:hover,\n",
       ".sk-estimator-doc-link.fitted:hover,\n",
       "div.sk-label-container:hover .sk-estimator-doc-link.fitted:hover,\n",
       ".sk-estimator-doc-link.fitted:hover {\n",
       "  /* fitted */\n",
       "  background-color: var(--sklearn-color-fitted-level-3);\n",
       "  color: var(--sklearn-color-background);\n",
       "  text-decoration: none;\n",
       "}\n",
       "\n",
       "/* Span, style for the box shown on hovering the info icon */\n",
       ".sk-estimator-doc-link span {\n",
       "  display: none;\n",
       "  z-index: 9999;\n",
       "  position: relative;\n",
       "  font-weight: normal;\n",
       "  right: .2ex;\n",
       "  padding: .5ex;\n",
       "  margin: .5ex;\n",
       "  width: min-content;\n",
       "  min-width: 20ex;\n",
       "  max-width: 50ex;\n",
       "  color: var(--sklearn-color-text);\n",
       "  box-shadow: 2pt 2pt 4pt #999;\n",
       "  /* unfitted */\n",
       "  background: var(--sklearn-color-unfitted-level-0);\n",
       "  border: .5pt solid var(--sklearn-color-unfitted-level-3);\n",
       "}\n",
       "\n",
       ".sk-estimator-doc-link.fitted span {\n",
       "  /* fitted */\n",
       "  background: var(--sklearn-color-fitted-level-0);\n",
       "  border: var(--sklearn-color-fitted-level-3);\n",
       "}\n",
       "\n",
       ".sk-estimator-doc-link:hover span {\n",
       "  display: block;\n",
       "}\n",
       "\n",
       "/* \"?\"-specific style due to the `<a>` HTML tag */\n",
       "\n",
       "#sk-container-id-1 a.estimator_doc_link {\n",
       "  float: right;\n",
       "  font-size: 1rem;\n",
       "  line-height: 1em;\n",
       "  font-family: monospace;\n",
       "  background-color: var(--sklearn-color-background);\n",
       "  border-radius: 1rem;\n",
       "  height: 1rem;\n",
       "  width: 1rem;\n",
       "  text-decoration: none;\n",
       "  /* unfitted */\n",
       "  color: var(--sklearn-color-unfitted-level-1);\n",
       "  border: var(--sklearn-color-unfitted-level-1) 1pt solid;\n",
       "}\n",
       "\n",
       "#sk-container-id-1 a.estimator_doc_link.fitted {\n",
       "  /* fitted */\n",
       "  border: var(--sklearn-color-fitted-level-1) 1pt solid;\n",
       "  color: var(--sklearn-color-fitted-level-1);\n",
       "}\n",
       "\n",
       "/* On hover */\n",
       "#sk-container-id-1 a.estimator_doc_link:hover {\n",
       "  /* unfitted */\n",
       "  background-color: var(--sklearn-color-unfitted-level-3);\n",
       "  color: var(--sklearn-color-background);\n",
       "  text-decoration: none;\n",
       "}\n",
       "\n",
       "#sk-container-id-1 a.estimator_doc_link.fitted:hover {\n",
       "  /* fitted */\n",
       "  background-color: var(--sklearn-color-fitted-level-3);\n",
       "}\n",
       "</style><div id=\"sk-container-id-1\" class=\"sk-top-container\"><div class=\"sk-text-repr-fallback\"><pre>RandomForestClassifier()</pre><b>In a Jupyter environment, please rerun this cell to show the HTML representation or trust the notebook. <br />On GitHub, the HTML representation is unable to render, please try loading this page with nbviewer.org.</b></div><div class=\"sk-container\" hidden><div class=\"sk-item\"><div class=\"sk-estimator fitted sk-toggleable\"><input class=\"sk-toggleable__control sk-hidden--visually\" id=\"sk-estimator-id-1\" type=\"checkbox\" checked><label for=\"sk-estimator-id-1\" class=\"sk-toggleable__label fitted sk-toggleable__label-arrow fitted\">&nbsp;&nbsp;RandomForestClassifier<a class=\"sk-estimator-doc-link fitted\" rel=\"noreferrer\" target=\"_blank\" href=\"https://scikit-learn.org/1.5/modules/generated/sklearn.ensemble.RandomForestClassifier.html\">?<span>Documentation for RandomForestClassifier</span></a><span class=\"sk-estimator-doc-link fitted\">i<span>Fitted</span></span></label><div class=\"sk-toggleable__content fitted\"><pre>RandomForestClassifier()</pre></div> </div></div></div></div>"
      ]
     },
     "execution_count": 27,
     "metadata": {},
     "output_type": "execute_result"
    }
   ],
   "execution_count": 27
  },
  {
   "metadata": {
    "ExecuteTime": {
     "end_time": "2025-01-22T12:45:16.793939Z",
     "start_time": "2025-01-22T12:45:15.503294Z"
    }
   },
   "cell_type": "code",
   "source": "model.score(X_test_reduced, y_test)",
   "id": "c81e823bb944060a",
   "outputs": [
    {
     "data": {
      "text/plain": [
       "0.9998306228280907"
      ]
     },
     "execution_count": 28,
     "metadata": {},
     "output_type": "execute_result"
    }
   ],
   "execution_count": 28
  },
  {
   "metadata": {
    "ExecuteTime": {
     "end_time": "2025-01-22T12:46:14.788622Z",
     "start_time": "2025-01-22T12:46:14.786206Z"
    }
   },
   "cell_type": "code",
   "source": [
    "import numpy as np\n",
    "import matplotlib.pyplot as plt\n",
    "from sklearn.metrics import roc_curve, auc"
   ],
   "id": "3f2477cd5b812d14",
   "outputs": [],
   "execution_count": 29
  },
  {
   "metadata": {
    "ExecuteTime": {
     "end_time": "2025-01-22T12:46:42.090633Z",
     "start_time": "2025-01-22T12:46:40.969404Z"
    }
   },
   "cell_type": "code",
   "source": "y_score = model.predict_proba(X_test_reduced)[:, 1]",
   "id": "23200cf99ba05e9e",
   "outputs": [],
   "execution_count": 31
  },
  {
   "metadata": {
    "ExecuteTime": {
     "end_time": "2025-01-22T12:46:49.677665Z",
     "start_time": "2025-01-22T12:46:49.656348Z"
    }
   },
   "cell_type": "code",
   "source": [
    "fpr, tpr, _ = roc_curve(y_test, y_score)\n",
    "roc_auc = auc(fpr, tpr)"
   ],
   "id": "1f16aa9c1f001e03",
   "outputs": [],
   "execution_count": 32
  },
  {
   "metadata": {
    "ExecuteTime": {
     "end_time": "2025-01-22T12:46:56.752370Z",
     "start_time": "2025-01-22T12:46:56.622610Z"
    }
   },
   "cell_type": "code",
   "source": [
    "plt.figure()\n",
    "plt.plot(fpr, tpr, color='darkorange', lw=2, label=f'ROC curve (area = {roc_auc:.2f})')\n",
    "plt.plot([0, 1], [0, 1], color='navy', lw=2, linestyle='--')\n",
    "plt.xlim([0.0, 1.0])\n",
    "plt.ylim([0.0, 1.05])\n",
    "plt.xlabel('False Positive Rate')\n",
    "plt.ylabel('True Positive Rate')\n",
    "plt.title('Receiver Operating Characteristic')\n",
    "plt.legend(loc='lower right')\n",
    "plt.show()"
   ],
   "id": "110934f21463dfe8",
   "outputs": [
    {
     "data": {
      "text/plain": [
       "<Figure size 640x480 with 1 Axes>"
      ],
      "image/png": "[encoded data removed]"
     },
     "metadata": {},
     "output_type": "display_data"
    }
   ],
   "execution_count": 33
  },
  {
   "metadata": {
    "ExecuteTime": {
     "end_time": "2025-01-22T12:50:28.868564Z",
     "start_time": "2025-01-22T12:50:27.798803Z"
    }
   },
   "cell_type": "code",
   "source": [
    "from sklearn.metrics import confusion_matrix\n",
    "print(confusion_matrix(y_test, model.predict(X_test_reduced)))\n"
   ],
   "id": "5cc6fd14cc08ede7",
   "outputs": [
    {
     "name": "stdout",
     "output_type": "stream",
     "text": [
      "[[181791      1]\n",
      " [    59 172388]]\n"
     ]
    }
   ],
   "execution_count": 37
  },
  {
   "metadata": {
    "ExecuteTime": {
     "end_time": "2025-01-22T12:48:51.215741Z",
     "start_time": "2025-01-22T12:48:51.205081Z"
    }
   },
   "cell_type": "code",
   "source": [
    "print(\"Class distribution in training set:\", np.bincount(y_train))\n",
    "print(\"Class distribution in test set:\", np.bincount(y_test))"
   ],
   "id": "54deeba4bff1923d",
   "outputs": [
    {
     "name": "stdout",
     "output_type": "stream",
     "text": [
      "Class distribution in training set: [727456 689499]\n",
      "Class distribution in test set: [181792 172447]\n"
     ]
    }
   ],
   "execution_count": 35
  },
  {
   "metadata": {
    "ExecuteTime": {
     "end_time": "2025-01-22T12:49:56.273412Z",
     "start_time": "2025-01-22T12:49:52.426214Z"
    }
   },
   "cell_type": "code",
   "source": "splitter.check_data_leakage(X_train_reduced, X_test_reduced)",
   "id": "e026cae43ebaa79f",
   "outputs": [
    {
     "data": {
      "text/plain": [
       "{'overlap_in_features': 0}"
      ]
     },
     "execution_count": 36,
     "metadata": {},
     "output_type": "execute_result"
    }
   ],
   "execution_count": 36
  },
  {
   "metadata": {
    "ExecuteTime": {
     "end_time": "2025-01-22T13:08:10.338013Z",
     "start_time": "2025-01-22T12:52:50.368837Z"
    }
   },
   "cell_type": "code",
   "source": [
    "from sklearn.model_selection import cross_val_score\n",
    "scores = cross_val_score(model, X_train_reduced, y_train, cv=5, scoring='roc_auc')\n",
    "print(\"Cross-validated AUC scores:\", scores)\n",
    "print(\"Mean AUC:\", np.mean(scores))"
   ],
   "id": "79ea39dc49722ae8",
   "outputs": [
    {
     "name": "stdout",
     "output_type": "stream",
     "text": [
      "Cross-validated AUC scores: [0.99999616 0.99999986 0.99999991 0.99999978 0.9999998 ]\n",
      "Mean AUC: 0.99999910368773\n"
     ]
    }
   ],
   "execution_count": 38
  },
  {
   "metadata": {
    "ExecuteTime": {
     "end_time": "2025-01-22T13:51:41.592998Z",
     "start_time": "2025-01-22T13:51:41.587676Z"
    }
   },
   "cell_type": "code",
   "source": "X_train_reduced.columns",
   "id": "cac98824667c0751",
   "outputs": [
    {
     "data": {
      "text/plain": [
       "Index(['SrcPort', 'DstPort', 'Protocol', 'Flow Duration', 'Flow Bytes/s',\n",
       "       'Flow Packets/s', 'Tot Fwd Pkts', 'Tot Bwd Pkts',\n",
       "       'Total Length of Fwd Packet', 'Total Length of Bwd Packet',\n",
       "       'Fwd Packet Length Min', 'Fwd Packet Length Max',\n",
       "       'Fwd Packet Length Std', 'Bwd Packet Length Min',\n",
       "       'Bwd Packet Length Max', 'Bwd Packet Length Mean',\n",
       "       'Bwd Packet Length Std', 'Flow IAT Mean', 'Flow IAT Min',\n",
       "       'Flow IAT Max', 'Flow IAT Stddev', 'Fwd IAT Min', 'Fwd IAT Mean',\n",
       "       'Fwd IAT Std', 'Bwd IAT Min', 'Bwd IAT Max', 'Bwd IAT Mean',\n",
       "       'Bwd IAT Std', 'Bwd IAT Tot', 'Fwd PSH flags', 'Bwd PSH flags',\n",
       "       'Fwd URG flags', 'Bwd URG flags', 'Fwd Header Length',\n",
       "       'Bwd Header Length', 'Fwd Packets/s', 'Bwd Packets/s',\n",
       "       'Packet Length Min', 'Packet Length Mean', 'Packet Length Std',\n",
       "       'Packet Length Variance', 'FIN Flag Cnt', 'RST Flag Cnt',\n",
       "       'PSH Flag Cnt', 'ACK Flag Cnt', 'URG Flag Cnt', 'CWR Flag Cnt',\n",
       "       'Down/Up Ratio', 'Average Packet Size', 'Fwd Segment Size Avg',\n",
       "       'Bwd Segment Size Avg', 'Fwd Bytes/Bulk Avg', 'Fwd Packet/Bulk Avg',\n",
       "       'Fwd Bulk Rate Avg', 'Bwd Bytes/Bulk Avg', 'Bwd Packet/Bulk Avg',\n",
       "       'Bwd Bulk Rate Avg', 'Subflow Fwd Packets', 'Subflow Fwd Bytes',\n",
       "       'Subflow Bwd Packets', 'Subflow Bwd Bytes', 'FWD Init Win Bytes',\n",
       "       'Bwd Init Win Bytes', 'Fwd Act Data Pkts', 'Fwd Seg Size Min',\n",
       "       'Active Min', 'Active Mean', 'Active Max', 'Active Std', 'Idle Mean',\n",
       "       'Idle Std', 'L3/L4 Protocol', 'Int/Ext Dst IP', 'Service'],\n",
       "      dtype='object')"
      ]
     },
     "execution_count": 61,
     "metadata": {},
     "output_type": "execute_result"
    }
   ],
   "execution_count": 61
  },
  {
   "metadata": {
    "ExecuteTime": {
     "end_time": "2025-01-22T13:08:10.593997Z",
     "start_time": "2025-01-22T13:08:10.591475Z"
    }
   },
   "cell_type": "code",
   "source": "",
   "id": "b504a34b6f6a24c4",
   "outputs": [],
   "execution_count": null
  },
  {
   "metadata": {
    "ExecuteTime": {
     "end_time": "2025-01-22T13:08:10.650969Z",
     "start_time": "2025-01-22T13:08:10.649917Z"
    }
   },
   "cell_type": "code",
   "source": "",
   "id": "51087fe19c2348b9",
   "outputs": [],
   "execution_count": null
  },
  {
   "metadata": {
    "ExecuteTime": {
     "end_time": "2025-01-22T13:08:10.678829Z",
     "start_time": "2025-01-22T13:08:10.677760Z"
    }
   },
   "cell_type": "code",
   "source": "",
   "id": "ad43585d58adbac8",
   "outputs": [],
   "execution_count": null
  },
  {
   "metadata": {
    "ExecuteTime": {
     "end_time": "2025-01-22T13:08:10.728356Z",
     "start_time": "2025-01-22T13:08:10.727323Z"
    }
   },
   "cell_type": "code",
   "source": "",
   "id": "bdb4170896c95396",
   "outputs": [],
   "execution_count": null
  },
  {
   "metadata": {
    "ExecuteTime": {
     "end_time": "2025-01-22T13:08:10.775192Z",
     "start_time": "2025-01-22T13:08:10.774126Z"
    }
   },
   "cell_type": "code",
   "source": "",
   "id": "b89669ccf1faab6e",
   "outputs": [],
   "execution_count": null
  },
  {
   "metadata": {
    "ExecuteTime": {
     "end_time": "2025-01-22T13:08:10.808250Z",
     "start_time": "2025-01-22T13:08:10.807201Z"
    }
   },
   "cell_type": "code",
   "source": "",
   "id": "4fdd16f004be43ee",
   "outputs": [],
   "execution_count": null
  },
  {
   "metadata": {},
   "cell_type": "code",
   "outputs": [],
   "execution_count": null,
   "source": "",
   "id": "1ca0cb2db61a0010"
  }
 ],
 "metadata": {
  "kernelspec": {
   "display_name": "Python 3",
   "language": "python",
   "name": "python3"
  },
  "language_info": {
   "codemirror_mode": {
    "name": "ipython",
    "version": 2
   },
   "file_extension": ".py",
   "mimetype": "text/x-python",
   "name": "python",
   "nbconvert_exporter": "python",
   "pygments_lexer": "ipython2",
   "version": "2.7.6"
  }
 },
 "nbformat": 4,
 "nbformat_minor": 5
}
