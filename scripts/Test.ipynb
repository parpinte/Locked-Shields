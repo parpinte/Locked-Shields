{
 "cells": [
  {
   "metadata": {},
   "cell_type": "markdown",
   "source": [
    "# Introduction\n",
    "Here we will be creating a small set of functions that could be used to run different models\n",
    "- preprocess the datas\n",
    "- cleaning the datas\n",
    "- select a model of machine learning\n",
    "- train the model\n",
    "-"
   ],
   "id": "f1196527220e3fe8"
  },
  {
   "cell_type": "code",
   "id": "initial_id",
   "metadata": {
    "collapsed": true,
    "ExecuteTime": {
     "end_time": "2025-01-17T15:51:03.474010Z",
     "start_time": "2025-01-17T15:51:03.348042Z"
    }
   },
   "source": [
    "import pandas as pd\n",
    "import numpy as np\n",
    "from numpy.lib.tests.test__datasource import malicious_files\n",
    "from sklearn.model_selection import train_test_split"
   ],
   "outputs": [],
   "execution_count": 1
  },
  {
   "metadata": {
    "ExecuteTime": {
     "end_time": "2025-01-17T16:27:23.719748Z",
     "start_time": "2025-01-17T16:27:23.707948Z"
    }
   },
   "cell_type": "code",
   "source": [
    "\n",
    "class DataProcessor:\n",
    "    def __init__(self, data_path):\n",
    "        self.data_path = data_path\n",
    "        self.data = None\n",
    "        self.X = None\n",
    "        self.y = None\n",
    "\n",
    "\n",
    "    # function to loas the data for that you need to have pandas imported as pd\n",
    "    def load_data(self):\n",
    "        \"\"\" here we will be loading the data from the path\"\"\"\n",
    "        try:\n",
    "            self.data = pd.read_csv(self.data_path, low_memory=False)\n",
    "            print(\"Data loaded successfully\")\n",
    "        except FileNotFoundError:\n",
    "            print(\"Error loading data {self.data_path}\")\n",
    "\n",
    "    def clean_data(self, drop_missing_values=False, replace_inf = True, Fill_value = False):\n",
    "        \"\"\" here we will be cleaning the data\"\"\"\n",
    "        if drop_missing_values:\n",
    "            self.data.dropna(inplace=True)\n",
    "        if replace_inf:\n",
    "            self.data.replace([np.inf, -np.inf], Fill_value, inplace=True)\n",
    "\n",
    "    def show_features(self):\n",
    "        \"\"\" Display the features of the data\"\"\"\n",
    "        if self.data is not None:\n",
    "            print(\"features in the datasets: \")\n",
    "            for feature in self.data.columns:\n",
    "                print(f\"-{feature}\")\n",
    "        else: print(\"No data loaded\")\n",
    "\n",
    "    def drop_features(self, columns_to_drop):\n",
    "        \"\"\" Drop specific columns from the data\n",
    "        args : colums_to_drop (list) : list of columns names to be dropped\n",
    "        use the function show_features in order to checks the different features presents in the dataset\n",
    "        \"\"\"\n",
    "        if self.data is not None:\n",
    "            self.data.drop(columns_to_drop, axis=1, inplace=True, errors='ignore')\n",
    "            print(\"Features dropped successfully\")\n",
    "        else: print(\"No data loaded. please load the data first\")\n",
    "\n",
    "    def split_data(self, target_column):\n",
    "        \"\"\"\n",
    "        Splits the data into features (X) and target (y).\n",
    "        Args: target_column (str): The name of the column to be used as the target variable.\n",
    "        Returns: tuple: X (features), y (target)\n",
    "        \"\"\"\n",
    "        if self.data is not None:\n",
    "            if target_column in self.data.columns:\n",
    "                self.X = self.data.drop(columns=[target_column])\n",
    "                self.y = self.data[target_column]\n",
    "                print(f\"Data split into X (features) and y (target) using '{target_column}' as target.\")\n",
    "            else:\n",
    "                print(f\"Error: Column '{target_column}' not found in the dataset.\")\n",
    "\n",
    "        else:\n",
    "            print(\"No data loaded. Please load the data first.\")\n",
    "\n",
    "\n",
    "    def detect_categorical(self, handle_nan=\"unknown\"):\n",
    "        \"\"\"\n",
    "        Detects categorical features in the dataset and identifies NaN values.\n",
    "        Handles NaN values in the categorical features based on the chosen method.\n",
    "\n",
    "        Args:\n",
    "            handle_nan (str): How to handle NaN values in categorical features.\n",
    "                              Options are \"drop\", \"most_frequent\", or \"unknown\".\n",
    "        \"\"\"\n",
    "        if self.data is not None:\n",
    "            # Detect categorical features\n",
    "            categorical_features = self.data.select_dtypes(include=['object', 'category']).columns\n",
    "\n",
    "            if len(categorical_features) == 0:\n",
    "                print(\"No categorical features detected.\")\n",
    "                return\n",
    "\n",
    "            print(\"Categorical Features and their NaN Information:\")\n",
    "            for feature in categorical_features:\n",
    "                total_nan = self.data[feature].isna().sum()\n",
    "                percentage_nan = (total_nan / len(self.data)) * 100\n",
    "\n",
    "                print(f\"- {feature}:\")\n",
    "                print(f\"  NaN Count: {total_nan}\")\n",
    "                print(f\"  Percentage of NaNs: {percentage_nan:.2f}%\")\n",
    "\n",
    "                # Handle NaN values based on the chosen option\n",
    "                if total_nan > 0:  # Only handle if there are NaN values\n",
    "                    if handle_nan == \"drop\":\n",
    "                        self.data.dropna(subset=[feature], inplace=True)\n",
    "                        print(f\"  Action: Dropped rows with NaN in '{feature}'.\")\n",
    "\n",
    "                    elif handle_nan == \"most_frequent\":\n",
    "                        most_frequent = self.data[feature].mode()[0]\n",
    "                        # Assign the result back to the column\n",
    "                        self.data[feature] = self.data[feature].fillna(most_frequent)\n",
    "                        print(f\"  Action: Replaced NaN with most frequent value '{most_frequent}'.\")\n",
    "\n",
    "                    elif handle_nan == \"unknown\":\n",
    "                        # Assign the result back to the column\n",
    "                        self.data[feature] = self.data[feature].fillna(\"Unknown\")\n",
    "                        print(f\"  Action: Replaced NaN with 'Unknown'.\")\n",
    "\n",
    "                    else:\n",
    "                        print(f\"  Action: Invalid option '{handle_nan}'. No changes made for '{feature}'.\")\n",
    "\n",
    "            print(\"\\nCategorical NaN handling completed.\")\n",
    "        else:\n",
    "            print(\"No data loaded. Please load the data first.\")\n",
    "\n",
    "    def detect_numerical_issues(self):\n",
    "        \"\"\"\n",
    "        Detects `NaN` and `inf` values in numerical features.\n",
    "        Prints only the features with issues, showing their counts and percentages.\n",
    "        Returns a list of features that have issues.\n",
    "\n",
    "        Returns:\n",
    "            list: A list of numerical feature names with issues (NaN or inf values).\n",
    "        \"\"\"\n",
    "        if self.data is not None:\n",
    "            # Detect numerical features\n",
    "            numerical_features = self.data.select_dtypes(include=['number']).columns\n",
    "\n",
    "            if len(numerical_features) == 0:\n",
    "                print(\"No numerical features detected.\")\n",
    "                return []\n",
    "\n",
    "            issues_found = []\n",
    "            print(\"Numerical Features with NaN/Inf Issues:\")\n",
    "            for feature in numerical_features:\n",
    "                # Detect NaN values\n",
    "                total_nan = self.data[feature].isna().sum()\n",
    "                percentage_nan = (total_nan / len(self.data)) * 100\n",
    "\n",
    "                # Detect Inf values\n",
    "                total_inf = self.data[feature].isin([np.inf, -np.inf]).sum()\n",
    "                percentage_inf = (total_inf / len(self.data)) * 100\n",
    "\n",
    "                # Process features with issues\n",
    "                if total_nan > 0 or total_inf > 0:\n",
    "                    issues_found.append(feature)\n",
    "                    print(f\"- {feature}:\")\n",
    "                    if total_nan > 0:\n",
    "                        print(f\"  NaN Count: {total_nan}, Percentage: {percentage_nan:.2f}%\")\n",
    "                    if total_inf > 0:\n",
    "                        print(f\"  Inf Count: {total_inf}, Percentage: {percentage_inf:.2f}%\")\n",
    "\n",
    "            if not issues_found:\n",
    "                print(\"No NaN or Inf issues found in numerical features.\")\n",
    "\n",
    "            return issues_found\n",
    "        else:\n",
    "            print(\"No data loaded. Please load the data first.\")\n",
    "            return []\n",
    "\n",
    "    def handle_numerical_issues(self, features, treatment=\"drop\", replacement_value=None):\n",
    "        \"\"\"\n",
    "        Handles numerical features with issues (`NaN` or `inf` values) based on the specified treatment.\n",
    "\n",
    "        Args:\n",
    "            features (list): List of numerical feature names to handle.\n",
    "            treatment (str): The treatment to apply. Options are:\n",
    "                             - \"drop\": Drops rows with issues in the specified features.\n",
    "                             - \"mean\": Replaces issues with the column mean.\n",
    "                             - \"replace\": Replaces issues with the specified `replacement_value`.\n",
    "            replacement_value (float or int, optional): The value to use when `treatment` is \"replace\".\n",
    "\n",
    "        Raises:\n",
    "            ValueError: If an invalid `treatment` is provided.\n",
    "        \"\"\"\n",
    "        if self.data is None:\n",
    "            print(\"No data loaded. Please load the data first.\")\n",
    "            return\n",
    "\n",
    "        for feature in features:\n",
    "            if feature not in self.data.columns:\n",
    "                print(f\"Warning: Feature '{feature}' not found in the dataset. Skipping.\")\n",
    "                continue\n",
    "\n",
    "            # Detect NaN and Inf values\n",
    "            total_issues = self.data[feature].isna().sum() + self.data[feature].isin([np.inf, -np.inf]).sum()\n",
    "            if total_issues == 0:\n",
    "                print(f\"No issues found in '{feature}'. Skipping.\")\n",
    "                continue\n",
    "\n",
    "            print(f\"Handling issues in '{feature}':\")\n",
    "            if treatment == \"drop\":\n",
    "                # Drop rows with NaN or Inf\n",
    "                self.data = self.data[~self.data[feature].isin([np.inf, -np.inf])]\n",
    "                self.data.dropna(subset=[feature], inplace=True)\n",
    "                print(f\"  Action: Dropped rows with issues in '{feature}'.\")\n",
    "\n",
    "            elif treatment == \"mean\":\n",
    "                # Replace issues with the column mean\n",
    "                mean_value = self.data[~self.data[feature].isin([np.inf, -np.inf])][feature].mean()\n",
    "                self.data[feature] = self.data[feature].replace([np.inf, -np.inf], mean_value)\n",
    "                self.data[feature] = self.data[feature].fillna(mean_value)  # Corrected here\n",
    "                print(f\"  Action: Replaced issues with mean value '{mean_value:.2f}' in '{feature}'.\")\n",
    "\n",
    "            elif treatment == \"replace\":\n",
    "                # Replace issues with a specific value\n",
    "                if replacement_value is not None:\n",
    "                    self.data[feature] = self.data[feature].replace([np.inf, -np.inf], replacement_value)\n",
    "                    self.data[feature] = self.data[feature].fillna(replacement_value)  # Corrected here\n",
    "                    print(f\"  Action: Replaced issues with '{replacement_value}' in '{feature}'.\")\n",
    "                else:\n",
    "                    print(f\"  Error: No replacement value provided for '{feature}'. Skipping.\")\n",
    "\n",
    "            else:\n",
    "                raise ValueError(f\"Invalid treatment option '{treatment}' for '{feature}'.\")\n",
    "\n",
    "        print(\"\\nNumerical issue handling completed.\")\n",
    "\n",
    "    def encode_categorical(self):\n",
    "        \"\"\"\n",
    "        Encodes categorical features in the dataset using label encoding.\n",
    "        Records the transformation details (original features and their categories)\n",
    "        for later use in deployment or inverse transformation.\n",
    "        \"\"\"\n",
    "        if self.data is not None:\n",
    "            # Detect categorical features\n",
    "            categorical_features = self.data.select_dtypes(include=['object', 'category']).columns\n",
    "\n",
    "            if len(categorical_features) == 0:\n",
    "                print(\"No categorical features detected for encoding.\")\n",
    "                return\n",
    "\n",
    "            # Initialize or reset the encoding mapping\n",
    "            self.encoding_mapping = {}\n",
    "\n",
    "            print(\"Encoding categorical features using label encoding:\")\n",
    "            for feature in categorical_features:\n",
    "                # Convert to category type if not already\n",
    "                self.data[feature] = self.data[feature].astype('category')\n",
    "\n",
    "                # Store the mapping of categories for the feature\n",
    "                self.encoding_mapping[feature] = {\n",
    "                    \"categories\": list(self.data[feature].cat.categories),\n",
    "                    \"index\": self.data.columns.get_loc(feature)\n",
    "                }\n",
    "\n",
    "                # Apply label encoding\n",
    "                self.data[feature] = self.data[feature].cat.codes\n",
    "                print(f\"  Label encoded '{feature}'. Categories: {self.encoding_mapping[feature]['categories']}\")\n",
    "\n",
    "            print(\"\\nCategorical encoding completed. Transformation details recorded.\")\n",
    "        else:\n",
    "            print(\"No data loaded. Please load the data first.\")\n",
    "\n",
    "\n",
    "    def scale_features(self, exclude_features=None, scaling_type=\"normalize\"):\n",
    "        \"\"\"\n",
    "        Scales all features in `X` using standardization or normalization, excluding specified features.\n",
    "        Stores the scaled data in `self.X_scaled` and preserves `self.y`.\n",
    "\n",
    "        Args:\n",
    "            exclude_features (list, optional): List of feature names to exclude from scaling.\n",
    "                                               Default is None (all features are scaled).\n",
    "            scaling_type (str): The type of scaling to apply. Options are:\n",
    "                                - \"standardize\": Scales to have zero mean and unit variance.\n",
    "                                - \"normalize\": Scales to have values in the range [0, 1].\n",
    "        \"\"\"\n",
    "        if hasattr(self, \"X\") and hasattr(self, \"y\"):\n",
    "            # Ensure exclude_features is a list\n",
    "            exclude_features = exclude_features or []\n",
    "\n",
    "            # Identify features to scale, excluding specified ones\n",
    "            features_to_scale = [f for f in self.X.columns if f not in exclude_features]\n",
    "\n",
    "            if len(features_to_scale) == 0:\n",
    "                print(\"No features to scale (all excluded).\")\n",
    "                return\n",
    "\n",
    "            print(f\"Scaling the following features using '{scaling_type}': {features_to_scale}\")\n",
    "\n",
    "            # Initialize a copy of X for scaling\n",
    "            self.X_scaled = self.X.copy()\n",
    "\n",
    "            if scaling_type == \"standardize\":\n",
    "                from sklearn.preprocessing import StandardScaler\n",
    "                scaler = StandardScaler()\n",
    "                self.X_scaled[features_to_scale] = scaler.fit_transform(self.X[features_to_scale])\n",
    "                print(\"  Standardization completed.\")\n",
    "\n",
    "            elif scaling_type == \"normalize\":\n",
    "                from sklearn.preprocessing import MinMaxScaler\n",
    "                scaler = MinMaxScaler()\n",
    "                self.X_scaled[features_to_scale] = scaler.fit_transform(self.X[features_to_scale])\n",
    "                print(\"  Normalization completed.\")\n",
    "\n",
    "            else:\n",
    "                print(f\"  Error: Invalid scaling type '{scaling_type}'. Use 'standardize' or 'normalize'.\")\n",
    "                return\n",
    "\n",
    "            print(\"\\nScaled data stored in `self.X_scaled`.\")\n",
    "        else:\n",
    "            print(\"No feature data (X or y) detected. Please split the data into X and y first.\")\n"
   ],
   "id": "2437661b6862873c",
   "outputs": [],
   "execution_count": 35
  },
  {
   "metadata": {
    "ExecuteTime": {
     "end_time": "2025-01-17T16:22:45.651398Z",
     "start_time": "2025-01-17T16:22:45.583765Z"
    }
   },
   "cell_type": "code",
   "source": [
    "\n",
    "\"\"\" main function to execute the script \"\"\"\n",
    "data = DataProcessor(\"../data/balanced_data.csv\")\n",
    "\n"
   ],
   "id": "e8c544f1fda60173",
   "outputs": [],
   "execution_count": 29
  },
  {
   "metadata": {
    "ExecuteTime": {
     "end_time": "2025-01-17T16:24:39.778277Z",
     "start_time": "2025-01-17T16:22:46.160734Z"
    }
   },
   "cell_type": "code",
   "source": "data.load_data()\n",
   "id": "23090c0ba33f9c88",
   "outputs": [
    {
     "name": "stdout",
     "output_type": "stream",
     "text": [
      "Data loaded successfully\n"
     ]
    }
   ],
   "execution_count": 30
  },
  {
   "metadata": {
    "ExecuteTime": {
     "end_time": "2025-01-17T16:24:39.813350Z",
     "start_time": "2025-01-17T16:24:39.811389Z"
    }
   },
   "cell_type": "code",
   "source": "data.show_features()",
   "id": "4d198d66863202a9",
   "outputs": [
    {
     "name": "stdout",
     "output_type": "stream",
     "text": [
      "features in the datasets: \n",
      "-Flow ID\n",
      "-SrcIP\n",
      "-DstIP\n",
      "-SrcPort\n",
      "-DstPort\n",
      "-Protocol\n",
      "-mTimestampStart\n",
      "-mTimestampLast\n",
      "-Flow Duration\n",
      "-Flow Bytes/s\n",
      "-Flow Packets/s\n",
      "-Tot Fwd Pkts\n",
      "-Tot Bwd Pkts\n",
      "-Total Length of Fwd Packet\n",
      "-Total Length of Bwd Packet\n",
      "-Fwd Packet Length Min\n",
      "-Fwd Packet Length Max\n",
      "-Fwd Packet Length Mean\n",
      "-Fwd Packet Length Std\n",
      "-Bwd Packet Length Min\n",
      "-Bwd Packet Length Max\n",
      "-Bwd Packet Length Mean\n",
      "-Bwd Packet Length Std\n",
      "-Flow IAT Mean\n",
      "-Flow IAT Min\n",
      "-Flow IAT Max\n",
      "-Flow IAT Stddev\n",
      "-Fwd IAT Min\n",
      "-Fwd IAT Max\n",
      "-Fwd IAT Mean\n",
      "-Fwd IAT Std\n",
      "-Fwd IAT Tot\n",
      "-Bwd IAT Min\n",
      "-Bwd IAT Max\n",
      "-Bwd IAT Mean\n",
      "-Bwd IAT Std\n",
      "-Bwd IAT Tot\n",
      "-Fwd PSH flags\n",
      "-Bwd PSH flags\n",
      "-Fwd URG flags\n",
      "-Bwd URG flags\n",
      "-Fwd Header Length\n",
      "-Bwd Header Length\n",
      "-Fwd Packets/s\n",
      "-Bwd Packets/s\n",
      "-Packet Length Min\n",
      "-Packet Length Max\n",
      "-Packet Length Mean\n",
      "-Packet Length Std\n",
      "-Packet Length Variance\n",
      "-FIN Flag Cnt\n",
      "-SYN Flag Cnt\n",
      "-RST Flag Cnt\n",
      "-PSH Flag Cnt\n",
      "-ACK Flag Cnt\n",
      "-URG Flag Cnt\n",
      "-CWR Flag Cnt\n",
      "-ECE Flag Cnt\n",
      "-Down/Up Ratio\n",
      "-Average Packet Size\n",
      "-Fwd Segment Size Avg\n",
      "-Bwd Segment Size Avg\n",
      "-Fwd Bytes/Bulk Avg\n",
      "-Fwd Packet/Bulk Avg\n",
      "-Fwd Bulk Rate Avg\n",
      "-Bwd Bytes/Bulk Avg\n",
      "-Bwd Packet/Bulk Avg\n",
      "-Bwd Bulk Rate Avg\n",
      "-Subflow Fwd Packets\n",
      "-Subflow Fwd Bytes\n",
      "-Subflow Bwd Packets\n",
      "-Subflow Bwd Bytes\n",
      "-FWD Init Win Bytes\n",
      "-Bwd Init Win Bytes\n",
      "-Fwd Act Data Pkts\n",
      "-Fwd Seg Size Min\n",
      "-Active Min\n",
      "-Active Mean\n",
      "-Active Max\n",
      "-Active Std\n",
      "-Idle Min\n",
      "-Idle Mean\n",
      "-Idle Max\n",
      "-Idle Std\n",
      "-L3/L4 Protocol\n",
      "-Int/Ext Dst IP\n",
      "-Conn_state\n",
      "-Service\n",
      "-Label\n",
      "-External_src\n",
      "-External_dst\n",
      "-Segment_src\n",
      "-Segment_dst\n",
      "-Expoid_src\n",
      "-Expoid_dst\n"
     ]
    }
   ],
   "execution_count": 31
  },
  {
   "metadata": {
    "ExecuteTime": {
     "end_time": "2025-01-17T16:24:40.305414Z",
     "start_time": "2025-01-17T16:24:39.848879Z"
    }
   },
   "cell_type": "code",
   "source": [
    "columns_to_drop = ['Flow ID', 'SrcIP', 'DstIP','External_src', 'External_dst','Conn_state', 'Segment_src', 'Segment_dst', 'Expoid_src', 'Expoid_dst','mTimestampStart','mTimestampLast']\n",
    "data.drop_features(columns_to_drop=columns_to_drop)"
   ],
   "id": "aea3de5fc060e682",
   "outputs": [
    {
     "name": "stdout",
     "output_type": "stream",
     "text": [
      "Features dropped successfully\n"
     ]
    }
   ],
   "execution_count": 32
  },
  {
   "metadata": {
    "ExecuteTime": {
     "end_time": "2025-01-17T16:24:40.311278Z",
     "start_time": "2025-01-17T16:24:40.309872Z"
    }
   },
   "cell_type": "code",
   "source": "",
   "id": "45a78412c6271f39",
   "outputs": [],
   "execution_count": null
  },
  {
   "metadata": {
    "ExecuteTime": {
     "end_time": "2025-01-17T16:24:40.320895Z",
     "start_time": "2025-01-17T16:24:40.319741Z"
    }
   },
   "cell_type": "code",
   "source": "",
   "id": "61b1fbce65d19ad",
   "outputs": [],
   "execution_count": null
  },
  {
   "metadata": {
    "ExecuteTime": {
     "end_time": "2025-01-17T16:24:40.552943Z",
     "start_time": "2025-01-17T16:24:40.394926Z"
    }
   },
   "cell_type": "code",
   "source": "data.detect_categorical(handle_nan=\"unknown\")",
   "id": "ec75a47492620db1",
   "outputs": [
    {
     "name": "stdout",
     "output_type": "stream",
     "text": [
      "Categorical Features and their NaN Information:\n",
      "- Service:\n",
      "  NaN Count: 1384681\n",
      "  Percentage of NaNs: 42.10%\n",
      "  Action: Replaced NaN with 'Unknown'.\n",
      "\n",
      "Categorical NaN handling completed.\n"
     ]
    }
   ],
   "execution_count": 33
  },
  {
   "metadata": {
    "ExecuteTime": {
     "end_time": "2025-01-17T16:24:40.594279Z",
     "start_time": "2025-01-17T16:24:40.585674Z"
    }
   },
   "cell_type": "code",
   "source": "data.data[\"Service\"]\n",
   "id": "c9a6fea2e8e4f63e",
   "outputs": [
    {
     "data": {
      "text/plain": [
       "0          Unknown\n",
       "1             Http\n",
       "2              TLS\n",
       "3          Unknown\n",
       "4          Unknown\n",
       "            ...   \n",
       "3289193       Http\n",
       "3289194    Unknown\n",
       "3289195       Http\n",
       "3289196    Unknown\n",
       "3289197       Http\n",
       "Name: Service, Length: 3289198, dtype: object"
      ]
     },
     "execution_count": 34,
     "metadata": {},
     "output_type": "execute_result"
    }
   ],
   "execution_count": 34
  },
  {
   "metadata": {
    "ExecuteTime": {
     "end_time": "2025-01-14T14:53:09.090763Z",
     "start_time": "2025-01-14T14:53:09.089735Z"
    }
   },
   "cell_type": "code",
   "source": "",
   "id": "73ae64229a797e6b",
   "outputs": [],
   "execution_count": null
  },
  {
   "metadata": {
    "ExecuteTime": {
     "end_time": "2025-01-14T14:53:13.664772Z",
     "start_time": "2025-01-14T14:53:09.120316Z"
    }
   },
   "cell_type": "code",
   "source": [
    "# let's handle numerical datas\n",
    "features_issues = data.detect_numerical_issues()\n"
   ],
   "id": "56eefe9eb664b822",
   "outputs": [
    {
     "name": "stdout",
     "output_type": "stream",
     "text": [
      "Numerical Features with NaN/Inf Issues:\n",
      "- Flow Bytes/s:\n",
      "  NaN Count: 152, Percentage: 0.00%\n",
      "  Inf Count: 341401, Percentage: 10.38%\n",
      "- Flow Packets/s:\n",
      "  Inf Count: 341553, Percentage: 10.38%\n",
      "- Flow IAT Mean:\n",
      "  NaN Count: 340184, Percentage: 10.34%\n",
      "- Flow IAT Min:\n",
      "  NaN Count: 340184, Percentage: 10.34%\n",
      "- Flow IAT Max:\n",
      "  NaN Count: 340184, Percentage: 10.34%\n",
      "- Flow IAT Stddev:\n",
      "  NaN Count: 340184, Percentage: 10.34%\n"
     ]
    }
   ],
   "execution_count": 97
  },
  {
   "metadata": {
    "ExecuteTime": {
     "end_time": "2025-01-14T14:53:13.675992Z",
     "start_time": "2025-01-14T14:53:13.674675Z"
    }
   },
   "cell_type": "code",
   "source": "print(features_issues)",
   "id": "3c3c3758d09b1839",
   "outputs": [
    {
     "name": "stdout",
     "output_type": "stream",
     "text": [
      "['Flow Bytes/s', 'Flow Packets/s', 'Flow IAT Mean', 'Flow IAT Min', 'Flow IAT Max', 'Flow IAT Stddev']\n"
     ]
    }
   ],
   "execution_count": 98
  },
  {
   "metadata": {
    "ExecuteTime": {
     "end_time": "2025-01-14T14:53:13.712445Z",
     "start_time": "2025-01-14T14:53:13.711340Z"
    }
   },
   "cell_type": "code",
   "source": "",
   "id": "9d4d8e9825a16584",
   "outputs": [],
   "execution_count": null
  },
  {
   "metadata": {
    "ExecuteTime": {
     "end_time": "2025-01-14T14:53:17.750396Z",
     "start_time": "2025-01-14T14:53:13.735121Z"
    }
   },
   "cell_type": "code",
   "source": "data.handle_numerical_issues(features_issues, treatment = \"mean\")",
   "id": "7cad7795f1f669c0",
   "outputs": [
    {
     "name": "stdout",
     "output_type": "stream",
     "text": [
      "Handling issues in 'Flow Bytes/s':\n",
      "  Action: Replaced issues with mean value '963270.09' in 'Flow Bytes/s'.\n",
      "Handling issues in 'Flow Packets/s':\n",
      "  Action: Replaced issues with mean value '12323.73' in 'Flow Packets/s'.\n",
      "Handling issues in 'Flow IAT Mean':\n",
      "  Action: Replaced issues with mean value '859579.90' in 'Flow IAT Mean'.\n",
      "Handling issues in 'Flow IAT Min':\n",
      "  Action: Replaced issues with mean value '620927.96' in 'Flow IAT Min'.\n",
      "Handling issues in 'Flow IAT Max':\n",
      "  Action: Replaced issues with mean value '2552450.62' in 'Flow IAT Max'.\n",
      "Handling issues in 'Flow IAT Stddev':\n",
      "  Action: Replaced issues with mean value '578091.07' in 'Flow IAT Stddev'.\n",
      "\n",
      "Numerical issue handling completed.\n"
     ]
    }
   ],
   "execution_count": 99
  },
  {
   "metadata": {
    "ExecuteTime": {
     "end_time": "2025-01-14T14:53:17.914537Z",
     "start_time": "2025-01-14T14:53:17.815593Z"
    }
   },
   "cell_type": "code",
   "source": [
    "# let's encode the categorical datas\n",
    "\n",
    "data.encode_categorical()"
   ],
   "id": "84d6064d2fa801de",
   "outputs": [
    {
     "name": "stdout",
     "output_type": "stream",
     "text": [
      "Encoding categorical features using label encoding:\n",
      "  Label encoded 'Service'. Categories: ['BGP', 'DCERPC', 'DNS', 'Http', 'LDAP', 'NTP', 'RDP', 'RTCP-APP', 'RTCP-RR', 'RTCP-RR~RTCP-SR', 'RTCP-SR', 'Rtp', 'SIP', 'SIP~Sip', 'SMB', 'SMTP', 'SSH', 'Sctp', 'Sip', 'Sip~SIP', 'TLS', 'dhcpv6', 'icmp', 'icmpv6', 'krb5']\n",
      "\n",
      "Categorical encoding completed. Transformation details recorded.\n"
     ]
    }
   ],
   "execution_count": 100
  },
  {
   "metadata": {
    "ExecuteTime": {
     "end_time": "2025-01-14T14:53:18.165858Z",
     "start_time": "2025-01-14T14:53:17.981102Z"
    }
   },
   "cell_type": "code",
   "source": [
    "# split data into dataset for the training and target\n",
    "data.split_data(target_column='Label')\n",
    "\n",
    "print(data.X.shape)\n",
    "print(data.y.shape)"
   ],
   "id": "cb35b18ad69d9d0d",
   "outputs": [
    {
     "name": "stdout",
     "output_type": "stream",
     "text": [
      "Data split into X (features) and y (target) using 'Label' as target.\n",
      "(3289198, 82)\n",
      "(3289198,)\n"
     ]
    }
   ],
   "execution_count": 101
  },
  {
   "metadata": {
    "ExecuteTime": {
     "end_time": "2025-01-14T14:53:22.437181Z",
     "start_time": "2025-01-14T14:53:18.230806Z"
    }
   },
   "cell_type": "code",
   "source": "data.scale_features(exclude_features=None, scaling_type=\"normalize\")",
   "id": "e3865a04ef1f6da",
   "outputs": [
    {
     "name": "stdout",
     "output_type": "stream",
     "text": [
      "Scaling the following features using 'normalize': ['SrcPort', 'DstPort', 'Protocol', 'Flow Duration', 'Flow Bytes/s', 'Flow Packets/s', 'Tot Fwd Pkts', 'Tot Bwd Pkts', 'Total Length of Fwd Packet', 'Total Length of Bwd Packet', 'Fwd Packet Length Min', 'Fwd Packet Length Max', 'Fwd Packet Length Mean', 'Fwd Packet Length Std', 'Bwd Packet Length Min', 'Bwd Packet Length Max', 'Bwd Packet Length Mean', 'Bwd Packet Length Std', 'Flow IAT Mean', 'Flow IAT Min', 'Flow IAT Max', 'Flow IAT Stddev', 'Fwd IAT Min', 'Fwd IAT Max', 'Fwd IAT Mean', 'Fwd IAT Std', 'Fwd IAT Tot', 'Bwd IAT Min', 'Bwd IAT Max', 'Bwd IAT Mean', 'Bwd IAT Std', 'Bwd IAT Tot', 'Fwd PSH flags', 'Bwd PSH flags', 'Fwd URG flags', 'Bwd URG flags', 'Fwd Header Length', 'Bwd Header Length', 'Fwd Packets/s', 'Bwd Packets/s', 'Packet Length Min', 'Packet Length Max', 'Packet Length Mean', 'Packet Length Std', 'Packet Length Variance', 'FIN Flag Cnt', 'SYN Flag Cnt', 'RST Flag Cnt', 'PSH Flag Cnt', 'ACK Flag Cnt', 'URG Flag Cnt', 'CWR Flag Cnt', 'ECE Flag Cnt', 'Down/Up Ratio', 'Average Packet Size', 'Fwd Segment Size Avg', 'Bwd Segment Size Avg', 'Fwd Bytes/Bulk Avg', 'Fwd Packet/Bulk Avg', 'Fwd Bulk Rate Avg', 'Bwd Bytes/Bulk Avg', 'Bwd Packet/Bulk Avg', 'Bwd Bulk Rate Avg', 'Subflow Fwd Packets', 'Subflow Fwd Bytes', 'Subflow Bwd Packets', 'Subflow Bwd Bytes', 'FWD Init Win Bytes', 'Bwd Init Win Bytes', 'Fwd Act Data Pkts', 'Fwd Seg Size Min', 'Active Min', 'Active Mean', 'Active Max', 'Active Std', 'Idle Min', 'Idle Mean', 'Idle Max', 'Idle Std', 'L3/L4 Protocol', 'Int/Ext Dst IP', 'Service']\n",
      "  Normalization completed.\n",
      "\n",
      "Scaled data stored in `self.X_scaled`.\n"
     ]
    }
   ],
   "execution_count": 102
  },
  {
   "metadata": {
    "ExecuteTime": {
     "end_time": "2025-01-14T14:48:46.262180Z",
     "start_time": "2025-01-14T14:48:46.260865Z"
    }
   },
   "cell_type": "code",
   "source": "",
   "id": "669204cc4dd2fa79",
   "outputs": [],
   "execution_count": null
  },
  {
   "metadata": {
    "ExecuteTime": {
     "end_time": "2025-01-14T14:48:46.275815Z",
     "start_time": "2025-01-14T14:48:46.274632Z"
    }
   },
   "cell_type": "code",
   "source": "",
   "id": "71aac766f9063c42",
   "outputs": [],
   "execution_count": null
  },
  {
   "metadata": {},
   "cell_type": "markdown",
   "source": "# Creatigng the machine learning class",
   "id": "790827aec1f694cf"
  },
  {
   "metadata": {
    "ExecuteTime": {
     "end_time": "2025-01-14T15:47:43.628312Z",
     "start_time": "2025-01-14T15:47:43.623557Z"
    }
   },
   "cell_type": "code",
   "source": [
    "import pandas as pd\n",
    "from sklearn.model_selection import train_test_split\n",
    "from sklearn.metrics import accuracy_score\n",
    "# Import the XGBoost library\n",
    "from xgboost import XGBClassifier\n",
    "from sklearn.metrics import ConfusionMatrixDisplay\n",
    "from sklearn.metrics import roc_curve, RocCurveDisplay\n",
    "from sklearn.metrics import precision_recall_curve, PrecisionRecallDisplay\n",
    "from sklearn.metrics import accuracy_score, precision_score, recall_score, f1_score\n",
    "\n"
   ],
   "id": "52fd65b57cbda1d7",
   "outputs": [],
   "execution_count": 189
  },
  {
   "metadata": {
    "ExecuteTime": {
     "end_time": "2025-01-14T15:46:23.976086Z",
     "start_time": "2025-01-14T15:46:23.964460Z"
    }
   },
   "cell_type": "code",
   "source": [
    "class MLModel:\n",
    "    def __init__(self, data, target_column):\n",
    "        \"\"\"\n",
    "        Initialize the MLModel class with dataset and target variable.\n",
    "\n",
    "        Args:\n",
    "            data (pd.DataFrame): The dataset containing features and target.\n",
    "            target_column (str): The name of the target column in the dataset.\n",
    "        \"\"\"\n",
    "        self.data = data\n",
    "        self.target_column = target_column\n",
    "        self.model = None  # Placeholder for the machine learning model\n",
    "        self.X_train, self.X_val, self.X_test = [None] * 3\n",
    "        self.y_train, self.y_val, self.y_test = [None] * 3\n",
    "\n",
    "    def preprocess(self, test_size=0.2, val_size=0.1, random_state=42):\n",
    "        \"\"\"\n",
    "        Split the data into training, validation, and testing sets.\n",
    "            test_size (float): Proportion of the dataset to include in the test split.\n",
    "            val_size (float): Proportion of the training set to use for validation.\n",
    "            random_state (int): Random state for reproducibility.\n",
    "        \"\"\"\n",
    "        # Use self.data and self.target_column to extract features and target\n",
    "        X = self.data\n",
    "        y = self.target_column\n",
    "\n",
    "        # Split into training+validation and test sets\n",
    "        X_temp, self.X_test, y_temp, self.y_test = train_test_split(\n",
    "            X, y, test_size=test_size, random_state=random_state\n",
    "        )\n",
    "        # Split training+validation set into training and validation sets\n",
    "        self.X_train, self.X_val, self.y_train, self.y_val = train_test_split(\n",
    "            X_temp, y_temp, test_size=val_size, random_state=random_state\n",
    "        )\n",
    "\n",
    "    def set_model(self, model_class, model_params=None):\n",
    "        \"\"\"\n",
    "        Set the machine learning model to use.\n",
    "\n",
    "        Args:\n",
    "            model_class: The class of the machine learning model (e.g., RandomForestClassifier).\n",
    "            model_params (dict): A dictionary of parameters to pass to the model.\n",
    "        \"\"\"\n",
    "        if model_params is None:\n",
    "            model_params = {}  # Default to an empty dictionary if no parameters provided\n",
    "        self.model = model_class(**model_params)\n",
    "\n",
    "\n",
    "    def train(self):\n",
    "        \"\"\"\n",
    "        Train the machine learning model on the training data.\n",
    "        \"\"\"\n",
    "        if self.model is None:\n",
    "            raise ValueError(\"Model not set. Use the 'set_model' method to define a model.\")\n",
    "        if self.X_train is None or self.y_train is None:\n",
    "            raise ValueError(\"Training data not prepared. Run the 'preprocess' method first.\")\n",
    "\n",
    "        print(\"Training the model...\")\n",
    "        self.model.fit(self.X_train, self.y_train)\n",
    "        print(\"Model training complete.\")\n",
    "\n",
    "    def validate(self):\n",
    "        \"\"\"\n",
    "        Validate the model on the validation data.\n",
    "            float: Accuracy score of the model on the validation set.\n",
    "            ValueError: If the model is not trained or validation data is missing.\n",
    "        \"\"\"\n",
    "        if self.model is None:\n",
    "            raise ValueError(\"Model not trained. Use the 'train' method first.\")\n",
    "        if self.X_val is None or self.y_val is None:\n",
    "            raise ValueError(\"Validation data not prepared. Run the 'preprocess' method first.\")\n",
    "\n",
    "        print(\"Validating the model...\")\n",
    "        predictions = self.model.predict(self.X_val)\n",
    "        accuracy = accuracy_score(self.y_val, predictions)\n",
    "        print(f\"Validation Accuracy: {accuracy:.4f}\")\n",
    "        return accuracy\n",
    "\n",
    "    def test(self):\n",
    "        \"\"\"\n",
    "        Test the model on the test data.\n",
    "        float: Accuracy score of the model on the test set.\n",
    "        ValueError: If the model is not trained or test data is missing.\n",
    "        \"\"\"\n",
    "        if self.model is None:\n",
    "            raise ValueError(\"Model not trained. Use the 'train' method first.\")\n",
    "        if self.X_test is None or self.y_test is None:\n",
    "            raise ValueError(\"Test data not prepared. Run the 'preprocess' method first.\")\n",
    "\n",
    "        print(\"Testing the model...\")\n",
    "        predictions = self.model.predict(self.X_test)\n",
    "        accuracy = accuracy_score(self.y_test, predictions)\n",
    "        print(f\"Test Accuracy: {accuracy:.4f}\")\n",
    "        return accuracy\n",
    "\n",
    "\n",
    "    def plot_confusion_matrix(self, dataset='test'):\n",
    "        \"\"\"\n",
    "        Plot the confusion matrix for the model predictions.\n",
    "            dataset (str): Which dataset to evaluate ('test' or 'val').\n",
    "        \"\"\"\n",
    "        if dataset == 'test':\n",
    "            X, y = self.X_test, self.y_test\n",
    "        elif dataset == 'val':\n",
    "            X, y = self.X_val, self.y_val\n",
    "        else:\n",
    "            raise ValueError(\"Invalid dataset. Use 'test' or 'val'.\")\n",
    "\n",
    "        predictions = self.model.predict(X)\n",
    "        ConfusionMatrixDisplay.from_predictions(y, predictions)\n",
    "\n",
    "    def plot_roc_curve(self, dataset='test'):\n",
    "        \"\"\"\n",
    "        Plot the ROC curve for the model predictions.\n",
    "        Args:\n",
    "            dataset (str): Which dataset to evaluate ('test' or 'val').\n",
    "        \"\"\"\n",
    "        if dataset == 'test':\n",
    "            X, y = self.X_test, self.y_test\n",
    "        elif dataset == 'val':\n",
    "            X, y = self.X_val, self.y_val\n",
    "        else:\n",
    "            raise ValueError(\"Invalid dataset. Use 'test' or 'val'.\")\n",
    "\n",
    "        # Check if the model supports predict_proba\n",
    "        if hasattr(self.model, \"predict_proba\"):\n",
    "            y_proba = self.model.predict_proba(X)[:, 1]  # Probability of the positive class\n",
    "        elif hasattr(self.model, \"decision_function\"):\n",
    "            y_proba = self.model.decision_function(X)  # Decision scores\n",
    "        else:\n",
    "            raise ValueError(\"The model does not support probability predictions or decision function.\")\n",
    "\n",
    "        # Compute ROC curve\n",
    "        fpr, tpr, _ = roc_curve(y, y_proba)\n",
    "\n",
    "        # Plot ROC curve with label\n",
    "        display = RocCurveDisplay(fpr=fpr, tpr=tpr)\n",
    "        display.plot(label=f\"ROC Curve ({dataset} set)\")\n",
    "\n",
    "\n",
    "    def plot_precision_recall_curve(self, dataset='test'):\n",
    "        \"\"\"\n",
    "        Plot the precision-recall curve for the model predictions.\n",
    "        Args:\n",
    "            dataset (str): Which dataset to evaluate ('test' or 'val').\n",
    "        \"\"\"\n",
    "        if dataset == 'test':\n",
    "            X, y = self.X_test, self.y_test\n",
    "        elif dataset == 'val':\n",
    "            X, y = self.X_val, self.y_val\n",
    "        else:\n",
    "            raise ValueError(\"Invalid dataset. Use 'test' or 'val'.\")\n",
    "\n",
    "        y_proba = self.model.predict_proba(X)[:, 1]\n",
    "        precision, recall, _ = precision_recall_curve(y, y_proba)\n",
    "        PrecisionRecallDisplay(precision=precision, recall=recall).plot()\n",
    "\n",
    "\n",
    "\n",
    "\n",
    "    def compute_metrics(self, dataset='test'):\n",
    "        \"\"\"\n",
    "        Compute key metrics derived from the confusion matrix:\n",
    "        Accuracy, Precision, Recall, and F1-Score.\n",
    "        \"\"\"\n",
    "        # Choose the appropriate dataset\n",
    "        if dataset == 'test':\n",
    "            X, y = self.X_test, self.y_test\n",
    "        elif dataset == 'val':\n",
    "            X, y = self.X_val, self.y_val\n",
    "        else:\n",
    "            raise ValueError(\"Invalid dataset. Use 'test' or 'val'.\")\n",
    "\n",
    "        # Get predictions\n",
    "        predictions = self.model.predict(X)\n",
    "\n",
    "        # Compute metrics\n",
    "        metrics = {\n",
    "            'Accuracy': accuracy_score(y, predictions),\n",
    "            'Precision': precision_score(y, predictions, zero_division=0),\n",
    "            'Recall': recall_score(y, predictions, zero_division=0),\n",
    "            'F1-Score': f1_score(y, predictions, zero_division=0)\n",
    "        }\n",
    "\n",
    "        # Print metrics for quick review\n",
    "        print(f\"Metrics for {dataset} dataset:\")\n",
    "        for key, value in metrics.items():\n",
    "            print(f\"{key}: {value:.4f}\")\n",
    "\n",
    "        return metrics\n",
    "\n"
   ],
   "id": "28452bf0bf7c6613",
   "outputs": [],
   "execution_count": 174
  },
  {
   "metadata": {
    "ExecuteTime": {
     "end_time": "2025-01-14T15:46:32.334869Z",
     "start_time": "2025-01-14T15:46:32.332275Z"
    }
   },
   "cell_type": "code",
   "source": "ml = MLModel(data.X_scaled, data.y )",
   "id": "b2c33ec559bee46c",
   "outputs": [],
   "execution_count": 178
  },
  {
   "metadata": {
    "ExecuteTime": {
     "end_time": "2025-01-14T15:46:32.472722Z",
     "start_time": "2025-01-14T15:46:32.470934Z"
    }
   },
   "cell_type": "code",
   "source": [
    "# Define parameters for the XGBClassifier\n",
    "xgb_params = {\n",
    "    'n_estimators': 150,\n",
    "    'learning_rate': 0.05,\n",
    "    'max_depth': 8,\n",
    "    'random_state': 42,\n",
    "    # 'use_label_encoder': False,\n",
    "    'eval_metric': 'logloss'\n",
    "}"
   ],
   "id": "871afaef31b6997c",
   "outputs": [],
   "execution_count": 179
  },
  {
   "metadata": {
    "ExecuteTime": {
     "end_time": "2025-01-14T15:46:32.603001Z",
     "start_time": "2025-01-14T15:46:32.601277Z"
    }
   },
   "cell_type": "code",
   "source": [
    "\n",
    "# Set the model using the dictionary of parameters\n",
    "ml.set_model(XGBClassifier, xgb_params)"
   ],
   "id": "a2cd499971d17e71",
   "outputs": [],
   "execution_count": 180
  },
  {
   "metadata": {
    "ExecuteTime": {
     "end_time": "2025-01-14T15:46:32.720591Z",
     "start_time": "2025-01-14T15:46:32.719210Z"
    }
   },
   "cell_type": "code",
   "source": "",
   "id": "48452473f41b8097",
   "outputs": [],
   "execution_count": null
  },
  {
   "metadata": {},
   "cell_type": "markdown",
   "source": [
    "from sklearn.ensemble import RandomForestClassifier\n",
    "\n",
    " Define parameters for the RandomForestClassifier\n",
    "rf_params = {\n",
    "    'n_estimators': 200,\n",
    "    'max_depth': 10,\n",
    "    'random_state': 42\n",
    "}\n",
    "\n",
    " Set the model using the dictionary of parameters\n",
    "ml.set_model(RandomForestClassifier, rf_params)\n",
    "\n",
    "\n",
    "from sklearn.linear_model import LogisticRegression\n",
    "\n",
    " Define parameters for Logistic Regression\n",
    "lr_params = {\n",
    "    'penalty': 'l2',\n",
    "    'C': 1.0,\n",
    "    'solver': 'liblinear',\n",
    "    'random_state': 42\n",
    "}\n",
    "\n",
    " Set the model using the dictionary of parameters\n",
    "ml.set_model(LogisticRegression, lr_params)\n",
    "\n",
    "\n"
   ],
   "id": "624cef2bf6f3ce32"
  },
  {
   "metadata": {
    "ExecuteTime": {
     "end_time": "2025-01-14T15:46:33.096687Z",
     "start_time": "2025-01-14T15:46:33.095150Z"
    }
   },
   "cell_type": "code",
   "source": "",
   "id": "c40e15e9f6ddbe40",
   "outputs": [],
   "execution_count": null
  },
  {
   "metadata": {
    "ExecuteTime": {
     "end_time": "2025-01-14T15:46:39.424111Z",
     "start_time": "2025-01-14T15:46:33.445403Z"
    }
   },
   "cell_type": "code",
   "source": "ml.preprocess(test_size=0.2, val_size=0.1, random_state=42)",
   "id": "eae1c07bcca002f6",
   "outputs": [],
   "execution_count": 181
  },
  {
   "metadata": {
    "ExecuteTime": {
     "end_time": "2025-01-14T15:46:53.593983Z",
     "start_time": "2025-01-14T15:46:39.436440Z"
    }
   },
   "cell_type": "code",
   "source": "ml.train()",
   "id": "fadd3cb2b4d366d4",
   "outputs": [
    {
     "name": "stdout",
     "output_type": "stream",
     "text": [
      "Training the model...\n",
      "Model training complete.\n"
     ]
    }
   ],
   "execution_count": 182
  },
  {
   "metadata": {
    "ExecuteTime": {
     "end_time": "2025-01-14T15:46:53.724292Z",
     "start_time": "2025-01-14T15:46:53.603628Z"
    }
   },
   "cell_type": "code",
   "source": "ml.validate()",
   "id": "574955faf062ecf0",
   "outputs": [
    {
     "name": "stdout",
     "output_type": "stream",
     "text": [
      "Validating the model...\n",
      "Validation Accuracy: 0.9998\n"
     ]
    },
    {
     "data": {
      "text/plain": [
       "0.999764380396449"
      ]
     },
     "execution_count": 183,
     "metadata": {},
     "output_type": "execute_result"
    }
   ],
   "execution_count": 183
  },
  {
   "metadata": {
    "ExecuteTime": {
     "end_time": "2025-01-14T15:46:53.990364Z",
     "start_time": "2025-01-14T15:46:53.729302Z"
    }
   },
   "cell_type": "code",
   "source": "ml.test()",
   "id": "5fb69a01ebc16fac",
   "outputs": [
    {
     "name": "stdout",
     "output_type": "stream",
     "text": [
      "Testing the model...\n",
      "Test Accuracy: 0.9998\n"
     ]
    },
    {
     "data": {
      "text/plain": [
       "0.9997659005229235"
      ]
     },
     "execution_count": 184,
     "metadata": {},
     "output_type": "execute_result"
    }
   ],
   "execution_count": 184
  },
  {
   "metadata": {
    "ExecuteTime": {
     "end_time": "2025-01-14T15:46:54.355626Z",
     "start_time": "2025-01-14T15:46:54.002867Z"
    }
   },
   "cell_type": "code",
   "source": "ml.plot_confusion_matrix(dataset='test')",
   "id": "9e47da58204a0ba3",
   "outputs": [
    {
     "data": {
      "text/plain": [
       "<Figure size 640x480 with 2 Axes>"
      ],
      "image/png": "[encoded data removed]"
     },
     "metadata": {},
     "output_type": "display_data"
    }
   ],
   "execution_count": 185
  },
  {
   "metadata": {},
   "cell_type": "markdown",
   "source": "",
   "id": "728da0a66cc53c5"
  },
  {
   "metadata": {
    "ExecuteTime": {
     "end_time": "2025-01-14T15:46:54.740834Z",
     "start_time": "2025-01-14T15:46:54.360540Z"
    }
   },
   "cell_type": "code",
   "source": [
    "ml.plot_roc_curve(dataset='test')\n",
    "\n",
    "\"\"\"\n",
    "True Negatives (Top-left):\n",
    "Label: 0 predicted as 0\n",
    "Interpretation: These are the instances where the model correctly predicted class 0.\n",
    "\n",
    "False Positives (Top-right):\n",
    "Label: 0 predicted as 1\n",
    "Interpretation: These are the instances where the model incorrectly predicted class 1 when the true label was 0.\n",
    "\n",
    "False Negatives (Bottom-left):\n",
    "Label: 1 predicted as 0\n",
    "Interpretation: These are the instances where the model incorrectly predicted class 0 when the true label was 1.\n",
    "\n",
    "True Positives (Bottom-right):\n",
    "Label: 1 predicted as 1\n",
    "Interpretation: These are the instances where the model correctly predicted class 1.\n",
    "\n",
    "\"\"\""
   ],
   "id": "ed1acc13e0704691",
   "outputs": [
    {
     "data": {
      "text/plain": [
       "'\\nTrue Negatives (Top-left):\\nLabel: 0 predicted as 0\\nInterpretation: These are the instances where the model correctly predicted class 0.\\n\\nFalse Positives (Top-right):\\nLabel: 0 predicted as 1\\nInterpretation: These are the instances where the model incorrectly predicted class 1 when the true label was 0.\\n\\nFalse Negatives (Bottom-left):\\nLabel: 1 predicted as 0\\nInterpretation: These are the instances where the model incorrectly predicted class 0 when the true label was 1.\\n\\nTrue Positives (Bottom-right):\\nLabel: 1 predicted as 1\\nInterpretation: These are the instances where the model correctly predicted class 1.\\n\\n'"
      ]
     },
     "execution_count": 186,
     "metadata": {},
     "output_type": "execute_result"
    },
    {
     "data": {
      "text/plain": [
       "<Figure size 640x480 with 1 Axes>"
      ],
      "image/png": "[encoded data removed]"
     },
     "metadata": {},
     "output_type": "display_data"
    }
   ],
   "execution_count": 186
  },
  {
   "metadata": {
    "ExecuteTime": {
     "end_time": "2025-01-14T15:46:55.197802Z",
     "start_time": "2025-01-14T15:46:54.767207Z"
    }
   },
   "cell_type": "code",
   "source": "ml.plot_precision_recall_curve(dataset='test')",
   "id": "4df2ea6210e37ae4",
   "outputs": [
    {
     "data": {
      "text/plain": [
       "<Figure size 640x480 with 1 Axes>"
      ],
      "image/png": "[encoded data removed]"
     },
     "metadata": {},
     "output_type": "display_data"
    }
   ],
   "execution_count": 187
  },
  {
   "metadata": {
    "ExecuteTime": {
     "end_time": "2025-01-14T15:46:55.207675Z",
     "start_time": "2025-01-14T15:46:55.205178Z"
    }
   },
   "cell_type": "code",
   "source": "",
   "id": "7df58c550235e820",
   "outputs": [],
   "execution_count": null
  },
  {
   "metadata": {
    "ExecuteTime": {
     "end_time": "2025-01-14T15:46:55.222654Z",
     "start_time": "2025-01-14T15:46:55.220803Z"
    }
   },
   "cell_type": "code",
   "source": "",
   "id": "99f1435eaa043021",
   "outputs": [],
   "execution_count": null
  },
  {
   "metadata": {
    "ExecuteTime": {
     "end_time": "2025-01-14T15:56:39.737943Z",
     "start_time": "2025-01-14T15:56:39.092970Z"
    }
   },
   "cell_type": "code",
   "source": "metrics = ml.compute_metrics(dataset='test')",
   "id": "1d1f489688c77a6",
   "outputs": [
    {
     "name": "stdout",
     "output_type": "stream",
     "text": [
      "Metrics for test dataset:\n",
      "Accuracy: 0.9998\n",
      "Precision: 0.9999\n",
      "Recall: 0.9997\n",
      "F1-Score: 0.9998\n"
     ]
    }
   ],
   "execution_count": 191
  },
  {
   "metadata": {},
   "cell_type": "code",
   "outputs": [],
   "execution_count": null,
   "source": "",
   "id": "1ee7d62d7042e1ad"
  }
 ],
 "metadata": {
  "kernelspec": {
   "display_name": "Python 3",
   "language": "python",
   "name": "python3"
  },
  "language_info": {
   "codemirror_mode": {
    "name": "ipython",
    "version": 2
   },
   "file_extension": ".py",
   "mimetype": "text/x-python",
   "name": "python",
   "nbconvert_exporter": "python",
   "pygments_lexer": "ipython2",
   "version": "2.7.6"
  }
 },
 "nbformat": 4,
 "nbformat_minor": 5
}
